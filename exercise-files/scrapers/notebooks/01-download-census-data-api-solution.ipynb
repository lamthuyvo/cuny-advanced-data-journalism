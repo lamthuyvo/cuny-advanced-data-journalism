{
 "cells": [
  {
   "cell_type": "markdown",
   "metadata": {},
   "source": [
    "### Getting Census data from the API\n",
    "(To reproduce the data below, you'll need to save your Census API key to `../data/census-api-key.txt`. You can obtain a key here: https://api.census.gov/data/key_signup.html)\n",
    "\n",
    "The dependencies for this script are:\n",
    "- pandas\n",
    "- requests\n",
    "- census\n",
    "- us"
   ]
  },
  {
   "cell_type": "code",
   "execution_count": 1,
   "metadata": {},
   "outputs": [],
   "source": [
    "import pandas as pd\n",
    "import requests\n",
    "from census import Census\n",
    "from us import states\n"
   ]
  },
  {
   "cell_type": "code",
   "execution_count": 2,
   "metadata": {},
   "outputs": [],
   "source": [
    "api_key = open(\"../data/census-api-key.txt\").read().strip()\n",
    "c = Census(api_key)"
   ]
  },
  {
   "cell_type": "markdown",
   "metadata": {},
   "source": [
    "Select data categories for gentrification measurement:"
   ]
  },
  {
   "cell_type": "code",
   "execution_count": 3,
   "metadata": {},
   "outputs": [],
   "source": [
    "# Full API variable list available here https://api.census.gov/data/2016/acs/acs5/variables/\n",
    "categories = [\n",
    "     'NAME', # county name\n",
    "     'B01001_001E', # Total population\n",
    "     'B15002_001E', # Total population 25 and over\n",
    "     'B19013_001E', # Median income\n",
    "     'B25077_001E', # Median home value\n",
    "     'B15011_001E', # Total population age 25+ years with a bachelor's degree or higher\n",
    "     'B03002_003E', # Not Hispanic or Latino!!White alone\n",
    "     'B03002_004E', # Not Hispanic or Latino!!Black or African American alone\n",
    "     'B02001_004E', # American Indian and Alaska Native Alone\n",
    "     'B03002_006E', # Not Hispanic or Latino!!Asian alone\n",
    "     'B03002_007E', # Not Hispanic or Latino!!Native Hawaiian and Other Pacific Islander alone\n",
    "     'B03002_008E', # Not Hispanic or Latino!!Some other race alone\n",
    "     'B03002_009E', # Not Hispanic or Latino!!Two or more races\n",
    "     'B03002_012E', # Hispanic or Latino\n",
    "]"
   ]
  },
  {
   "cell_type": "markdown",
   "metadata": {},
   "source": [
    "Function to run API scraper:"
   ]
  },
  {
   "cell_type": "code",
   "execution_count": 4,
   "metadata": {},
   "outputs": [],
   "source": [
    "def get_acs_data(state_code, county_code, timeperiod, city, metro_area):\n",
    "    results = c.acs5.state_county_tract(\n",
    "        categories,\n",
    "        state_code,\n",
    "        county_code, \n",
    "        Census.ALL,\n",
    "        year = timeperiod\n",
    "    )\n",
    "\n",
    "    return [ {\n",
    "        'geoid': res['state'] + res['county'] + res['tract'],\n",
    "        'name': res['NAME'],\n",
    "        'total_population': res['B01001_001E'],\n",
    "        'total_population_25_over': res['B15002_001E'],\n",
    "        'median_income': res['B19013_001E'],\n",
    "        'median_home_value': res['B25077_001E'],\n",
    "        'educational_attainment': res['B15011_001E'],\n",
    "        'white_alone': res['B03002_003E'],\n",
    "        'black_alone': res['B03002_004E'],\n",
    "        'native_alone': res['B02001_004E'],\n",
    "        'asian_alone': res['B03002_006E'],\n",
    "        'native_hawaiian_pacific_islander': res['B03002_007E'],\n",
    "        'some_other_race_alone': res['B03002_008E'],\n",
    "        'two_or_more': res['B03002_009E'],\n",
    "        'hispanic_or_latino': res['B03002_012E'],\n",
    "        'city': city,\n",
    "        'metro_area': metro_area\n",
    "    } for res in results ]"
   ]
  },
  {
   "cell_type": "markdown",
   "metadata": {},
   "source": [
    "This script downloads data for five Metropolitan Statistical Areas (MSAs) which are all laid out in the `county_names.csv` in the `data` folder:\n",
    "\n",
    "- Atlanta-Sandy Springs-Alpharetta, GA (for Atlanta)\n",
    "- Baltimore-Columbia-Towson, MD (for Baltimore)\n",
    "- New York-Newark-Jersey City, NY-NJ-PA (for New York City)\n",
    "- San Francisco-Oakland-Berkeley, CA (for Oakland)\n",
    "- Washington-Arlington-Alexandria, DC-VA-MD-WV (for Washington, D.C.)\n",
    "\n",
    "For each MSA, the code below fetches demographic data for every tract in every county within it. (The list of counties was [obtained from the Bureau of Economic Analysis](https://apps.bea.gov/regional/docs/msalist.cfm) — \"Counties in Micropolitan Statistical Areas\". You can modify this file to gather data for other cities.)"
   ]
  },
  {
   "cell_type": "code",
   "execution_count": 5,
   "metadata": {},
   "outputs": [
    {
     "data": {
      "text/html": [
       "<div>\n",
       "<style scoped>\n",
       "    .dataframe tbody tr th:only-of-type {\n",
       "        vertical-align: middle;\n",
       "    }\n",
       "\n",
       "    .dataframe tbody tr th {\n",
       "        vertical-align: top;\n",
       "    }\n",
       "\n",
       "    .dataframe thead th {\n",
       "        text-align: right;\n",
       "    }\n",
       "</style>\n",
       "<table border=\"1\" class=\"dataframe\">\n",
       "  <thead>\n",
       "    <tr style=\"text-align: right;\">\n",
       "      <th></th>\n",
       "      <th>county_name</th>\n",
       "      <th>full_county_geocode</th>\n",
       "      <th>state_code</th>\n",
       "      <th>county_code</th>\n",
       "      <th>metro_area_name</th>\n",
       "      <th>city</th>\n",
       "      <th>state</th>\n",
       "    </tr>\n",
       "  </thead>\n",
       "  <tbody>\n",
       "    <tr>\n",
       "      <th>0</th>\n",
       "      <td>District of Columbia, DC</td>\n",
       "      <td>11001</td>\n",
       "      <td>11</td>\n",
       "      <td>001</td>\n",
       "      <td>Washington-Arlington-Alexandria</td>\n",
       "      <td>Washington</td>\n",
       "      <td>DC</td>\n",
       "    </tr>\n",
       "    <tr>\n",
       "      <th>1</th>\n",
       "      <td>Calvert, MD</td>\n",
       "      <td>24009</td>\n",
       "      <td>24</td>\n",
       "      <td>009</td>\n",
       "      <td>Washington-Arlington-Alexandria</td>\n",
       "      <td>Washington</td>\n",
       "      <td>DC</td>\n",
       "    </tr>\n",
       "    <tr>\n",
       "      <th>2</th>\n",
       "      <td>Charles, MD</td>\n",
       "      <td>24017</td>\n",
       "      <td>24</td>\n",
       "      <td>017</td>\n",
       "      <td>Washington-Arlington-Alexandria</td>\n",
       "      <td>Washington</td>\n",
       "      <td>DC</td>\n",
       "    </tr>\n",
       "    <tr>\n",
       "      <th>3</th>\n",
       "      <td>Frederick, MD</td>\n",
       "      <td>24021</td>\n",
       "      <td>24</td>\n",
       "      <td>021</td>\n",
       "      <td>Washington-Arlington-Alexandria</td>\n",
       "      <td>Washington</td>\n",
       "      <td>DC</td>\n",
       "    </tr>\n",
       "    <tr>\n",
       "      <th>4</th>\n",
       "      <td>Montgomery, MD</td>\n",
       "      <td>24031</td>\n",
       "      <td>24</td>\n",
       "      <td>031</td>\n",
       "      <td>Washington-Arlington-Alexandria</td>\n",
       "      <td>Washington</td>\n",
       "      <td>DC</td>\n",
       "    </tr>\n",
       "  </tbody>\n",
       "</table>\n",
       "</div>"
      ],
      "text/plain": [
       "                county_name full_county_geocode state_code county_code  \\\n",
       "0  District of Columbia, DC               11001         11         001   \n",
       "1               Calvert, MD               24009         24         009   \n",
       "2               Charles, MD               24017         24         017   \n",
       "3             Frederick, MD               24021         24         021   \n",
       "4            Montgomery, MD               24031         24         031   \n",
       "\n",
       "                   metro_area_name        city state  \n",
       "0  Washington-Arlington-Alexandria  Washington    DC  \n",
       "1  Washington-Arlington-Alexandria  Washington    DC  \n",
       "2  Washington-Arlington-Alexandria  Washington    DC  \n",
       "3  Washington-Arlington-Alexandria  Washington    DC  \n",
       "4  Washington-Arlington-Alexandria  Washington    DC  "
      ]
     },
     "execution_count": 5,
     "metadata": {},
     "output_type": "execute_result"
    }
   ],
   "source": [
    "metro_area_counties = pd.read_csv(\n",
    "    '../data/county_names.csv',\n",
    "    dtype = {\n",
    "        \"full_county_geocode\": str,\n",
    "        \"state_code\": str,\n",
    "        \"county_code\": str\n",
    "    }\n",
    ")\n",
    "\n",
    "metro_area_counties.head()"
   ]
  },
  {
   "cell_type": "markdown",
   "metadata": {},
   "source": [
    "Go through every county and find census tracts for each:"
   ]
  },
  {
   "cell_type": "code",
   "execution_count": null,
   "metadata": {},
   "outputs": [
    {
     "name": "stdout",
     "output_type": "stream",
     "text": [
      "District of Columbia, DC\n",
      "Calvert, MD\n",
      "Charles, MD\n",
      "Frederick, MD\n",
      "Montgomery, MD\n",
      "Prince George's, MD\n",
      "Arlington, VA\n",
      "Clarke, VA\n",
      "Culpeper, VA\n",
      "Fauquier, VA\n",
      "Loudoun, VA\n",
      "Madison, VA\n",
      "Rappahannock, VA\n",
      "Stafford, VA\n",
      "Warren, VA\n",
      "Alexandria (Independent City), VA\n",
      "Fairfax, Fairfax City + Falls Church, VA\n",
      "Prince William, Manassas + Manassas Park, VA\n",
      "Spotsylvania + Fredericksburg, VA\n",
      "Jefferson, WV\n",
      "Anne Arundel, MD\n",
      "Baltimore, MD\n",
      "Carroll, MD\n",
      "Harford, MD\n",
      "Howard, MD\n",
      "Queen Anne's, MD\n",
      "Baltimore (Independent City), MD\n",
      "Barrow, GA\n",
      "Bartow, GA\n",
      "Butts, GA\n",
      "Carroll, GA\n",
      "Cherokee, GA\n",
      "Clayton, GA\n",
      "Cobb, GA\n",
      "Coweta, GA\n",
      "Dawson, GA\n"
     ]
    }
   ],
   "source": [
    "census_data = []\n",
    "for index, county in metro_area_counties.iterrows():\n",
    "    print(county[\"county_name\"])\n",
    "    \n",
    "    census_data += get_acs_data(\n",
    "        county[\"state_code\"], \n",
    "        county[\"county_code\"], \n",
    "        2017, \n",
    "        county[\"city\"], \n",
    "        county[\"metro_area_name\"]\n",
    "    )\n",
    "\n",
    "census_data = pd.DataFrame(census_data)"
   ]
  },
  {
   "cell_type": "code",
   "execution_count": null,
   "metadata": {},
   "outputs": [],
   "source": [
    "census_data.head()"
   ]
  },
  {
   "cell_type": "code",
   "execution_count": null,
   "metadata": {},
   "outputs": [],
   "source": [
    "census_data.to_csv(\"../output/census_tracts.csv\", index = False)"
   ]
  },
  {
   "cell_type": "markdown",
   "metadata": {},
   "source": [
    "---\n",
    "\n",
    "---\n",
    "\n",
    "---"
   ]
  }
 ],
 "metadata": {
  "kernelspec": {
   "display_name": "Python 3 (ipykernel)",
   "language": "python",
   "name": "python3"
  },
  "language_info": {
   "codemirror_mode": {
    "name": "ipython",
    "version": 3
   },
   "file_extension": ".py",
   "mimetype": "text/x-python",
   "name": "python",
   "nbconvert_exporter": "python",
   "pygments_lexer": "ipython3",
   "version": "3.9.6"
  }
 },
 "nbformat": 4,
 "nbformat_minor": 2
}
