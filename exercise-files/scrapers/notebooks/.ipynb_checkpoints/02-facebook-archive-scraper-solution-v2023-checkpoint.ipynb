{
 "cells": [
  {
   "cell_type": "markdown",
   "metadata": {},
   "source": [
    "# Scraper for one's Facebook ads (2023 update)\n"
   ]
  },
  {
   "cell_type": "markdown",
   "metadata": {},
   "source": [
    "Import libraries needed:\n",
    "- `csv` for writing csv files\n",
    "- `BeautifulSoup` for parsing HTML"
   ]
  },
  {
   "cell_type": "code",
   "execution_count": 1,
   "metadata": {},
   "outputs": [],
   "source": [
    "import csv\n",
    "from bs4 import BeautifulSoup"
   ]
  },
  {
   "cell_type": "markdown",
   "metadata": {},
   "source": [
    "- set variables for an empty array that will hold the data\n",
    "- set a variable fot the folder name you wanna scrape"
   ]
  },
  {
   "cell_type": "code",
   "execution_count": 2,
   "metadata": {},
   "outputs": [],
   "source": [
    "# make an empty array for your data\n",
    "rows = []\n",
    "# set foldername\n",
    "foldername = 'facebook-sample'"
   ]
  },
  {
   "cell_type": "markdown",
   "metadata": {},
   "source": [
    "- open the file\n",
    "- parse it through beautiful soup\n",
    "- find the container\n",
    "- find each item and cycle through it\n",
    "- store the data in a dictionary"
   ]
  },
  {
   "cell_type": "code",
   "execution_count": 3,
   "metadata": {},
   "outputs": [],
   "source": [
    "with open(\"../data/%s//advertisers_you've_interacted_with.html\" % foldername) as page:\n",
    "    soup = BeautifulSoup(page,  \"html.parser\")\n",
    "    contents = soup.find(\"div\", class_=\"_a706\")\n",
    "    ad_list = contents.find_all( \"div\" , class_=\"_3-95\")\n",
    "\n",
    "    for item in ad_list:\n",
    "        advert = item.find(\"div\", class_=\"_a6-p\").get_text()\n",
    "        timeaccessed = item.find(\"div\", class_=\"_a72d\").get_text()\n",
    "\n",
    "        row = { \"advert\": advert,\n",
    "                \"timeaccessed\": timeaccessed\n",
    "              }\n",
    "        rows.append(row)\n",
    "\n",
    "\n"
   ]
  },
  {
   "cell_type": "markdown",
   "metadata": {},
   "source": [
    "- make a new csv into which we will write all the rows\n",
    "- write a header\n",
    "- write a row of data for each data row"
   ]
  },
  {
   "cell_type": "code",
   "execution_count": 4,
   "metadata": {},
   "outputs": [],
   "source": [
    "# make a new csv into which we will write all the rows\n",
    "with open(\"../output/ads/%s-all-advertisers_v2023.csv\" % foldername, \"w+\") as csvfile:\n",
    "    # these are the header names:\n",
    "    fieldnames = [\"advert\", \"timeaccessed\"]\n",
    "    # this creates your csv\n",
    "    writer = csv.DictWriter(csvfile, fieldnames=fieldnames)\n",
    "    # this writes in the first row, which are the headers\n",
    "    writer.writeheader()\n",
    "\n",
    "    # this loops through your rows (the array you set at the beginning and have updated throughtout)\n",
    "    for row in rows:\n",
    "        # this takes each row and writes it into your csv\n",
    "        writer.writerow(row)"
   ]
  },
  {
   "cell_type": "code",
   "execution_count": null,
   "metadata": {},
   "outputs": [],
   "source": []
  }
 ],
 "metadata": {
  "kernelspec": {
   "display_name": "Python 3 (ipykernel)",
   "language": "python",
   "name": "python3"
  },
  "language_info": {
   "codemirror_mode": {
    "name": "ipython",
    "version": 3
   },
   "file_extension": ".py",
   "mimetype": "text/x-python",
   "name": "python",
   "nbconvert_exporter": "python",
   "pygments_lexer": "ipython3",
   "version": "3.11.4"
  }
 },
 "nbformat": 4,
 "nbformat_minor": 4
}
