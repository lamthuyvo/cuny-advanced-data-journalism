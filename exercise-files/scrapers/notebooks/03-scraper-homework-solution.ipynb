{
 "cells": [
  {
   "cell_type": "markdown",
   "id": "1410323c-f0fb-42e8-8c60-d79ef96e0bb3",
   "metadata": {},
   "source": [
    "#### Scraping homework\n",
    "\n",
    "Complete the script below"
   ]
  },
  {
   "cell_type": "code",
   "execution_count": 2,
   "id": "0826021c-397e-4c63-9d56-80c19a58cc16",
   "metadata": {},
   "outputs": [],
   "source": [
    "import csv \n",
    "\n",
    "from bs4 import BeautifulSoup"
   ]
  },
  {
   "cell_type": "code",
   "execution_count": 12,
   "id": "4e2647c5-21ed-4ce9-8286-8f1be4f59e34",
   "metadata": {},
   "outputs": [],
   "source": [
    "rows= []\n",
    "\n",
    "with open(\"../data/homework-example.html\") as page:\n",
    "    soup = BeautifulSoup(page,  \"html.parser\")\n",
    "    contents = soup.find(\"ul\", class_=\"my_list\")\n",
    "    my_list = contents.find_all( \"li\" )\n",
    "\n",
    "    for item in my_list:\n",
    "       \n",
    "        row = { \"list_item\": item.get_text(),\n",
    "              }\n",
    "        rows.append(row)\n",
    "\n"
   ]
  },
  {
   "cell_type": "code",
   "execution_count": 13,
   "id": "6ef244a3-90da-4662-bce2-ce38742c1ba5",
   "metadata": {},
   "outputs": [
    {
     "name": "stdout",
     "output_type": "stream",
     "text": [
      "[{'list_item': 'tom'}, {'list_item': 'jerry'}, {'list_item': 'pepe le pew'}, {'list_item': 'bugs bunny'}]\n"
     ]
    }
   ],
   "source": [
    "print(rows)"
   ]
  },
  {
   "cell_type": "code",
   "execution_count": null,
   "id": "0314e9b2-44bd-4c24-bec6-5e7c46e16371",
   "metadata": {},
   "outputs": [],
   "source": []
  }
 ],
 "metadata": {
  "kernelspec": {
   "display_name": "Python 3 (ipykernel)",
   "language": "python",
   "name": "python3"
  },
  "language_info": {
   "codemirror_mode": {
    "name": "ipython",
    "version": 3
   },
   "file_extension": ".py",
   "mimetype": "text/x-python",
   "name": "python",
   "nbconvert_exporter": "python",
   "pygments_lexer": "ipython3",
   "version": "3.8.18"
  }
 },
 "nbformat": 4,
 "nbformat_minor": 5
}
