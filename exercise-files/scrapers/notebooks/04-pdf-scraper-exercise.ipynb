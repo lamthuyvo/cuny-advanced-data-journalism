{
 "cells": [
  {
   "cell_type": "markdown",
   "id": "94770f31",
   "metadata": {},
   "source": [
    "# PDF scraper example\n",
    "\n",
    "This notebook scrapes data using the following libraries\n",
    "- [pdfplumber](https://github.com/jsvine/pdfplumber)\n",
    "- pandas\n",
    "\n",
    "In this file, we will first inspect the pdf and then extract two values from multiple pdfs. "
   ]
  },
  {
   "cell_type": "code",
   "execution_count": null,
   "id": "3ddbc4d9",
   "metadata": {},
   "outputs": [],
   "source": []
  },
  {
   "cell_type": "markdown",
   "id": "2b07c320-f7bf-4923-8a7a-20f183546cb6",
   "metadata": {},
   "source": [
    "## Inspect the document for patterns\n",
    "Just like with websites, we should inspect the document we want to scrape."
   ]
  },
  {
   "cell_type": "code",
   "execution_count": null,
   "id": "b23afee8-5a07-455e-a93b-37e6acdc3cda",
   "metadata": {},
   "outputs": [],
   "source": []
  },
  {
   "cell_type": "markdown",
   "id": "f150fd74-1e80-4e1b-bb83-524f1c581be1",
   "metadata": {},
   "source": [
    "PDFplumber turns your document into an object that you can query in different ways. Below is a function that does that:"
   ]
  },
  {
   "cell_type": "code",
   "execution_count": null,
   "id": "3a9d7b59-ece0-424a-b6f0-748e7499785e",
   "metadata": {},
   "outputs": [],
   "source": []
  },
  {
   "cell_type": "markdown",
   "id": "7ec319ea-783e-47ec-9fcf-ac3477fd0a50",
   "metadata": {},
   "source": [
    "In order to inspect the page we can use the `.open()` function and the `.pages` parameter"
   ]
  },
  {
   "cell_type": "code",
   "execution_count": null,
   "id": "0479ebcc",
   "metadata": {},
   "outputs": [],
   "source": []
  },
  {
   "cell_type": "markdown",
   "id": "6cda6526-c829-4f89-a6c0-c071ee97d1d6",
   "metadata": {},
   "source": [
    "Using the `.extract_table()` function we can extract tables on this page"
   ]
  },
  {
   "cell_type": "code",
   "execution_count": null,
   "id": "cd5d21c3-f276-4768-8678-6719ca01b9df",
   "metadata": {},
   "outputs": [],
   "source": []
  },
  {
   "cell_type": "code",
   "execution_count": null,
   "id": "16d5fe8c-2feb-4f14-b6f7-b94b6c941586",
   "metadata": {},
   "outputs": [],
   "source": []
  },
  {
   "cell_type": "markdown",
   "id": "fbe53a79",
   "metadata": {},
   "source": [
    "### Scrape information\n",
    "\n",
    "The notebook grab the following information:\n",
    "- case number\n",
    "- crime incidents"
   ]
  },
  {
   "cell_type": "markdown",
   "id": "cac536ec-2582-4220-9f99-136fe22da464",
   "metadata": {},
   "source": [
    "Let's start by looking at the first table:"
   ]
  },
  {
   "cell_type": "code",
   "execution_count": null,
   "id": "a7aa9aa0-aae6-48ab-b036-cb753f3d1b54",
   "metadata": {},
   "outputs": [],
   "source": []
  },
  {
   "cell_type": "markdown",
   "id": "4602024b-fdbc-48b0-b199-67e4edc200c8",
   "metadata": {},
   "source": [
    "There are a lot of `None` values in this table. Let's take them out:"
   ]
  },
  {
   "cell_type": "code",
   "execution_count": null,
   "id": "ddf27bb9-5c56-41de-a96b-3d0444b47819",
   "metadata": {},
   "outputs": [],
   "source": []
  },
  {
   "cell_type": "markdown",
   "id": "f170f1bc-31da-4a0f-8f59-664db5bcf393",
   "metadata": {},
   "source": [
    "Now we need to clean the data. We can do that with the `.split()` function which requires a argument that usually is a character or set of characterw that it uses to split a string. We can split each item through the `\"\\n\"` characters which, in coding, stands for new line: \n"
   ]
  },
  {
   "cell_type": "code",
   "execution_count": null,
   "id": "e229e56f-b1e9-4013-b924-de48f1459ee1",
   "metadata": {},
   "outputs": [],
   "source": [
    "#first we grab the first item, then we split it where there is a \"\\n\"\n",
    "\n",
    "    "
   ]
  },
  {
   "cell_type": "markdown",
   "id": "9391e697-6431-4327-913f-65cf9057694a",
   "metadata": {},
   "source": [
    "To grab the second item, we use the brackets `[1]`:"
   ]
  },
  {
   "cell_type": "code",
   "execution_count": null,
   "id": "9a66c7a8-1e60-4fa6-8e71-976db27ecec0",
   "metadata": {},
   "outputs": [],
   "source": []
  },
  {
   "cell_type": "markdown",
   "id": "7444880c-652b-4d61-9285-35b818d2dfe4",
   "metadata": {},
   "source": [
    "We can grab the case number in the same way:"
   ]
  },
  {
   "cell_type": "code",
   "execution_count": null,
   "id": "dd48dc37-4b48-42f3-9b48-a25d40d67950",
   "metadata": {},
   "outputs": [],
   "source": []
  },
  {
   "cell_type": "markdown",
   "id": "bab0a5e2-d53f-4354-a5cd-7ec11bcdb1e7",
   "metadata": {},
   "source": [
    "### Now let's put this into a table\n",
    "\n",
    "These are the steps:\n",
    "- we set temporary variables\n",
    "- put them into an array"
   ]
  },
  {
   "cell_type": "code",
   "execution_count": null,
   "id": "38e5250c-16d0-4b5c-b3b6-dda61cde1533",
   "metadata": {},
   "outputs": [],
   "source": []
  },
  {
   "cell_type": "markdown",
   "id": "b0a63e4e-c15d-4def-9d42-c521f2336ce4",
   "metadata": {},
   "source": [
    "Then add the row into an empty array:"
   ]
  },
  {
   "cell_type": "code",
   "execution_count": null,
   "id": "fe9d489f-64c5-4a43-b3a7-34a2dc9e434a",
   "metadata": {},
   "outputs": [],
   "source": []
  },
  {
   "cell_type": "code",
   "execution_count": null,
   "id": "dc7458cb-02f7-4c66-b951-6eacc3d92093",
   "metadata": {},
   "outputs": [],
   "source": []
  },
  {
   "cell_type": "markdown",
   "id": "66ce609b-e4f3-4852-b485-199d5874e5af",
   "metadata": {},
   "source": [
    "### Turning this code into a template:\n",
    "\n",
    "Now comes the fun! Let's templatize all the steps into one big function!\n",
    "\n",
    "1. Let's put everything into one cell to get a better overview\n",
    "2. Put it into a function"
   ]
  },
  {
   "cell_type": "code",
   "execution_count": null,
   "id": "d00760b2-81e9-489a-8b71-62c96be8bb8c",
   "metadata": {},
   "outputs": [],
   "source": [
    "# open the document and then the first page of the document\n",
    "\n",
    "# extract the tables from the first page\n",
    "\n",
    "# clean the table by taking out all the values that are None\n",
    "\n",
    "# build a data dictionary the assigns the header to the value of each part of the report you want to scrape\n",
    "\n",
    "# add the data to the rows array\n"
   ]
  },
  {
   "cell_type": "markdown",
   "id": "5fa1de71-6053-4159-bbd8-532d6d7a130e",
   "metadata": {},
   "source": [
    "Now let's put it together into one function and remove the one thing that we want change as we re-use the function:"
   ]
  },
  {
   "cell_type": "code",
   "execution_count": null,
   "id": "4137c85d-283e-43aa-86e2-201fbb6271f5",
   "metadata": {},
   "outputs": [],
   "source": []
  },
  {
   "cell_type": "markdown",
   "id": "af417ae0-3556-4b4a-98dd-746aa50891dd",
   "metadata": {},
   "source": [
    "Now let's grab the paths for every report in our crime-reports folder 🤯: "
   ]
  },
  {
   "cell_type": "code",
   "execution_count": null,
   "id": "36787ff9-d2fc-44ad-8c08-4ce5f4479449",
   "metadata": {},
   "outputs": [],
   "source": []
  },
  {
   "cell_type": "markdown",
   "id": "0385478d-c7bc-459a-976d-c800098b76d2",
   "metadata": {},
   "source": [
    "Let's run our new function for every path:"
   ]
  },
  {
   "cell_type": "code",
   "execution_count": null,
   "id": "e8fbe8ad-154e-466b-a625-018f72e90deb",
   "metadata": {},
   "outputs": [],
   "source": [
    "# create an empty array\n"
   ]
  },
  {
   "cell_type": "code",
   "execution_count": null,
   "id": "43c1412c",
   "metadata": {},
   "outputs": [],
   "source": []
  },
  {
   "cell_type": "markdown",
   "id": "6ea8e03b-97e9-4149-913a-5017e8d339c7",
   "metadata": {},
   "source": [
    "Export the data! We can use pandas to make life easier:"
   ]
  },
  {
   "cell_type": "code",
   "execution_count": null,
   "id": "88cb58b1-133e-4962-aaf9-8c3f2c90c1fd",
   "metadata": {},
   "outputs": [],
   "source": []
  },
  {
   "cell_type": "code",
   "execution_count": null,
   "id": "8d88e817-9acc-4ec0-a299-0fdd461a5b1b",
   "metadata": {},
   "outputs": [],
   "source": []
  },
  {
   "cell_type": "code",
   "execution_count": null,
   "id": "92c29578-0e15-478d-805f-be63cf27275c",
   "metadata": {},
   "outputs": [],
   "source": []
  },
  {
   "cell_type": "code",
   "execution_count": null,
   "id": "3d46c68b-cf0e-4276-970c-b96a7683a6c1",
   "metadata": {},
   "outputs": [],
   "source": []
  },
  {
   "cell_type": "code",
   "execution_count": null,
   "id": "a5c9ab08-18fe-4bf5-8c26-075dd5e02498",
   "metadata": {},
   "outputs": [],
   "source": []
  }
 ],
 "metadata": {
  "kernelspec": {
   "display_name": "Python 3 (ipykernel)",
   "language": "python",
   "name": "python3"
  },
  "language_info": {
   "codemirror_mode": {
    "name": "ipython",
    "version": 3
   },
   "file_extension": ".py",
   "mimetype": "text/x-python",
   "name": "python",
   "nbconvert_exporter": "python",
   "pygments_lexer": "ipython3",
   "version": "3.11.5"
  }
 },
 "nbformat": 4,
 "nbformat_minor": 5
}
