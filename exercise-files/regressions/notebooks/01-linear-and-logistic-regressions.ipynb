{
 "cells": [
  {
   "cell_type": "markdown",
   "id": "4bb1dc3d-4a38-4510-837c-0e4e81384e83",
   "metadata": {},
   "source": [
    "## Regressions\n",
    "\n",
    "<img src=\"../data/regression-gif.gif\" alt=\"alt text\" width=\"300\" height=\"200\">\n",
    "\n",
    "A regression is a way to describe how two (or more) things are related to each other. This notebook performs two simple regressions on a small data set: a linear regression and a logistic regression. The notebook was adapted from [investigate.ai](https://investigate.ai/regression/) and [Dr. Tehreem Qasim](https://www.kaggle.com/code/tehreemkhan111/simple-linear-regression).\n",
    "\n"
   ]
  },
  {
   "cell_type": "code",
   "execution_count": 1,
   "id": "656cfd39-f3a4-464a-ac6c-cf897247fd96",
   "metadata": {},
   "outputs": [],
   "source": [
    "import pandas as pd"
   ]
  },
  {
   "cell_type": "markdown",
   "id": "8102f6ea-3ab3-4ce3-aec2-8e3e5d837948",
   "metadata": {},
   "source": [
    "### Performing a linear regression\n",
    "First we will load our data"
   ]
  },
  {
   "cell_type": "code",
   "execution_count": 2,
   "id": "4f6dac04-b396-485b-94a9-88a21dd7c703",
   "metadata": {},
   "outputs": [
    {
     "name": "stdout",
     "output_type": "stream",
     "text": [
      "30\n"
     ]
    },
    {
     "data": {
      "text/html": [
       "<div>\n",
       "<style scoped>\n",
       "    .dataframe tbody tr th:only-of-type {\n",
       "        vertical-align: middle;\n",
       "    }\n",
       "\n",
       "    .dataframe tbody tr th {\n",
       "        vertical-align: top;\n",
       "    }\n",
       "\n",
       "    .dataframe thead th {\n",
       "        text-align: right;\n",
       "    }\n",
       "</style>\n",
       "<table border=\"1\" class=\"dataframe\">\n",
       "  <thead>\n",
       "    <tr style=\"text-align: right;\">\n",
       "      <th></th>\n",
       "      <th>YearsExperience</th>\n",
       "      <th>Salary</th>\n",
       "      <th>promoted</th>\n",
       "    </tr>\n",
       "  </thead>\n",
       "  <tbody>\n",
       "    <tr>\n",
       "      <th>0</th>\n",
       "      <td>1.1</td>\n",
       "      <td>39343.0</td>\n",
       "      <td>0</td>\n",
       "    </tr>\n",
       "    <tr>\n",
       "      <th>1</th>\n",
       "      <td>1.3</td>\n",
       "      <td>46205.0</td>\n",
       "      <td>0</td>\n",
       "    </tr>\n",
       "    <tr>\n",
       "      <th>2</th>\n",
       "      <td>1.5</td>\n",
       "      <td>37731.0</td>\n",
       "      <td>0</td>\n",
       "    </tr>\n",
       "    <tr>\n",
       "      <th>3</th>\n",
       "      <td>2.0</td>\n",
       "      <td>43525.0</td>\n",
       "      <td>1</td>\n",
       "    </tr>\n",
       "    <tr>\n",
       "      <th>4</th>\n",
       "      <td>2.2</td>\n",
       "      <td>39891.0</td>\n",
       "      <td>0</td>\n",
       "    </tr>\n",
       "  </tbody>\n",
       "</table>\n",
       "</div>"
      ],
      "text/plain": [
       "   YearsExperience   Salary  promoted\n",
       "0              1.1  39343.0         0\n",
       "1              1.3  46205.0         0\n",
       "2              1.5  37731.0         0\n",
       "3              2.0  43525.0         1\n",
       "4              2.2  39891.0         0"
      ]
     },
     "execution_count": 2,
     "metadata": {},
     "output_type": "execute_result"
    }
   ],
   "source": [
    "df = pd.read_csv('../data/Salary_Data.csv')\n",
    "print(len(df))\n",
    "df.head()"
   ]
  },
  {
   "cell_type": "markdown",
   "id": "46421cde-31e6-485a-abda-872cc26f54ec",
   "metadata": {},
   "source": [
    "Using the library statsmodels we can run linear regressions with dataframes. "
   ]
  },
  {
   "cell_type": "code",
   "execution_count": 3,
   "id": "20502518-2639-4895-b9b7-0430ea6d3028",
   "metadata": {},
   "outputs": [],
   "source": [
    "import statsmodels.api as sm"
   ]
  },
  {
   "cell_type": "markdown",
   "id": "d5d4ec8a-d8c7-4c09-be21-bfb1c8f617c4",
   "metadata": {},
   "source": [
    "Below we do two things: \n",
    "We define `YearsExperience` as the dependent variable. \n",
    "\n",
    "Ordinary Least Squares function from the statsmodels library. OLS is a common technique used in analyzing linear regression. In brief, it compares the difference between individual points in your data set and the predicted best fit line to measure the amount of error produced. (Source: [Medium](https://medium.com/swlh/interpreting-linear-regression-through-statsmodels-summary-4796d359035a))."
   ]
  },
  {
   "cell_type": "code",
   "execution_count": 4,
   "id": "d5807d2f-b57a-43b1-9a00-d358c7fcbd49",
   "metadata": {},
   "outputs": [],
   "source": [
    "X = df[\"YearsExperience\"]\n",
    "y = df[\"Salary\"]\n",
    "\n",
    "# OLS\n",
    "model = sm.OLS(y, X)\n",
    "results = model.fit()"
   ]
  },
  {
   "cell_type": "markdown",
   "id": "a1686782-0c32-4fc1-b040-ab62bc8adf90",
   "metadata": {},
   "source": [
    "#### Examining our results\n",
    "\n",
    "We stored out regression in a variable called `results`. Now we can look at the results but using the `.summary()` function to print out the entire regression result.\n",
    "\n"
   ]
  },
  {
   "cell_type": "code",
   "execution_count": 5,
   "id": "93a7f44d-1415-40bf-afa5-14ce80375f51",
   "metadata": {},
   "outputs": [
    {
     "data": {
      "text/html": [
       "<table class=\"simpletable\">\n",
       "<caption>OLS Regression Results</caption>\n",
       "<tr>\n",
       "  <th>Dep. Variable:</th>         <td>Salary</td>      <th>  R-squared (uncentered):</th>      <td>   0.973</td>\n",
       "</tr>\n",
       "<tr>\n",
       "  <th>Model:</th>                   <td>OLS</td>       <th>  Adj. R-squared (uncentered):</th> <td>   0.972</td>\n",
       "</tr>\n",
       "<tr>\n",
       "  <th>Method:</th>             <td>Least Squares</td>  <th>  F-statistic:       </th>          <td>   1048.</td>\n",
       "</tr>\n",
       "<tr>\n",
       "  <th>Date:</th>             <td>Thu, 24 Oct 2024</td> <th>  Prob (F-statistic):</th>          <td>2.56e-24</td>\n",
       "</tr>\n",
       "<tr>\n",
       "  <th>Time:</th>                 <td>11:44:21</td>     <th>  Log-Likelihood:    </th>          <td> -327.28</td>\n",
       "</tr>\n",
       "<tr>\n",
       "  <th>No. Observations:</th>      <td>    30</td>      <th>  AIC:               </th>          <td>   656.6</td>\n",
       "</tr>\n",
       "<tr>\n",
       "  <th>Df Residuals:</th>          <td>    29</td>      <th>  BIC:               </th>          <td>   658.0</td>\n",
       "</tr>\n",
       "<tr>\n",
       "  <th>Df Model:</th>              <td>     1</td>      <th>                     </th>              <td> </td>   \n",
       "</tr>\n",
       "<tr>\n",
       "  <th>Covariance Type:</th>      <td>nonrobust</td>    <th>                     </th>              <td> </td>   \n",
       "</tr>\n",
       "</table>\n",
       "<table class=\"simpletable\">\n",
       "<tr>\n",
       "         <td></td>            <th>coef</th>     <th>std err</th>      <th>t</th>      <th>P>|t|</th>  <th>[0.025</th>    <th>0.975]</th>  \n",
       "</tr>\n",
       "<tr>\n",
       "  <th>YearsExperience</th> <td> 1.325e+04</td> <td>  409.401</td> <td>   32.376</td> <td> 0.000</td> <td> 1.24e+04</td> <td> 1.41e+04</td>\n",
       "</tr>\n",
       "</table>\n",
       "<table class=\"simpletable\">\n",
       "<tr>\n",
       "  <th>Omnibus:</th>       <td> 0.610</td> <th>  Durbin-Watson:     </th> <td>   0.323</td>\n",
       "</tr>\n",
       "<tr>\n",
       "  <th>Prob(Omnibus):</th> <td> 0.737</td> <th>  Jarque-Bera (JB):  </th> <td>   0.671</td>\n",
       "</tr>\n",
       "<tr>\n",
       "  <th>Skew:</th>          <td>-0.121</td> <th>  Prob(JB):          </th> <td>   0.715</td>\n",
       "</tr>\n",
       "<tr>\n",
       "  <th>Kurtosis:</th>      <td> 2.308</td> <th>  Cond. No.          </th> <td>    1.00</td>\n",
       "</tr>\n",
       "</table><br/><br/>Notes:<br/>[1] R² is computed without centering (uncentered) since the model does not contain a constant.<br/>[2] Standard Errors assume that the covariance matrix of the errors is correctly specified."
      ],
      "text/latex": [
       "\\begin{center}\n",
       "\\begin{tabular}{lclc}\n",
       "\\toprule\n",
       "\\textbf{Dep. Variable:}    &      Salary      & \\textbf{  R-squared (uncentered):}      &     0.973   \\\\\n",
       "\\textbf{Model:}            &       OLS        & \\textbf{  Adj. R-squared (uncentered):} &     0.972   \\\\\n",
       "\\textbf{Method:}           &  Least Squares   & \\textbf{  F-statistic:       }          &     1048.   \\\\\n",
       "\\textbf{Date:}             & Thu, 24 Oct 2024 & \\textbf{  Prob (F-statistic):}          &  2.56e-24   \\\\\n",
       "\\textbf{Time:}             &     11:44:21     & \\textbf{  Log-Likelihood:    }          &   -327.28   \\\\\n",
       "\\textbf{No. Observations:} &          30      & \\textbf{  AIC:               }          &     656.6   \\\\\n",
       "\\textbf{Df Residuals:}     &          29      & \\textbf{  BIC:               }          &     658.0   \\\\\n",
       "\\textbf{Df Model:}         &           1      & \\textbf{                     }          &             \\\\\n",
       "\\textbf{Covariance Type:}  &    nonrobust     & \\textbf{                     }          &             \\\\\n",
       "\\bottomrule\n",
       "\\end{tabular}\n",
       "\\begin{tabular}{lcccccc}\n",
       "                         & \\textbf{coef} & \\textbf{std err} & \\textbf{t} & \\textbf{P$> |$t$|$} & \\textbf{[0.025} & \\textbf{0.975]}  \\\\\n",
       "\\midrule\n",
       "\\textbf{YearsExperience} &    1.325e+04  &      409.401     &    32.376  &         0.000        &     1.24e+04    &     1.41e+04     \\\\\n",
       "\\bottomrule\n",
       "\\end{tabular}\n",
       "\\begin{tabular}{lclc}\n",
       "\\textbf{Omnibus:}       &  0.610 & \\textbf{  Durbin-Watson:     } &    0.323  \\\\\n",
       "\\textbf{Prob(Omnibus):} &  0.737 & \\textbf{  Jarque-Bera (JB):  } &    0.671  \\\\\n",
       "\\textbf{Skew:}          & -0.121 & \\textbf{  Prob(JB):          } &    0.715  \\\\\n",
       "\\textbf{Kurtosis:}      &  2.308 & \\textbf{  Cond. No.          } &     1.00  \\\\\n",
       "\\bottomrule\n",
       "\\end{tabular}\n",
       "%\\caption{OLS Regression Results}\n",
       "\\end{center}\n",
       "\n",
       "Notes: \\newline\n",
       " [1] R² is computed without centering (uncentered) since the model does not contain a constant. \\newline\n",
       " [2] Standard Errors assume that the covariance matrix of the errors is correctly specified."
      ],
      "text/plain": [
       "<class 'statsmodels.iolib.summary.Summary'>\n",
       "\"\"\"\n",
       "                                 OLS Regression Results                                \n",
       "=======================================================================================\n",
       "Dep. Variable:                 Salary   R-squared (uncentered):                   0.973\n",
       "Model:                            OLS   Adj. R-squared (uncentered):              0.972\n",
       "Method:                 Least Squares   F-statistic:                              1048.\n",
       "Date:                Thu, 24 Oct 2024   Prob (F-statistic):                    2.56e-24\n",
       "Time:                        11:44:21   Log-Likelihood:                         -327.28\n",
       "No. Observations:                  30   AIC:                                      656.6\n",
       "Df Residuals:                      29   BIC:                                      658.0\n",
       "Df Model:                           1                                                  \n",
       "Covariance Type:            nonrobust                                                  \n",
       "===================================================================================\n",
       "                      coef    std err          t      P>|t|      [0.025      0.975]\n",
       "-----------------------------------------------------------------------------------\n",
       "YearsExperience  1.325e+04    409.401     32.376      0.000    1.24e+04    1.41e+04\n",
       "==============================================================================\n",
       "Omnibus:                        0.610   Durbin-Watson:                   0.323\n",
       "Prob(Omnibus):                  0.737   Jarque-Bera (JB):                0.671\n",
       "Skew:                          -0.121   Prob(JB):                        0.715\n",
       "Kurtosis:                       2.308   Cond. No.                         1.00\n",
       "==============================================================================\n",
       "\n",
       "Notes:\n",
       "[1] R² is computed without centering (uncentered) since the model does not contain a constant.\n",
       "[2] Standard Errors assume that the covariance matrix of the errors is correctly specified.\n",
       "\"\"\""
      ]
     },
     "execution_count": 5,
     "metadata": {},
     "output_type": "execute_result"
    }
   ],
   "source": [
    "results.summary()"
   ]
  },
  {
   "cell_type": "markdown",
   "id": "43040f9f-bf7c-47b0-bc73-14d877a7361a",
   "metadata": {},
   "source": [
    "### How to interpret your results\n",
    "\n",
    "\n",
    "Our dependent variable is **Salary**, meaning we were interested in how much our Salary is dependent on the number of years. The information below is a summary of this [Medium post](https://medium.com/swlh/interpreting-linear-regression-through-statsmodels-summary-4796d359035a), this [Mediun post](https://medium.com/analytics-vidhya/how-to-interpret-result-from-linear-regression-3f7ae7679ef9) and this [Medium post](https://blog.dailydoseofds.com/p/statsmodel-regression-summary-will).\n",
    "\n",
    "<img src=\"../data/regression_illustration.png\" alt=\"alt text\" width=\"800\">\n",
    "\n",
    "Here are some of the things we want to pay special attention to:\n",
    "- `R-squared`: R-squared is possibly the most important measurement produced by this summary. R-squared is the measurement of how much of the independent variable is explained by changes in our dependent variables. In percentage terms, 0.957 would mean our model explains 95.7% of the change in our ‘Salary’ variable.\n",
    "- `Adj. R-squared`: This is the modified version of R-squared which is adjusted for the number of variables in the regression. It increases only when an additional variable adds to the explanatory power to the regression.\n",
    "- `Coefficients`: These show the estimated effect of each independent variable on the dependent variable.\n",
    "- `P-values`: These indicate the statistical significance of each coefficient. These indicate the statistical significance of each coefficient. Generally, a p-value < 0.05 is considered statistically significant."
   ]
  },
  {
   "cell_type": "code",
   "execution_count": null,
   "id": "6d624ee5-58d1-49e3-b30c-238d6f198468",
   "metadata": {},
   "outputs": [],
   "source": []
  },
  {
   "cell_type": "markdown",
   "id": "55b8d75c-710a-497a-bc61-d30685d41e14",
   "metadata": {},
   "source": [
    "### Plotting our linear regression\n",
    "In the next few lines we will plot our linear regression. It can help us understand what the linear regression above is doing."
   ]
  },
  {
   "cell_type": "code",
   "execution_count": 6,
   "id": "431798ef-e647-466a-921b-8ec5fd1dfdec",
   "metadata": {},
   "outputs": [],
   "source": [
    "from matplotlib import pyplot as plt"
   ]
  },
  {
   "cell_type": "code",
   "execution_count": 7,
   "id": "9caead64-f494-4784-b1a2-f44f4ec12d69",
   "metadata": {},
   "outputs": [
    {
     "data": {
      "text/plain": [
       "Text(0, 0.5, 'Salary')"
      ]
     },
     "execution_count": 7,
     "metadata": {},
     "output_type": "execute_result"
    },
    {
     "data": {
      "image/png": "[encoded data removed]",
      "text/plain": [
       "<Figure size 640x480 with 1 Axes>"
      ]
     },
     "metadata": {},
     "output_type": "display_data"
    }
   ],
   "source": [
    "# create the scatterplot\n",
    "plt.scatter(df[\"YearsExperience\"], df[\"Salary\"])\n",
    "\n",
    "# create the regression line\n",
    "# this uses df['YearsExperience'] for the x-axis and results.predict() for the y-axis\n",
    "plt.plot(df['YearsExperience'], \n",
    "         results.predict(), \n",
    "         color='red', \n",
    "         linewidth=2, \n",
    "         label='Regression line'\n",
    ")\n",
    "\n",
    "# customize the plot\n",
    "plt.title(\"Experience vs Salary\")\n",
    "plt.xlabel(\"Experience in years\")\n",
    "plt.ylabel(\"Salary\")\n"
   ]
  },
  {
   "cell_type": "markdown",
   "id": "e3d58b5c-2516-4204-9568-9646b237f93c",
   "metadata": {},
   "source": [
    "### Logistic regression\n",
    "\n",
    "Our dataset has two columns:\n",
    "\n",
    "* Number of years\n",
    "* Whether someone was promoted or not. 1 means yes, 0 means no\n",
    "\n",
    "We want to ask a simple question using this data: **how does length of experience influence whether someone gets promoted or not?** Since being promoted is a yes/no question, we get to use **logistic regression**."
   ]
  },
  {
   "cell_type": "code",
   "execution_count": 8,
   "id": "6546ad13-fbe1-4a92-a998-9b8110e4dc1c",
   "metadata": {},
   "outputs": [
    {
     "name": "stdout",
     "output_type": "stream",
     "text": [
      "Optimization terminated successfully.\n",
      "         Current function value: 0.635838\n",
      "         Iterations 5\n"
     ]
    }
   ],
   "source": [
    "import statsmodels.formula.api as smf\n",
    "\n",
    "#how does length of experience influence whether someone gets promoted or not?\n",
    "model = smf.logit(formula='promoted ~ YearsExperience', data=df)\n",
    "results = model.fit()"
   ]
  },
  {
   "cell_type": "markdown",
   "id": "91dab14c-393e-42c5-bf21-412a9c1fa211",
   "metadata": {},
   "source": [
    "### How to interpret your results"
   ]
  },
  {
   "cell_type": "code",
   "execution_count": 9,
   "id": "98f50082-67f6-40ba-baa6-5dbd68f40f20",
   "metadata": {},
   "outputs": [
    {
     "data": {
      "text/html": [
       "<table class=\"simpletable\">\n",
       "<caption>Logit Regression Results</caption>\n",
       "<tr>\n",
       "  <th>Dep. Variable:</th>       <td>promoted</td>     <th>  No. Observations:  </th>  <td>    30</td> \n",
       "</tr>\n",
       "<tr>\n",
       "  <th>Model:</th>                 <td>Logit</td>      <th>  Df Residuals:      </th>  <td>    28</td> \n",
       "</tr>\n",
       "<tr>\n",
       "  <th>Method:</th>                 <td>MLE</td>       <th>  Df Model:          </th>  <td>     1</td> \n",
       "</tr>\n",
       "<tr>\n",
       "  <th>Date:</th>            <td>Thu, 24 Oct 2024</td> <th>  Pseudo R-squ.:     </th>  <td>0.05523</td>\n",
       "</tr>\n",
       "<tr>\n",
       "  <th>Time:</th>                <td>11:44:21</td>     <th>  Log-Likelihood:    </th> <td> -19.075</td>\n",
       "</tr>\n",
       "<tr>\n",
       "  <th>converged:</th>             <td>True</td>       <th>  LL-Null:           </th> <td> -20.190</td>\n",
       "</tr>\n",
       "<tr>\n",
       "  <th>Covariance Type:</th>     <td>nonrobust</td>    <th>  LLR p-value:       </th>  <td>0.1353</td> \n",
       "</tr>\n",
       "</table>\n",
       "<table class=\"simpletable\">\n",
       "<tr>\n",
       "         <td></td>            <th>coef</th>     <th>std err</th>      <th>z</th>      <th>P>|z|</th>  <th>[0.025</th>    <th>0.975]</th>  \n",
       "</tr>\n",
       "<tr>\n",
       "  <th>Intercept</th>       <td>   -0.6752</td> <td>    0.826</td> <td>   -0.817</td> <td> 0.414</td> <td>   -2.294</td> <td>    0.944</td>\n",
       "</tr>\n",
       "<tr>\n",
       "  <th>YearsExperience</th> <td>    0.2107</td> <td>    0.148</td> <td>    1.423</td> <td> 0.155</td> <td>   -0.079</td> <td>    0.501</td>\n",
       "</tr>\n",
       "</table>"
      ],
      "text/latex": [
       "\\begin{center}\n",
       "\\begin{tabular}{lclc}\n",
       "\\toprule\n",
       "\\textbf{Dep. Variable:}   &     promoted     & \\textbf{  No. Observations:  } &       30    \\\\\n",
       "\\textbf{Model:}           &      Logit       & \\textbf{  Df Residuals:      } &       28    \\\\\n",
       "\\textbf{Method:}          &       MLE        & \\textbf{  Df Model:          } &        1    \\\\\n",
       "\\textbf{Date:}            & Thu, 24 Oct 2024 & \\textbf{  Pseudo R-squ.:     } &  0.05523    \\\\\n",
       "\\textbf{Time:}            &     11:44:21     & \\textbf{  Log-Likelihood:    } &   -19.075   \\\\\n",
       "\\textbf{converged:}       &       True       & \\textbf{  LL-Null:           } &   -20.190   \\\\\n",
       "\\textbf{Covariance Type:} &    nonrobust     & \\textbf{  LLR p-value:       } &   0.1353    \\\\\n",
       "\\bottomrule\n",
       "\\end{tabular}\n",
       "\\begin{tabular}{lcccccc}\n",
       "                         & \\textbf{coef} & \\textbf{std err} & \\textbf{z} & \\textbf{P$> |$z$|$} & \\textbf{[0.025} & \\textbf{0.975]}  \\\\\n",
       "\\midrule\n",
       "\\textbf{Intercept}       &      -0.6752  &        0.826     &    -0.817  &         0.414        &       -2.294    &        0.944     \\\\\n",
       "\\textbf{YearsExperience} &       0.2107  &        0.148     &     1.423  &         0.155        &       -0.079    &        0.501     \\\\\n",
       "\\bottomrule\n",
       "\\end{tabular}\n",
       "%\\caption{Logit Regression Results}\n",
       "\\end{center}"
      ],
      "text/plain": [
       "<class 'statsmodels.iolib.summary.Summary'>\n",
       "\"\"\"\n",
       "                           Logit Regression Results                           \n",
       "==============================================================================\n",
       "Dep. Variable:               promoted   No. Observations:                   30\n",
       "Model:                          Logit   Df Residuals:                       28\n",
       "Method:                           MLE   Df Model:                            1\n",
       "Date:                Thu, 24 Oct 2024   Pseudo R-squ.:                 0.05523\n",
       "Time:                        11:44:21   Log-Likelihood:                -19.075\n",
       "converged:                       True   LL-Null:                       -20.190\n",
       "Covariance Type:            nonrobust   LLR p-value:                    0.1353\n",
       "===================================================================================\n",
       "                      coef    std err          z      P>|z|      [0.025      0.975]\n",
       "-----------------------------------------------------------------------------------\n",
       "Intercept          -0.6752      0.826     -0.817      0.414      -2.294       0.944\n",
       "YearsExperience     0.2107      0.148      1.423      0.155      -0.079       0.501\n",
       "===================================================================================\n",
       "\"\"\""
      ]
     },
     "execution_count": 9,
     "metadata": {},
     "output_type": "execute_result"
    }
   ],
   "source": [
    "results.summary()"
   ]
  },
  {
   "cell_type": "code",
   "execution_count": null,
   "id": "32422a9a-7f88-41cc-a0e6-ab37202e335b",
   "metadata": {},
   "outputs": [],
   "source": []
  },
  {
   "cell_type": "code",
   "execution_count": null,
   "id": "fe273ddb-a6c5-49de-a420-6a3e4c1fd1ba",
   "metadata": {},
   "outputs": [],
   "source": []
  }
 ],
 "metadata": {
  "kernelspec": {
   "display_name": "Python 3 (ipykernel)",
   "language": "python",
   "name": "python3"
  },
  "language_info": {
   "codemirror_mode": {
    "name": "ipython",
    "version": 3
   },
   "file_extension": ".py",
   "mimetype": "text/x-python",
   "name": "python",
   "nbconvert_exporter": "python",
   "pygments_lexer": "ipython3",
   "version": "3.8.18"
  }
 },
 "nbformat": 4,
 "nbformat_minor": 5
}
