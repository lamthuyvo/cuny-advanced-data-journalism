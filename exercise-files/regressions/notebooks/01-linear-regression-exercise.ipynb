{
 "cells": [
  {
   "cell_type": "markdown",
   "id": "4bb1dc3d-4a38-4510-837c-0e4e81384e83",
   "metadata": {},
   "source": [
    "## Linear regessions\n",
    "\n",
    "<img src=\"../data/regression-gif.gif\" alt=\"alt text\" width=\"300\" height=\"200\">\n",
    "\n",
    "A regression is a way to describe how two (or more) things are related to each other. This notebook performs a simple linear regression. The notebook was adapted from [investigate.ai](https://investigate.ai/regression/) and [Dr. Tehreem Qasim](https://www.kaggle.com/code/tehreemkhan111/simple-linear-regression).\n",
    "\n"
   ]
  },
  {
   "cell_type": "code",
   "execution_count": null,
   "id": "656cfd39-f3a4-464a-ac6c-cf897247fd96",
   "metadata": {},
   "outputs": [],
   "source": []
  },
  {
   "cell_type": "markdown",
   "id": "8102f6ea-3ab3-4ce3-aec2-8e3e5d837948",
   "metadata": {},
   "source": [
    "### Performing a linear regression\n",
    "First we will load our data"
   ]
  },
  {
   "cell_type": "code",
   "execution_count": null,
   "id": "4f6dac04-b396-485b-94a9-88a21dd7c703",
   "metadata": {},
   "outputs": [],
   "source": []
  },
  {
   "cell_type": "markdown",
   "id": "46421cde-31e6-485a-abda-872cc26f54ec",
   "metadata": {},
   "source": [
    "Using the library statsmodels we can run linear regressions with dataframes. "
   ]
  },
  {
   "cell_type": "code",
   "execution_count": null,
   "id": "20502518-2639-4895-b9b7-0430ea6d3028",
   "metadata": {},
   "outputs": [],
   "source": []
  },
  {
   "cell_type": "markdown",
   "id": "d5d4ec8a-d8c7-4c09-be21-bfb1c8f617c4",
   "metadata": {},
   "source": [
    "Below we do two things: \n",
    "We define `YearsExperience` as the dependent variable. \n",
    "\n",
    "Ordinary Least Squares function from the statsmodels library. OLS is a common technique used in analyzing linear regression. In brief, it compares the difference between individual points in your data set and the predicted best fit line to measure the amount of error produced. (Source: [Medium](https://medium.com/swlh/interpreting-linear-regression-through-statsmodels-summary-4796d359035a))."
   ]
  },
  {
   "cell_type": "code",
   "execution_count": null,
   "id": "d5807d2f-b57a-43b1-9a00-d358c7fcbd49",
   "metadata": {},
   "outputs": [],
   "source": []
  },
  {
   "cell_type": "markdown",
   "id": "a1686782-0c32-4fc1-b040-ab62bc8adf90",
   "metadata": {},
   "source": [
    "#### Examining our results\n",
    "\n",
    "We stored out regression in a variable called `results`. Now we can look at the results but using the `.summary()` function to print out the entire regression result.\n",
    "\n"
   ]
  },
  {
   "cell_type": "code",
   "execution_count": null,
   "id": "93a7f44d-1415-40bf-afa5-14ce80375f51",
   "metadata": {},
   "outputs": [],
   "source": []
  },
  {
   "cell_type": "markdown",
   "id": "43040f9f-bf7c-47b0-bc73-14d877a7361a",
   "metadata": {},
   "source": [
    "### How to interpret your results\n",
    "\n",
    "\n",
    "Our dependent variable is **Salary**, meaning we were interested in how much our Salary is dependent on the number of years. The information below is a summary of this [Medium post](https://medium.com/swlh/interpreting-linear-regression-through-statsmodels-summary-4796d359035a), this [Mediun post](https://medium.com/analytics-vidhya/how-to-interpret-result-from-linear-regression-3f7ae7679ef9) and this [Medium post](https://blog.dailydoseofds.com/p/statsmodel-regression-summary-will).\n",
    "\n",
    "<img src=\"../data/regression_illustration.png\" alt=\"alt text\" width=\"800\">\n",
    "\n",
    "Here are some of the things we want to pay special attention to:\n",
    "\n",
    "- `Model Summary`\n",
    "    - `R-squared`: R-squared is possibly the most important measurement produced by this summary. R-squared is the measurement of how much of the independent variable is explained by changes in our dependent variables. In percentage terms, 0.957 would mean our model explains 95.7% of the change in our ‘Salary’ variable.\n",
    "    - `Adj. R-squared`: This is the modified version of R-squared which is adjusted for the number of variables in the regression. It increases only when an additional variable adds to the explanatory power to the regression.\n",
    "- `Coefficients`: These show the estimated effect of each independent variable on the dependent variable.\n",
    "    - `Constants`: The constant 2.579e+04 (or 25,790) represents the expected Salary when YearsExperience is zero. However, interpret this cautiously as it may not be meaningful in real-world context.\n",
    "    -  `YearsExperience`: For each additional year of experience, the model predicts an increase of about 9,450 in Salary, holding other factors constant. \n",
    "    - `P-values`: These indicate the statistical significance of each coefficient. These indicate the statistical significance of each coefficient. Generally, a p-value < 0.05 is considered statistically significant."
   ]
  },
  {
   "cell_type": "code",
   "execution_count": null,
   "id": "6d624ee5-58d1-49e3-b30c-238d6f198468",
   "metadata": {},
   "outputs": [],
   "source": []
  },
  {
   "cell_type": "markdown",
   "id": "55b8d75c-710a-497a-bc61-d30685d41e14",
   "metadata": {},
   "source": [
    "### Plotting our linear regression\n",
    "In the next few lines we will plot our linear regression. It can help us understand what the linear regression above is doing."
   ]
  },
  {
   "cell_type": "code",
   "execution_count": null,
   "id": "431798ef-e647-466a-921b-8ec5fd1dfdec",
   "metadata": {},
   "outputs": [],
   "source": []
  },
  {
   "cell_type": "code",
   "execution_count": null,
   "id": "9caead64-f494-4784-b1a2-f44f4ec12d69",
   "metadata": {},
   "outputs": [],
   "source": []
  },
  {
   "cell_type": "code",
   "execution_count": null,
   "id": "32422a9a-7f88-41cc-a0e6-ab37202e335b",
   "metadata": {},
   "outputs": [],
   "source": []
  }
 ],
 "metadata": {
  "kernelspec": {
   "display_name": "Python 3 (ipykernel)",
   "language": "python",
   "name": "python3"
  },
  "language_info": {
   "codemirror_mode": {
    "name": "ipython",
    "version": 3
   },
   "file_extension": ".py",
   "mimetype": "text/x-python",
   "name": "python",
   "nbconvert_exporter": "python",
   "pygments_lexer": "ipython3",
   "version": "3.8.18"
  }
 },
 "nbformat": 4,
 "nbformat_minor": 5
}
