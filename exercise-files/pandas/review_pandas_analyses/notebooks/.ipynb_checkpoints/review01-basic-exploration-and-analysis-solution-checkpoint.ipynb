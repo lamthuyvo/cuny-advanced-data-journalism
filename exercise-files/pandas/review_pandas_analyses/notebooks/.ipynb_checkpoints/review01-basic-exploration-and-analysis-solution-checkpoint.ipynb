{
 "cells": [
  {
   "cell_type": "markdown",
   "metadata": {},
   "source": [
    "## Doing basic analyses with Python\n",
    "\n",
    "\n",
    "\n",
    "##### Clarifying our research objective\n",
    "For this exercise, we’re working with [citywide payroll data from NYC Open Data](https://data.cityofnewyork.us/City-Government/Citywide-Payroll-Data-Fiscal-Year-/k397-673e/about_data). "
   ]
  },
  {
   "cell_type": "markdown",
   "metadata": {},
   "source": [
    "As usual, let's start by importing pandas:\n"
   ]
  },
  {
   "cell_type": "code",
   "execution_count": 14,
   "metadata": {},
   "outputs": [],
   "source": [
    "import pandas as pd"
   ]
  },
  {
   "cell_type": "markdown",
   "metadata": {},
   "source": [
    "Then, let's import our data:"
   ]
  },
  {
   "cell_type": "code",
   "execution_count": 15,
   "metadata": {},
   "outputs": [
    {
     "name": "stdout",
     "output_type": "stream",
     "text": [
      "552938\n",
      "CPU times: user 595 ms, sys: 94.7 ms, total: 690 ms\n",
      "Wall time: 699 ms\n"
     ]
    }
   ],
   "source": [
    "%%time\n",
    "data = pd.read_csv('../data/Citywide_Payroll_Data__Fiscal_Year__20240616.csv')\n",
    "print(len(data))\n"
   ]
  },
  {
   "cell_type": "markdown",
   "metadata": {},
   "source": [
    "Let's look at the top 10 entries of our data. "
   ]
  },
  {
   "cell_type": "code",
   "execution_count": 16,
   "metadata": {},
   "outputs": [
    {
     "data": {
      "text/html": [
       "<div>\n",
       "<style scoped>\n",
       "    .dataframe tbody tr th:only-of-type {\n",
       "        vertical-align: middle;\n",
       "    }\n",
       "\n",
       "    .dataframe tbody tr th {\n",
       "        vertical-align: top;\n",
       "    }\n",
       "\n",
       "    .dataframe thead th {\n",
       "        text-align: right;\n",
       "    }\n",
       "</style>\n",
       "<table border=\"1\" class=\"dataframe\">\n",
       "  <thead>\n",
       "    <tr style=\"text-align: right;\">\n",
       "      <th></th>\n",
       "      <th>Fiscal Year</th>\n",
       "      <th>Payroll Number</th>\n",
       "      <th>Agency Name</th>\n",
       "      <th>Last Name</th>\n",
       "      <th>First Name</th>\n",
       "      <th>Mid Init</th>\n",
       "      <th>Agency Start Date</th>\n",
       "      <th>Work Location Borough</th>\n",
       "      <th>Title Description</th>\n",
       "      <th>Leave Status as of June 30</th>\n",
       "      <th>Base Salary</th>\n",
       "      <th>Pay Basis</th>\n",
       "      <th>Regular Hours</th>\n",
       "      <th>Regular Gross Paid</th>\n",
       "      <th>OT Hours</th>\n",
       "      <th>Total OT Paid</th>\n",
       "      <th>Total Other Pay</th>\n",
       "    </tr>\n",
       "  </thead>\n",
       "  <tbody>\n",
       "    <tr>\n",
       "      <th>0</th>\n",
       "      <td>2023</td>\n",
       "      <td>67</td>\n",
       "      <td>ADMIN FOR CHILDREN'S SVCS</td>\n",
       "      <td>ROODE</td>\n",
       "      <td>SELENA</td>\n",
       "      <td>R</td>\n",
       "      <td>07/22/2019</td>\n",
       "      <td>BRONX</td>\n",
       "      <td>CHILD PROTECTIVE SPECIALIST</td>\n",
       "      <td>ACTIVE</td>\n",
       "      <td>65921.0</td>\n",
       "      <td>per Annum</td>\n",
       "      <td>1820.0</td>\n",
       "      <td>65977.23</td>\n",
       "      <td>6.50</td>\n",
       "      <td>244.34</td>\n",
       "      <td>4400.66</td>\n",
       "    </tr>\n",
       "    <tr>\n",
       "      <th>1</th>\n",
       "      <td>2023</td>\n",
       "      <td>67</td>\n",
       "      <td>ADMIN FOR CHILDREN'S SVCS</td>\n",
       "      <td>AARON</td>\n",
       "      <td>TERESA</td>\n",
       "      <td>NaN</td>\n",
       "      <td>03/21/2016</td>\n",
       "      <td>BRONX</td>\n",
       "      <td>CHILD PROTECTIVE SPECIALIST</td>\n",
       "      <td>ACTIVE</td>\n",
       "      <td>65921.0</td>\n",
       "      <td>per Annum</td>\n",
       "      <td>1820.0</td>\n",
       "      <td>65998.30</td>\n",
       "      <td>448.00</td>\n",
       "      <td>22072.10</td>\n",
       "      <td>15938.80</td>\n",
       "    </tr>\n",
       "    <tr>\n",
       "      <th>2</th>\n",
       "      <td>2023</td>\n",
       "      <td>67</td>\n",
       "      <td>ADMIN FOR CHILDREN'S SVCS</td>\n",
       "      <td>AARONS</td>\n",
       "      <td>CAMELIA</td>\n",
       "      <td>M</td>\n",
       "      <td>08/08/2016</td>\n",
       "      <td>BROOKLYN</td>\n",
       "      <td>CHILD PROTECTIVE SPECIALIST</td>\n",
       "      <td>ON LEAVE</td>\n",
       "      <td>65921.0</td>\n",
       "      <td>per Annum</td>\n",
       "      <td>602.0</td>\n",
       "      <td>23163.11</td>\n",
       "      <td>28.75</td>\n",
       "      <td>1295.17</td>\n",
       "      <td>8994.61</td>\n",
       "    </tr>\n",
       "    <tr>\n",
       "      <th>3</th>\n",
       "      <td>2023</td>\n",
       "      <td>67</td>\n",
       "      <td>ADMIN FOR CHILDREN'S SVCS</td>\n",
       "      <td>ABBASSI</td>\n",
       "      <td>MARIAM</td>\n",
       "      <td>N</td>\n",
       "      <td>11/21/2022</td>\n",
       "      <td>QUEENS</td>\n",
       "      <td>CHILD PROTECTIVE SPECIALIST</td>\n",
       "      <td>ACTIVE</td>\n",
       "      <td>55463.0</td>\n",
       "      <td>per Annum</td>\n",
       "      <td>1050.0</td>\n",
       "      <td>31082.77</td>\n",
       "      <td>27.75</td>\n",
       "      <td>928.43</td>\n",
       "      <td>3115.50</td>\n",
       "    </tr>\n",
       "    <tr>\n",
       "      <th>4</th>\n",
       "      <td>2023</td>\n",
       "      <td>67</td>\n",
       "      <td>ADMIN FOR CHILDREN'S SVCS</td>\n",
       "      <td>ABDEL WEDOUD</td>\n",
       "      <td>LASHAWN</td>\n",
       "      <td>NaN</td>\n",
       "      <td>04/24/2023</td>\n",
       "      <td>BROOKLYN</td>\n",
       "      <td>YOUTH DEVELOPMENT SPECIALIST</td>\n",
       "      <td>ACTIVE</td>\n",
       "      <td>50001.0</td>\n",
       "      <td>per Annum</td>\n",
       "      <td>280.0</td>\n",
       "      <td>7792.26</td>\n",
       "      <td>0.00</td>\n",
       "      <td>0.00</td>\n",
       "      <td>0.00</td>\n",
       "    </tr>\n",
       "  </tbody>\n",
       "</table>\n",
       "</div>"
      ],
      "text/plain": [
       "   Fiscal Year  Payroll Number                Agency Name     Last Name  \\\n",
       "0         2023              67  ADMIN FOR CHILDREN'S SVCS         ROODE   \n",
       "1         2023              67  ADMIN FOR CHILDREN'S SVCS         AARON   \n",
       "2         2023              67  ADMIN FOR CHILDREN'S SVCS        AARONS   \n",
       "3         2023              67  ADMIN FOR CHILDREN'S SVCS       ABBASSI   \n",
       "4         2023              67  ADMIN FOR CHILDREN'S SVCS  ABDEL WEDOUD   \n",
       "\n",
       "  First Name Mid Init Agency Start Date Work Location Borough  \\\n",
       "0     SELENA        R        07/22/2019                 BRONX   \n",
       "1     TERESA      NaN        03/21/2016                 BRONX   \n",
       "2    CAMELIA        M        08/08/2016              BROOKLYN   \n",
       "3     MARIAM        N        11/21/2022                QUEENS   \n",
       "4    LASHAWN      NaN        04/24/2023              BROOKLYN   \n",
       "\n",
       "              Title Description Leave Status as of June 30  Base Salary  \\\n",
       "0   CHILD PROTECTIVE SPECIALIST                     ACTIVE      65921.0   \n",
       "1   CHILD PROTECTIVE SPECIALIST                     ACTIVE      65921.0   \n",
       "2   CHILD PROTECTIVE SPECIALIST                   ON LEAVE      65921.0   \n",
       "3   CHILD PROTECTIVE SPECIALIST                     ACTIVE      55463.0   \n",
       "4  YOUTH DEVELOPMENT SPECIALIST                     ACTIVE      50001.0   \n",
       "\n",
       "   Pay Basis  Regular Hours  Regular Gross Paid  OT Hours  Total OT Paid  \\\n",
       "0  per Annum         1820.0            65977.23      6.50         244.34   \n",
       "1  per Annum         1820.0            65998.30    448.00       22072.10   \n",
       "2  per Annum          602.0            23163.11     28.75        1295.17   \n",
       "3  per Annum         1050.0            31082.77     27.75         928.43   \n",
       "4  per Annum          280.0             7792.26      0.00           0.00   \n",
       "\n",
       "   Total Other Pay  \n",
       "0          4400.66  \n",
       "1         15938.80  \n",
       "2          8994.61  \n",
       "3          3115.50  \n",
       "4             0.00  "
      ]
     },
     "execution_count": 16,
     "metadata": {},
     "output_type": "execute_result"
    }
   ],
   "source": [
    "data.head()"
   ]
  },
  {
   "cell_type": "code",
   "execution_count": 17,
   "metadata": {},
   "outputs": [
    {
     "data": {
      "text/html": [
       "<div>\n",
       "<style scoped>\n",
       "    .dataframe tbody tr th:only-of-type {\n",
       "        vertical-align: middle;\n",
       "    }\n",
       "\n",
       "    .dataframe tbody tr th {\n",
       "        vertical-align: top;\n",
       "    }\n",
       "\n",
       "    .dataframe thead th {\n",
       "        text-align: right;\n",
       "    }\n",
       "</style>\n",
       "<table border=\"1\" class=\"dataframe\">\n",
       "  <thead>\n",
       "    <tr style=\"text-align: right;\">\n",
       "      <th></th>\n",
       "      <th>Fiscal Year</th>\n",
       "      <th>Payroll Number</th>\n",
       "      <th>Agency Name</th>\n",
       "      <th>Last Name</th>\n",
       "      <th>First Name</th>\n",
       "      <th>Mid Init</th>\n",
       "      <th>Agency Start Date</th>\n",
       "      <th>Work Location Borough</th>\n",
       "      <th>Title Description</th>\n",
       "      <th>Leave Status as of June 30</th>\n",
       "      <th>Base Salary</th>\n",
       "      <th>Pay Basis</th>\n",
       "      <th>Regular Hours</th>\n",
       "      <th>Regular Gross Paid</th>\n",
       "      <th>OT Hours</th>\n",
       "      <th>Total OT Paid</th>\n",
       "      <th>Total Other Pay</th>\n",
       "    </tr>\n",
       "  </thead>\n",
       "  <tbody>\n",
       "    <tr>\n",
       "      <th>552933</th>\n",
       "      <td>2023</td>\n",
       "      <td>858</td>\n",
       "      <td>TECHNOLOGY &amp; INNOVATION</td>\n",
       "      <td>FERRARI</td>\n",
       "      <td>MICHAEL</td>\n",
       "      <td>J</td>\n",
       "      <td>11/15/2004</td>\n",
       "      <td>MANHATTAN</td>\n",
       "      <td>ADM MANAGER-NON-MGRL</td>\n",
       "      <td>ACTIVE</td>\n",
       "      <td>120000.0</td>\n",
       "      <td>per Annum</td>\n",
       "      <td>1820.0</td>\n",
       "      <td>101069.00</td>\n",
       "      <td>45.5</td>\n",
       "      <td>2457.20</td>\n",
       "      <td>2892.16</td>\n",
       "    </tr>\n",
       "    <tr>\n",
       "      <th>552934</th>\n",
       "      <td>2023</td>\n",
       "      <td>858</td>\n",
       "      <td>TECHNOLOGY &amp; INNOVATION</td>\n",
       "      <td>FERNANDO</td>\n",
       "      <td>SONAL</td>\n",
       "      <td>S</td>\n",
       "      <td>02/21/2012</td>\n",
       "      <td>BROOKLYN</td>\n",
       "      <td>COMPUTER SYSTEMS MANAGER</td>\n",
       "      <td>ACTIVE</td>\n",
       "      <td>181500.0</td>\n",
       "      <td>per Annum</td>\n",
       "      <td>1820.0</td>\n",
       "      <td>177521.86</td>\n",
       "      <td>0.0</td>\n",
       "      <td>17.51</td>\n",
       "      <td>243.26</td>\n",
       "    </tr>\n",
       "    <tr>\n",
       "      <th>552935</th>\n",
       "      <td>2023</td>\n",
       "      <td>858</td>\n",
       "      <td>TECHNOLOGY &amp; INNOVATION</td>\n",
       "      <td>FERNANDEZ DE JE</td>\n",
       "      <td>YESENNY</td>\n",
       "      <td>NaN</td>\n",
       "      <td>03/27/2023</td>\n",
       "      <td>MANHATTAN</td>\n",
       "      <td>COMMUNITY COORDINATOR</td>\n",
       "      <td>ACTIVE</td>\n",
       "      <td>86500.0</td>\n",
       "      <td>per Annum</td>\n",
       "      <td>420.0</td>\n",
       "      <td>19154.09</td>\n",
       "      <td>0.0</td>\n",
       "      <td>0.00</td>\n",
       "      <td>3000.00</td>\n",
       "    </tr>\n",
       "    <tr>\n",
       "      <th>552936</th>\n",
       "      <td>2023</td>\n",
       "      <td>858</td>\n",
       "      <td>TECHNOLOGY &amp; INNOVATION</td>\n",
       "      <td>FERNANDEZ</td>\n",
       "      <td>GABRIEL</td>\n",
       "      <td>L</td>\n",
       "      <td>06/06/2023</td>\n",
       "      <td>MANHATTAN</td>\n",
       "      <td>SUMMER COLLEGE INTERN</td>\n",
       "      <td>ACTIVE</td>\n",
       "      <td>17.5</td>\n",
       "      <td>per Hour</td>\n",
       "      <td>21.0</td>\n",
       "      <td>367.50</td>\n",
       "      <td>0.0</td>\n",
       "      <td>0.00</td>\n",
       "      <td>0.00</td>\n",
       "    </tr>\n",
       "    <tr>\n",
       "      <th>552937</th>\n",
       "      <td>2023</td>\n",
       "      <td>858</td>\n",
       "      <td>TECHNOLOGY &amp; INNOVATION</td>\n",
       "      <td>FERNANDES</td>\n",
       "      <td>BENEDICT</td>\n",
       "      <td>L</td>\n",
       "      <td>02/03/2020</td>\n",
       "      <td>BROOKLYN</td>\n",
       "      <td>COMPUTER SYSTEMS MANAGER</td>\n",
       "      <td>CEASED</td>\n",
       "      <td>178200.0</td>\n",
       "      <td>per Annum</td>\n",
       "      <td>343.0</td>\n",
       "      <td>33491.24</td>\n",
       "      <td>0.0</td>\n",
       "      <td>0.00</td>\n",
       "      <td>2042.86</td>\n",
       "    </tr>\n",
       "  </tbody>\n",
       "</table>\n",
       "</div>"
      ],
      "text/plain": [
       "        Fiscal Year  Payroll Number              Agency Name        Last Name  \\\n",
       "552933         2023             858  TECHNOLOGY & INNOVATION          FERRARI   \n",
       "552934         2023             858  TECHNOLOGY & INNOVATION         FERNANDO   \n",
       "552935         2023             858  TECHNOLOGY & INNOVATION  FERNANDEZ DE JE   \n",
       "552936         2023             858  TECHNOLOGY & INNOVATION        FERNANDEZ   \n",
       "552937         2023             858  TECHNOLOGY & INNOVATION        FERNANDES   \n",
       "\n",
       "       First Name Mid Init Agency Start Date Work Location Borough  \\\n",
       "552933    MICHAEL        J        11/15/2004             MANHATTAN   \n",
       "552934      SONAL        S        02/21/2012              BROOKLYN   \n",
       "552935    YESENNY      NaN        03/27/2023             MANHATTAN   \n",
       "552936    GABRIEL        L        06/06/2023             MANHATTAN   \n",
       "552937   BENEDICT        L        02/03/2020              BROOKLYN   \n",
       "\n",
       "               Title Description Leave Status as of June 30  Base Salary  \\\n",
       "552933      ADM MANAGER-NON-MGRL                     ACTIVE     120000.0   \n",
       "552934  COMPUTER SYSTEMS MANAGER                     ACTIVE     181500.0   \n",
       "552935     COMMUNITY COORDINATOR                     ACTIVE      86500.0   \n",
       "552936     SUMMER COLLEGE INTERN                     ACTIVE         17.5   \n",
       "552937  COMPUTER SYSTEMS MANAGER                     CEASED     178200.0   \n",
       "\n",
       "        Pay Basis  Regular Hours  Regular Gross Paid  OT Hours  Total OT Paid  \\\n",
       "552933  per Annum         1820.0           101069.00      45.5        2457.20   \n",
       "552934  per Annum         1820.0           177521.86       0.0          17.51   \n",
       "552935  per Annum          420.0            19154.09       0.0           0.00   \n",
       "552936   per Hour           21.0              367.50       0.0           0.00   \n",
       "552937  per Annum          343.0            33491.24       0.0           0.00   \n",
       "\n",
       "        Total Other Pay  \n",
       "552933          2892.16  \n",
       "552934           243.26  \n",
       "552935          3000.00  \n",
       "552936             0.00  \n",
       "552937          2042.86  "
      ]
     },
     "execution_count": 17,
     "metadata": {},
     "output_type": "execute_result"
    }
   ],
   "source": [
    "data.tail()"
   ]
  },
  {
   "cell_type": "markdown",
   "metadata": {},
   "source": [
    "How big is our dataset?"
   ]
  },
  {
   "cell_type": "code",
   "execution_count": 18,
   "metadata": {},
   "outputs": [
    {
     "data": {
      "text/plain": [
       "552938"
      ]
     },
     "execution_count": 18,
     "metadata": {},
     "output_type": "execute_result"
    }
   ],
   "source": [
    "len(data)"
   ]
  },
  {
   "cell_type": "markdown",
   "metadata": {},
   "source": [
    "How many columns does it have and what columns are there?"
   ]
  },
  {
   "cell_type": "code",
   "execution_count": 19,
   "metadata": {},
   "outputs": [
    {
     "name": "stdout",
     "output_type": "stream",
     "text": [
      "17\n"
     ]
    },
    {
     "data": {
      "text/plain": [
       "Index(['Fiscal Year', 'Payroll Number', 'Agency Name', 'Last Name',\n",
       "       'First Name', 'Mid Init', 'Agency Start Date', 'Work Location Borough',\n",
       "       'Title Description', 'Leave Status as of June 30', 'Base Salary',\n",
       "       'Pay Basis', 'Regular Hours', 'Regular Gross Paid', 'OT Hours',\n",
       "       'Total OT Paid', 'Total Other Pay'],\n",
       "      dtype='object')"
      ]
     },
     "execution_count": 19,
     "metadata": {},
     "output_type": "execute_result"
    }
   ],
   "source": [
    "print(len(data.columns))\n",
    "data.columns"
   ]
  },
  {
   "cell_type": "markdown",
   "metadata": {},
   "source": [
    "What data types are in it?"
   ]
  },
  {
   "cell_type": "code",
   "execution_count": 20,
   "metadata": {},
   "outputs": [
    {
     "data": {
      "text/plain": [
       "Fiscal Year                     int64\n",
       "Payroll Number                  int64\n",
       "Agency Name                    object\n",
       "Last Name                      object\n",
       "First Name                     object\n",
       "Mid Init                       object\n",
       "Agency Start Date              object\n",
       "Work Location Borough          object\n",
       "Title Description              object\n",
       "Leave Status as of June 30     object\n",
       "Base Salary                   float64\n",
       "Pay Basis                      object\n",
       "Regular Hours                 float64\n",
       "Regular Gross Paid            float64\n",
       "OT Hours                      float64\n",
       "Total OT Paid                 float64\n",
       "Total Other Pay               float64\n",
       "dtype: object"
      ]
     },
     "execution_count": 20,
     "metadata": {},
     "output_type": "execute_result"
    }
   ],
   "source": [
    "data.dtypes"
   ]
  },
  {
   "cell_type": "markdown",
   "metadata": {},
   "source": [
    "We should re-format a lot of the columns so we can work with them:"
   ]
  },
  {
   "cell_type": "markdown",
   "metadata": {},
   "source": [
    "### Analysis: Asking the right questions\n",
    "\n",
    "Let's get back to our research question:\n",
    "- Agency had the most employees?\n",
    "- Whats the median, average and highest pay for a city employee?\n",
    "- Who are they?"
   ]
  },
  {
   "cell_type": "markdown",
   "metadata": {},
   "source": [
    "We can use `.value_counts()` to do a quick 'pivot table' of any given column:"
   ]
  },
  {
   "cell_type": "code",
   "execution_count": 21,
   "metadata": {},
   "outputs": [
    {
     "data": {
      "text/plain": [
       "Agency Name\n",
       "DEPT OF ED PEDAGOGICAL            106882\n",
       "DEPT OF ED PER SESSION TEACHER     82883\n",
       "POLICE DEPARTMENT                  58617\n",
       "DEPT OF ED PARA PROFESSIONALS      39580\n",
       "BOARD OF ELECTION POLL WORKERS     29915\n",
       "                                   ...  \n",
       "BROOKLYN COMMUNITY BOARD #12           2\n",
       "BROOKLYN COMMUNITY BOARD #8            2\n",
       "BRONX COMMUNITY BOARD #12              2\n",
       "BRONX COMMUNITY BOARD #1               2\n",
       "BRONX COMMUNITY BOARD #3               1\n",
       "Name: count, Length: 156, dtype: int64"
      ]
     },
     "execution_count": 21,
     "metadata": {},
     "output_type": "execute_result"
    }
   ],
   "source": [
    "data[\"Agency Name\"].value_counts()"
   ]
  },
  {
   "attachments": {
    "d807aff6-bbfd-4975-9932-3d8a37f26de6.png": {
     "image/png": "[encoded data removed]"
    }
   },
   "cell_type": "markdown",
   "metadata": {},
   "source": [
    "We can use `.describe()` to get an overview of the data in a column. \n",
    "\n",
    "The function reveals various characteristics of your data column. Below is a breakdown. \n",
    "\n",
    "```\n",
    "count    <-- how many rows there are in your data column\n",
    "mean     <-- the average value of the entire \n",
    "std      <-- the standard deviation, which measures how much the values in the series deviate from the mean\n",
    "min      <-- the smallest number in the data columnst\n",
    "25%      <-- the 25th percentile or first quartile in the data column\n",
    "50%      <-- the 50th percentile or median in the data column\n",
    "75%      <-- the 75th percentile or third quartile in the data column\n",
    "max      <-- highest number in the data column\n",
    "Name: column_name, dtype: <-- what kind of data is in the column\n",
    "```\n",
    "\n",
    "Here's how you can imagine percentiles:\n",
    "<div>\n",
    "<img src=\"attachment:d807aff6-bbfd-4975-9932-3d8a37f26de6.png\" width=\"400\"/>\n",
    "</div>"
   ]
  },
  {
   "cell_type": "code",
   "execution_count": 22,
   "metadata": {},
   "outputs": [
    {
     "data": {
      "text/plain": [
       "<bound method NDFrame.describe of 0          65921.0\n",
       "1          65921.0\n",
       "2          65921.0\n",
       "3          55463.0\n",
       "4          50001.0\n",
       "            ...   \n",
       "552933    120000.0\n",
       "552934    181500.0\n",
       "552935     86500.0\n",
       "552936        17.5\n",
       "552937    178200.0\n",
       "Name: Base Salary, Length: 552938, dtype: float64>"
      ]
     },
     "execution_count": 22,
     "metadata": {},
     "output_type": "execute_result"
    }
   ],
   "source": [
    "data[\"Base Salary\"].describe"
   ]
  },
  {
   "cell_type": "markdown",
   "metadata": {},
   "source": [
    "### Filtering your data for closer inspection"
   ]
  },
  {
   "cell_type": "code",
   "execution_count": 23,
   "metadata": {},
   "outputs": [
    {
     "data": {
      "text/html": [
       "<div>\n",
       "<style scoped>\n",
       "    .dataframe tbody tr th:only-of-type {\n",
       "        vertical-align: middle;\n",
       "    }\n",
       "\n",
       "    .dataframe tbody tr th {\n",
       "        vertical-align: top;\n",
       "    }\n",
       "\n",
       "    .dataframe thead th {\n",
       "        text-align: right;\n",
       "    }\n",
       "</style>\n",
       "<table border=\"1\" class=\"dataframe\">\n",
       "  <thead>\n",
       "    <tr style=\"text-align: right;\">\n",
       "      <th></th>\n",
       "      <th>Fiscal Year</th>\n",
       "      <th>Payroll Number</th>\n",
       "      <th>Agency Name</th>\n",
       "      <th>Last Name</th>\n",
       "      <th>First Name</th>\n",
       "      <th>Mid Init</th>\n",
       "      <th>Agency Start Date</th>\n",
       "      <th>Work Location Borough</th>\n",
       "      <th>Title Description</th>\n",
       "      <th>Leave Status as of June 30</th>\n",
       "      <th>Base Salary</th>\n",
       "      <th>Pay Basis</th>\n",
       "      <th>Regular Hours</th>\n",
       "      <th>Regular Gross Paid</th>\n",
       "      <th>OT Hours</th>\n",
       "      <th>Total OT Paid</th>\n",
       "      <th>Total Other Pay</th>\n",
       "    </tr>\n",
       "  </thead>\n",
       "  <tbody>\n",
       "    <tr>\n",
       "      <th>260408</th>\n",
       "      <td>2023</td>\n",
       "      <td>742</td>\n",
       "      <td>DEPT OF ED PEDAGOGICAL</td>\n",
       "      <td>ROSS PORTER</td>\n",
       "      <td>MEISHA</td>\n",
       "      <td>S</td>\n",
       "      <td>09/04/2001</td>\n",
       "      <td>MANHATTAN</td>\n",
       "      <td>ASSISTANT SUPERINTENDENT</td>\n",
       "      <td>CEASED</td>\n",
       "      <td>363346.0</td>\n",
       "      <td>per Annum</td>\n",
       "      <td>0.0</td>\n",
       "      <td>20000.00</td>\n",
       "      <td>0.0</td>\n",
       "      <td>0.0</td>\n",
       "      <td>183121.21</td>\n",
       "    </tr>\n",
       "    <tr>\n",
       "      <th>288652</th>\n",
       "      <td>2023</td>\n",
       "      <td>742</td>\n",
       "      <td>DEPT OF ED PEDAGOGICAL</td>\n",
       "      <td>BANKS</td>\n",
       "      <td>DAVID</td>\n",
       "      <td>C</td>\n",
       "      <td>09/29/1986</td>\n",
       "      <td>OTHER</td>\n",
       "      <td>CHANCELLOR</td>\n",
       "      <td>ACTIVE</td>\n",
       "      <td>363346.0</td>\n",
       "      <td>per Annum</td>\n",
       "      <td>0.0</td>\n",
       "      <td>363346.08</td>\n",
       "      <td>0.0</td>\n",
       "      <td>0.0</td>\n",
       "      <td>0.00</td>\n",
       "    </tr>\n",
       "  </tbody>\n",
       "</table>\n",
       "</div>"
      ],
      "text/plain": [
       "        Fiscal Year  Payroll Number             Agency Name    Last Name  \\\n",
       "260408         2023             742  DEPT OF ED PEDAGOGICAL  ROSS PORTER   \n",
       "288652         2023             742  DEPT OF ED PEDAGOGICAL        BANKS   \n",
       "\n",
       "       First Name Mid Init Agency Start Date Work Location Borough  \\\n",
       "260408     MEISHA        S        09/04/2001             MANHATTAN   \n",
       "288652      DAVID        C        09/29/1986                 OTHER   \n",
       "\n",
       "               Title Description Leave Status as of June 30  Base Salary  \\\n",
       "260408  ASSISTANT SUPERINTENDENT                     CEASED     363346.0   \n",
       "288652                CHANCELLOR                     ACTIVE     363346.0   \n",
       "\n",
       "        Pay Basis  Regular Hours  Regular Gross Paid  OT Hours  Total OT Paid  \\\n",
       "260408  per Annum            0.0            20000.00       0.0            0.0   \n",
       "288652  per Annum            0.0           363346.08       0.0            0.0   \n",
       "\n",
       "        Total Other Pay  \n",
       "260408        183121.21  \n",
       "288652             0.00  "
      ]
     },
     "execution_count": 23,
     "metadata": {},
     "output_type": "execute_result"
    }
   ],
   "source": [
    "data[data[\"Base Salary\"] == 363_346]"
   ]
  },
  {
   "cell_type": "markdown",
   "metadata": {},
   "source": [
    "### Filtering your data to hone in on your results\n",
    "Let's:\n",
    "- narrow down our data to empoyees who work on an annual basis\n",
    "- then let's redo some of the calculations"
   ]
  },
  {
   "cell_type": "markdown",
   "metadata": {},
   "source": [
    "First let's find out what types of employment bases there are in our data:"
   ]
  },
  {
   "cell_type": "code",
   "execution_count": 24,
   "metadata": {},
   "outputs": [
    {
     "data": {
      "text/plain": [
       "Pay Basis\n",
       "per Annum          338552\n",
       "per Day            124341\n",
       "per Hour            87696\n",
       "Prorated Annual      2349\n",
       "Name: count, dtype: int64"
      ]
     },
     "execution_count": 24,
     "metadata": {},
     "output_type": "execute_result"
    }
   ],
   "source": [
    "\n",
    "data[\"Pay Basis\"].value_counts()\n"
   ]
  },
  {
   "cell_type": "markdown",
   "metadata": {},
   "source": [
    "Let's say we only want people in the \n",
    "\n",
    "Remember to SELECT a subsection of our data we use brackets. \n",
    "\n",
    "Here's how this may work for different scenarios:\n",
    "\n",
    "The base formula for this looks like this: `dataframe[ INSERT CRITERIA FOR SELECTION HERE]`\n",
    "\n",
    "An example of reducing your dataframe down to selected columns:\n",
    "```\n",
    "columns = [\"column_name1\", \"column_name2\"]\n",
    "dataframe[columns]\n",
    "```\n",
    "\n",
    "An example of reducing your dataframe down based on a condition (in this case, the dataframe will drop any row where the `salary` is below 10000:\n",
    "```\n",
    "\n",
    "dataframe[  dataframe[\"salary\"] < 10000  ]\n",
    "```"
   ]
  },
  {
   "cell_type": "code",
   "execution_count": 25,
   "metadata": {},
   "outputs": [
    {
     "name": "stdout",
     "output_type": "stream",
     "text": [
      "Number of rows for the original dataframe is 552938 and the number of rows for the reduced dataframe is 338552\n"
     ]
    }
   ],
   "source": [
    "data_reduced = data[data[\"Pay Basis\"] ==  \"per Annum\"]\n",
    "\n",
    "print(f\"Number of rows for the original dataframe is \\\n",
    "{len(data)} and the number of rows for the reduced dataframe is {len(data_reduced)}\")"
   ]
  },
  {
   "cell_type": "markdown",
   "metadata": {},
   "source": [
    "### Filter our data using a lambda function\n",
    "\n",
    "For that we will:\n",
    "- create a column that contains a Boolean, `True` or `False`, based on a condition\n",
    "- filter down our data based on that condition\n",
    "\n",
    "We can do this using `functions` like the ones we've learned about in early Python lessons that we declare using `def`. We can also do this using`lambda function` which are functions written in one line!\n",
    "\n",
    "Below we do the same thing we did earlier to reduce our dataframe to only `\"per Annum\"` workers but with a bit more Python.  "
   ]
  },
  {
   "cell_type": "code",
   "execution_count": 28,
   "metadata": {},
   "outputs": [
    {
     "data": {
      "text/plain": [
       "0          True\n",
       "1          True\n",
       "2          True\n",
       "3          True\n",
       "4          True\n",
       "          ...  \n",
       "552933     True\n",
       "552934     True\n",
       "552935     True\n",
       "552936    False\n",
       "552937     True\n",
       "Name: is_perannum?, Length: 552938, dtype: bool"
      ]
     },
     "execution_count": 28,
     "metadata": {},
     "output_type": "execute_result"
    }
   ],
   "source": [
    "data[\"is_perannum?\"] = data[\"Pay Basis\"].apply(lambda x: \"per annum\" in str(x).lower())\n",
    "data[\"is_perannum?\"]"
   ]
  },
  {
   "cell_type": "code",
   "execution_count": 29,
   "metadata": {},
   "outputs": [],
   "source": [
    "reduced_data = data[data[\"is_perannum?\"] == True]"
   ]
  },
  {
   "cell_type": "markdown",
   "metadata": {},
   "source": [
    "Now let's re-run some of our analyses:"
   ]
  },
  {
   "cell_type": "code",
   "execution_count": 30,
   "metadata": {},
   "outputs": [
    {
     "data": {
      "text/plain": [
       "count    338552.000000\n",
       "mean      83204.647510\n",
       "std       33208.713927\n",
       "min           1.000000\n",
       "25%       54237.750000\n",
       "50%       81787.000000\n",
       "75%      103771.000000\n",
       "max      363346.000000\n",
       "Name: Base Salary, dtype: float64"
      ]
     },
     "execution_count": 30,
     "metadata": {},
     "output_type": "execute_result"
    }
   ],
   "source": [
    "data_reduced[\"Base Salary\"].describe()"
   ]
  },
  {
   "cell_type": "code",
   "execution_count": null,
   "metadata": {},
   "outputs": [],
   "source": []
  }
 ],
 "metadata": {
  "kernelspec": {
   "display_name": "Python 3 (ipykernel)",
   "language": "python",
   "name": "python3"
  },
  "language_info": {
   "codemirror_mode": {
    "name": "ipython",
    "version": 3
   },
   "file_extension": ".py",
   "mimetype": "text/x-python",
   "name": "python",
   "nbconvert_exporter": "python",
   "pygments_lexer": "ipython3",
   "version": "3.8.18"
  }
 },
 "nbformat": 4,
 "nbformat_minor": 4
}
