{
 "cells": [
  {
   "cell_type": "markdown",
   "metadata": {},
   "source": [
    "### Resampling data and plotting it with pandas and Matplotlib \n",
    "\n",
    "We did our first data analysis with a large data set and saw how we could answer a research question based on a simple categorization. Although it produced good results, that sort of analysis is limited: it looks at the data at only one point in time. Analyzing data across time, on the other hand, allows us to look for trends and better understand the anomalies we encounter. By exploring the changes in data and isolating specific events, we can make meaningful connections between them. \n",
    "\n",
    "This data on evictions in New York was [downloaded from the NYC Open Portal site](https://data.cityofnewyork.us/City-Government/Evictions/6z8x-wfk4/about_data).\n",
    "\n",
    "Here are the steps we need to take:\n",
    "- Filter our data using a lambda function\n",
    "- Format a data column into a datetime \n",
    "- Use the resample function\n",
    "- plot the data with matplotlib\n"
   ]
  },
  {
   "cell_type": "markdown",
   "metadata": {},
   "source": [
    "Let's start by important `pandas` and `matplotlib` (`import matplotlib.pyplot as plt`):"
   ]
  },
  {
   "cell_type": "code",
   "execution_count": 1,
   "metadata": {},
   "outputs": [],
   "source": [
    "import pandas as pd\n",
    "import matplotlib.pyplot as plt"
   ]
  },
  {
   "cell_type": "markdown",
   "metadata": {},
   "source": [
    "Read in the csv file with the evictions data:"
   ]
  },
  {
   "cell_type": "code",
   "execution_count": 2,
   "metadata": {},
   "outputs": [
    {
     "name": "stdout",
     "output_type": "stream",
     "text": [
      "CPU times: user 158 ms, sys: 21.8 ms, total: 180 ms\n",
      "Wall time: 181 ms\n"
     ]
    }
   ],
   "source": [
    "%%time\n",
    "evictions = pd.read_csv('../data/Evictions_20240615.csv')"
   ]
  },
  {
   "cell_type": "code",
   "execution_count": 3,
   "metadata": {},
   "outputs": [
    {
     "data": {
      "text/html": [
       "<div>\n",
       "<style scoped>\n",
       "    .dataframe tbody tr th:only-of-type {\n",
       "        vertical-align: middle;\n",
       "    }\n",
       "\n",
       "    .dataframe tbody tr th {\n",
       "        vertical-align: top;\n",
       "    }\n",
       "\n",
       "    .dataframe thead th {\n",
       "        text-align: right;\n",
       "    }\n",
       "</style>\n",
       "<table border=\"1\" class=\"dataframe\">\n",
       "  <thead>\n",
       "    <tr style=\"text-align: right;\">\n",
       "      <th></th>\n",
       "      <th>Court Index Number</th>\n",
       "      <th>Docket Number</th>\n",
       "      <th>Eviction Address</th>\n",
       "      <th>Eviction Apartment Number</th>\n",
       "      <th>Executed Date</th>\n",
       "      <th>Marshal First Name</th>\n",
       "      <th>Marshal Last Name</th>\n",
       "      <th>Residential/Commercial</th>\n",
       "      <th>BOROUGH</th>\n",
       "      <th>Eviction Postcode</th>\n",
       "      <th>Ejectment</th>\n",
       "      <th>Eviction/Legal Possession</th>\n",
       "      <th>Latitude</th>\n",
       "      <th>Longitude</th>\n",
       "      <th>Community Board</th>\n",
       "      <th>Council District</th>\n",
       "      <th>Census Tract</th>\n",
       "      <th>BIN</th>\n",
       "      <th>BBL</th>\n",
       "      <th>NTA</th>\n",
       "    </tr>\n",
       "  </thead>\n",
       "  <tbody>\n",
       "    <tr>\n",
       "      <th>0</th>\n",
       "      <td>318594/23</td>\n",
       "      <td>14150</td>\n",
       "      <td>172 WEST 107TH ST</td>\n",
       "      <td>1W</td>\n",
       "      <td>01/04/2024</td>\n",
       "      <td>David</td>\n",
       "      <td>Smith</td>\n",
       "      <td>Residential</td>\n",
       "      <td>MANHATTAN</td>\n",
       "      <td>10025</td>\n",
       "      <td>Not an Ejectment</td>\n",
       "      <td>Possession</td>\n",
       "      <td>40.800704</td>\n",
       "      <td>-73.964267</td>\n",
       "      <td>7.0</td>\n",
       "      <td>7.0</td>\n",
       "      <td>193.0</td>\n",
       "      <td>1055977.0</td>\n",
       "      <td>1.018610e+09</td>\n",
       "      <td>Morningside Heights</td>\n",
       "    </tr>\n",
       "    <tr>\n",
       "      <th>1</th>\n",
       "      <td>016134/18</td>\n",
       "      <td>86658</td>\n",
       "      <td>70 BRUCKNER BLVD.</td>\n",
       "      <td>12E</td>\n",
       "      <td>11/29/2018</td>\n",
       "      <td>Henry</td>\n",
       "      <td>Daley</td>\n",
       "      <td>Residential</td>\n",
       "      <td>BRONX</td>\n",
       "      <td>10454</td>\n",
       "      <td>Not an Ejectment</td>\n",
       "      <td>Possession</td>\n",
       "      <td>40.806321</td>\n",
       "      <td>-73.926264</td>\n",
       "      <td>1.0</td>\n",
       "      <td>8.0</td>\n",
       "      <td>19.0</td>\n",
       "      <td>2116953.0</td>\n",
       "      <td>2.022950e+09</td>\n",
       "      <td>Mott Haven-Port Morris</td>\n",
       "    </tr>\n",
       "    <tr>\n",
       "      <th>2</th>\n",
       "      <td>300816/222</td>\n",
       "      <td>209993</td>\n",
       "      <td>23 WYONA STREET</td>\n",
       "      <td>NaN</td>\n",
       "      <td>11/30/2022</td>\n",
       "      <td>Richard</td>\n",
       "      <td>Capuano</td>\n",
       "      <td>Residential</td>\n",
       "      <td>QUEENS</td>\n",
       "      <td>11207</td>\n",
       "      <td>Not an Ejectment</td>\n",
       "      <td>Possession</td>\n",
       "      <td>40.678696</td>\n",
       "      <td>-73.894650</td>\n",
       "      <td>5.0</td>\n",
       "      <td>37.0</td>\n",
       "      <td>1146.0</td>\n",
       "      <td>3389505.0</td>\n",
       "      <td>3.036630e+09</td>\n",
       "      <td>Cypress Hills-City Line</td>\n",
       "    </tr>\n",
       "    <tr>\n",
       "      <th>3</th>\n",
       "      <td>K52673/17</td>\n",
       "      <td>94663</td>\n",
       "      <td>601 BRIGHTON BEACH A VE</td>\n",
       "      <td>FRONT GROUND STORE</td>\n",
       "      <td>04/12/2017</td>\n",
       "      <td>Darlene</td>\n",
       "      <td>Barone</td>\n",
       "      <td>Commercial</td>\n",
       "      <td>BROOKLYN</td>\n",
       "      <td>11235</td>\n",
       "      <td>Not an Ejectment</td>\n",
       "      <td>Possession</td>\n",
       "      <td>NaN</td>\n",
       "      <td>NaN</td>\n",
       "      <td>NaN</td>\n",
       "      <td>NaN</td>\n",
       "      <td>NaN</td>\n",
       "      <td>NaN</td>\n",
       "      <td>NaN</td>\n",
       "      <td>NaN</td>\n",
       "    </tr>\n",
       "    <tr>\n",
       "      <th>4</th>\n",
       "      <td>79638/19</td>\n",
       "      <td>173756</td>\n",
       "      <td>540 NEW LOTS AVE</td>\n",
       "      <td>1R</td>\n",
       "      <td>01/18/2024</td>\n",
       "      <td>Alfred</td>\n",
       "      <td>Locascio</td>\n",
       "      <td>Residential</td>\n",
       "      <td>BROOKLYN</td>\n",
       "      <td>11207</td>\n",
       "      <td>Not an Ejectment</td>\n",
       "      <td>Possession</td>\n",
       "      <td>40.663958</td>\n",
       "      <td>-73.888289</td>\n",
       "      <td>5.0</td>\n",
       "      <td>42.0</td>\n",
       "      <td>1122.0</td>\n",
       "      <td>3096753.0</td>\n",
       "      <td>3.043040e+09</td>\n",
       "      <td>East New York (Pennsylvania Ave)</td>\n",
       "    </tr>\n",
       "  </tbody>\n",
       "</table>\n",
       "</div>"
      ],
      "text/plain": [
       "  Court Index Number  Docket Number          Eviction Address  \\\n",
       "0          318594/23           14150        172 WEST 107TH ST   \n",
       "1          016134/18           86658        70 BRUCKNER BLVD.   \n",
       "2         300816/222          209993          23 WYONA STREET   \n",
       "3          K52673/17           94663  601 BRIGHTON BEACH A VE   \n",
       "4           79638/19          173756         540 NEW LOTS AVE   \n",
       "\n",
       "  Eviction Apartment Number Executed Date Marshal First Name  \\\n",
       "0                        1W    01/04/2024              David   \n",
       "1                       12E    11/29/2018              Henry   \n",
       "2                       NaN    11/30/2022            Richard   \n",
       "3        FRONT GROUND STORE    04/12/2017            Darlene   \n",
       "4                        1R    01/18/2024             Alfred   \n",
       "\n",
       "  Marshal Last Name Residential/Commercial    BOROUGH  Eviction Postcode  \\\n",
       "0             Smith            Residential  MANHATTAN              10025   \n",
       "1             Daley            Residential      BRONX              10454   \n",
       "2           Capuano            Residential     QUEENS              11207   \n",
       "3            Barone             Commercial   BROOKLYN              11235   \n",
       "4          Locascio            Residential   BROOKLYN              11207   \n",
       "\n",
       "          Ejectment Eviction/Legal Possession   Latitude  Longitude  \\\n",
       "0  Not an Ejectment                Possession  40.800704 -73.964267   \n",
       "1  Not an Ejectment                Possession  40.806321 -73.926264   \n",
       "2  Not an Ejectment                Possession  40.678696 -73.894650   \n",
       "3  Not an Ejectment                Possession        NaN        NaN   \n",
       "4  Not an Ejectment                Possession  40.663958 -73.888289   \n",
       "\n",
       "   Community Board  Council District  Census Tract        BIN           BBL  \\\n",
       "0              7.0               7.0         193.0  1055977.0  1.018610e+09   \n",
       "1              1.0               8.0          19.0  2116953.0  2.022950e+09   \n",
       "2              5.0              37.0        1146.0  3389505.0  3.036630e+09   \n",
       "3              NaN               NaN           NaN        NaN           NaN   \n",
       "4              5.0              42.0        1122.0  3096753.0  3.043040e+09   \n",
       "\n",
       "                                NTA  \n",
       "0               Morningside Heights  \n",
       "1            Mott Haven-Port Morris  \n",
       "2           Cypress Hills-City Line  \n",
       "3                               NaN  \n",
       "4  East New York (Pennsylvania Ave)  "
      ]
     },
     "execution_count": 3,
     "metadata": {},
     "output_type": "execute_result"
    }
   ],
   "source": [
    "evictions.head()"
   ]
  },
  {
   "cell_type": "code",
   "execution_count": 4,
   "metadata": {},
   "outputs": [
    {
     "data": {
      "text/plain": [
       "Court Index Number            object\n",
       "Docket Number                  int64\n",
       "Eviction Address              object\n",
       "Eviction Apartment Number     object\n",
       "Executed Date                 object\n",
       "Marshal First Name            object\n",
       "Marshal Last Name             object\n",
       "Residential/Commercial        object\n",
       "BOROUGH                       object\n",
       "Eviction Postcode              int64\n",
       "Ejectment                     object\n",
       "Eviction/Legal Possession     object\n",
       "Latitude                     float64\n",
       "Longitude                    float64\n",
       "Community Board              float64\n",
       "Council District             float64\n",
       "Census Tract                 float64\n",
       "BIN                          float64\n",
       "BBL                          float64\n",
       "NTA                           object\n",
       "dtype: object"
      ]
     },
     "execution_count": 4,
     "metadata": {},
     "output_type": "execute_result"
    }
   ],
   "source": [
    "evictions.dtypes"
   ]
  },
  {
   "cell_type": "code",
   "execution_count": 5,
   "metadata": {},
   "outputs": [
    {
     "data": {
      "text/plain": [
       "BOROUGH\n",
       "BRONX            29264\n",
       "BROOKLYN         26830\n",
       "QUEENS           17803\n",
       "MANHATTAN        15189\n",
       "STATEN ISLAND     3428\n",
       "Name: count, dtype: int64"
      ]
     },
     "execution_count": 5,
     "metadata": {},
     "output_type": "execute_result"
    }
   ],
   "source": [
    "evictions['BOROUGH'].value_counts()"
   ]
  },
  {
   "cell_type": "markdown",
   "metadata": {},
   "source": [
    "### Resampling our data over time\n",
    "\n",
    "To get a tally of these tweets over time we need to:\n",
    "- format a column as a date time\n",
    "- set the index of our dataframe to this date time column\n",
    "- resample our dataframe "
   ]
  },
  {
   "cell_type": "code",
   "execution_count": 6,
   "metadata": {
    "scrolled": true
   },
   "outputs": [
    {
     "data": {
      "text/plain": [
       "Court Index Number            object\n",
       "Docket Number                  int64\n",
       "Eviction Address              object\n",
       "Eviction Apartment Number     object\n",
       "Executed Date                 object\n",
       "Marshal First Name            object\n",
       "Marshal Last Name             object\n",
       "Residential/Commercial        object\n",
       "BOROUGH                       object\n",
       "Eviction Postcode              int64\n",
       "Ejectment                     object\n",
       "Eviction/Legal Possession     object\n",
       "Latitude                     float64\n",
       "Longitude                    float64\n",
       "Community Board              float64\n",
       "Council District             float64\n",
       "Census Tract                 float64\n",
       "BIN                          float64\n",
       "BBL                          float64\n",
       "NTA                           object\n",
       "dtype: object"
      ]
     },
     "execution_count": 6,
     "metadata": {},
     "output_type": "execute_result"
    }
   ],
   "source": [
    "evictions.dtypes"
   ]
  },
  {
   "cell_type": "code",
   "execution_count": 7,
   "metadata": {},
   "outputs": [],
   "source": [
    "evictions['Executed Date'] = evictions['Executed Date'].astype('datetime64[ns]')"
   ]
  },
  {
   "cell_type": "code",
   "execution_count": 8,
   "metadata": {},
   "outputs": [
    {
     "data": {
      "text/plain": [
       "Court Index Number                   object\n",
       "Docket Number                         int64\n",
       "Eviction Address                     object\n",
       "Eviction Apartment Number            object\n",
       "Executed Date                datetime64[ns]\n",
       "Marshal First Name                   object\n",
       "Marshal Last Name                    object\n",
       "Residential/Commercial               object\n",
       "BOROUGH                              object\n",
       "Eviction Postcode                     int64\n",
       "Ejectment                            object\n",
       "Eviction/Legal Possession            object\n",
       "Latitude                            float64\n",
       "Longitude                           float64\n",
       "Community Board                     float64\n",
       "Council District                    float64\n",
       "Census Tract                        float64\n",
       "BIN                                 float64\n",
       "BBL                                 float64\n",
       "NTA                                  object\n",
       "dtype: object"
      ]
     },
     "execution_count": 8,
     "metadata": {},
     "output_type": "execute_result"
    }
   ],
   "source": [
    "evictions.dtypes"
   ]
  },
  {
   "cell_type": "code",
   "execution_count": 9,
   "metadata": {},
   "outputs": [
    {
     "data": {
      "text/html": [
       "<div>\n",
       "<style scoped>\n",
       "    .dataframe tbody tr th:only-of-type {\n",
       "        vertical-align: middle;\n",
       "    }\n",
       "\n",
       "    .dataframe tbody tr th {\n",
       "        vertical-align: top;\n",
       "    }\n",
       "\n",
       "    .dataframe thead th {\n",
       "        text-align: right;\n",
       "    }\n",
       "</style>\n",
       "<table border=\"1\" class=\"dataframe\">\n",
       "  <thead>\n",
       "    <tr style=\"text-align: right;\">\n",
       "      <th></th>\n",
       "      <th>Court Index Number</th>\n",
       "      <th>Docket Number</th>\n",
       "      <th>Eviction Address</th>\n",
       "      <th>Eviction Apartment Number</th>\n",
       "      <th>Marshal First Name</th>\n",
       "      <th>Marshal Last Name</th>\n",
       "      <th>Residential/Commercial</th>\n",
       "      <th>BOROUGH</th>\n",
       "      <th>Eviction Postcode</th>\n",
       "      <th>Ejectment</th>\n",
       "      <th>Eviction/Legal Possession</th>\n",
       "      <th>Latitude</th>\n",
       "      <th>Longitude</th>\n",
       "      <th>Community Board</th>\n",
       "      <th>Council District</th>\n",
       "      <th>Census Tract</th>\n",
       "      <th>BIN</th>\n",
       "      <th>BBL</th>\n",
       "      <th>NTA</th>\n",
       "    </tr>\n",
       "    <tr>\n",
       "      <th>Executed Date</th>\n",
       "      <th></th>\n",
       "      <th></th>\n",
       "      <th></th>\n",
       "      <th></th>\n",
       "      <th></th>\n",
       "      <th></th>\n",
       "      <th></th>\n",
       "      <th></th>\n",
       "      <th></th>\n",
       "      <th></th>\n",
       "      <th></th>\n",
       "      <th></th>\n",
       "      <th></th>\n",
       "      <th></th>\n",
       "      <th></th>\n",
       "      <th></th>\n",
       "      <th></th>\n",
       "      <th></th>\n",
       "      <th></th>\n",
       "    </tr>\n",
       "  </thead>\n",
       "  <tbody>\n",
       "    <tr>\n",
       "      <th>2024-01-04</th>\n",
       "      <td>318594/23</td>\n",
       "      <td>14150</td>\n",
       "      <td>172 WEST 107TH ST</td>\n",
       "      <td>1W</td>\n",
       "      <td>David</td>\n",
       "      <td>Smith</td>\n",
       "      <td>Residential</td>\n",
       "      <td>MANHATTAN</td>\n",
       "      <td>10025</td>\n",
       "      <td>Not an Ejectment</td>\n",
       "      <td>Possession</td>\n",
       "      <td>40.800704</td>\n",
       "      <td>-73.964267</td>\n",
       "      <td>7.0</td>\n",
       "      <td>7.0</td>\n",
       "      <td>193.0</td>\n",
       "      <td>1055977.0</td>\n",
       "      <td>1.018610e+09</td>\n",
       "      <td>Morningside Heights</td>\n",
       "    </tr>\n",
       "    <tr>\n",
       "      <th>2018-11-29</th>\n",
       "      <td>016134/18</td>\n",
       "      <td>86658</td>\n",
       "      <td>70 BRUCKNER BLVD.</td>\n",
       "      <td>12E</td>\n",
       "      <td>Henry</td>\n",
       "      <td>Daley</td>\n",
       "      <td>Residential</td>\n",
       "      <td>BRONX</td>\n",
       "      <td>10454</td>\n",
       "      <td>Not an Ejectment</td>\n",
       "      <td>Possession</td>\n",
       "      <td>40.806321</td>\n",
       "      <td>-73.926264</td>\n",
       "      <td>1.0</td>\n",
       "      <td>8.0</td>\n",
       "      <td>19.0</td>\n",
       "      <td>2116953.0</td>\n",
       "      <td>2.022950e+09</td>\n",
       "      <td>Mott Haven-Port Morris</td>\n",
       "    </tr>\n",
       "    <tr>\n",
       "      <th>2022-11-30</th>\n",
       "      <td>300816/222</td>\n",
       "      <td>209993</td>\n",
       "      <td>23 WYONA STREET</td>\n",
       "      <td>NaN</td>\n",
       "      <td>Richard</td>\n",
       "      <td>Capuano</td>\n",
       "      <td>Residential</td>\n",
       "      <td>QUEENS</td>\n",
       "      <td>11207</td>\n",
       "      <td>Not an Ejectment</td>\n",
       "      <td>Possession</td>\n",
       "      <td>40.678696</td>\n",
       "      <td>-73.894650</td>\n",
       "      <td>5.0</td>\n",
       "      <td>37.0</td>\n",
       "      <td>1146.0</td>\n",
       "      <td>3389505.0</td>\n",
       "      <td>3.036630e+09</td>\n",
       "      <td>Cypress Hills-City Line</td>\n",
       "    </tr>\n",
       "    <tr>\n",
       "      <th>2017-04-12</th>\n",
       "      <td>K52673/17</td>\n",
       "      <td>94663</td>\n",
       "      <td>601 BRIGHTON BEACH A VE</td>\n",
       "      <td>FRONT GROUND STORE</td>\n",
       "      <td>Darlene</td>\n",
       "      <td>Barone</td>\n",
       "      <td>Commercial</td>\n",
       "      <td>BROOKLYN</td>\n",
       "      <td>11235</td>\n",
       "      <td>Not an Ejectment</td>\n",
       "      <td>Possession</td>\n",
       "      <td>NaN</td>\n",
       "      <td>NaN</td>\n",
       "      <td>NaN</td>\n",
       "      <td>NaN</td>\n",
       "      <td>NaN</td>\n",
       "      <td>NaN</td>\n",
       "      <td>NaN</td>\n",
       "      <td>NaN</td>\n",
       "    </tr>\n",
       "    <tr>\n",
       "      <th>2024-01-18</th>\n",
       "      <td>79638/19</td>\n",
       "      <td>173756</td>\n",
       "      <td>540 NEW LOTS AVE</td>\n",
       "      <td>1R</td>\n",
       "      <td>Alfred</td>\n",
       "      <td>Locascio</td>\n",
       "      <td>Residential</td>\n",
       "      <td>BROOKLYN</td>\n",
       "      <td>11207</td>\n",
       "      <td>Not an Ejectment</td>\n",
       "      <td>Possession</td>\n",
       "      <td>40.663958</td>\n",
       "      <td>-73.888289</td>\n",
       "      <td>5.0</td>\n",
       "      <td>42.0</td>\n",
       "      <td>1122.0</td>\n",
       "      <td>3096753.0</td>\n",
       "      <td>3.043040e+09</td>\n",
       "      <td>East New York (Pennsylvania Ave)</td>\n",
       "    </tr>\n",
       "  </tbody>\n",
       "</table>\n",
       "</div>"
      ],
      "text/plain": [
       "              Court Index Number  Docket Number          Eviction Address  \\\n",
       "Executed Date                                                               \n",
       "2024-01-04             318594/23           14150        172 WEST 107TH ST   \n",
       "2018-11-29             016134/18           86658        70 BRUCKNER BLVD.   \n",
       "2022-11-30            300816/222          209993          23 WYONA STREET   \n",
       "2017-04-12             K52673/17           94663  601 BRIGHTON BEACH A VE   \n",
       "2024-01-18              79638/19          173756         540 NEW LOTS AVE   \n",
       "\n",
       "              Eviction Apartment Number Marshal First Name Marshal Last Name  \\\n",
       "Executed Date                                                                  \n",
       "2024-01-04                           1W              David             Smith   \n",
       "2018-11-29                          12E              Henry             Daley   \n",
       "2022-11-30                          NaN            Richard           Capuano   \n",
       "2017-04-12           FRONT GROUND STORE            Darlene            Barone   \n",
       "2024-01-18                           1R             Alfred          Locascio   \n",
       "\n",
       "              Residential/Commercial    BOROUGH  Eviction Postcode  \\\n",
       "Executed Date                                                        \n",
       "2024-01-04               Residential  MANHATTAN              10025   \n",
       "2018-11-29               Residential      BRONX              10454   \n",
       "2022-11-30               Residential     QUEENS              11207   \n",
       "2017-04-12                Commercial   BROOKLYN              11235   \n",
       "2024-01-18               Residential   BROOKLYN              11207   \n",
       "\n",
       "                      Ejectment Eviction/Legal Possession   Latitude  \\\n",
       "Executed Date                                                          \n",
       "2024-01-04     Not an Ejectment                Possession  40.800704   \n",
       "2018-11-29     Not an Ejectment                Possession  40.806321   \n",
       "2022-11-30     Not an Ejectment                Possession  40.678696   \n",
       "2017-04-12     Not an Ejectment                Possession        NaN   \n",
       "2024-01-18     Not an Ejectment                Possession  40.663958   \n",
       "\n",
       "               Longitude  Community Board  Council District  Census Tract  \\\n",
       "Executed Date                                                               \n",
       "2024-01-04    -73.964267              7.0               7.0         193.0   \n",
       "2018-11-29    -73.926264              1.0               8.0          19.0   \n",
       "2022-11-30    -73.894650              5.0              37.0        1146.0   \n",
       "2017-04-12           NaN              NaN               NaN           NaN   \n",
       "2024-01-18    -73.888289              5.0              42.0        1122.0   \n",
       "\n",
       "                     BIN           BBL                               NTA  \n",
       "Executed Date                                                             \n",
       "2024-01-04     1055977.0  1.018610e+09               Morningside Heights  \n",
       "2018-11-29     2116953.0  2.022950e+09            Mott Haven-Port Morris  \n",
       "2022-11-30     3389505.0  3.036630e+09           Cypress Hills-City Line  \n",
       "2017-04-12           NaN           NaN                               NaN  \n",
       "2024-01-18     3096753.0  3.043040e+09  East New York (Pennsylvania Ave)  "
      ]
     },
     "execution_count": 9,
     "metadata": {},
     "output_type": "execute_result"
    }
   ],
   "source": [
    "evictions_over_time = evictions.set_index('Executed Date')\n",
    "evictions_over_time.head()"
   ]
  },
  {
   "cell_type": "code",
   "execution_count": 10,
   "metadata": {},
   "outputs": [
    {
     "data": {
      "text/plain": [
       "Executed Date\n",
       "2017-01-31    2237\n",
       "2017-02-28    1695\n",
       "2017-03-31    2040\n",
       "2017-04-30    1860\n",
       "2017-05-31    2080\n",
       "Freq: M, Name: Court Index Number, dtype: int64"
      ]
     },
     "execution_count": 10,
     "metadata": {},
     "output_type": "execute_result"
    }
   ],
   "source": [
    "evictions_tally = evictions_over_time.resample('M')[\"Court Index Number\"].count()\n",
    "evictions_tally.head()"
   ]
  },
  {
   "cell_type": "markdown",
   "metadata": {},
   "source": [
    "### Plot your data \n",
    "\n",
    "Now it's time to plot your data to better understand trends over time!"
   ]
  },
  {
   "cell_type": "code",
   "execution_count": 11,
   "metadata": {},
   "outputs": [
    {
     "data": {
      "text/plain": [
       "[<matplotlib.lines.Line2D at 0x7fb5a244b670>]"
      ]
     },
     "execution_count": 11,
     "metadata": {},
     "output_type": "execute_result"
    },
    {
     "data": {
      "image/png": "[encoded data removed]",
      "text/plain": [
       "<Figure size 640x480 with 1 Axes>"
      ]
     },
     "metadata": {},
     "output_type": "display_data"
    }
   ],
   "source": [
    "plt.plot(evictions_tally)"
   ]
  },
  {
   "cell_type": "code",
   "execution_count": 12,
   "metadata": {},
   "outputs": [
    {
     "data": {
      "text/plain": [
       "90"
      ]
     },
     "execution_count": 12,
     "metadata": {},
     "output_type": "execute_result"
    }
   ],
   "source": [
    "len(evictions_tally)"
   ]
  },
  {
   "cell_type": "code",
   "execution_count": 13,
   "metadata": {},
   "outputs": [
    {
     "data": {
      "text/plain": [
       "92514"
      ]
     },
     "execution_count": 13,
     "metadata": {},
     "output_type": "execute_result"
    }
   ],
   "source": [
    "len(evictions)"
   ]
  },
  {
   "cell_type": "markdown",
   "metadata": {},
   "source": [
    "### Modifying your chart\n",
    "\n",
    "First, there are so many ways to do the same thing:"
   ]
  },
  {
   "cell_type": "code",
   "execution_count": 14,
   "metadata": {},
   "outputs": [
    {
     "data": {
      "text/plain": [
       "[<matplotlib.lines.Line2D at 0x7fb570844c40>]"
      ]
     },
     "execution_count": 14,
     "metadata": {},
     "output_type": "execute_result"
    },
    {
     "data": {
      "image/png": "[encoded data removed]",
      "text/plain": [
       "<Figure size 640x480 with 1 Axes>"
      ]
     },
     "metadata": {},
     "output_type": "display_data"
    }
   ],
   "source": [
    "plt.plot(evictions_tally)"
   ]
  },
  {
   "cell_type": "code",
   "execution_count": 15,
   "metadata": {},
   "outputs": [
    {
     "data": {
      "text/plain": [
       "[<matplotlib.lines.Line2D at 0x7fb590dbb940>]"
      ]
     },
     "execution_count": 15,
     "metadata": {},
     "output_type": "execute_result"
    },
    {
     "data": {
      "image/png": "[encoded data removed]",
      "text/plain": [
       "<Figure size 640x480 with 1 Axes>"
      ]
     },
     "metadata": {},
     "output_type": "display_data"
    }
   ],
   "source": [
    "fig, ax = plt.subplots()  # Create a figure containing a single axes (using a different function)\n",
    "ax.plot(evictions_tally)"
   ]
  },
  {
   "cell_type": "code",
   "execution_count": 16,
   "metadata": {},
   "outputs": [
    {
     "data": {
      "text/plain": [
       "<Axes: xlabel='Executed Date'>"
      ]
     },
     "execution_count": 16,
     "metadata": {},
     "output_type": "execute_result"
    },
    {
     "data": {
      "image/png": "[encoded data removed]",
      "text/plain": [
       "<Figure size 640x480 with 1 Axes>"
      ]
     },
     "metadata": {},
     "output_type": "display_data"
    }
   ],
   "source": [
    "evictions_tally.plot()"
   ]
  },
  {
   "cell_type": "markdown",
   "metadata": {},
   "source": [
    "#### Labeling your charts"
   ]
  },
  {
   "cell_type": "code",
   "execution_count": 17,
   "metadata": {},
   "outputs": [
    {
     "ename": "NameError",
     "evalue": "name 'monthly_tweet_count' is not defined",
     "output_type": "error",
     "traceback": [
      "\u001b[0;31m---------------------------------------------------------------------------\u001b[0m",
      "\u001b[0;31mNameError\u001b[0m                                 Traceback (most recent call last)",
      "Cell \u001b[0;32mIn[17], line 2\u001b[0m\n\u001b[1;32m      1\u001b[0m fig, ax \u001b[38;5;241m=\u001b[39m plt\u001b[38;5;241m.\u001b[39msubplots()\n\u001b[0;32m----> 2\u001b[0m ax\u001b[38;5;241m.\u001b[39mplot(\u001b[43mmonthly_tweet_count\u001b[49m)\n\u001b[1;32m      3\u001b[0m ax\u001b[38;5;241m.\u001b[39mset_xlabel(\u001b[38;5;124m'\u001b[39m\u001b[38;5;124myear\u001b[39m\u001b[38;5;124m'\u001b[39m, fontsize\u001b[38;5;241m=\u001b[39m\u001b[38;5;241m14\u001b[39m)\n\u001b[1;32m      4\u001b[0m ax\u001b[38;5;241m.\u001b[39mset_ylabel(\u001b[38;5;124m'\u001b[39m\u001b[38;5;124mnum_tweets\u001b[39m\u001b[38;5;124m'\u001b[39m, fontsize\u001b[38;5;241m=\u001b[39m\u001b[38;5;241m14\u001b[39m)\n",
      "\u001b[0;31mNameError\u001b[0m: name 'monthly_tweet_count' is not defined"
     ]
    },
    {
     "data": {
      "image/png": "[encoded data removed]",
      "text/plain": [
       "<Figure size 640x480 with 1 Axes>"
      ]
     },
     "metadata": {},
     "output_type": "display_data"
    }
   ],
   "source": [
    "fig, ax = plt.subplots()\n",
    "ax.plot(monthly_tweet_count)\n",
    "ax.set_xlabel('year', fontsize=14)\n",
    "ax.set_ylabel('num_tweets', fontsize=14)\n",
    "ax.set_title('Tweets about Clinton or Trump from Iranian bots', fontsize=14)\n"
   ]
  },
  {
   "cell_type": "markdown",
   "metadata": {},
   "source": [
    "#### Changing the size of your chart"
   ]
  },
  {
   "cell_type": "code",
   "execution_count": null,
   "metadata": {},
   "outputs": [],
   "source": [
    "fig, ax = plt.subplots()\n",
    "fig.set_size_inches(9,6)\n",
    "ax.plot(evictions_tally)\n"
   ]
  },
  {
   "cell_type": "markdown",
   "metadata": {},
   "source": [
    "#### Other chart types"
   ]
  },
  {
   "cell_type": "markdown",
   "metadata": {},
   "source": [
    "##### Bar Charts"
   ]
  },
  {
   "cell_type": "code",
   "execution_count": null,
   "metadata": {},
   "outputs": [],
   "source": [
    "ranked_boroughs = evictions[\"BOROUGH\"].value_counts().reset_index()\n",
    "\n",
    "print(len(ranked_boroughs))\n",
    "ranked_boroughs"
   ]
  },
  {
   "cell_type": "code",
   "execution_count": null,
   "metadata": {},
   "outputs": [],
   "source": [
    "ranked_boroughs.plot(x=\"BOROUGH\", y=\"count\", kind=\"barh\")\n"
   ]
  },
  {
   "cell_type": "markdown",
   "metadata": {},
   "source": [
    "##### pie charts"
   ]
  },
  {
   "cell_type": "code",
   "execution_count": null,
   "metadata": {},
   "outputs": [],
   "source": [
    "plt.pie(ranked_boroughs[\"count\"], labels=ranked_boroughs[\"BOROUGH\"])\n"
   ]
  },
  {
   "cell_type": "markdown",
   "metadata": {},
   "source": [
    "##### Multiple charts"
   ]
  },
  {
   "cell_type": "code",
   "execution_count": null,
   "metadata": {},
   "outputs": [],
   "source": [
    "fig,ax =  plt.subplots(1,2)\n",
    "ax[0].barh(ranked_boroughs[\"BOROUGH\"],ranked_boroughs[\"count\"], color = '#b84ab4')\n",
    "ax[1].plot(evictions_tally, color='lightblue')\n"
   ]
  },
  {
   "cell_type": "markdown",
   "metadata": {},
   "source": [
    "#### Saving your charts"
   ]
  },
  {
   "cell_type": "code",
   "execution_count": null,
   "metadata": {},
   "outputs": [],
   "source": [
    "plt.plot(evictions_tally)\n",
    "plt.savefig('../output/chart.svg')\n",
    "plt.savefig('../output/chart.png')"
   ]
  },
  {
   "cell_type": "code",
   "execution_count": null,
   "metadata": {},
   "outputs": [],
   "source": []
  }
 ],
 "metadata": {
  "kernelspec": {
   "display_name": "Python 3 (ipykernel)",
   "language": "python",
   "name": "python3"
  },
  "language_info": {
   "codemirror_mode": {
    "name": "ipython",
    "version": 3
   },
   "file_extension": ".py",
   "mimetype": "text/x-python",
   "name": "python",
   "nbconvert_exporter": "python",
   "pygments_lexer": "ipython3",
   "version": "3.8.18"
  }
 },
 "nbformat": 4,
 "nbformat_minor": 4
}
