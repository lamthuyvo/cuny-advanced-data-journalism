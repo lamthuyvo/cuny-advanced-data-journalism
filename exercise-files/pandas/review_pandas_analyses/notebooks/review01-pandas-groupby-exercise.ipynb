{
 "cells": [
  {
   "cell_type": "markdown",
   "id": "1c6ef800",
   "metadata": {},
   "source": [
    "### Data aggregation analysis of campaign finance data in NYC\n",
    "\n",
    "In this notebook, we will analyze and aggregate raw campaign finance data using the [`.groupby()` function](https://pandas.pydata.org/docs/reference/api/pandas.DataFrame.groupby.html) in pandas. \n",
    "\n",
    "We will:\n",
    "- import dependencies\n",
    "- open and explore the data\n",
    "- aggregate the data in different ways"
   ]
  },
  {
   "cell_type": "code",
   "execution_count": null,
   "id": "6ce93d91",
   "metadata": {},
   "outputs": [],
   "source": []
  },
  {
   "cell_type": "code",
   "execution_count": null,
   "id": "1b18e81a",
   "metadata": {},
   "outputs": [],
   "source": []
  },
  {
   "cell_type": "code",
   "execution_count": null,
   "id": "c5fff1b9",
   "metadata": {},
   "outputs": [],
   "source": []
  },
  {
   "cell_type": "markdown",
   "id": "4c6b0786",
   "metadata": {},
   "source": [
    "### Aggregate data in different ways \n",
    "\n",
    "- recipient name with the most number of donations\n",
    "- recipient name with the most number of donations and the highest total amounts of donations\n",
    "- occupation that occur the most in the data by city"
   ]
  },
  {
   "cell_type": "code",
   "execution_count": null,
   "id": "520d79ab",
   "metadata": {},
   "outputs": [],
   "source": []
  },
  {
   "cell_type": "code",
   "execution_count": null,
   "id": "717cf263",
   "metadata": {},
   "outputs": [],
   "source": []
  },
  {
   "cell_type": "code",
   "execution_count": null,
   "id": "1f3e21ba",
   "metadata": {},
   "outputs": [],
   "source": []
  },
  {
   "cell_type": "code",
   "execution_count": null,
   "id": "d2257be8",
   "metadata": {},
   "outputs": [],
   "source": []
  },
  {
   "cell_type": "code",
   "execution_count": null,
   "id": "2f9a1193",
   "metadata": {},
   "outputs": [],
   "source": []
  }
 ],
 "metadata": {
  "kernelspec": {
   "display_name": "Python 3 (ipykernel)",
   "language": "python",
   "name": "python3"
  },
  "language_info": {
   "codemirror_mode": {
    "name": "ipython",
    "version": 3
   },
   "file_extension": ".py",
   "mimetype": "text/x-python",
   "name": "python",
   "nbconvert_exporter": "python",
   "pygments_lexer": "ipython3",
   "version": "3.8.18"
  }
 },
 "nbformat": 4,
 "nbformat_minor": 5
}
