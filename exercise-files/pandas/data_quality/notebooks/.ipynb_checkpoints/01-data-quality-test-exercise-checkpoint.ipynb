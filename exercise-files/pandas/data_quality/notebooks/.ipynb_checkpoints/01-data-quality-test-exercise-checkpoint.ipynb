{
 "cells": [
  {
   "cell_type": "markdown",
   "id": "d292891a-c073-43da-9772-2178715dd3ad",
   "metadata": {},
   "source": [
    "### Checking your data quality\n",
    "\n",
    "This notebook looks at various tests that we can run to check the quality of your data. Below are some of the things we will look into:\n",
    "\n",
    "- Accuracy: How well does a piece of information reflect reality?\n",
    "- Completeness: Does it fulfill users’ expectations as to how fully it represents the truth?\n",
    "- Timeliness: Is your information available when users need it?\n",
    "- Validity: Is information in a specific format or is it in an unusable format?\n",
    "- Uniqueness: Is this the only instance in which this information appears in the database?"
   ]
  },
  {
   "cell_type": "code",
   "execution_count": null,
   "id": "1235981b-17fe-4017-ad17-04291d018a16",
   "metadata": {},
   "outputs": [],
   "source": []
  },
  {
   "cell_type": "markdown",
   "id": "e6021146-88ff-477e-b2f7-fd9f92dd626a",
   "metadata": {},
   "source": [
    "Load the data"
   ]
  },
  {
   "cell_type": "code",
   "execution_count": null,
   "id": "ddc516a7-68ca-4854-a5fe-3a4fdb4a5931",
   "metadata": {},
   "outputs": [],
   "source": []
  },
  {
   "cell_type": "markdown",
   "id": "06e6f7f4-4cbb-49a3-b28b-6299d3cec92d",
   "metadata": {},
   "source": [
    "##### Accuracy\n",
    "\n",
    "We will check on some of the values in the `city` column using the `value_counts()` function and by sorting the list alphabetically."
   ]
  },
  {
   "cell_type": "code",
   "execution_count": null,
   "id": "8eebbeac-f913-40d0-9b60-f5af0a78613d",
   "metadata": {},
   "outputs": [],
   "source": []
  },
  {
   "cell_type": "code",
   "execution_count": null,
   "id": "d9268df2-85d2-4ffe-be88-cb43787f44a1",
   "metadata": {},
   "outputs": [],
   "source": []
  },
  {
   "cell_type": "markdown",
   "id": "ac9ea0ba-a4b2-46d0-96c7-a4c0a64fc0a6",
   "metadata": {},
   "source": [
    "#### Completeness\n",
    "\n",
    "Oftentimes you want to see how many `null values` there are. "
   ]
  },
  {
   "cell_type": "code",
   "execution_count": null,
   "id": "0506861c-8cad-43a4-ad22-9400dd8476b0",
   "metadata": {},
   "outputs": [],
   "source": [
    "## this line of code will print the rows where the value for \"UNIQUEID\" is a null value. \n"
   ]
  },
  {
   "cell_type": "code",
   "execution_count": null,
   "id": "a967c766-a451-4605-9058-d9702ce11f0c",
   "metadata": {},
   "outputs": [],
   "source": [
    "## this line of code will print the rows where the value for \"OCCUPATION\" is a null value. \n"
   ]
  },
  {
   "cell_type": "markdown",
   "id": "a2aca1b3-ca0b-454b-841b-eb771350f070",
   "metadata": {},
   "source": [
    "#### Timeliness\n",
    "\n",
    "Here we will first format the date column to be interpreted as a `datetime` and then we will find some characteristics of that column by using the `.describe()` function."
   ]
  },
  {
   "cell_type": "code",
   "execution_count": null,
   "id": "e076ff7d-0a9d-4e24-95a3-bc15442461c4",
   "metadata": {},
   "outputs": [],
   "source": []
  },
  {
   "cell_type": "code",
   "execution_count": null,
   "id": "880ebcbf-2ebf-4616-b73d-e98c5dbfeb9d",
   "metadata": {},
   "outputs": [],
   "source": []
  },
  {
   "cell_type": "code",
   "execution_count": null,
   "id": "384ab88f-39ad-4bca-93eb-6fb71667147b",
   "metadata": {},
   "outputs": [],
   "source": []
  },
  {
   "cell_type": "markdown",
   "id": "7907688b-3c5a-47d5-a46e-149f60b5c597",
   "metadata": {},
   "source": [
    "##### Validity\n",
    "In this next cell we look at the validity of the data in the zip code column"
   ]
  },
  {
   "cell_type": "code",
   "execution_count": null,
   "id": "97c46dc1-1b4b-47c5-914b-f4a3dce36077",
   "metadata": {},
   "outputs": [],
   "source": []
  },
  {
   "cell_type": "code",
   "execution_count": null,
   "id": "36f558f3-9509-43fd-9207-51d459273b50",
   "metadata": {},
   "outputs": [],
   "source": [
    "#this line will create a column that measures the length of the value in the zipcode column\n"
   ]
  },
  {
   "cell_type": "code",
   "execution_count": null,
   "id": "917e8ccd-6915-47ba-adf6-2f363b2b3fc1",
   "metadata": {},
   "outputs": [],
   "source": []
  },
  {
   "cell_type": "markdown",
   "id": "7f6a61b4-5b2f-41f0-9a3e-1e4e7bf6fb0a",
   "metadata": {},
   "source": [
    "##### Uniqueness\n",
    "\n",
    "We will use the `duplicated()` function to see which rows are duplicates'."
   ]
  },
  {
   "cell_type": "code",
   "execution_count": null,
   "id": "29b44004-93ab-4893-97d0-da5289804ddc",
   "metadata": {},
   "outputs": [],
   "source": [
    "#the line below should show the two rows that are duplicates and follow the\n"
   ]
  },
  {
   "cell_type": "code",
   "execution_count": null,
   "id": "96436d52-666e-495d-8083-470e4a43c447",
   "metadata": {},
   "outputs": [],
   "source": []
  },
  {
   "cell_type": "code",
   "execution_count": null,
   "id": "d331c758-4325-4f83-af03-26dbc533976d",
   "metadata": {},
   "outputs": [],
   "source": []
  },
  {
   "cell_type": "code",
   "execution_count": null,
   "id": "d0c33654-6b6b-48db-955b-e5b5c6c62277",
   "metadata": {},
   "outputs": [],
   "source": []
  },
  {
   "cell_type": "code",
   "execution_count": null,
   "id": "8687961b-e375-468d-a746-7c25552e7417",
   "metadata": {},
   "outputs": [],
   "source": []
  }
 ],
 "metadata": {
  "kernelspec": {
   "display_name": "Python 3 (ipykernel)",
   "language": "python",
   "name": "python3"
  },
  "language_info": {
   "codemirror_mode": {
    "name": "ipython",
    "version": 3
   },
   "file_extension": ".py",
   "mimetype": "text/x-python",
   "name": "python",
   "nbconvert_exporter": "python",
   "pygments_lexer": "ipython3",
   "version": "3.9.6"
  }
 },
 "nbformat": 4,
 "nbformat_minor": 5
}
