{
 "cells": [
  {
   "cell_type": "markdown",
   "id": "1f813756-7b4d-4254-bec0-582a4783b36f",
   "metadata": {},
   "source": [
    "### Merge two dataframes\n",
    "\n",
    "Please merge them based on columns \"key1\""
   ]
  },
  {
   "cell_type": "code",
   "execution_count": null,
   "id": "db0189db-1bab-4096-b997-e0afb5423cb2",
   "metadata": {},
   "outputs": [],
   "source": [
    "import pandas as pd"
   ]
  },
  {
   "cell_type": "code",
   "execution_count": null,
   "id": "99cc5c7d-c1bf-4c11-8413-12ed2ede1f59",
   "metadata": {},
   "outputs": [],
   "source": [
    "\n",
    "data1 = pd.DataFrame({'key1': ['K0', 'K5', 'K1', 'K2'],\n",
    "                     'P': ['P0', 'P1', 'P2', 'P3'],\n",
    "                     'Q': ['Q0', 'Q1', 'Q2', 'Q3']}) \n",
    "data2 = pd.DataFrame({'key1': ['K0', 'K1', 'K4', 'K2'],\n",
    "                      'R': ['R0', 'R1', 'R2', 'R3'],\n",
    "                      'S': ['S0', 'S1', 'S2', 'S3']})\n"
   ]
  },
  {
   "cell_type": "code",
   "execution_count": null,
   "id": "f0264f35-485b-43d1-8fb1-1dddf12ce8e7",
   "metadata": {},
   "outputs": [],
   "source": [
    "print(\n",
    "    len(data1),\n",
    "    len(data2)\n",
    ")"
   ]
  },
  {
   "cell_type": "code",
   "execution_count": null,
   "id": "b2019d2e-cc8b-497d-926b-5f7456a2f5bb",
   "metadata": {},
   "outputs": [],
   "source": [
    "data1.head()"
   ]
  },
  {
   "cell_type": "code",
   "execution_count": null,
   "id": "fc4d4a6b-b36f-4db1-a69f-155cf3dc56a9",
   "metadata": {},
   "outputs": [],
   "source": [
    "# merge your data here. We want to retain ALL the records from data1, even if we don't have matches for all rows of the dataframe "
   ]
  },
  {
   "cell_type": "code",
   "execution_count": null,
   "id": "019a299d-2de7-4cc1-b6db-59c0160092a3",
   "metadata": {},
   "outputs": [],
   "source": []
  },
  {
   "cell_type": "code",
   "execution_count": null,
   "id": "98523837-6f3b-4ea7-a3a9-f54849d41e39",
   "metadata": {},
   "outputs": [],
   "source": []
  }
 ],
 "metadata": {
  "kernelspec": {
   "display_name": "Python 3 (ipykernel)",
   "language": "python",
   "name": "python3"
  },
  "language_info": {
   "codemirror_mode": {
    "name": "ipython",
    "version": 3
   },
   "file_extension": ".py",
   "mimetype": "text/x-python",
   "name": "python",
   "nbconvert_exporter": "python",
   "pygments_lexer": "ipython3",
   "version": "3.8.18"
  }
 },
 "nbformat": 4,
 "nbformat_minor": 5
}
