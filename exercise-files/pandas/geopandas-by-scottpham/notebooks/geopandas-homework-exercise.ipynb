{
 "cells": [
  {
   "cell_type": "code",
   "execution_count": null,
   "id": "d25cd7ee-99ef-426b-b913-a6acff2d4d4c",
   "metadata": {},
   "outputs": [],
   "source": [
    "import geopandas as gpd\n",
    "import pandas as pd"
   ]
  },
  {
   "cell_type": "code",
   "execution_count": null,
   "id": "47bc96dc-47dc-4688-b43b-92db9f997e23",
   "metadata": {},
   "outputs": [],
   "source": [
    "%matplotlib inline"
   ]
  },
  {
   "cell_type": "code",
   "execution_count": null,
   "id": "1f35d2d5-2809-4757-b43b-35cdffc54d61",
   "metadata": {},
   "outputs": [],
   "source": [
    "states = gpd.read_file(\"../data/states\")\n",
    "states.head()"
   ]
  },
  {
   "cell_type": "code",
   "execution_count": null,
   "id": "2ff44915-531b-4862-bcca-c456fc3ddf29",
   "metadata": {},
   "outputs": [],
   "source": [
    "ufo_sightings = pd.read_csv(\"../data/ufo_sightings_data.csv\")\n",
    "ufo_sightings.head()"
   ]
  },
  {
   "cell_type": "markdown",
   "id": "0ac8ddb1-c999-45f3-bae5-56126cfb325d",
   "metadata": {},
   "source": [
    "### Merge your data here"
   ]
  },
  {
   "cell_type": "code",
   "execution_count": null,
   "id": "3048fc17-c0a7-4a2a-97dc-5b1a39dd1e94",
   "metadata": {},
   "outputs": [],
   "source": [
    "### use a function to merge your data here"
   ]
  },
  {
   "cell_type": "markdown",
   "id": "f28d8d8f-1af3-4a18-9f6f-861d3d1abeb2",
   "metadata": {},
   "source": [
    "### Plot your data here"
   ]
  },
  {
   "cell_type": "code",
   "execution_count": null,
   "id": "d78fefc6-44d0-457b-8e6a-7069ed1907c8",
   "metadata": {},
   "outputs": [],
   "source": [
    "# plot your data here and save it in a variable called ax"
   ]
  },
  {
   "cell_type": "markdown",
   "id": "e4538881-ffc1-4312-9bfd-a6545e9a4a53",
   "metadata": {},
   "source": [
    "### Now export a chart"
   ]
  },
  {
   "cell_type": "code",
   "execution_count": null,
   "id": "435b3add-e12f-40ae-ad51-21cb3b87f2d9",
   "metadata": {},
   "outputs": [],
   "source": [
    "# get the \"Figure\" from the plot object that you defined as ax\n",
    "\n",
    "# then, use the savefig method on that Figure object\n"
   ]
  },
  {
   "cell_type": "code",
   "execution_count": null,
   "id": "930fcf76-8de8-4138-b07d-8fee487d0296",
   "metadata": {},
   "outputs": [],
   "source": []
  }
 ],
 "metadata": {
  "kernelspec": {
   "display_name": "Python 3 (ipykernel)",
   "language": "python",
   "name": "python3"
  },
  "language_info": {
   "codemirror_mode": {
    "name": "ipython",
    "version": 3
   },
   "file_extension": ".py",
   "mimetype": "text/x-python",
   "name": "python",
   "nbconvert_exporter": "python",
   "pygments_lexer": "ipython3",
   "version": "3.8.18"
  }
 },
 "nbformat": 4,
 "nbformat_minor": 5
}
