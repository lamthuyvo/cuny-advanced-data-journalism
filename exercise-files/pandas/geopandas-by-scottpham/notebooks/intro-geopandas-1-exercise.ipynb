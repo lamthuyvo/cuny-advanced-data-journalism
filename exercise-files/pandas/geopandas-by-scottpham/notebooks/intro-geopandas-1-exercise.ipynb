{
 "cells": [
  {
   "cell_type": "markdown",
   "metadata": {},
   "source": [
    "A walkthrough of some of the cool things you can do in GeoPandas and why"
   ]
  },
  {
   "cell_type": "markdown",
   "metadata": {},
   "source": [
    "First, import the library. Imports always go at the top of the project"
   ]
  },
  {
   "cell_type": "code",
   "execution_count": null,
   "metadata": {},
   "outputs": [],
   "source": []
  },
  {
   "cell_type": "markdown",
   "metadata": {},
   "source": [
    "Next, we write what's called a _magic command_. That's a piece of code that tells Jupyter to do something differently. Magic commands are always preceded with the `%` sign.\n",
    "\n",
    "`%COMMAND ARGUMENT1, ARGUMENT2...`\n",
    "\n",
    "In this case, we're simply going to tell Jupyter to display graphics \"inline\" as we make them. If we don't do that, then we won't be able to see the graphics without exporing them to a file, which is tedious if you're making lots of graphics or trying to iterate over a single one unti it's perfect."
   ]
  },
  {
   "cell_type": "code",
   "execution_count": null,
   "metadata": {},
   "outputs": [],
   "source": []
  },
  {
   "cell_type": "markdown",
   "metadata": {},
   "source": [
    "GeoPandas works a lot like pandas. Reading a file is simple. Where in Pandas you used the `pd.read_csv()` method, here we use the `gpd.read_file` method."
   ]
  },
  {
   "cell_type": "code",
   "execution_count": null,
   "metadata": {},
   "outputs": [],
   "source": []
  },
  {
   "cell_type": "markdown",
   "metadata": {},
   "source": [
    "Note that above I didn't write the name of the file like `../folder/filename.something`. That's because we're dealing with a [shapefile](https://en.wikipedia.org/wiki/Shapefile) which is really a folder with a bunch of files, rather than a single file. When reading a in a shapefile, you can just refer to the folder and GeoPandas will figure it out."
   ]
  },
  {
   "cell_type": "markdown",
   "metadata": {},
   "source": [
    "You can do `GeoDataFrame.head()` and it works a lot like `DataFrame.head()`."
   ]
  },
  {
   "cell_type": "code",
   "execution_count": null,
   "metadata": {},
   "outputs": [],
   "source": []
  },
  {
   "cell_type": "markdown",
   "metadata": {},
   "source": [
    "The `geomoetry` column is the most important. All GeoDataFrames have `geometry` columns. This column can contain `Point` data--like the locations of cities or specific addresses, or `Polygon` data. In this case, we have polygons. Let's take a look with the handy `DataFrame.plot()` method."
   ]
  },
  {
   "cell_type": "code",
   "execution_count": null,
   "metadata": {},
   "outputs": [],
   "source": []
  },
  {
   "cell_type": "markdown",
   "metadata": {},
   "source": [
    "Cool! Note that we can do a lot of things to make this look better. A lot of the aesthetics can be set right inside of the `plot` function. Others have to be set after you build the initial plot. \n",
    "\n",
    "By convention, we call the map object an `Axes` object. (Pronounced AXE-eez). It doesn't refer to the lines in a chart that mark the scale. It's a [Matplotlib concept](https://matplotlib.org/api/axes_api.html).\n",
    "\n",
    "I won't go into what all these options mean, but check out the documention on how to plot at [the GeoPandas documentation site](http://geopandas.org/mapping.html)."
   ]
  },
  {
   "cell_type": "code",
   "execution_count": null,
   "metadata": {},
   "outputs": [],
   "source": []
  },
  {
   "cell_type": "markdown",
   "metadata": {},
   "source": [
    "Let's do it again with a counties map. You'll see how it's basically the same operation."
   ]
  },
  {
   "cell_type": "code",
   "execution_count": null,
   "metadata": {},
   "outputs": [],
   "source": []
  },
  {
   "cell_type": "code",
   "execution_count": null,
   "metadata": {},
   "outputs": [],
   "source": [
    "# read in the file and go straight to plotting!\n"
   ]
  },
  {
   "cell_type": "markdown",
   "metadata": {},
   "source": [
    "**Making thematic maps with your merging powers**"
   ]
  },
  {
   "cell_type": "markdown",
   "metadata": {},
   "source": [
    "I have a CSV of bigfoot sightings from the \"official\" [Geographic Database of Bigfood/Sasquatch Sightings and Reports](https://www.bfro.net/GDB/)"
   ]
  },
  {
   "cell_type": "code",
   "execution_count": null,
   "metadata": {},
   "outputs": [],
   "source": []
  },
  {
   "cell_type": "markdown",
   "metadata": {},
   "source": [
    "Note that I use Pandas to open this file because it's not a GeoDataFrame...yet"
   ]
  },
  {
   "cell_type": "code",
   "execution_count": null,
   "metadata": {},
   "outputs": [],
   "source": []
  },
  {
   "cell_type": "markdown",
   "metadata": {},
   "source": [
    "To make it a GeoDataFrame, we'll need to merge the bigfoot data with one of our shapefiles. We'll use the state shapefile from above because we can use the state name as a key. Take a look at it again:"
   ]
  },
  {
   "cell_type": "code",
   "execution_count": null,
   "metadata": {},
   "outputs": [],
   "source": []
  },
  {
   "cell_type": "code",
   "execution_count": null,
   "metadata": {},
   "outputs": [],
   "source": []
  },
  {
   "cell_type": "code",
   "execution_count": null,
   "metadata": {},
   "outputs": [],
   "source": []
  },
  {
   "cell_type": "markdown",
   "metadata": {},
   "source": [
    "Nice! But the color scheme is just awful. Let's use the [colormaps](https://matplotlib.org/users/colormaps.html) from matplotlib."
   ]
  },
  {
   "cell_type": "code",
   "execution_count": null,
   "metadata": {},
   "outputs": [],
   "source": []
  },
  {
   "cell_type": "markdown",
   "metadata": {},
   "source": [
    "Want to save it as a file? It's a bit of an odd process but it's not hard."
   ]
  },
  {
   "cell_type": "code",
   "execution_count": null,
   "metadata": {},
   "outputs": [],
   "source": [
    "# first, get the \"Figure\" from the plot object.\n",
    "\n",
    "\n",
    "# then, use the savefig method on that Figure object\n",
    "\n",
    "\n"
   ]
  },
  {
   "cell_type": "code",
   "execution_count": null,
   "metadata": {},
   "outputs": [],
   "source": []
  }
 ],
 "metadata": {
  "kernelspec": {
   "display_name": "Python 3 (ipykernel)",
   "language": "python",
   "name": "python3"
  },
  "language_info": {
   "codemirror_mode": {
    "name": "ipython",
    "version": 3
   },
   "file_extension": ".py",
   "mimetype": "text/x-python",
   "name": "python",
   "nbconvert_exporter": "python",
   "pygments_lexer": "ipython3",
   "version": "3.8.18"
  }
 },
 "nbformat": 4,
 "nbformat_minor": 4
}
