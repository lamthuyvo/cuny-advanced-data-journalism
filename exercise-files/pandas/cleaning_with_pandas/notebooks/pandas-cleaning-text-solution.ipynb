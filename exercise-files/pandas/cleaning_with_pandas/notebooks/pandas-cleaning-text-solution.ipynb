{
 "cells": [
  {
   "cell_type": "markdown",
   "id": "8199a8ac",
   "metadata": {},
   "source": [
    "### Cleaning text using Python functions\n",
    "\n",
    "In this exercise we will open up data that was scraped from `.msg` files, an email format that can be read and exported by Microsoft Outlook. The format can be read in Python using libraries created for that purpose but extracting data from these formats may create issues. \n",
    "\n",
    "This notebook is an example of how to use Python to clean this data. The notebook performs the following actions:\n",
    "- loads data scraped from msg files\n",
    "- detect patterns that need to be cleaned\n",
    "- clean text in one column\n",
    "\n",
    "This is a visual rendering of an `.msg` file as seen in an email client, such as Outlook:"
   ]
  },
  {
   "attachments": {},
   "cell_type": "markdown",
   "id": "5249813e",
   "metadata": {},
   "source": [
    "<img src=\"../ring-alert-sample.png\" alt=\"data sample\" width=\"400px\" align=\"left\"/>"
   ]
  },
  {
   "cell_type": "code",
   "execution_count": 1,
   "id": "082fe4df",
   "metadata": {},
   "outputs": [],
   "source": [
    "import pandas as pd"
   ]
  },
  {
   "cell_type": "markdown",
   "id": "d99109aa",
   "metadata": {},
   "source": [
    "Load the data"
   ]
  },
  {
   "cell_type": "code",
   "execution_count": 2,
   "id": "787c9394",
   "metadata": {},
   "outputs": [
    {
     "data": {
      "text/html": [
       "<div>\n",
       "<style scoped>\n",
       "    .dataframe tbody tr th:only-of-type {\n",
       "        vertical-align: middle;\n",
       "    }\n",
       "\n",
       "    .dataframe tbody tr th {\n",
       "        vertical-align: top;\n",
       "    }\n",
       "\n",
       "    .dataframe thead th {\n",
       "        text-align: right;\n",
       "    }\n",
       "</style>\n",
       "<table border=\"1\" class=\"dataframe\">\n",
       "  <thead>\n",
       "    <tr style=\"text-align: right;\">\n",
       "      <th></th>\n",
       "      <th>subject</th>\n",
       "      <th>date</th>\n",
       "      <th>sender</th>\n",
       "      <th>to</th>\n",
       "      <th>cc</th>\n",
       "      <th>body_full</th>\n",
       "      <th>file_name</th>\n",
       "    </tr>\n",
       "  </thead>\n",
       "  <tbody>\n",
       "    <tr>\n",
       "      <th>0</th>\n",
       "      <td>A Resident Posted a Crime Incident</td>\n",
       "      <td>Wed, 17 Nov 2021 18:16:36 -0500</td>\n",
       "      <td>Ring Team &lt;no-reply@neighborhoods.ring.com&gt;</td>\n",
       "      <td>andrea.serrano@brookhavenga.gov</td>\n",
       "      <td>NaN</td>\n",
       "      <td>Post Titled: Stolen Package at Berkshire at Le...</td>\n",
       "      <td>../data/neighbors_data/brookhaven/A Resident P...</td>\n",
       "    </tr>\n",
       "    <tr>\n",
       "      <th>1</th>\n",
       "      <td>A Resident Posted a Crime Incident</td>\n",
       "      <td>Mon, 17 May 2021 08:38:51 -0400</td>\n",
       "      <td>Ring Team &lt;no-reply@neighborhoods.ring.com&gt;</td>\n",
       "      <td>travis.lewis@brookhavenga.gov</td>\n",
       "      <td>NaN</td>\n",
       "      <td>Post Titled: Car\\r\\n ‌ ‌ ‌ ‌ ‌ ‌ ‌ ‌ ‌ ‌ ‌ ‌ ‌...</td>\n",
       "      <td>../data/neighbors_data/brookhaven/A Resident P...</td>\n",
       "    </tr>\n",
       "    <tr>\n",
       "      <th>2</th>\n",
       "      <td>A Resident Posted a Crime Incident</td>\n",
       "      <td>Thu, 20 May 2021 23:47:46 -0400</td>\n",
       "      <td>\"Ring Team\" &lt;no-reply@neighborhoods.ring.com&gt;</td>\n",
       "      <td>andrea.serrano@brookhavenga.gov</td>\n",
       "      <td>NaN</td>\n",
       "      <td>Post Titled: One or two people checking for un...</td>\n",
       "      <td>../data/neighbors_data/brookhaven/A Resident P...</td>\n",
       "    </tr>\n",
       "    <tr>\n",
       "      <th>3</th>\n",
       "      <td>A Resident Posted a Crime Incident</td>\n",
       "      <td>Sat, 09 Oct 2021 07:09:43 -0400</td>\n",
       "      <td>Ring Team &lt;no-reply@neighborhoods.ring.com&gt;</td>\n",
       "      <td>robert.orange@brookhavenga.gov</td>\n",
       "      <td>NaN</td>\n",
       "      <td>Post Titled: Parked Cars destroyed at Briarhil...</td>\n",
       "      <td>../data/neighbors_data/brookhaven/A Resident P...</td>\n",
       "    </tr>\n",
       "    <tr>\n",
       "      <th>4</th>\n",
       "      <td>A Resident Posted a Crime Incident</td>\n",
       "      <td>Thu, 10 Jun 2021 07:49:36 -0400</td>\n",
       "      <td>\"Ring Team\" &lt;no-reply@neighborhoods.ring.com&gt;</td>\n",
       "      <td>travis.lewis@brookhavenga.gov</td>\n",
       "      <td>NaN</td>\n",
       "      <td>Post Titled: Checking cars again in Peachtree ...</td>\n",
       "      <td>../data/neighbors_data/brookhaven/A Resident P...</td>\n",
       "    </tr>\n",
       "  </tbody>\n",
       "</table>\n",
       "</div>"
      ],
      "text/plain": [
       "                              subject                             date  \\\n",
       "0  A Resident Posted a Crime Incident  Wed, 17 Nov 2021 18:16:36 -0500   \n",
       "1  A Resident Posted a Crime Incident  Mon, 17 May 2021 08:38:51 -0400   \n",
       "2  A Resident Posted a Crime Incident  Thu, 20 May 2021 23:47:46 -0400   \n",
       "3  A Resident Posted a Crime Incident  Sat, 09 Oct 2021 07:09:43 -0400   \n",
       "4  A Resident Posted a Crime Incident  Thu, 10 Jun 2021 07:49:36 -0400   \n",
       "\n",
       "                                          sender  \\\n",
       "0    Ring Team <no-reply@neighborhoods.ring.com>   \n",
       "1    Ring Team <no-reply@neighborhoods.ring.com>   \n",
       "2  \"Ring Team\" <no-reply@neighborhoods.ring.com>   \n",
       "3    Ring Team <no-reply@neighborhoods.ring.com>   \n",
       "4  \"Ring Team\" <no-reply@neighborhoods.ring.com>   \n",
       "\n",
       "                                to  cc  \\\n",
       "0  andrea.serrano@brookhavenga.gov NaN   \n",
       "1    travis.lewis@brookhavenga.gov NaN   \n",
       "2  andrea.serrano@brookhavenga.gov NaN   \n",
       "3   robert.orange@brookhavenga.gov NaN   \n",
       "4    travis.lewis@brookhavenga.gov NaN   \n",
       "\n",
       "                                           body_full  \\\n",
       "0  Post Titled: Stolen Package at Berkshire at Le...   \n",
       "1  Post Titled: Car\\r\\n ‌ ‌ ‌ ‌ ‌ ‌ ‌ ‌ ‌ ‌ ‌ ‌ ‌...   \n",
       "2  Post Titled: One or two people checking for un...   \n",
       "3  Post Titled: Parked Cars destroyed at Briarhil...   \n",
       "4  Post Titled: Checking cars again in Peachtree ...   \n",
       "\n",
       "                                           file_name  \n",
       "0  ../data/neighbors_data/brookhaven/A Resident P...  \n",
       "1  ../data/neighbors_data/brookhaven/A Resident P...  \n",
       "2  ../data/neighbors_data/brookhaven/A Resident P...  \n",
       "3  ../data/neighbors_data/brookhaven/A Resident P...  \n",
       "4  ../data/neighbors_data/brookhaven/A Resident P...  "
      ]
     },
     "execution_count": 2,
     "metadata": {},
     "output_type": "execute_result"
    }
   ],
   "source": [
    "scraped_data = pd.read_csv(\"../data/brookhavenmsg_extracts_2.csv\")\n",
    "\n",
    "scraped_data.head()"
   ]
  },
  {
   "cell_type": "markdown",
   "id": "b0e90205",
   "metadata": {},
   "source": [
    "### Look at the data and inspect it for issues\n",
    "- set columns to be fully legible\n",
    "- look at 1-2 examples"
   ]
  },
  {
   "cell_type": "code",
   "execution_count": 3,
   "id": "7c2a5b31",
   "metadata": {},
   "outputs": [],
   "source": [
    "pd.set_option('display.max_colwidth', None)"
   ]
  },
  {
   "cell_type": "code",
   "execution_count": 4,
   "id": "f5caf069",
   "metadata": {},
   "outputs": [
    {
     "data": {
      "text/plain": [
       "'Post Titled: Stolen Package at Berkshire at Lenox Park\\r\\n \\u200c \\u200c \\u200c \\u200c \\u200c \\u200c \\u200c \\u200c \\u200c \\u200c \\u200c \\u200c \\u200c   \\u200c \\u200c \\u200c \\u200c \\u200c \\u200c \\u200c \\u200c \\u200c \\u200c \\u200c \\u200c \\u200c   \\u200c \\u200c \\u200c \\u200c \\u200c \\u200c \\u200c \\u200c \\u200c \\u200c \\u200c \\u200c \\u200c   \\u200c \\u200c \\u200c \\u200c \\u200c \\u200c \\u200c \\u200c \\u200c \\u200c \\u200c \\u200c \\u200c   \\u200c \\u200c \\u200c \\u200c \\u200c \\u200c \\u200c \\u200c \\u200c \\u200c \\u200c \\u200c \\u200c   \\u200c \\u200c \\u200c \\u200c \\u200c \\u200c \\u200c \\u200c \\u200c \\u200c \\u200c \\u200c \\u200c   \\u200c \\u200c \\u200c \\u200c \\u200c \\u200c \\u200c \\u200c \\u200c \\u200c \\u200c \\u200c \\u200c   \\u200c \\u200c \\u200c \\u200c \\u200c \\u200c \\u200c \\u200c \\u200c \\u200c \\u200c \\u200c \\u200c   \\u200c \\u200c \\u200c \\u200c \\u200c \\u200c \\u200c \\u200c \\u200c \\u200c \\u200c \\u200c \\u200c   \\u200c \\u200c \\u200c \\u200c \\u200c \\u200c \\u200c \\u200c \\u200c \\u200c \\u200c \\u200c \\u200c   \\u200c \\u200c \\u200c \\u200c \\u200c \\u200c \\u200c \\u200c \\u200c \\u200c \\u200c \\u200c \\u200c  \\r\\n \\t \\r\\n \\t Neighbors Public Safety Service <https://links.neighborhoods.ring.com/ls/click?upn=FHVCVoLBYI7Dvf39yZ-2F5txav887QW1brgG-2F-2BJ99vpUd9zicH1H3TQWs2jOlo2pRKZyCz_ZtyLTlYa78bQffWNrIlGCwpMGyVBaXuuNm8hgEP81dRrNOc3xTsZxvuBgf9WVghBAMoKXX0egCKADIg4efJgHqlW8RizFbFvtUi8BTPHf1O54ekPNt9LcY0yj5Vl9uLKliYMUbwIcdYvzHiQU4gsOLIHcE7SNUIV6yNi5dxLjZs2G4vSaFgtw-2FUUKiZMfO3yITXTgvVngsq8aWMaGeycEgmR4Pp-2F7xz3f-2FZm-2FaTC7brkfyugjNsCwWnFoVQS7Y-2FKm3qu6miJoFsF56n-2F0We-2B2TbcAZzIdBOYBoXxQi7KKbmpkFVEU0Zpi9FRHp6zasFI68A3xyIT4eDGSTR3hV1sbqRZkKTGJxe3ecz4-2FhKwUrSr-2B0JTjHhvUYYSmVMal5evwmrSWXE2Rb-2BNjtzlrfnc44bCwRZzndHa-2BMk8KcWSsqbcOSR8lJsfaJofpR-2FJVqaZXtzZOwgT66EIHVlMB3F1lN3b6QN-2FmVV-2Fplx-2FzSOpLyHWrP-2B53QIBf2m4XKYkbcXmw-2FQMAc1TKORB17GhgDnbNkV8Pkp1YuuirgbKIoKevqhPgnb93UK1fXTthbLe-2Fgs8wUf7eocEDRIrC5ULf2n8N5Na-2FClbOi-2B4RmProLdA2NFB43jjSfOxQMeVSp0RyIXPlm6nPvMd8dLZ3CRHpWNWRXr8I0A-2FqL369dbeUCTQe1YS-2Bg-2BS6pMLvFgaWr8kyiG-2F>  \\t\\r\\n\\r\\nA resident in your area just posted a crime incident to the Neighbors App.\\r\\n\\r\\n\\t\\r\\nStolen Package at Berkshire at Lenox Park\\r\\nNovember 17, 2021 \\t\\r\\nStolen package \\t\\r\\nClick Here to View Post <https://links.neighborhoods.ring.com/ls/click?upn=YhodEM4mIr0rr6D5WVM8jloLGNmQXkPKUyjvtp25yb3QDC-2BdaF6Z-2FoDFaQkIfqpxZFQgphPYFhU-2BKo02avm2cg-3D-3DONX9_ZtyLTlYa78bQffWNrIlGCwpMGyVBaXuuNm8hgEP81dRrNOc3xTsZxvuBgf9WVghBAMoKXX0egCKADIg4efJgHqlW8RizFbFvtUi8BTPHf1O54ekPNt9LcY0yj5Vl9uLKliYMUbwIcdYvzHiQU4gsOLIHcE7SNUIV6yNi5dxLjZs2G4vSaFgtw-2FUUKiZMfO3yITXTgvVngsq8aWMaGeycEgmR4Pp-2F7xz3f-2FZm-2FaTC7brkfyugjNsCwWnFoVQS7Y-2FKm3qu6miJoFsF56n-2F0We-2B2TbcAZzIdBOYBoXxQi7KKbmpkFVEU0Zpi9FRHp6zasFI68A3xyIT4eDGSTR3hV1sbqRZkKTGJxe3ecz4-2FhKwUrSr-2B0JTjHhvUYYSmVMal5evwmrSWXE2Rb-2BNjtzlrfnc44bCwRZzndHa-2BMk8KcWSsqbcOSR8lJsfaJofpR-2FJVqaZXtzZOwgT66EIHVlMB3F1lN3b6QN-2FmVV-2Fplx-2FzSOpLyHWrP-2B53QIBf2m4XKYkbcXmw-2FQMAc1TKORB17GhgDnbNkV8Pkp1YuuirgbKIoKevqje6M3fjdWQxV6tNvBeS5P7S5KPyVXayOAYoNAYwMmJbsP-2BgHxvGarmnycBelegAZVD4KSZHL8LdhK8BY-2BjJEI4Y0oIM8HIpBMD-2F6ekS-2BR8Ga0SB0pLYzvCCdl0gps4O0z-2BPJ8WtQ1GhGGf4Ht-2BrTy8>  \\t\\r\\nStatic Map <https://links.neighborhoods.ring.com/ls/click?upn=YhodEM4mIr0rr6D5WVM8jloLGNmQXkPKUyjvtp25yb3QDC-2BdaF6Z-2FoDFaQkIfqpxZFQgphPYFhU-2BKo02avm2cg-3D-3D75Mn_ZtyLTlYa78bQffWNrIlGCwpMGyVBaXuuNm8hgEP81dRrNOc3xTsZxvuBgf9WVghBAMoKXX0egCKADIg4efJgHqlW8RizFbFvtUi8BTPHf1O54ekPNt9LcY0yj5Vl9uLKliYMUbwIcdYvzHiQU4gsOLIHcE7SNUIV6yNi5dxLjZs2G4vSaFgtw-2FUUKiZMfO3yITXTgvVngsq8aWMaGeycEgmR4Pp-2F7xz3f-2FZm-2FaTC7brkfyugjNsCwWnFoVQS7Y-2FKm3qu6miJoFsF56n-2F0We-2B2TbcAZzIdBOYBoXxQi7KKbmpkFVEU0Zpi9FRHp6zasFI68A3xyIT4eDGSTR3hV1sbqRZkKTGJxe3ecz4-2FhKwUrSr-2B0JTjHhvUYYSmVMal5evwmrSWXE2Rb-2BNjtzlrfnc44bCwRZzndHa-2BMk8KcWSsqbcOSR8lJsfaJofpR-2FJVqaZXtzZOwgT66EIHVlMB3F1lN3b6QN-2FmVV-2Fplx-2FzSOpLyHWrP-2B53QIBf2m4XKYkbcXmw-2FQMAc1TKORB17GhgDnbNkV8Pkp1YuuirgbKIoKevqjyLFkpwKphnwiPG8tMi2gjlzm43wHf6x75E7uwow8igsG5YUUbjQiOiofT6KrhAmpfpYmgNTUmmcmyN-2BjonOvApxSp55FtdhL3Gv65mj35e1km1ouAoXJooOC-2FvXKd2LU-2FEb0D9BbzfQ8oQMBUMf1P>  \\t\\r\\n <https://ring.widen.net/content/yxyweylxpc/png/CRM-1643_icon_lock.png?crop=false&position=c&color=ffffffff&u=dykvmh&w=20&h=26>   Exact location hidden for privacy. \\t\\r\\nSee the full list of crime and safety incidents happening in your area. \\t\\r\\nCheck Out Your Feed <https://links.neighborhoods.ring.com/ls/click?upn=YhodEM4mIr0rr6D5WVM8jloLGNmQXkPKUyjvtp25yb2WaTJjnpvS90CdSFfY6Ufspkwu_ZtyLTlYa78bQffWNrIlGCwpMGyVBaXuuNm8hgEP81dRrNOc3xTsZxvuBgf9WVghBAMoKXX0egCKADIg4efJgHqlW8RizFbFvtUi8BTPHf1O54ekPNt9LcY0yj5Vl9uLKliYMUbwIcdYvzHiQU4gsOLIHcE7SNUIV6yNi5dxLjZs2G4vSaFgtw-2FUUKiZMfO3yITXTgvVngsq8aWMaGeycEgmR4Pp-2F7xz3f-2FZm-2FaTC7brkfyugjNsCwWnFoVQS7Y-2FKm3qu6miJoFsF56n-2F0We-2B2TbcAZzIdBOYBoXxQi7KKbmpkFVEU0Zpi9FRHp6zasFI68A3xyIT4eDGSTR3hV1sbqRZkKTGJxe3ecz4-2FhKwUrSr-2B0JTjHhvUYYSmVMal5evwmrSWXE2Rb-2BNjtzlrfnc44bCwRZzndHa-2BMk8KcWSsqbcOSR8lJsfaJofpR-2FJVqaZXtzZOwgT66EIHVlMB3F1lN3b6QN-2FmVV-2Fplx-2FzSOpLyHWrP-2B53QIBf2m4XKYkbcXmw-2FQMAc1TKORB17GhgDnbNkV8Pkp1YuuirgbKIoKevqhjVL7nif-2BVn6nsnTg5wnIX-2BV2rX16UBQVGeBMv9YP0-2F1OLU60F63-2Bdum9ctISlh0eeh-2FkNssa7HrJ0kFTfC6vzaxpi9Z6-2BVku12faTbL-2FDIaUZ3NaEguJVpDyUbirtLz5Q74YgbZVR9sbFgd5lYyy0>  \\t\\r\\n  \\t\\r\\nHave questions? \\t\\r\\nVisit Help Center <https://links.neighborhoods.ring.com/ls/click?upn=YhodEM4mIr0rr6D5WVM8jjW1uO7W6G3dp6y4ulDc3b01fp3WKELVqg7X5UVO-2FPAx6y-2FZM69sQU2bWS6wO6WLHA-3D-3DGbBm_ZtyLTlYa78bQffWNrIlGCwpMGyVBaXuuNm8hgEP81dRrNOc3xTsZxvuBgf9WVghBAMoKXX0egCKADIg4efJgHqlW8RizFbFvtUi8BTPHf1O54ekPNt9LcY0yj5Vl9uLKliYMUbwIcdYvzHiQU4gsOLIHcE7SNUIV6yNi5dxLjZs2G4vSaFgtw-2FUUKiZMfO3yITXTgvVngsq8aWMaGeycEgmR4Pp-2F7xz3f-2FZm-2FaTC7brkfyugjNsCwWnFoVQS7Y-2FKm3qu6miJoFsF56n-2F0We-2B2TbcAZzIdBOYBoXxQi7KKbmpkFVEU0Zpi9FRHp6zasFI68A3xyIT4eDGSTR3hV1sbqRZkKTGJxe3ecz4-2FhKwUrSr-2B0JTjHhvUYYSmVMal5evwmrSWXE2Rb-2BNjtzlrfnc44bCwRZzndHa-2BMk8KcWSsqbcOSR8lJsfaJofpR-2FJVqaZXtzZOwgT66EIHVlMB3F1lN3b6QN-2FmVV-2Fplx-2FzSOpLyHWrP-2B53QIBf2m4XKYkbcXmw-2FQMAc1TKORB17GhgDnbNkV8Pkp1YuuirgbKIoKevqhVsgXdhBG9Y57X59AXhdcDtcWxYmHFIa0P2ARgTTbTuH987FJ-2Fx1Io2WlS8QAPn57U2Ro8B04MdKcwDPEckFgWf0C6djXONCmpExsVcuduGf1E39muy-2B3VYRnBYIKkPfWS9LCSsmBhv7Ker5Y9vIup>  \\t\\r\\nYou are receiving this because you are assigned to an Assigned Area. To stop receiving Crime Alert emails, \\r\\nclick here <https://links.neighborhoods.ring.com/ls/click?upn=YhodEM4mIr0rr6D5WVM8jloLGNmQXkPKUyjvtp25yb26AuTutqla3-2B16uBx3Ovkf07NbiOooEBpEap0TgynLYQ-3D-3DP9Wh_ZtyLTlYa78bQffWNrIlGCwpMGyVBaXuuNm8hgEP81dRrNOc3xTsZxvuBgf9WVghBAMoKXX0egCKADIg4efJgHqlW8RizFbFvtUi8BTPHf1O54ekPNt9LcY0yj5Vl9uLKliYMUbwIcdYvzHiQU4gsOLIHcE7SNUIV6yNi5dxLjZs2G4vSaFgtw-2FUUKiZMfO3yITXTgvVngsq8aWMaGeycEgmR4Pp-2F7xz3f-2FZm-2FaTC7brkfyugjNsCwWnFoVQS7Y-2FKm3qu6miJoFsF56n-2F0We-2B2TbcAZzIdBOYBoXxQi7KKbmpkFVEU0Zpi9FRHp6zasFI68A3xyIT4eDGSTR3hV1sbqRZkKTGJxe3ecz4-2FhKwUrSr-2B0JTjHhvUYYSmVMal5evwmrSWXE2Rb-2BNjtzlrfnc44bCwRZzndHa-2BMk8KcWSsqbcOSR8lJsfaJofpR-2FJVqaZXtzZOwgT66EIHVlMB3F1lN3b6QN-2FmVV-2Fplx-2FzSOpLyHWrP-2B53QIBf2m4XKYkbcXmw-2FQMAc1TKORB17GhgDnbNkV8Pkp1YuuirgbKIoKevqi4KaE5yqzFslwPdUvefR0Xb-2F3v2pfuvhmH-2FhCyY7PsGV4KwRJIWZ7dDlgkJb2tvqChuTBIdsig5PKb7Ed60GPZJEUZHZoYHvdDG0E8NulUn2Hr0IVuJxXnCfbZjZ5BfOY7THI5GJAiIQsoMQZ-2FVMvp>  and select \"Not Assigned\". \\t\\r\\n \\t \\r\\nEmail intended for andrea.serrano@brookhavenga.gov. \\t\\r\\n©2021 Ring LLC or its affiliates.\\r\\n1523 26th Street, Santa Monica, CA 90404. \\t\\r\\nRing and all related marks are trademarks of\\r\\nRing LLC or its affiliates. \\t\\r\\nPrivacy <https://links.neighborhoods.ring.com/ls/click?upn=YhodEM4mIr0rr6D5WVM8jiaVcKSUdfIe1Xm6F0MXoJENikmG3PGialJH94O5Tm0hJwvJ_ZtyLTlYa78bQffWNrIlGCwpMGyVBaXuuNm8hgEP81dRrNOc3xTsZxvuBgf9WVghBAMoKXX0egCKADIg4efJgHqlW8RizFbFvtUi8BTPHf1O54ekPNt9LcY0yj5Vl9uLKliYMUbwIcdYvzHiQU4gsOLIHcE7SNUIV6yNi5dxLjZs2G4vSaFgtw-2FUUKiZMfO3yITXTgvVngsq8aWMaGeycEgmR4Pp-2F7xz3f-2FZm-2FaTC7brkfyugjNsCwWnFoVQS7Y-2FKm3qu6miJoFsF56n-2F0We-2B2TbcAZzIdBOYBoXxQi7KKbmpkFVEU0Zpi9FRHp6zasFI68A3xyIT4eDGSTR3hV1sbqRZkKTGJxe3ecz4-2FhKwUrSr-2B0JTjHhvUYYSmVMal5evwmrSWXE2Rb-2BNjtzlrfnc44bCwRZzndHa-2BMk8KcWSsqbcOSR8lJsfaJofpR-2FJVqaZXtzZOwgT66EIHVlMB3F1lN3b6QN-2FmVV-2Fplx-2FzSOpLyHWrP-2B53QIBf2m4XKYkbcXmw-2FQMAc1TKORB17GhgDnbNkV8Pkp1YuuirgbKIoKevqiTnFUVvNvWFeOPGB4rJTqfB-2FoeKEp5EktzP9Dl17T-2BQ7XX8YLhZN8Dh-2B9VJ9hM83nwnFghhYzKtdcoeDQOee2DvSS3LG-2FTgOmq27U09EyHsKRuv8nCvSXood39NlrlzGyGLMkqrLQlhbRH9pO6BEAo>   |  Licenses <https://links.neighborhoods.ring.com/ls/click?upn=YhodEM4mIr0rr6D5WVM8jot8Am1BAdHDqfYDCvPjWe9F-2FRMTYNBTvvnAjG3HX3gc_Nwt_ZtyLTlYa78bQffWNrIlGCwpMGyVBaXuuNm8hgEP81dRrNOc3xTsZxvuBgf9WVghBAMoKXX0egCKADIg4efJgHqlW8RizFbFvtUi8BTPHf1O54ekPNt9LcY0yj5Vl9uLKliYMUbwIcdYvzHiQU4gsOLIHcE7SNUIV6yNi5dxLjZs2G4vSaFgtw-2FUUKiZMfO3yITXTgvVngsq8aWMaGeycEgmR4Pp-2F7xz3f-2FZm-2FaTC7brkfyugjNsCwWnFoVQS7Y-2FKm3qu6miJoFsF56n-2F0We-2B2TbcAZzIdBOYBoXxQi7KKbmpkFVEU0Zpi9FRHp6zasFI68A3xyIT4eDGSTR3hV1sbqRZkKTGJxe3ecz4-2FhKwUrSr-2B0JTjHhvUYYSmVMal5evwmrSWXE2Rb-2BNjtzlrfnc44bCwRZzndHa-2BMk8KcWSsqbcOSR8lJsfaJofpR-2FJVqaZXtzZOwgT66EIHVlMB3F1lN3b6QN-2FmVV-2Fplx-2FzSOpLyHWrP-2B53QIBf2m4XKYkbcXmw-2FQMAc1TKORB17GhgDnbNkV8Pkp1YuuirgbKIoKevqio0fe8WdjuLlAIAakrminUqifLouMvNGU3UVvp5zxgYOdKSShl-2FpVrG-2BA25CCnNpf8VQZp1SmNrYjGfhDLeGbvRdMU4g5REYTr4G-2F-2F1gJ95WrpoFee-2FF8kZe66HHus8XTyBhmCf-2BzTaq14oZiA1LoP>   |  Support <https://links.neighborhoods.ring.com/ls/click?upn=YhodEM4mIr0rr6D5WVM8jjW1uO7W6G3dp6y4ulDc3b01fp3WKELVqg7X5UVO-2FPAxGSul-2FrJ2X6-2BTga77n7DQksxb1s70NdON1TN6LhBFWgw-3DrCGJ_ZtyLTlYa78bQffWNrIlGCwpMGyVBaXuuNm8hgEP81dRrNOc3xTsZxvuBgf9WVghBAMoKXX0egCKADIg4efJgHqlW8RizFbFvtUi8BTPHf1O54ekPNt9LcY0yj5Vl9uLKliYMUbwIcdYvzHiQU4gsOLIHcE7SNUIV6yNi5dxLjZs2G4vSaFgtw-2FUUKiZMfO3yITXTgvVngsq8aWMaGeycEgmR4Pp-2F7xz3f-2FZm-2FaTC7brkfyugjNsCwWnFoVQS7Y-2FKm3qu6miJoFsF56n-2F0We-2B2TbcAZzIdBOYBoXxQi7KKbmpkFVEU0Zpi9FRHp6zasFI68A3xyIT4eDGSTR3hV1sbqRZkKTGJxe3ecz4-2FhKwUrSr-2B0JTjHhvUYYSmVMal5evwmrSWXE2Rb-2BNjtzlrfnc44bCwRZzndHa-2BMk8KcWSsqbcOSR8lJsfaJofpR-2FJVqaZXtzZOwgT66EIHVlMB3F1lN3b6QN-2FmVV-2Fplx-2FzSOpLyHWrP-2B53QIBf2m4XKYkbcXmw-2FQMAc1TKORB17GhgDnbNkV8Pkp1YuuirgbKIoKevqhafqYCw3OjZaCMleA3E-2F86O2pGRj3FYEVN23qwAxs2aXESlO60vTDzf9aBcPm4wKdAqePguw-2FF4cwGlPfLeAbu5XAC6oUQPTaj93IjmXsY-2BQ6gpuSiwdLK5Tkd1QZzAWICKatkRLfa42sOj0-2FX7rE0>   |  Terms of Service <https://links.neighborhoods.ring.com/ls/click?upn=YhodEM4mIr0rr6D5WVM8jhrBRABQPShKZh3IIxoR3AE-3DHuIx_ZtyLTlYa78bQffWNrIlGCwpMGyVBaXuuNm8hgEP81dRrNOc3xTsZxvuBgf9WVghBAMoKXX0egCKADIg4efJgHqlW8RizFbFvtUi8BTPHf1O54ekPNt9LcY0yj5Vl9uLKliYMUbwIcdYvzHiQU4gsOLIHcE7SNUIV6yNi5dxLjZs2G4vSaFgtw-2FUUKiZMfO3yITXTgvVngsq8aWMaGeycEgmR4Pp-2F7xz3f-2FZm-2FaTC7brkfyugjNsCwWnFoVQS7Y-2FKm3qu6miJoFsF56n-2F0We-2B2TbcAZzIdBOYBoXxQi7KKbmpkFVEU0Zpi9FRHp6zasFI68A3xyIT4eDGSTR3hV1sbqRZkKTGJxe3ecz4-2FhKwUrSr-2B0JTjHhvUYYSmVMal5evwmrSWXE2Rb-2BNjtzlrfnc44bCwRZzndHa-2BMk8KcWSsqbcOSR8lJsfaJofpR-2FJVqaZXtzZOwgT66EIHVlMB3F1lN3b6QN-2FmVV-2Fplx-2FzSOpLyHWrP-2B53QIBf2m4XKYkbcXmw-2FQMAc1TKORB17GhgDnbNkV8Pkp1YuuirgbKIoKevqjU9cfGSCs3nKY3xfXhI5jo7vKomCoyd3SI8R0Rm1-2B1f9rFlkkWjPjshOLo-2F3bBzZrMEEjlrFitTzVXRucypoeR0dxVoJ6-2BR3DpO8Y262q-2FVIlScKAkNegZDIaDPKYYwEUo6jobCvWHdEi-2BmtPY-2FKXc>  \\t\\r\\n <https://links.neighborhoods.ring.com/wf/open?upn=EewvicOlyuKQdTY-2FN1EhWxAAcUzbZlCGLmYYfn1AvPO42gVVXU-2Bn-2Bn8zucDLee0JlvLxNSAIK3LrKPHSu2XweXHGHTPp9oyuhCJiRXravdREPUV6XHN7h6kOS519c-2BnvpFyBTjKErbFv8FJIp0f7GvoNSao2Kdi8dGhvlfOlEp5izRYdllOxRbgESapqG-2FInezPveBZT6ZmbZam-2B3wuN-2BfNV0gPkX7DMvQWcdUQ2-2F-2Fo4PblziZs5vusteIYNg-2F-2BPEgzYDTXij6IXRCURN7qNE-2BU-2B-2ByJF6A7TtEyE3HbhmJc9qL8Dlsxh5IGT-2BrMKQo6dn3CKOHwA-2FfVi5yNMG0cdz2EllK8LgqaDLPXlfbR3ccDu3oGAFVszWGS8MlriX9YdPbU2rE8Xtu4G-2BkDq4LYc2timhfE5vkvJTTvjvnpWb30AkduAM0RNLEFUdYM0zEovuYbt4enNcx9rrcZIkAKuLNeZP6Mc51MI6rBCbfOcUPf2qKXFd8gwGaSlwv-2B1gXmoXGLlZpMhG1jNX-2Fss28lHQlfTxIiKR-2FQLH7jctwhLA3a6rbeUR1TrXFAWw61ITQfi6ekWXkN2ACnkqAPXxjECplqlAAsxZHw84Rb3Gg-2FfAeNrpqzeE4AkVqJUxlZXM02F-2FAGbiJQL-2BKFlcKr09XJhHOrOoMLulQGR5EMWXH-2FlaIlOMasajtgGTpmSfVLCoRkX> \\r\\n\\r\\nCAUTION: This email originated from outside of the organization. Do not click links or open attachments unless you recognize the sender and know the content is safe.\\r\\n\\r\\n'"
      ]
     },
     "execution_count": 4,
     "metadata": {},
     "output_type": "execute_result"
    }
   ],
   "source": [
    "scraped_data[\"body_full\"].iloc[0]"
   ]
  },
  {
   "cell_type": "markdown",
   "id": "fc047e46",
   "metadata": {},
   "source": [
    "#### Remedy identified issues\n",
    "\n",
    "In the next lines we will use the following methods: \n",
    "- `.encode()` and `.decode()`: `.encode('ascii', 'ignore')` to get rid of`unicode` characters, such as `\\u200c` and `.decode(\"utf-8\")` (You can read more details about Unicode [here](https://docs.python.org/2/howto/unicode.html))\n",
    "- `.replace()`: replace characters like `\"\\n\"` with nothing `\"\"`\n",
    "- `.split()`: cut text into different parts based on characters"
   ]
  },
  {
   "cell_type": "markdown",
   "id": "4e42eae9",
   "metadata": {},
   "source": [
    "The solution is to use encoding as a way to clean the data:"
   ]
  },
  {
   "cell_type": "code",
   "execution_count": 5,
   "id": "8063611a",
   "metadata": {},
   "outputs": [
    {
     "data": {
      "text/plain": [
       "'Post Titled: Car\\r\\n                                                                                                                                                                     \\r\\n \\t \\r\\n \\t Neighbors Public Safety Service <https://links.neighborhoods.ring.com/ls/click?upn=FHVCVoLBYI7Dvf39yZ-2F5txav887QW1brgG-2F-2BJ99vpUd9zicH1H3TQWs2jOlo2pRKZJG6_CxgEJZQrbN6Mz4P-2BglxdfridtC4-2BxiqaHpotgapJIlmlAH4dOvpEfarcqmmvUrphkI5s7ym30nwn-2FIU0RjSLqKWPtbv6zf-2FGOW5fBHaUUmZA3lHiRhVNCqE7hooqZIo-2Bngdz1cA-2FhM9LXKP5w29NgHYsdlH4dBuybdGgBVF23PHzqkqFcv5OGC4C510lekO-2B2KkLPTYUjMYIQRxQKEhPDyMxwOCZA2jkViLzoAHNz2-2BdvgLneL5sRbv2lUVKpmVuPytQfIudqFKBex8AJarUhvXv3d7S1tUz-2BrF51C1dvVcVWSiPfxK2ATIcC6juI-2Ft45YlockF509-2B8s6TjyMb0QcISqiObTgJkb6B9-2FHTsacVTAQUvKQ9vrY-2Bz62j4Zy3Gs2W1N7HEE3ZPCXi-2BjfL6MvFhOQ-2BgB0jMS75bD4EOBrhBtPqQu0PAtsKlPAbSPfTpJaSTVNV1TdOZNgN-2BWESREFck2sqrCtwvujhYFv9FvR-2BOWjHmf20jvSiw1eM4c3nco1cFUPzhEGs8zZlku3XUFwL5sRfFTz-2FLoMkdeiLGXjk69ieOs5XR7-2FKUn-2B5CKu2lO8OeIywHGLqpHxMCAuD5VgZchQYkUcDMMIwSEKWedA-2BPbfnJ-2BAWg-2B6AVvABcNJ1y-2BAcIvXxkK8oWWDgbbD9cKBlMhPIOk1K2YLRe9JdDRyiqcrdhZcZVC1PTFRtRu54n>  \\t\\r\\n\\r\\nA resident in your area just posted a crime incident to the Neighbors App.\\r\\n\\r\\nCar\\r\\nMay 17, 2021 \\t\\r\\n2 am someone checking my car \\t\\r\\nClick Here to View Post <https://links.neighborhoods.ring.com/ls/click?upn=YhodEM4mIr0rr6D5WVM8jloLGNmQXkPKUyjvtp25yb2Kut43XwXacXDtGxtdo7ivMlyzHUWfteKSxCiBt3IsfQ-3D-3DwQSD_CxgEJZQrbN6Mz4P-2BglxdfridtC4-2BxiqaHpotgapJIlmlAH4dOvpEfarcqmmvUrphkI5s7ym30nwn-2FIU0RjSLqKWPtbv6zf-2FGOW5fBHaUUmZA3lHiRhVNCqE7hooqZIo-2Bngdz1cA-2FhM9LXKP5w29NgHYsdlH4dBuybdGgBVF23PHzqkqFcv5OGC4C510lekO-2B2KkLPTYUjMYIQRxQKEhPDyMxwOCZA2jkViLzoAHNz2-2BdvgLneL5sRbv2lUVKpmVuPytQfIudqFKBex8AJarUhvXv3d7S1tUz-2BrF51C1dvVcVWSiPfxK2ATIcC6juI-2Ft45YlockF509-2B8s6TjyMb0QcISqiObTgJkb6B9-2FHTsacVTAQUvKQ9vrY-2Bz62j4Zy3Gs2W1N7HEE3ZPCXi-2BjfL6MvFhOQ-2BgB0jMS75bD4EOBrhBtPqQu0PAtsKlPAbSPfTpJaSTVNV1TdOZNgN-2BWESREFck2sqrCtwvujhYFv9FvR-2BOWjHmf20jvSiw1eM4c3nco1cFUPzhEGs8zZlku3XUFwL5sRfFTz-2FLoMkdeiLGXjlK2RB-2FFOwuAjFRrYFFYICrRMu5iTbbnnvWArgj1F9AfLfhAXO-2FiyhLdfjn9eloU4nE9xlk3SllZ92i5tzsiiDj4IJbYIGvOjqCOUUTVkEFipO0OqSfslJO7WKiSvzp6rAezd1K2REVi5zf3xNqYQKi>  \\t\\r\\nSee the full list of crime and safety incidents happening in your area. \\t\\r\\nCheck Out Your Feed <https://links.neighborhoods.ring.com/ls/click?upn=YhodEM4mIr0rr6D5WVM8jloLGNmQXkPKUyjvtp25yb2WaTJjnpvS90CdSFfY6UfsDrtA_CxgEJZQrbN6Mz4P-2BglxdfridtC4-2BxiqaHpotgapJIlmlAH4dOvpEfarcqmmvUrphkI5s7ym30nwn-2FIU0RjSLqKWPtbv6zf-2FGOW5fBHaUUmZA3lHiRhVNCqE7hooqZIo-2Bngdz1cA-2FhM9LXKP5w29NgHYsdlH4dBuybdGgBVF23PHzqkqFcv5OGC4C510lekO-2B2KkLPTYUjMYIQRxQKEhPDyMxwOCZA2jkViLzoAHNz2-2BdvgLneL5sRbv2lUVKpmVuPytQfIudqFKBex8AJarUhvXv3d7S1tUz-2BrF51C1dvVcVWSiPfxK2ATIcC6juI-2Ft45YlockF509-2B8s6TjyMb0QcISqiObTgJkb6B9-2FHTsacVTAQUvKQ9vrY-2Bz62j4Zy3Gs2W1N7HEE3ZPCXi-2BjfL6MvFhOQ-2BgB0jMS75bD4EOBrhBtPqQu0PAtsKlPAbSPfTpJaSTVNV1TdOZNgN-2BWESREFck2sqrCtwvujhYFv9FvR-2BOWjHmf20jvSiw1eM4c3nco1cFUPzhEGs8zZlku3XUFwL5sRfFTz-2FLoMkdeiLGXjnwOndunhvfihCzlXJWIGHMsGn3BmqZgQ4v8WNpUmUiViGTpuaY5VOqVOTWL239zBVuWTSHZwWoimZ4GndifCOlH1oOScfZhXZdBoHBVXKgSaIyZ8mzIOTA0emc4niZssv6LFYwtldM669OFFI6If89>  \\t\\r\\n  \\t\\r\\nHave questions? \\t\\r\\nVisit Help Center <https://links.neighborhoods.ring.com/ls/click?upn=YhodEM4mIr0rr6D5WVM8jjW1uO7W6G3dp6y4ulDc3b01fp3WKELVqg7X5UVO-2FPAx6y-2FZM69sQU2bWS6wO6WLHA-3D-3DQ9cf_CxgEJZQrbN6Mz4P-2BglxdfridtC4-2BxiqaHpotgapJIlmlAH4dOvpEfarcqmmvUrphkI5s7ym30nwn-2FIU0RjSLqKWPtbv6zf-2FGOW5fBHaUUmZA3lHiRhVNCqE7hooqZIo-2Bngdz1cA-2FhM9LXKP5w29NgHYsdlH4dBuybdGgBVF23PHzqkqFcv5OGC4C510lekO-2B2KkLPTYUjMYIQRxQKEhPDyMxwOCZA2jkViLzoAHNz2-2BdvgLneL5sRbv2lUVKpmVuPytQfIudqFKBex8AJarUhvXv3d7S1tUz-2BrF51C1dvVcVWSiPfxK2ATIcC6juI-2Ft45YlockF509-2B8s6TjyMb0QcISqiObTgJkb6B9-2FHTsacVTAQUvKQ9vrY-2Bz62j4Zy3Gs2W1N7HEE3ZPCXi-2BjfL6MvFhOQ-2BgB0jMS75bD4EOBrhBtPqQu0PAtsKlPAbSPfTpJaSTVNV1TdOZNgN-2BWESREFck2sqrCtwvujhYFv9FvR-2BOWjHmf20jvSiw1eM4c3nco1cFUPzhEGs8zZlku3XUFwL5sRfFTz-2FLoMkdeiLGXjlYhmhZ9-2Fon4V7kPH6EZRYSu3qJFjTIcO-2BJm7-2BrphQiZyzbSpDbXglBksiU-2BBBHyH94UoaRqaVmjx5iCuGdftW7gR0BAMwi8VZFf1lLM2vG0fCnwWAnEDgZC-2Bqt-2Bi20N74T-2BbNVmPJJfct25AdDS8wn>  \\t\\r\\nYou are receiving this because you are assigned to an Assigned Area. To stop receiving Crime Alert emails, \\r\\nclick here <https://links.neighborhoods.ring.com/ls/click?upn=YhodEM4mIr0rr6D5WVM8jloLGNmQXkPKUyjvtp25yb26AuTutqla3-2B16uBx3Ovkf07NbiOooEBpEap0TgynLYQ-3D-3DR2IP_CxgEJZQrbN6Mz4P-2BglxdfridtC4-2BxiqaHpotgapJIlmlAH4dOvpEfarcqmmvUrphkI5s7ym30nwn-2FIU0RjSLqKWPtbv6zf-2FGOW5fBHaUUmZA3lHiRhVNCqE7hooqZIo-2Bngdz1cA-2FhM9LXKP5w29NgHYsdlH4dBuybdGgBVF23PHzqkqFcv5OGC4C510lekO-2B2KkLPTYUjMYIQRxQKEhPDyMxwOCZA2jkViLzoAHNz2-2BdvgLneL5sRbv2lUVKpmVuPytQfIudqFKBex8AJarUhvXv3d7S1tUz-2BrF51C1dvVcVWSiPfxK2ATIcC6juI-2Ft45YlockF509-2B8s6TjyMb0QcISqiObTgJkb6B9-2FHTsacVTAQUvKQ9vrY-2Bz62j4Zy3Gs2W1N7HEE3ZPCXi-2BjfL6MvFhOQ-2BgB0jMS75bD4EOBrhBtPqQu0PAtsKlPAbSPfTpJaSTVNV1TdOZNgN-2BWESREFck2sqrCtwvujhYFv9FvR-2BOWjHmf20jvSiw1eM4c3nco1cFUPzhEGs8zZlku3XUFwL5sRfFTz-2FLoMkdeiLGXjnb3ljvru9mkSe-2BtEzOqk-2F5QyMemW5zIEVHdk2xqiAeb7id0shu4WwVg0mceNSo1UgErvHEhikA4rT4D0uHn2akaY04xGlJznuYl-2B5KhH025iEF1qbUljlFV0Nt84gDSPrQRs85tDbzhyRibCKxBlBX>  and select \"Not Assigned\". \\t\\r\\n \\t \\r\\nEmail intended for travis.lewis@brookhavenga.gov. \\t\\r\\n2021 Ring LLC or its affiliates.\\r\\n1523 26th Street, Santa Monica, CA 90404. \\t\\r\\nRing and all related logos are trademarks of\\r\\nRing LLC or its affiliates. \\t\\r\\nPrivacy <https://links.neighborhoods.ring.com/ls/click?upn=YhodEM4mIr0rr6D5WVM8jiaVcKSUdfIe1Xm6F0MXoJENikmG3PGialJH94O5Tm0h6KMS_CxgEJZQrbN6Mz4P-2BglxdfridtC4-2BxiqaHpotgapJIlmlAH4dOvpEfarcqmmvUrphkI5s7ym30nwn-2FIU0RjSLqKWPtbv6zf-2FGOW5fBHaUUmZA3lHiRhVNCqE7hooqZIo-2Bngdz1cA-2FhM9LXKP5w29NgHYsdlH4dBuybdGgBVF23PHzqkqFcv5OGC4C510lekO-2B2KkLPTYUjMYIQRxQKEhPDyMxwOCZA2jkViLzoAHNz2-2BdvgLneL5sRbv2lUVKpmVuPytQfIudqFKBex8AJarUhvXv3d7S1tUz-2BrF51C1dvVcVWSiPfxK2ATIcC6juI-2Ft45YlockF509-2B8s6TjyMb0QcISqiObTgJkb6B9-2FHTsacVTAQUvKQ9vrY-2Bz62j4Zy3Gs2W1N7HEE3ZPCXi-2BjfL6MvFhOQ-2BgB0jMS75bD4EOBrhBtPqQu0PAtsKlPAbSPfTpJaSTVNV1TdOZNgN-2BWESREFck2sqrCtwvujhYFv9FvR-2BOWjHmf20jvSiw1eM4c3nco1cFUPzhEGs8zZlku3XUFwL5sRfFTz-2FLoMkdeiLGXjms5X4tA2sy7D5uxkgCUNCqynmY00-2FhfF9Ja52W3NBtR-2BR-2FQ1NmAsBS6mhpHnln8gpUNowNCepDu6KhCdKXCZAs3l97rJ0oQsiVL7gNeYMc87rIrOHD9RCYERbJSr8HsVJCmg8F57uYRIlusMdxPWzo>   |  Licenses <https://links.neighborhoods.ring.com/ls/click?upn=YhodEM4mIr0rr6D5WVM8jot8Am1BAdHDqfYDCvPjWe9F-2FRMTYNBTvvnAjG3HX3gcJ9cI_CxgEJZQrbN6Mz4P-2BglxdfridtC4-2BxiqaHpotgapJIlmlAH4dOvpEfarcqmmvUrphkI5s7ym30nwn-2FIU0RjSLqKWPtbv6zf-2FGOW5fBHaUUmZA3lHiRhVNCqE7hooqZIo-2Bngdz1cA-2FhM9LXKP5w29NgHYsdlH4dBuybdGgBVF23PHzqkqFcv5OGC4C510lekO-2B2KkLPTYUjMYIQRxQKEhPDyMxwOCZA2jkViLzoAHNz2-2BdvgLneL5sRbv2lUVKpmVuPytQfIudqFKBex8AJarUhvXv3d7S1tUz-2BrF51C1dvVcVWSiPfxK2ATIcC6juI-2Ft45YlockF509-2B8s6TjyMb0QcISqiObTgJkb6B9-2FHTsacVTAQUvKQ9vrY-2Bz62j4Zy3Gs2W1N7HEE3ZPCXi-2BjfL6MvFhOQ-2BgB0jMS75bD4EOBrhBtPqQu0PAtsKlPAbSPfTpJaSTVNV1TdOZNgN-2BWESREFck2sqrCtwvujhYFv9FvR-2BOWjHmf20jvSiw1eM4c3nco1cFUPzhEGs8zZlku3XUFwL5sRfFTz-2FLoMkdeiLGXjnms6F1c2Vd7L-2F8rsrCQozhknKFmeoWhc1drRuFTrnN6l3PY3HamfMLJDRvgxa813P18HFWo9tjH2b9kStTzKxoSLz5z2cAud8hGIMdcouXiu3H1aUGH1GPqKiIJzDxMkc9Letvrxs4ME3pq5GFBhm-2F>   |  Support <https://links.neighborhoods.ring.com/ls/click?upn=YhodEM4mIr0rr6D5WVM8jjW1uO7W6G3dp6y4ulDc3b01fp3WKELVqg7X5UVO-2FPAxGSul-2FrJ2X6-2BTga77n7DQksxb1s70NdON1TN6LhBFWgw-3DXOAG_CxgEJZQrbN6Mz4P-2BglxdfridtC4-2BxiqaHpotgapJIlmlAH4dOvpEfarcqmmvUrphkI5s7ym30nwn-2FIU0RjSLqKWPtbv6zf-2FGOW5fBHaUUmZA3lHiRhVNCqE7hooqZIo-2Bngdz1cA-2FhM9LXKP5w29NgHYsdlH4dBuybdGgBVF23PHzqkqFcv5OGC4C510lekO-2B2KkLPTYUjMYIQRxQKEhPDyMxwOCZA2jkViLzoAHNz2-2BdvgLneL5sRbv2lUVKpmVuPytQfIudqFKBex8AJarUhvXv3d7S1tUz-2BrF51C1dvVcVWSiPfxK2ATIcC6juI-2Ft45YlockF509-2B8s6TjyMb0QcISqiObTgJkb6B9-2FHTsacVTAQUvKQ9vrY-2Bz62j4Zy3Gs2W1N7HEE3ZPCXi-2BjfL6MvFhOQ-2BgB0jMS75bD4EOBrhBtPqQu0PAtsKlPAbSPfTpJaSTVNV1TdOZNgN-2BWESREFck2sqrCtwvujhYFv9FvR-2BOWjHmf20jvSiw1eM4c3nco1cFUPzhEGs8zZlku3XUFwL5sRfFTz-2FLoMkdeiLGXjl0-2F3Jg9oPhhEUNbjfiatqQvgBT6-2FzZFKZQgrWSZbOgfZBuNLGjfLQ0J8FjoM2xLYgvfcGfZSEko57uRUba-2B3PEyHhilniczRBXL5gP8lpe4nNJO-2Bnc8pOpcZDwm3d1uvwwEnoXOsqGQI7WN5PcbNcn>   |  Terms of Service <https://links.neighborhoods.ring.com/ls/click?upn=YhodEM4mIr0rr6D5WVM8jhrBRABQPShKZh3IIxoR3AE-3DU3TA_CxgEJZQrbN6Mz4P-2BglxdfridtC4-2BxiqaHpotgapJIlmlAH4dOvpEfarcqmmvUrphkI5s7ym30nwn-2FIU0RjSLqKWPtbv6zf-2FGOW5fBHaUUmZA3lHiRhVNCqE7hooqZIo-2Bngdz1cA-2FhM9LXKP5w29NgHYsdlH4dBuybdGgBVF23PHzqkqFcv5OGC4C510lekO-2B2KkLPTYUjMYIQRxQKEhPDyMxwOCZA2jkViLzoAHNz2-2BdvgLneL5sRbv2lUVKpmVuPytQfIudqFKBex8AJarUhvXv3d7S1tUz-2BrF51C1dvVcVWSiPfxK2ATIcC6juI-2Ft45YlockF509-2B8s6TjyMb0QcISqiObTgJkb6B9-2FHTsacVTAQUvKQ9vrY-2Bz62j4Zy3Gs2W1N7HEE3ZPCXi-2BjfL6MvFhOQ-2BgB0jMS75bD4EOBrhBtPqQu0PAtsKlPAbSPfTpJaSTVNV1TdOZNgN-2BWESREFck2sqrCtwvujhYFv9FvR-2BOWjHmf20jvSiw1eM4c3nco1cFUPzhEGs8zZlku3XUFwL5sRfFTz-2FLoMkdeiLGXjmsIWZlyh8bo6SypormfrvcDjF0oVD-2FR3apfqY6hz2pISUqk5rAOxwvdGkKkUFyr9tu2TnXVsD-2F5I3QhlbGb7PnWrrDZf5DczfkE9-2BfnPPxZX-2BMKQYN64iBwODTiM1bnNo0LLnWR8hMF4gLVw-2B430Om>  \\t\\r\\n <https://links.neighborhoods.ring.com/wf/open?upn=V2BEvbXc0o40l556bQTVbLx4FNT3D1AnBmc0wpcCojhY7vDMRgvl8u8ilztfFbFc6ItuVfY4aP-2BUDxDxpJPTr5Ss5KsskmxKzkbvnkSxDED1UekllA7TzwmWTaQJGym06k62qkw7QvcTIDgKRWAufqcf0NBu43Jf3-2BdXqglhSpXVqIb9LktxXZyMi2Rh-2FpZQgYXQ3frXfxCQvsF97ueBWdmi4BbpqE9WhMORl8bH-2F0UG-2BHoEayyiUXJQ8OQJouzGRWbVEYDLmRncMGh-2FFfjd7u5DxsBKQXGNVoIb7KjedZ3YAyqX8NE-2FKC-2FCzByZCwwrAudnytmDJsN3TwTce9FyfJmhnxnd8Pq4aQP2H7jYJ6Bq-2FS8xjvfbR42dsvzObGRJVnFzjAKVXu1mQ-2F1JIgNteHYY0xmCXKtwjIWCbB4TntFaPDhwweiFvOHpln4ub8nVzEo-2Fggh4uSO3WsvLiiijpVbXCxLgAT64FT6q1WIjwxR4JcRzAW64x-2F2IWEAD63tCJ29dUu9uNPiqoHiBdLOXdTsJMUxRMSGZgKMszraSv80NJJalYlVEUTOg8wgsvyw2V4ueVDLer6OgFYOz35FFfkyJ24KEqPfdKh-2BUwwYdO-2FISBciFLwNrbTi3R0OFMvpySJ6TgE2-2BghoShBeWf9b3ofXP92ENNLBYY-2FSMr96zwWMxbOwr9djTya1FVqJtcLP8> \\r\\n\\r\\nCAUTION: This email originated from outside of the organization. Do not click links or open attachments unless you recognize the sender and know the content is safe.\\r\\n\\r\\n'"
      ]
     },
     "execution_count": 5,
     "metadata": {},
     "output_type": "execute_result"
    }
   ],
   "source": [
    "scraped_data[\"no_unicode\"] = scraped_data[\"body_full\"].apply(lambda x: x.encode('ascii', 'ignore').decode(\"utf-8\"))\n",
    "\n",
    "scraped_data[\"no_unicode\"].iloc[1]"
   ]
  },
  {
   "cell_type": "code",
   "execution_count": 6,
   "id": "d4f681f4",
   "metadata": {},
   "outputs": [
    {
     "data": {
      "text/plain": [
       "'Post Titled: Car                                                                                                                                                                         Neighbors Public Safety Service <https://links.neighborhoods.ring.com/ls/click?upn=FHVCVoLBYI7Dvf39yZ-2F5txav887QW1brgG-2F-2BJ99vpUd9zicH1H3TQWs2jOlo2pRKZJG6_CxgEJZQrbN6Mz4P-2BglxdfridtC4-2BxiqaHpotgapJIlmlAH4dOvpEfarcqmmvUrphkI5s7ym30nwn-2FIU0RjSLqKWPtbv6zf-2FGOW5fBHaUUmZA3lHiRhVNCqE7hooqZIo-2Bngdz1cA-2FhM9LXKP5w29NgHYsdlH4dBuybdGgBVF23PHzqkqFcv5OGC4C510lekO-2B2KkLPTYUjMYIQRxQKEhPDyMxwOCZA2jkViLzoAHNz2-2BdvgLneL5sRbv2lUVKpmVuPytQfIudqFKBex8AJarUhvXv3d7S1tUz-2BrF51C1dvVcVWSiPfxK2ATIcC6juI-2Ft45YlockF509-2B8s6TjyMb0QcISqiObTgJkb6B9-2FHTsacVTAQUvKQ9vrY-2Bz62j4Zy3Gs2W1N7HEE3ZPCXi-2BjfL6MvFhOQ-2BgB0jMS75bD4EOBrhBtPqQu0PAtsKlPAbSPfTpJaSTVNV1TdOZNgN-2BWESREFck2sqrCtwvujhYFv9FvR-2BOWjHmf20jvSiw1eM4c3nco1cFUPzhEGs8zZlku3XUFwL5sRfFTz-2FLoMkdeiLGXjk69ieOs5XR7-2FKUn-2B5CKu2lO8OeIywHGLqpHxMCAuD5VgZchQYkUcDMMIwSEKWedA-2BPbfnJ-2BAWg-2B6AVvABcNJ1y-2BAcIvXxkK8oWWDgbbD9cKBlMhPIOk1K2YLRe9JdDRyiqcrdhZcZVC1PTFRtRu54n>  A resident in your area just posted a crime incident to the Neighbors App.CarMay 17, 2021 2 am someone checking my car Click Here to View Post <https://links.neighborhoods.ring.com/ls/click?upn=YhodEM4mIr0rr6D5WVM8jloLGNmQXkPKUyjvtp25yb2Kut43XwXacXDtGxtdo7ivMlyzHUWfteKSxCiBt3IsfQ-3D-3DwQSD_CxgEJZQrbN6Mz4P-2BglxdfridtC4-2BxiqaHpotgapJIlmlAH4dOvpEfarcqmmvUrphkI5s7ym30nwn-2FIU0RjSLqKWPtbv6zf-2FGOW5fBHaUUmZA3lHiRhVNCqE7hooqZIo-2Bngdz1cA-2FhM9LXKP5w29NgHYsdlH4dBuybdGgBVF23PHzqkqFcv5OGC4C510lekO-2B2KkLPTYUjMYIQRxQKEhPDyMxwOCZA2jkViLzoAHNz2-2BdvgLneL5sRbv2lUVKpmVuPytQfIudqFKBex8AJarUhvXv3d7S1tUz-2BrF51C1dvVcVWSiPfxK2ATIcC6juI-2Ft45YlockF509-2B8s6TjyMb0QcISqiObTgJkb6B9-2FHTsacVTAQUvKQ9vrY-2Bz62j4Zy3Gs2W1N7HEE3ZPCXi-2BjfL6MvFhOQ-2BgB0jMS75bD4EOBrhBtPqQu0PAtsKlPAbSPfTpJaSTVNV1TdOZNgN-2BWESREFck2sqrCtwvujhYFv9FvR-2BOWjHmf20jvSiw1eM4c3nco1cFUPzhEGs8zZlku3XUFwL5sRfFTz-2FLoMkdeiLGXjlK2RB-2FFOwuAjFRrYFFYICrRMu5iTbbnnvWArgj1F9AfLfhAXO-2FiyhLdfjn9eloU4nE9xlk3SllZ92i5tzsiiDj4IJbYIGvOjqCOUUTVkEFipO0OqSfslJO7WKiSvzp6rAezd1K2REVi5zf3xNqYQKi>  See the full list of crime and safety incidents happening in your area. Check Out Your Feed <https://links.neighborhoods.ring.com/ls/click?upn=YhodEM4mIr0rr6D5WVM8jloLGNmQXkPKUyjvtp25yb2WaTJjnpvS90CdSFfY6UfsDrtA_CxgEJZQrbN6Mz4P-2BglxdfridtC4-2BxiqaHpotgapJIlmlAH4dOvpEfarcqmmvUrphkI5s7ym30nwn-2FIU0RjSLqKWPtbv6zf-2FGOW5fBHaUUmZA3lHiRhVNCqE7hooqZIo-2Bngdz1cA-2FhM9LXKP5w29NgHYsdlH4dBuybdGgBVF23PHzqkqFcv5OGC4C510lekO-2B2KkLPTYUjMYIQRxQKEhPDyMxwOCZA2jkViLzoAHNz2-2BdvgLneL5sRbv2lUVKpmVuPytQfIudqFKBex8AJarUhvXv3d7S1tUz-2BrF51C1dvVcVWSiPfxK2ATIcC6juI-2Ft45YlockF509-2B8s6TjyMb0QcISqiObTgJkb6B9-2FHTsacVTAQUvKQ9vrY-2Bz62j4Zy3Gs2W1N7HEE3ZPCXi-2BjfL6MvFhOQ-2BgB0jMS75bD4EOBrhBtPqQu0PAtsKlPAbSPfTpJaSTVNV1TdOZNgN-2BWESREFck2sqrCtwvujhYFv9FvR-2BOWjHmf20jvSiw1eM4c3nco1cFUPzhEGs8zZlku3XUFwL5sRfFTz-2FLoMkdeiLGXjnwOndunhvfihCzlXJWIGHMsGn3BmqZgQ4v8WNpUmUiViGTpuaY5VOqVOTWL239zBVuWTSHZwWoimZ4GndifCOlH1oOScfZhXZdBoHBVXKgSaIyZ8mzIOTA0emc4niZssv6LFYwtldM669OFFI6If89>    Have questions? Visit Help Center <https://links.neighborhoods.ring.com/ls/click?upn=YhodEM4mIr0rr6D5WVM8jjW1uO7W6G3dp6y4ulDc3b01fp3WKELVqg7X5UVO-2FPAx6y-2FZM69sQU2bWS6wO6WLHA-3D-3DQ9cf_CxgEJZQrbN6Mz4P-2BglxdfridtC4-2BxiqaHpotgapJIlmlAH4dOvpEfarcqmmvUrphkI5s7ym30nwn-2FIU0RjSLqKWPtbv6zf-2FGOW5fBHaUUmZA3lHiRhVNCqE7hooqZIo-2Bngdz1cA-2FhM9LXKP5w29NgHYsdlH4dBuybdGgBVF23PHzqkqFcv5OGC4C510lekO-2B2KkLPTYUjMYIQRxQKEhPDyMxwOCZA2jkViLzoAHNz2-2BdvgLneL5sRbv2lUVKpmVuPytQfIudqFKBex8AJarUhvXv3d7S1tUz-2BrF51C1dvVcVWSiPfxK2ATIcC6juI-2Ft45YlockF509-2B8s6TjyMb0QcISqiObTgJkb6B9-2FHTsacVTAQUvKQ9vrY-2Bz62j4Zy3Gs2W1N7HEE3ZPCXi-2BjfL6MvFhOQ-2BgB0jMS75bD4EOBrhBtPqQu0PAtsKlPAbSPfTpJaSTVNV1TdOZNgN-2BWESREFck2sqrCtwvujhYFv9FvR-2BOWjHmf20jvSiw1eM4c3nco1cFUPzhEGs8zZlku3XUFwL5sRfFTz-2FLoMkdeiLGXjlYhmhZ9-2Fon4V7kPH6EZRYSu3qJFjTIcO-2BJm7-2BrphQiZyzbSpDbXglBksiU-2BBBHyH94UoaRqaVmjx5iCuGdftW7gR0BAMwi8VZFf1lLM2vG0fCnwWAnEDgZC-2Bqt-2Bi20N74T-2BbNVmPJJfct25AdDS8wn>  You are receiving this because you are assigned to an Assigned Area. To stop receiving Crime Alert emails, click here <https://links.neighborhoods.ring.com/ls/click?upn=YhodEM4mIr0rr6D5WVM8jloLGNmQXkPKUyjvtp25yb26AuTutqla3-2B16uBx3Ovkf07NbiOooEBpEap0TgynLYQ-3D-3DR2IP_CxgEJZQrbN6Mz4P-2BglxdfridtC4-2BxiqaHpotgapJIlmlAH4dOvpEfarcqmmvUrphkI5s7ym30nwn-2FIU0RjSLqKWPtbv6zf-2FGOW5fBHaUUmZA3lHiRhVNCqE7hooqZIo-2Bngdz1cA-2FhM9LXKP5w29NgHYsdlH4dBuybdGgBVF23PHzqkqFcv5OGC4C510lekO-2B2KkLPTYUjMYIQRxQKEhPDyMxwOCZA2jkViLzoAHNz2-2BdvgLneL5sRbv2lUVKpmVuPytQfIudqFKBex8AJarUhvXv3d7S1tUz-2BrF51C1dvVcVWSiPfxK2ATIcC6juI-2Ft45YlockF509-2B8s6TjyMb0QcISqiObTgJkb6B9-2FHTsacVTAQUvKQ9vrY-2Bz62j4Zy3Gs2W1N7HEE3ZPCXi-2BjfL6MvFhOQ-2BgB0jMS75bD4EOBrhBtPqQu0PAtsKlPAbSPfTpJaSTVNV1TdOZNgN-2BWESREFck2sqrCtwvujhYFv9FvR-2BOWjHmf20jvSiw1eM4c3nco1cFUPzhEGs8zZlku3XUFwL5sRfFTz-2FLoMkdeiLGXjnb3ljvru9mkSe-2BtEzOqk-2F5QyMemW5zIEVHdk2xqiAeb7id0shu4WwVg0mceNSo1UgErvHEhikA4rT4D0uHn2akaY04xGlJznuYl-2B5KhH025iEF1qbUljlFV0Nt84gDSPrQRs85tDbzhyRibCKxBlBX>  and select \"Not Assigned\".   Email intended for travis.lewis@brookhavenga.gov. 2021 Ring LLC or its affiliates.1523 26th Street, Santa Monica, CA 90404. Ring and all related logos are trademarks ofRing LLC or its affiliates. Privacy <https://links.neighborhoods.ring.com/ls/click?upn=YhodEM4mIr0rr6D5WVM8jiaVcKSUdfIe1Xm6F0MXoJENikmG3PGialJH94O5Tm0h6KMS_CxgEJZQrbN6Mz4P-2BglxdfridtC4-2BxiqaHpotgapJIlmlAH4dOvpEfarcqmmvUrphkI5s7ym30nwn-2FIU0RjSLqKWPtbv6zf-2FGOW5fBHaUUmZA3lHiRhVNCqE7hooqZIo-2Bngdz1cA-2FhM9LXKP5w29NgHYsdlH4dBuybdGgBVF23PHzqkqFcv5OGC4C510lekO-2B2KkLPTYUjMYIQRxQKEhPDyMxwOCZA2jkViLzoAHNz2-2BdvgLneL5sRbv2lUVKpmVuPytQfIudqFKBex8AJarUhvXv3d7S1tUz-2BrF51C1dvVcVWSiPfxK2ATIcC6juI-2Ft45YlockF509-2B8s6TjyMb0QcISqiObTgJkb6B9-2FHTsacVTAQUvKQ9vrY-2Bz62j4Zy3Gs2W1N7HEE3ZPCXi-2BjfL6MvFhOQ-2BgB0jMS75bD4EOBrhBtPqQu0PAtsKlPAbSPfTpJaSTVNV1TdOZNgN-2BWESREFck2sqrCtwvujhYFv9FvR-2BOWjHmf20jvSiw1eM4c3nco1cFUPzhEGs8zZlku3XUFwL5sRfFTz-2FLoMkdeiLGXjms5X4tA2sy7D5uxkgCUNCqynmY00-2FhfF9Ja52W3NBtR-2BR-2FQ1NmAsBS6mhpHnln8gpUNowNCepDu6KhCdKXCZAs3l97rJ0oQsiVL7gNeYMc87rIrOHD9RCYERbJSr8HsVJCmg8F57uYRIlusMdxPWzo>   |  Licenses <https://links.neighborhoods.ring.com/ls/click?upn=YhodEM4mIr0rr6D5WVM8jot8Am1BAdHDqfYDCvPjWe9F-2FRMTYNBTvvnAjG3HX3gcJ9cI_CxgEJZQrbN6Mz4P-2BglxdfridtC4-2BxiqaHpotgapJIlmlAH4dOvpEfarcqmmvUrphkI5s7ym30nwn-2FIU0RjSLqKWPtbv6zf-2FGOW5fBHaUUmZA3lHiRhVNCqE7hooqZIo-2Bngdz1cA-2FhM9LXKP5w29NgHYsdlH4dBuybdGgBVF23PHzqkqFcv5OGC4C510lekO-2B2KkLPTYUjMYIQRxQKEhPDyMxwOCZA2jkViLzoAHNz2-2BdvgLneL5sRbv2lUVKpmVuPytQfIudqFKBex8AJarUhvXv3d7S1tUz-2BrF51C1dvVcVWSiPfxK2ATIcC6juI-2Ft45YlockF509-2B8s6TjyMb0QcISqiObTgJkb6B9-2FHTsacVTAQUvKQ9vrY-2Bz62j4Zy3Gs2W1N7HEE3ZPCXi-2BjfL6MvFhOQ-2BgB0jMS75bD4EOBrhBtPqQu0PAtsKlPAbSPfTpJaSTVNV1TdOZNgN-2BWESREFck2sqrCtwvujhYFv9FvR-2BOWjHmf20jvSiw1eM4c3nco1cFUPzhEGs8zZlku3XUFwL5sRfFTz-2FLoMkdeiLGXjnms6F1c2Vd7L-2F8rsrCQozhknKFmeoWhc1drRuFTrnN6l3PY3HamfMLJDRvgxa813P18HFWo9tjH2b9kStTzKxoSLz5z2cAud8hGIMdcouXiu3H1aUGH1GPqKiIJzDxMkc9Letvrxs4ME3pq5GFBhm-2F>   |  Support <https://links.neighborhoods.ring.com/ls/click?upn=YhodEM4mIr0rr6D5WVM8jjW1uO7W6G3dp6y4ulDc3b01fp3WKELVqg7X5UVO-2FPAxGSul-2FrJ2X6-2BTga77n7DQksxb1s70NdON1TN6LhBFWgw-3DXOAG_CxgEJZQrbN6Mz4P-2BglxdfridtC4-2BxiqaHpotgapJIlmlAH4dOvpEfarcqmmvUrphkI5s7ym30nwn-2FIU0RjSLqKWPtbv6zf-2FGOW5fBHaUUmZA3lHiRhVNCqE7hooqZIo-2Bngdz1cA-2FhM9LXKP5w29NgHYsdlH4dBuybdGgBVF23PHzqkqFcv5OGC4C510lekO-2B2KkLPTYUjMYIQRxQKEhPDyMxwOCZA2jkViLzoAHNz2-2BdvgLneL5sRbv2lUVKpmVuPytQfIudqFKBex8AJarUhvXv3d7S1tUz-2BrF51C1dvVcVWSiPfxK2ATIcC6juI-2Ft45YlockF509-2B8s6TjyMb0QcISqiObTgJkb6B9-2FHTsacVTAQUvKQ9vrY-2Bz62j4Zy3Gs2W1N7HEE3ZPCXi-2BjfL6MvFhOQ-2BgB0jMS75bD4EOBrhBtPqQu0PAtsKlPAbSPfTpJaSTVNV1TdOZNgN-2BWESREFck2sqrCtwvujhYFv9FvR-2BOWjHmf20jvSiw1eM4c3nco1cFUPzhEGs8zZlku3XUFwL5sRfFTz-2FLoMkdeiLGXjl0-2F3Jg9oPhhEUNbjfiatqQvgBT6-2FzZFKZQgrWSZbOgfZBuNLGjfLQ0J8FjoM2xLYgvfcGfZSEko57uRUba-2B3PEyHhilniczRBXL5gP8lpe4nNJO-2Bnc8pOpcZDwm3d1uvwwEnoXOsqGQI7WN5PcbNcn>   |  Terms of Service <https://links.neighborhoods.ring.com/ls/click?upn=YhodEM4mIr0rr6D5WVM8jhrBRABQPShKZh3IIxoR3AE-3DU3TA_CxgEJZQrbN6Mz4P-2BglxdfridtC4-2BxiqaHpotgapJIlmlAH4dOvpEfarcqmmvUrphkI5s7ym30nwn-2FIU0RjSLqKWPtbv6zf-2FGOW5fBHaUUmZA3lHiRhVNCqE7hooqZIo-2Bngdz1cA-2FhM9LXKP5w29NgHYsdlH4dBuybdGgBVF23PHzqkqFcv5OGC4C510lekO-2B2KkLPTYUjMYIQRxQKEhPDyMxwOCZA2jkViLzoAHNz2-2BdvgLneL5sRbv2lUVKpmVuPytQfIudqFKBex8AJarUhvXv3d7S1tUz-2BrF51C1dvVcVWSiPfxK2ATIcC6juI-2Ft45YlockF509-2B8s6TjyMb0QcISqiObTgJkb6B9-2FHTsacVTAQUvKQ9vrY-2Bz62j4Zy3Gs2W1N7HEE3ZPCXi-2BjfL6MvFhOQ-2BgB0jMS75bD4EOBrhBtPqQu0PAtsKlPAbSPfTpJaSTVNV1TdOZNgN-2BWESREFck2sqrCtwvujhYFv9FvR-2BOWjHmf20jvSiw1eM4c3nco1cFUPzhEGs8zZlku3XUFwL5sRfFTz-2FLoMkdeiLGXjmsIWZlyh8bo6SypormfrvcDjF0oVD-2FR3apfqY6hz2pISUqk5rAOxwvdGkKkUFyr9tu2TnXVsD-2F5I3QhlbGb7PnWrrDZf5DczfkE9-2BfnPPxZX-2BMKQYN64iBwODTiM1bnNo0LLnWR8hMF4gLVw-2B430Om>   <https://links.neighborhoods.ring.com/wf/open?upn=V2BEvbXc0o40l556bQTVbLx4FNT3D1AnBmc0wpcCojhY7vDMRgvl8u8ilztfFbFc6ItuVfY4aP-2BUDxDxpJPTr5Ss5KsskmxKzkbvnkSxDED1UekllA7TzwmWTaQJGym06k62qkw7QvcTIDgKRWAufqcf0NBu43Jf3-2BdXqglhSpXVqIb9LktxXZyMi2Rh-2FpZQgYXQ3frXfxCQvsF97ueBWdmi4BbpqE9WhMORl8bH-2F0UG-2BHoEayyiUXJQ8OQJouzGRWbVEYDLmRncMGh-2FFfjd7u5DxsBKQXGNVoIb7KjedZ3YAyqX8NE-2FKC-2FCzByZCwwrAudnytmDJsN3TwTce9FyfJmhnxnd8Pq4aQP2H7jYJ6Bq-2FS8xjvfbR42dsvzObGRJVnFzjAKVXu1mQ-2F1JIgNteHYY0xmCXKtwjIWCbB4TntFaPDhwweiFvOHpln4ub8nVzEo-2Fggh4uSO3WsvLiiijpVbXCxLgAT64FT6q1WIjwxR4JcRzAW64x-2F2IWEAD63tCJ29dUu9uNPiqoHiBdLOXdTsJMUxRMSGZgKMszraSv80NJJalYlVEUTOg8wgsvyw2V4ueVDLer6OgFYOz35FFfkyJ24KEqPfdKh-2BUwwYdO-2FISBciFLwNrbTi3R0OFMvpySJ6TgE2-2BghoShBeWf9b3ofXP92ENNLBYY-2FSMr96zwWMxbOwr9djTya1FVqJtcLP8> CAUTION: This email originated from outside of the organization. Do not click links or open attachments unless you recognize the sender and know the content is safe.'"
      ]
     },
     "execution_count": 6,
     "metadata": {},
     "output_type": "execute_result"
    }
   ],
   "source": [
    "scraped_data[\"replaced_chars\"] = scraped_data[\"no_unicode\"].apply(\n",
    "    lambda x: x.replace(\"\\r\", \"\").replace(\"\\n\", \"\").replace(\"\\t\", \"\")\n",
    ")\n",
    "\n",
    "scraped_data[\"replaced_chars\"].iloc[1]"
   ]
  },
  {
   "cell_type": "code",
   "execution_count": 7,
   "id": "4352db21",
   "metadata": {},
   "outputs": [],
   "source": [
    "scraped_data[\"title\"] = scraped_data[\"replaced_chars\"].apply(lambda x: x.split(\"Neighbors Public Safety Service\")[0]) \n"
   ]
  },
  {
   "cell_type": "code",
   "execution_count": 8,
   "id": "cd3cb192",
   "metadata": {},
   "outputs": [
    {
     "data": {
      "text/plain": [
       "0                                                         Post Titled: Stolen Package at Berkshire at Lenox Park                                                                                                                                                                         \n",
       "1                                                                                               Post Titled: Car                                                                                                                                                                         \n",
       "2    Post Titled: One or two people checking for unlocked car doors around 2am today. Clairmont near Buford Hwy.                                                                                                                                                                         \n",
       "3                                                                Post Titled: Parked Cars destroyed at Briarhill                                                                                                                                                                         \n",
       "4                                       Post Titled: Checking cars again in Peachtree creek township subdivision                                                                                                                                                                         \n",
       "Name: title, dtype: object"
      ]
     },
     "execution_count": 8,
     "metadata": {},
     "output_type": "execute_result"
    }
   ],
   "source": [
    "scraped_data[\"title\"].head()"
   ]
  },
  {
   "cell_type": "markdown",
   "id": "7e69439d",
   "metadata": {},
   "source": [
    "#### Reduce and export the data"
   ]
  },
  {
   "cell_type": "code",
   "execution_count": 9,
   "id": "f584ea85",
   "metadata": {},
   "outputs": [
    {
     "data": {
      "text/plain": [
       "Index(['subject', 'date', 'sender', 'to', 'cc', 'body_full', 'file_name',\n",
       "       'no_unicode', 'replaced_chars', 'title'],\n",
       "      dtype='object')"
      ]
     },
     "execution_count": 9,
     "metadata": {},
     "output_type": "execute_result"
    }
   ],
   "source": [
    "scraped_data.columns"
   ]
  },
  {
   "cell_type": "code",
   "execution_count": 10,
   "id": "998bc8f9",
   "metadata": {},
   "outputs": [],
   "source": [
    "columns = ['subject', 'date', 'sender', 'to', 'cc', 'title']\n",
    "\n",
    "scraped_data[columns].to_csv(\"../output/scraped_data.csv\")"
   ]
  },
  {
   "cell_type": "code",
   "execution_count": null,
   "id": "5ddbcd72",
   "metadata": {},
   "outputs": [],
   "source": []
  }
 ],
 "metadata": {
  "kernelspec": {
   "display_name": "Python 3 (ipykernel)",
   "language": "python",
   "name": "python3"
  },
  "language_info": {
   "codemirror_mode": {
    "name": "ipython",
    "version": 3
   },
   "file_extension": ".py",
   "mimetype": "text/x-python",
   "name": "python",
   "nbconvert_exporter": "python",
   "pygments_lexer": "ipython3",
   "version": "3.9.16"
  }
 },
 "nbformat": 4,
 "nbformat_minor": 5
}
