{
 "cells": [
  {
   "cell_type": "markdown",
   "id": "8199a8ac",
   "metadata": {},
   "source": [
    "### Cleaning text using Python functions\n",
    "\n",
    "In this exercise we will open up data that was scraped from `.msg` files, an email format that can be read and exported by Microsoft Outlook. The format can be read in Python using libraries created for that purpose but extracting data from these formats may create issues. \n",
    "\n",
    "This notebook is an example of how to use Python to clean this data. The notebook performs the following actions:\n",
    "- loads data scraped from msg files\n",
    "- detect patterns that need to be cleaned\n",
    "- clean text in one column\n",
    "\n",
    "This is a visual rendering of an `.msg` file as seen in an email client, such as Outlook:"
   ]
  },
  {
   "cell_type": "markdown",
   "id": "5249813e",
   "metadata": {},
   "source": [
    "<img src=\"../ring-alert-sample.png\" alt=\"data sample\" width=\"400px\" align=\"left\"/>"
   ]
  },
  {
   "cell_type": "code",
   "execution_count": null,
   "id": "082fe4df",
   "metadata": {},
   "outputs": [],
   "source": []
  },
  {
   "cell_type": "markdown",
   "id": "d99109aa",
   "metadata": {},
   "source": [
    "Load the data"
   ]
  },
  {
   "cell_type": "code",
   "execution_count": null,
   "id": "787c9394",
   "metadata": {},
   "outputs": [],
   "source": []
  },
  {
   "cell_type": "markdown",
   "id": "b0e90205",
   "metadata": {},
   "source": [
    "### Look at the data and inspect it for issues\n",
    "- set columns to be fully legible\n",
    "- look at 1-2 examples"
   ]
  },
  {
   "cell_type": "code",
   "execution_count": null,
   "id": "7c2a5b31",
   "metadata": {},
   "outputs": [],
   "source": []
  },
  {
   "cell_type": "code",
   "execution_count": null,
   "id": "f5caf069",
   "metadata": {},
   "outputs": [],
   "source": []
  },
  {
   "cell_type": "markdown",
   "id": "fc047e46",
   "metadata": {},
   "source": [
    "#### Remedy identified issues\n",
    "\n",
    "In the next lines we will use the following methods: \n",
    "- `.encode()` and `.decode()`: `.encode('ascii', 'ignore')` to get rid of`unicode` characters, such as `\\u200c` and `.decode(\"utf-8\")` to get rid of one character that the encoding function adds, `'b`. (You can read more details about Unicode [here](https://docs.python.org/2/howto/unicode.html))\n",
    "- `.replace()`: replace characters like `\"\\n\"` with nothing `\"\"`\n",
    "- `.split()`: cut text into different parts based on characters"
   ]
  },
  {
   "cell_type": "markdown",
   "id": "4e42eae9",
   "metadata": {},
   "source": [
    "The solution is to use encoding as a way to clean the data:"
   ]
  },
  {
   "cell_type": "code",
   "execution_count": null,
   "id": "8063611a",
   "metadata": {},
   "outputs": [],
   "source": []
  },
  {
   "cell_type": "code",
   "execution_count": null,
   "id": "d4f681f4",
   "metadata": {},
   "outputs": [],
   "source": []
  },
  {
   "cell_type": "code",
   "execution_count": null,
   "id": "4352db21",
   "metadata": {},
   "outputs": [],
   "source": []
  },
  {
   "cell_type": "code",
   "execution_count": null,
   "id": "cd3cb192",
   "metadata": {},
   "outputs": [],
   "source": []
  },
  {
   "cell_type": "markdown",
   "id": "7e69439d",
   "metadata": {},
   "source": [
    "#### Reduce and export the data"
   ]
  },
  {
   "cell_type": "code",
   "execution_count": null,
   "id": "f584ea85",
   "metadata": {},
   "outputs": [],
   "source": []
  },
  {
   "cell_type": "code",
   "execution_count": null,
   "id": "998bc8f9",
   "metadata": {},
   "outputs": [],
   "source": []
  },
  {
   "cell_type": "code",
   "execution_count": null,
   "id": "5ddbcd72",
   "metadata": {},
   "outputs": [],
   "source": []
  }
 ],
 "metadata": {
  "kernelspec": {
   "display_name": "Python 3 (ipykernel)",
   "language": "python",
   "name": "python3"
  },
  "language_info": {
   "codemirror_mode": {
    "name": "ipython",
    "version": 3
   },
   "file_extension": ".py",
   "mimetype": "text/x-python",
   "name": "python",
   "nbconvert_exporter": "python",
   "pygments_lexer": "ipython3",
   "version": "3.9.16"
  }
 },
 "nbformat": 4,
 "nbformat_minor": 5
}
