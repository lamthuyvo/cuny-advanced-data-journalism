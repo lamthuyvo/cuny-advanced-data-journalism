{
 "cells": [
  {
   "cell_type": "markdown",
   "metadata": {},
   "source": [
    "### Resampling data and plotting it with pandas and Matplotlib \n",
    "\n",
    "We did our first data analysis with a large data set and saw how we could answer a research question based on a simple categorization. Although it produced good results, that sort of analysis is limited: it looks at the data at only one point in time. Analyzing data across time, on the other hand, allows us to look for trends and better understand the anomalies we encounter. By exploring the changes in data and isolating specific events, we can make meaningful connections between them. \n",
    "\n",
    "In 2017 and 2018, Twitter, Facebook, and Google were heavily criticized for allowing international agents to spread false or misleading content meant to influence public opinion in the US and abroad. This public scrutiny ultimately led to the publication of two major data bundles: one of Russian tweets that—according to Twitter, Congress, and various media reports— were used to manipulate the US media landscape, and another of Iranian tweets doing the same.\n",
    "\n",
    "Our research question is straightforward: How many tweets related to Trump and Clinton were tweeted by Iranian actors over time? We’ll define Trump- and Clinton-related tweets as tweets that use hashtags containing the string `trump` or `clinton` (ignoring case).  \n",
    "\n",
    "Here are the steps we need to take:\n",
    "- Filter our data using a lambda function\n",
    "- Format a data column into a datetime \n",
    "- Use the resample function\n",
    "- plot the data with matplotlib\n"
   ]
  },
  {
   "cell_type": "markdown",
   "metadata": {},
   "source": [
    "Let's start by important `pandas` and `matplotlib` (`import matplotlib.pyplot as plt`):"
   ]
  },
  {
   "cell_type": "code",
   "execution_count": 1,
   "metadata": {},
   "outputs": [],
   "source": [
    "import pandas as pd\n",
    "import matplotlib.pyplot as plt"
   ]
  },
  {
   "cell_type": "markdown",
   "metadata": {},
   "source": [
    "Read in the csv file with the Iranian tweets. You can download them here and make sure you place the data into a `data` folder inside your project folder: [https://archive.org/details/iranian_tweets_csv_hashed/](https://archive.org/details/iranian_tweets_csv_hashed/)"
   ]
  },
  {
   "cell_type": "code",
   "execution_count": 2,
   "metadata": {},
   "outputs": [
    {
     "name": "stdout",
     "output_type": "stream",
     "text": [
      "CPU times: user 12.3 s, sys: 3.22 s, total: 15.5 s\n",
      "Wall time: 36.2 s\n"
     ]
    }
   ],
   "source": [
    "%%time\n",
    "tweets = pd.read_csv('../data/iranian_tweets_csv_hashed.csv')"
   ]
  },
  {
   "cell_type": "code",
   "execution_count": 3,
   "metadata": {},
   "outputs": [
    {
     "data": {
      "text/html": [
       "<div>\n",
       "<style scoped>\n",
       "    .dataframe tbody tr th:only-of-type {\n",
       "        vertical-align: middle;\n",
       "    }\n",
       "\n",
       "    .dataframe tbody tr th {\n",
       "        vertical-align: top;\n",
       "    }\n",
       "\n",
       "    .dataframe thead th {\n",
       "        text-align: right;\n",
       "    }\n",
       "</style>\n",
       "<table border=\"1\" class=\"dataframe\">\n",
       "  <thead>\n",
       "    <tr style=\"text-align: right;\">\n",
       "      <th></th>\n",
       "      <th>tweetid</th>\n",
       "      <th>userid</th>\n",
       "      <th>user_display_name</th>\n",
       "      <th>user_screen_name</th>\n",
       "      <th>user_reported_location</th>\n",
       "      <th>user_profile_description</th>\n",
       "      <th>user_profile_url</th>\n",
       "      <th>follower_count</th>\n",
       "      <th>following_count</th>\n",
       "      <th>account_creation_date</th>\n",
       "      <th>...</th>\n",
       "      <th>latitude</th>\n",
       "      <th>longitude</th>\n",
       "      <th>quote_count</th>\n",
       "      <th>reply_count</th>\n",
       "      <th>like_count</th>\n",
       "      <th>retweet_count</th>\n",
       "      <th>hashtags</th>\n",
       "      <th>urls</th>\n",
       "      <th>user_mentions</th>\n",
       "      <th>poll_choices</th>\n",
       "    </tr>\n",
       "  </thead>\n",
       "  <tbody>\n",
       "    <tr>\n",
       "      <th>0</th>\n",
       "      <td>533622371429543936</td>\n",
       "      <td>299148448</td>\n",
       "      <td>Maria Luis</td>\n",
       "      <td>marialuis91</td>\n",
       "      <td>Nantes, France</td>\n",
       "      <td>journaliste indépendante/un vrai journaliste e...</td>\n",
       "      <td>NaN</td>\n",
       "      <td>8012</td>\n",
       "      <td>1450</td>\n",
       "      <td>2011-05-15</td>\n",
       "      <td>...</td>\n",
       "      <td>NaN</td>\n",
       "      <td>NaN</td>\n",
       "      <td>0.0</td>\n",
       "      <td>0.0</td>\n",
       "      <td>0.0</td>\n",
       "      <td>0.0</td>\n",
       "      <td>NaN</td>\n",
       "      <td>[http://fr.awdnews.com/divertissements/5757-ce...</td>\n",
       "      <td>[574356455]</td>\n",
       "      <td>NaN</td>\n",
       "    </tr>\n",
       "    <tr>\n",
       "      <th>1</th>\n",
       "      <td>527205814906654721</td>\n",
       "      <td>299148448</td>\n",
       "      <td>Maria Luis</td>\n",
       "      <td>marialuis91</td>\n",
       "      <td>Nantes, France</td>\n",
       "      <td>journaliste indépendante/un vrai journaliste e...</td>\n",
       "      <td>NaN</td>\n",
       "      <td>8012</td>\n",
       "      <td>1450</td>\n",
       "      <td>2011-05-15</td>\n",
       "      <td>...</td>\n",
       "      <td>NaN</td>\n",
       "      <td>NaN</td>\n",
       "      <td>0.0</td>\n",
       "      <td>0.0</td>\n",
       "      <td>0.0</td>\n",
       "      <td>0.0</td>\n",
       "      <td>NaN</td>\n",
       "      <td>[http://www.awdnews.com/top-news/10080-an-inqu...</td>\n",
       "      <td>[438542436]</td>\n",
       "      <td>NaN</td>\n",
       "    </tr>\n",
       "    <tr>\n",
       "      <th>2</th>\n",
       "      <td>545166827350134784</td>\n",
       "      <td>299148448</td>\n",
       "      <td>Maria Luis</td>\n",
       "      <td>marialuis91</td>\n",
       "      <td>Nantes, France</td>\n",
       "      <td>journaliste indépendante/un vrai journaliste e...</td>\n",
       "      <td>NaN</td>\n",
       "      <td>8012</td>\n",
       "      <td>1450</td>\n",
       "      <td>2011-05-15</td>\n",
       "      <td>...</td>\n",
       "      <td>NaN</td>\n",
       "      <td>NaN</td>\n",
       "      <td>0.0</td>\n",
       "      <td>0.0</td>\n",
       "      <td>0.0</td>\n",
       "      <td>0.0</td>\n",
       "      <td>NaN</td>\n",
       "      <td>[http://www.awdnews.com/political/10404-cia-pr...</td>\n",
       "      <td>[823905, 256625456]</td>\n",
       "      <td>NaN</td>\n",
       "    </tr>\n",
       "    <tr>\n",
       "      <th>3</th>\n",
       "      <td>538045437316321280</td>\n",
       "      <td>299148448</td>\n",
       "      <td>Maria Luis</td>\n",
       "      <td>marialuis91</td>\n",
       "      <td>Nantes, France</td>\n",
       "      <td>journaliste indépendante/un vrai journaliste e...</td>\n",
       "      <td>NaN</td>\n",
       "      <td>8012</td>\n",
       "      <td>1450</td>\n",
       "      <td>2011-05-15</td>\n",
       "      <td>...</td>\n",
       "      <td>NaN</td>\n",
       "      <td>NaN</td>\n",
       "      <td>0.0</td>\n",
       "      <td>0.0</td>\n",
       "      <td>0.0</td>\n",
       "      <td>0.0</td>\n",
       "      <td>NaN</td>\n",
       "      <td>[http://fr.awdnews.com/divertissements/5796-to...</td>\n",
       "      <td>[919513172]</td>\n",
       "      <td>NaN</td>\n",
       "    </tr>\n",
       "    <tr>\n",
       "      <th>4</th>\n",
       "      <td>530053681668841472</td>\n",
       "      <td>299148448</td>\n",
       "      <td>Maria Luis</td>\n",
       "      <td>marialuis91</td>\n",
       "      <td>Nantes, France</td>\n",
       "      <td>journaliste indépendante/un vrai journaliste e...</td>\n",
       "      <td>NaN</td>\n",
       "      <td>8012</td>\n",
       "      <td>1450</td>\n",
       "      <td>2011-05-15</td>\n",
       "      <td>...</td>\n",
       "      <td>NaN</td>\n",
       "      <td>NaN</td>\n",
       "      <td>0.0</td>\n",
       "      <td>0.0</td>\n",
       "      <td>1.0</td>\n",
       "      <td>2.0</td>\n",
       "      <td>NaN</td>\n",
       "      <td>[http://fr.awdnews.com/soci%C3%A9t%C3%A9/5723-...</td>\n",
       "      <td>[83864876]</td>\n",
       "      <td>NaN</td>\n",
       "    </tr>\n",
       "  </tbody>\n",
       "</table>\n",
       "<p>5 rows × 31 columns</p>\n",
       "</div>"
      ],
      "text/plain": [
       "              tweetid     userid user_display_name user_screen_name  \\\n",
       "0  533622371429543936  299148448        Maria Luis      marialuis91   \n",
       "1  527205814906654721  299148448        Maria Luis      marialuis91   \n",
       "2  545166827350134784  299148448        Maria Luis      marialuis91   \n",
       "3  538045437316321280  299148448        Maria Luis      marialuis91   \n",
       "4  530053681668841472  299148448        Maria Luis      marialuis91   \n",
       "\n",
       "  user_reported_location                           user_profile_description  \\\n",
       "0         Nantes, France  journaliste indépendante/un vrai journaliste e...   \n",
       "1         Nantes, France  journaliste indépendante/un vrai journaliste e...   \n",
       "2         Nantes, France  journaliste indépendante/un vrai journaliste e...   \n",
       "3         Nantes, France  journaliste indépendante/un vrai journaliste e...   \n",
       "4         Nantes, France  journaliste indépendante/un vrai journaliste e...   \n",
       "\n",
       "  user_profile_url  follower_count  following_count account_creation_date  \\\n",
       "0              NaN            8012             1450            2011-05-15   \n",
       "1              NaN            8012             1450            2011-05-15   \n",
       "2              NaN            8012             1450            2011-05-15   \n",
       "3              NaN            8012             1450            2011-05-15   \n",
       "4              NaN            8012             1450            2011-05-15   \n",
       "\n",
       "   ... latitude longitude quote_count reply_count like_count  retweet_count  \\\n",
       "0  ...      NaN       NaN         0.0         0.0        0.0            0.0   \n",
       "1  ...      NaN       NaN         0.0         0.0        0.0            0.0   \n",
       "2  ...      NaN       NaN         0.0         0.0        0.0            0.0   \n",
       "3  ...      NaN       NaN         0.0         0.0        0.0            0.0   \n",
       "4  ...      NaN       NaN         0.0         0.0        1.0            2.0   \n",
       "\n",
       "  hashtags                                               urls  \\\n",
       "0      NaN  [http://fr.awdnews.com/divertissements/5757-ce...   \n",
       "1      NaN  [http://www.awdnews.com/top-news/10080-an-inqu...   \n",
       "2      NaN  [http://www.awdnews.com/political/10404-cia-pr...   \n",
       "3      NaN  [http://fr.awdnews.com/divertissements/5796-to...   \n",
       "4      NaN  [http://fr.awdnews.com/soci%C3%A9t%C3%A9/5723-...   \n",
       "\n",
       "         user_mentions poll_choices  \n",
       "0          [574356455]          NaN  \n",
       "1          [438542436]          NaN  \n",
       "2  [823905, 256625456]          NaN  \n",
       "3          [919513172]          NaN  \n",
       "4           [83864876]          NaN  \n",
       "\n",
       "[5 rows x 31 columns]"
      ]
     },
     "execution_count": 3,
     "metadata": {},
     "output_type": "execute_result"
    }
   ],
   "source": [
    "tweets.head()"
   ]
  },
  {
   "cell_type": "code",
   "execution_count": 4,
   "metadata": {},
   "outputs": [
    {
     "data": {
      "text/plain": [
       "tweetid                       int64\n",
       "userid                       object\n",
       "user_display_name            object\n",
       "user_screen_name             object\n",
       "user_reported_location       object\n",
       "user_profile_description     object\n",
       "user_profile_url             object\n",
       "follower_count                int64\n",
       "following_count               int64\n",
       "account_creation_date        object\n",
       "account_language             object\n",
       "tweet_language               object\n",
       "tweet_text                   object\n",
       "tweet_time                   object\n",
       "tweet_client_name            object\n",
       "in_reply_to_tweetid         float64\n",
       "in_reply_to_userid           object\n",
       "quoted_tweet_tweetid        float64\n",
       "is_retweet                     bool\n",
       "retweet_userid               object\n",
       "retweet_tweetid             float64\n",
       "latitude                    float64\n",
       "longitude                   float64\n",
       "quote_count                 float64\n",
       "reply_count                 float64\n",
       "like_count                  float64\n",
       "retweet_count               float64\n",
       "hashtags                     object\n",
       "urls                         object\n",
       "user_mentions                object\n",
       "poll_choices                 object\n",
       "dtype: object"
      ]
     },
     "execution_count": 4,
     "metadata": {},
     "output_type": "execute_result"
    }
   ],
   "source": [
    "tweets.dtypes"
   ]
  },
  {
   "cell_type": "markdown",
   "metadata": {},
   "source": [
    "### Filter our data using a lambda function\n",
    "\n",
    "We want a dataframe that contains only tweets relating to the 2016 presidential candidates. And we’re going to use a simple heuristic for this: include only tweets whose hashtags include the strings trump, clinton, or both. While this may not catch every tweet about Donald Trump or Hillary Clinton, it’s a clear-cut and easily understandable way to look at the activities of these misinformation agents.\n",
    "\n",
    "For that we will:\n",
    "- look for tweets that used hashtags containing the substrings `trump` or `clinton`\n",
    "- filter down our data based on that condition"
   ]
  },
  {
   "cell_type": "code",
   "execution_count": 5,
   "metadata": {
    "scrolled": false
   },
   "outputs": [
    {
     "data": {
      "text/plain": [
       "[]                                                                                                     557800\n",
       "[realiran]                                                                                               2912\n",
       "[InternationalQudsDay2018, QudsDay4Return, SavePalestine, QudsDay2018, FreePalestine, DeleteIsrael]      2073\n",
       "[Iran]                                                                                                   1828\n",
       "[Realiran]                                                                                               1575\n",
       "                                                                                                        ...  \n",
       "[معیشت, آزادی, امنیت]                                                                                       1\n",
       "[Netanyahu, zionazi, IOF]                                                                                   1\n",
       "[Jews, Abortion]                                                                                            1\n",
       "[Malaysia, ISIS]                                                                                            1\n",
       "[graduation, Bushehr, Iran]                                                                                 1\n",
       "Name: hashtags, Length: 138302, dtype: int64"
      ]
     },
     "execution_count": 5,
     "metadata": {},
     "output_type": "execute_result"
    }
   ],
   "source": [
    "tweets['hashtags'].value_counts()"
   ]
  },
  {
   "cell_type": "code",
   "execution_count": 6,
   "metadata": {},
   "outputs": [],
   "source": [
    "tweets['includes_trump_or_clinton'] = tweets['hashtags'].apply(lambda x: 'clinton' in str(x).lower() or 'trump' in str(x).lower())"
   ]
  },
  {
   "cell_type": "code",
   "execution_count": 7,
   "metadata": {},
   "outputs": [
    {
     "data": {
      "text/html": [
       "<div>\n",
       "<style scoped>\n",
       "    .dataframe tbody tr th:only-of-type {\n",
       "        vertical-align: middle;\n",
       "    }\n",
       "\n",
       "    .dataframe tbody tr th {\n",
       "        vertical-align: top;\n",
       "    }\n",
       "\n",
       "    .dataframe thead th {\n",
       "        text-align: right;\n",
       "    }\n",
       "</style>\n",
       "<table border=\"1\" class=\"dataframe\">\n",
       "  <thead>\n",
       "    <tr style=\"text-align: right;\">\n",
       "      <th></th>\n",
       "      <th>tweetid</th>\n",
       "      <th>userid</th>\n",
       "      <th>user_display_name</th>\n",
       "      <th>user_screen_name</th>\n",
       "      <th>user_reported_location</th>\n",
       "      <th>user_profile_description</th>\n",
       "      <th>user_profile_url</th>\n",
       "      <th>follower_count</th>\n",
       "      <th>following_count</th>\n",
       "      <th>account_creation_date</th>\n",
       "      <th>...</th>\n",
       "      <th>longitude</th>\n",
       "      <th>quote_count</th>\n",
       "      <th>reply_count</th>\n",
       "      <th>like_count</th>\n",
       "      <th>retweet_count</th>\n",
       "      <th>hashtags</th>\n",
       "      <th>urls</th>\n",
       "      <th>user_mentions</th>\n",
       "      <th>poll_choices</th>\n",
       "      <th>includes_trump_or_clinton</th>\n",
       "    </tr>\n",
       "  </thead>\n",
       "  <tbody>\n",
       "    <tr>\n",
       "      <th>394</th>\n",
       "      <td>964543820389109760</td>\n",
       "      <td>1394743334</td>\n",
       "      <td>RealProgressiveFront</td>\n",
       "      <td>RPFront</td>\n",
       "      <td>United States</td>\n",
       "      <td>“RPFront” is an NGO aims to support people’s m...</td>\n",
       "      <td>https://t.co/f3Ui2iVGkz</td>\n",
       "      <td>7099</td>\n",
       "      <td>921</td>\n",
       "      <td>2013-05-01</td>\n",
       "      <td>...</td>\n",
       "      <td>NaN</td>\n",
       "      <td>0.0</td>\n",
       "      <td>0.0</td>\n",
       "      <td>7.0</td>\n",
       "      <td>9.0</td>\n",
       "      <td>[notmypresident, fucktrump]</td>\n",
       "      <td>[http://ift.tt/2CoNelW]</td>\n",
       "      <td>NaN</td>\n",
       "      <td>NaN</td>\n",
       "      <td>True</td>\n",
       "    </tr>\n",
       "    <tr>\n",
       "      <th>417</th>\n",
       "      <td>842984240140763140</td>\n",
       "      <td>e13ac4c5a61faca60ae766c342791c3f6ed8a72d7ad7e5...</td>\n",
       "      <td>e13ac4c5a61faca60ae766c342791c3f6ed8a72d7ad7e5...</td>\n",
       "      <td>e13ac4c5a61faca60ae766c342791c3f6ed8a72d7ad7e5...</td>\n",
       "      <td>Dallas, TX</td>\n",
       "      <td>Resist and Pray</td>\n",
       "      <td>NaN</td>\n",
       "      <td>2343</td>\n",
       "      <td>2088</td>\n",
       "      <td>2017-03-08</td>\n",
       "      <td>...</td>\n",
       "      <td>NaN</td>\n",
       "      <td>0.0</td>\n",
       "      <td>0.0</td>\n",
       "      <td>0.0</td>\n",
       "      <td>0.0</td>\n",
       "      <td>[Trump, Merkel, Outrageous, ObamaGate, WaterGate]</td>\n",
       "      <td>[]</td>\n",
       "      <td>[2311561]</td>\n",
       "      <td>NaN</td>\n",
       "      <td>True</td>\n",
       "    </tr>\n",
       "    <tr>\n",
       "      <th>426</th>\n",
       "      <td>951400129356951552</td>\n",
       "      <td>f2a00a04e99197ee4e5fdfac4597bcc048695f6e588ae4...</td>\n",
       "      <td>f2a00a04e99197ee4e5fdfac4597bcc048695f6e588ae4...</td>\n",
       "      <td>f2a00a04e99197ee4e5fdfac4597bcc048695f6e588ae4...</td>\n",
       "      <td>California,Los Angeles</td>\n",
       "      <td>Journalist</td>\n",
       "      <td>https://t.co/LaseVK51H0</td>\n",
       "      <td>241</td>\n",
       "      <td>316</td>\n",
       "      <td>2018-01-10</td>\n",
       "      <td>...</td>\n",
       "      <td>NaN</td>\n",
       "      <td>0.0</td>\n",
       "      <td>0.0</td>\n",
       "      <td>0.0</td>\n",
       "      <td>0.0</td>\n",
       "      <td>[Trump, Jerusalem, USembassy, Trump, Wednesday...</td>\n",
       "      <td>[]</td>\n",
       "      <td>[853233898398121984]</td>\n",
       "      <td>NaN</td>\n",
       "      <td>True</td>\n",
       "    </tr>\n",
       "    <tr>\n",
       "      <th>432</th>\n",
       "      <td>946110924645109760</td>\n",
       "      <td>3683769196</td>\n",
       "      <td>Alwaght en Español</td>\n",
       "      <td>AlwaghtEs</td>\n",
       "      <td>NaN</td>\n",
       "      <td>NaN</td>\n",
       "      <td>http://t.co/tBLghK2kws</td>\n",
       "      <td>6817</td>\n",
       "      <td>4374</td>\n",
       "      <td>2015-09-17</td>\n",
       "      <td>...</td>\n",
       "      <td>NaN</td>\n",
       "      <td>0.0</td>\n",
       "      <td>0.0</td>\n",
       "      <td>0.0</td>\n",
       "      <td>0.0</td>\n",
       "      <td>[Hezbolá, HAMAS, Trump, Quds]</td>\n",
       "      <td>[http://alwaght.com/es/news/120438]</td>\n",
       "      <td>[3683769196]</td>\n",
       "      <td>NaN</td>\n",
       "      <td>True</td>\n",
       "    </tr>\n",
       "    <tr>\n",
       "      <th>433</th>\n",
       "      <td>954617032972087296</td>\n",
       "      <td>853233898398121984</td>\n",
       "      <td>RiseAgainstTheRight</td>\n",
       "      <td>riseagainstr</td>\n",
       "      <td>California, USA</td>\n",
       "      <td>RiseAgainstTheRight.</td>\n",
       "      <td>NaN</td>\n",
       "      <td>5839</td>\n",
       "      <td>5675</td>\n",
       "      <td>2017-04-15</td>\n",
       "      <td>...</td>\n",
       "      <td>NaN</td>\n",
       "      <td>0.0</td>\n",
       "      <td>0.0</td>\n",
       "      <td>6.0</td>\n",
       "      <td>3.0</td>\n",
       "      <td>[TrumpShutdown, WSUlive, FridayFeeling, USWNT,...</td>\n",
       "      <td>[http://www.libertyfrontpress.com/fire-and-fur...</td>\n",
       "      <td>NaN</td>\n",
       "      <td>NaN</td>\n",
       "      <td>True</td>\n",
       "    </tr>\n",
       "    <tr>\n",
       "      <th>...</th>\n",
       "      <td>...</td>\n",
       "      <td>...</td>\n",
       "      <td>...</td>\n",
       "      <td>...</td>\n",
       "      <td>...</td>\n",
       "      <td>...</td>\n",
       "      <td>...</td>\n",
       "      <td>...</td>\n",
       "      <td>...</td>\n",
       "      <td>...</td>\n",
       "      <td>...</td>\n",
       "      <td>...</td>\n",
       "      <td>...</td>\n",
       "      <td>...</td>\n",
       "      <td>...</td>\n",
       "      <td>...</td>\n",
       "      <td>...</td>\n",
       "      <td>...</td>\n",
       "      <td>...</td>\n",
       "      <td>...</td>\n",
       "      <td>...</td>\n",
       "    </tr>\n",
       "    <tr>\n",
       "      <th>5815</th>\n",
       "      <td>886474407643951104</td>\n",
       "      <td>1803a95a0ab8963650589f13672df24b04f51db32cf950...</td>\n",
       "      <td>1803a95a0ab8963650589f13672df24b04f51db32cf950...</td>\n",
       "      <td>1803a95a0ab8963650589f13672df24b04f51db32cf950...</td>\n",
       "      <td>United States</td>\n",
       "      <td>As an independent news media organization we a...</td>\n",
       "      <td>https://t.co/Q6sWkeqyPp</td>\n",
       "      <td>4581</td>\n",
       "      <td>5257</td>\n",
       "      <td>2017-05-28</td>\n",
       "      <td>...</td>\n",
       "      <td>NaN</td>\n",
       "      <td>0.0</td>\n",
       "      <td>0.0</td>\n",
       "      <td>0.0</td>\n",
       "      <td>0.0</td>\n",
       "      <td>[trump, notrump, talking, brain]</td>\n",
       "      <td>[]</td>\n",
       "      <td>[853144291560042496]</td>\n",
       "      <td>NaN</td>\n",
       "      <td>True</td>\n",
       "    </tr>\n",
       "    <tr>\n",
       "      <th>5824</th>\n",
       "      <td>886197248299630592</td>\n",
       "      <td>e8f265f960bea2dd38b3f8d9e913a0cb07ba40c8a3f766...</td>\n",
       "      <td>e8f265f960bea2dd38b3f8d9e913a0cb07ba40c8a3f766...</td>\n",
       "      <td>e8f265f960bea2dd38b3f8d9e913a0cb07ba40c8a3f766...</td>\n",
       "      <td>United States</td>\n",
       "      <td>NaN</td>\n",
       "      <td>NaN</td>\n",
       "      <td>340</td>\n",
       "      <td>680</td>\n",
       "      <td>2017-07-06</td>\n",
       "      <td>...</td>\n",
       "      <td>NaN</td>\n",
       "      <td>0.0</td>\n",
       "      <td>0.0</td>\n",
       "      <td>0.0</td>\n",
       "      <td>0.0</td>\n",
       "      <td>[trump, county, racist, Nationalist, notrump, ...</td>\n",
       "      <td>[]</td>\n",
       "      <td>[853144291560042496]</td>\n",
       "      <td>NaN</td>\n",
       "      <td>True</td>\n",
       "    </tr>\n",
       "    <tr>\n",
       "      <th>6026</th>\n",
       "      <td>902608026019999745</td>\n",
       "      <td>08f8ce1bb73af31bdf6b4711959433d96fc08d42027e29...</td>\n",
       "      <td>08f8ce1bb73af31bdf6b4711959433d96fc08d42027e29...</td>\n",
       "      <td>08f8ce1bb73af31bdf6b4711959433d96fc08d42027e29...</td>\n",
       "      <td>NaN</td>\n",
       "      <td>Para decir las verdades silenciosas del mundo ...</td>\n",
       "      <td>NaN</td>\n",
       "      <td>4185</td>\n",
       "      <td>3815</td>\n",
       "      <td>2016-08-26</td>\n",
       "      <td>...</td>\n",
       "      <td>NaN</td>\n",
       "      <td>0.0</td>\n",
       "      <td>0.0</td>\n",
       "      <td>0.0</td>\n",
       "      <td>0.0</td>\n",
       "      <td>[Trump, Nieto, muro]</td>\n",
       "      <td>[]</td>\n",
       "      <td>[08f8ce1bb73af31bdf6b4711959433d96fc08d42027e2...</td>\n",
       "      <td>NaN</td>\n",
       "      <td>True</td>\n",
       "    </tr>\n",
       "    <tr>\n",
       "      <th>6051</th>\n",
       "      <td>904595717917900800</td>\n",
       "      <td>1803a95a0ab8963650589f13672df24b04f51db32cf950...</td>\n",
       "      <td>1803a95a0ab8963650589f13672df24b04f51db32cf950...</td>\n",
       "      <td>1803a95a0ab8963650589f13672df24b04f51db32cf950...</td>\n",
       "      <td>United States</td>\n",
       "      <td>As an independent news media organization we a...</td>\n",
       "      <td>https://t.co/Q6sWkeqyPp</td>\n",
       "      <td>4581</td>\n",
       "      <td>5257</td>\n",
       "      <td>2017-05-28</td>\n",
       "      <td>...</td>\n",
       "      <td>NaN</td>\n",
       "      <td>0.0</td>\n",
       "      <td>0.0</td>\n",
       "      <td>0.0</td>\n",
       "      <td>0.0</td>\n",
       "      <td>[law, ImpeachTrump, whitehouse]</td>\n",
       "      <td>[]</td>\n",
       "      <td>[853144291560042496]</td>\n",
       "      <td>NaN</td>\n",
       "      <td>True</td>\n",
       "    </tr>\n",
       "    <tr>\n",
       "      <th>6103</th>\n",
       "      <td>1021333407865933824</td>\n",
       "      <td>2b7865142ead2dfd315a5ba4a391a2a525e7234e7f843f...</td>\n",
       "      <td>2b7865142ead2dfd315a5ba4a391a2a525e7234e7f843f...</td>\n",
       "      <td>2b7865142ead2dfd315a5ba4a391a2a525e7234e7f843f...</td>\n",
       "      <td>France</td>\n",
       "      <td>Site d'Actualité français</td>\n",
       "      <td>https://t.co/JQPQ9AU9IZ</td>\n",
       "      <td>2302</td>\n",
       "      <td>4549</td>\n",
       "      <td>2012-12-08</td>\n",
       "      <td>...</td>\n",
       "      <td>NaN</td>\n",
       "      <td>0.0</td>\n",
       "      <td>0.0</td>\n",
       "      <td>0.0</td>\n",
       "      <td>0.0</td>\n",
       "      <td>[démocrates, républicains, médias, Donald, Tru...</td>\n",
       "      <td>[http://fr.whatsupic.com/index/coup-detat-en-p...</td>\n",
       "      <td>NaN</td>\n",
       "      <td>NaN</td>\n",
       "      <td>True</td>\n",
       "    </tr>\n",
       "  </tbody>\n",
       "</table>\n",
       "<p>100 rows × 32 columns</p>\n",
       "</div>"
      ],
      "text/plain": [
       "                  tweetid                                             userid  \\\n",
       "394    964543820389109760                                         1394743334   \n",
       "417    842984240140763140  e13ac4c5a61faca60ae766c342791c3f6ed8a72d7ad7e5...   \n",
       "426    951400129356951552  f2a00a04e99197ee4e5fdfac4597bcc048695f6e588ae4...   \n",
       "432    946110924645109760                                         3683769196   \n",
       "433    954617032972087296                                 853233898398121984   \n",
       "...                   ...                                                ...   \n",
       "5815   886474407643951104  1803a95a0ab8963650589f13672df24b04f51db32cf950...   \n",
       "5824   886197248299630592  e8f265f960bea2dd38b3f8d9e913a0cb07ba40c8a3f766...   \n",
       "6026   902608026019999745  08f8ce1bb73af31bdf6b4711959433d96fc08d42027e29...   \n",
       "6051   904595717917900800  1803a95a0ab8963650589f13672df24b04f51db32cf950...   \n",
       "6103  1021333407865933824  2b7865142ead2dfd315a5ba4a391a2a525e7234e7f843f...   \n",
       "\n",
       "                                      user_display_name  \\\n",
       "394                                RealProgressiveFront   \n",
       "417   e13ac4c5a61faca60ae766c342791c3f6ed8a72d7ad7e5...   \n",
       "426   f2a00a04e99197ee4e5fdfac4597bcc048695f6e588ae4...   \n",
       "432                                  Alwaght en Español   \n",
       "433                                 RiseAgainstTheRight   \n",
       "...                                                 ...   \n",
       "5815  1803a95a0ab8963650589f13672df24b04f51db32cf950...   \n",
       "5824  e8f265f960bea2dd38b3f8d9e913a0cb07ba40c8a3f766...   \n",
       "6026  08f8ce1bb73af31bdf6b4711959433d96fc08d42027e29...   \n",
       "6051  1803a95a0ab8963650589f13672df24b04f51db32cf950...   \n",
       "6103  2b7865142ead2dfd315a5ba4a391a2a525e7234e7f843f...   \n",
       "\n",
       "                                       user_screen_name  \\\n",
       "394                                             RPFront   \n",
       "417   e13ac4c5a61faca60ae766c342791c3f6ed8a72d7ad7e5...   \n",
       "426   f2a00a04e99197ee4e5fdfac4597bcc048695f6e588ae4...   \n",
       "432                                           AlwaghtEs   \n",
       "433                                        riseagainstr   \n",
       "...                                                 ...   \n",
       "5815  1803a95a0ab8963650589f13672df24b04f51db32cf950...   \n",
       "5824  e8f265f960bea2dd38b3f8d9e913a0cb07ba40c8a3f766...   \n",
       "6026  08f8ce1bb73af31bdf6b4711959433d96fc08d42027e29...   \n",
       "6051  1803a95a0ab8963650589f13672df24b04f51db32cf950...   \n",
       "6103  2b7865142ead2dfd315a5ba4a391a2a525e7234e7f843f...   \n",
       "\n",
       "      user_reported_location  \\\n",
       "394            United States   \n",
       "417               Dallas, TX   \n",
       "426   California,Los Angeles   \n",
       "432                      NaN   \n",
       "433          California, USA   \n",
       "...                      ...   \n",
       "5815           United States   \n",
       "5824           United States   \n",
       "6026                     NaN   \n",
       "6051           United States   \n",
       "6103                  France   \n",
       "\n",
       "                               user_profile_description  \\\n",
       "394   “RPFront” is an NGO aims to support people’s m...   \n",
       "417                                     Resist and Pray   \n",
       "426                                          Journalist   \n",
       "432                                                 NaN   \n",
       "433                                RiseAgainstTheRight.   \n",
       "...                                                 ...   \n",
       "5815  As an independent news media organization we a...   \n",
       "5824                                                NaN   \n",
       "6026  Para decir las verdades silenciosas del mundo ...   \n",
       "6051  As an independent news media organization we a...   \n",
       "6103                          Site d'Actualité français   \n",
       "\n",
       "             user_profile_url  follower_count  following_count  \\\n",
       "394   https://t.co/f3Ui2iVGkz            7099              921   \n",
       "417                       NaN            2343             2088   \n",
       "426   https://t.co/LaseVK51H0             241              316   \n",
       "432    http://t.co/tBLghK2kws            6817             4374   \n",
       "433                       NaN            5839             5675   \n",
       "...                       ...             ...              ...   \n",
       "5815  https://t.co/Q6sWkeqyPp            4581             5257   \n",
       "5824                      NaN             340              680   \n",
       "6026                      NaN            4185             3815   \n",
       "6051  https://t.co/Q6sWkeqyPp            4581             5257   \n",
       "6103  https://t.co/JQPQ9AU9IZ            2302             4549   \n",
       "\n",
       "     account_creation_date  ... longitude quote_count reply_count like_count  \\\n",
       "394             2013-05-01  ...       NaN         0.0         0.0        7.0   \n",
       "417             2017-03-08  ...       NaN         0.0         0.0        0.0   \n",
       "426             2018-01-10  ...       NaN         0.0         0.0        0.0   \n",
       "432             2015-09-17  ...       NaN         0.0         0.0        0.0   \n",
       "433             2017-04-15  ...       NaN         0.0         0.0        6.0   \n",
       "...                    ...  ...       ...         ...         ...        ...   \n",
       "5815            2017-05-28  ...       NaN         0.0         0.0        0.0   \n",
       "5824            2017-07-06  ...       NaN         0.0         0.0        0.0   \n",
       "6026            2016-08-26  ...       NaN         0.0         0.0        0.0   \n",
       "6051            2017-05-28  ...       NaN         0.0         0.0        0.0   \n",
       "6103            2012-12-08  ...       NaN         0.0         0.0        0.0   \n",
       "\n",
       "     retweet_count                                           hashtags  \\\n",
       "394            9.0                        [notmypresident, fucktrump]   \n",
       "417            0.0  [Trump, Merkel, Outrageous, ObamaGate, WaterGate]   \n",
       "426            0.0  [Trump, Jerusalem, USembassy, Trump, Wednesday...   \n",
       "432            0.0                      [Hezbolá, HAMAS, Trump, Quds]   \n",
       "433            3.0  [TrumpShutdown, WSUlive, FridayFeeling, USWNT,...   \n",
       "...            ...                                                ...   \n",
       "5815           0.0                   [trump, notrump, talking, brain]   \n",
       "5824           0.0  [trump, county, racist, Nationalist, notrump, ...   \n",
       "6026           0.0                               [Trump, Nieto, muro]   \n",
       "6051           0.0                    [law, ImpeachTrump, whitehouse]   \n",
       "6103           0.0  [démocrates, républicains, médias, Donald, Tru...   \n",
       "\n",
       "                                                   urls  \\\n",
       "394                             [http://ift.tt/2CoNelW]   \n",
       "417                                                  []   \n",
       "426                                                  []   \n",
       "432                 [http://alwaght.com/es/news/120438]   \n",
       "433   [http://www.libertyfrontpress.com/fire-and-fur...   \n",
       "...                                                 ...   \n",
       "5815                                                 []   \n",
       "5824                                                 []   \n",
       "6026                                                 []   \n",
       "6051                                                 []   \n",
       "6103  [http://fr.whatsupic.com/index/coup-detat-en-p...   \n",
       "\n",
       "                                          user_mentions  poll_choices  \\\n",
       "394                                                 NaN           NaN   \n",
       "417                                           [2311561]           NaN   \n",
       "426                                [853233898398121984]           NaN   \n",
       "432                                        [3683769196]           NaN   \n",
       "433                                                 NaN           NaN   \n",
       "...                                                 ...           ...   \n",
       "5815                               [853144291560042496]           NaN   \n",
       "5824                               [853144291560042496]           NaN   \n",
       "6026  [08f8ce1bb73af31bdf6b4711959433d96fc08d42027e2...           NaN   \n",
       "6051                               [853144291560042496]           NaN   \n",
       "6103                                                NaN           NaN   \n",
       "\n",
       "     includes_trump_or_clinton  \n",
       "394                       True  \n",
       "417                       True  \n",
       "426                       True  \n",
       "432                       True  \n",
       "433                       True  \n",
       "...                        ...  \n",
       "5815                      True  \n",
       "5824                      True  \n",
       "6026                      True  \n",
       "6051                      True  \n",
       "6103                      True  \n",
       "\n",
       "[100 rows x 32 columns]"
      ]
     },
     "execution_count": 7,
     "metadata": {},
     "output_type": "execute_result"
    }
   ],
   "source": [
    "tweets[tweets['includes_trump_or_clinton'] == True].head(100)"
   ]
  },
  {
   "cell_type": "code",
   "execution_count": 8,
   "metadata": {},
   "outputs": [],
   "source": [
    "tweets_subset = tweets[tweets['includes_trump_or_clinton'] == True]"
   ]
  },
  {
   "cell_type": "markdown",
   "metadata": {},
   "source": [
    "### Resampling our data over time\n",
    "\n",
    "To get a tally of these tweets over time we need to:\n",
    "- format a column as a date time\n",
    "- set the index of our dataframe to this date time column\n",
    "- resample our dataframe "
   ]
  },
  {
   "cell_type": "code",
   "execution_count": 9,
   "metadata": {
    "scrolled": true
   },
   "outputs": [
    {
     "data": {
      "text/plain": [
       "tweetid                        int64\n",
       "userid                        object\n",
       "user_display_name             object\n",
       "user_screen_name              object\n",
       "user_reported_location        object\n",
       "user_profile_description      object\n",
       "user_profile_url              object\n",
       "follower_count                 int64\n",
       "following_count                int64\n",
       "account_creation_date         object\n",
       "account_language              object\n",
       "tweet_language                object\n",
       "tweet_text                    object\n",
       "tweet_time                    object\n",
       "tweet_client_name             object\n",
       "in_reply_to_tweetid          float64\n",
       "in_reply_to_userid            object\n",
       "quoted_tweet_tweetid         float64\n",
       "is_retweet                      bool\n",
       "retweet_userid                object\n",
       "retweet_tweetid              float64\n",
       "latitude                     float64\n",
       "longitude                    float64\n",
       "quote_count                  float64\n",
       "reply_count                  float64\n",
       "like_count                   float64\n",
       "retweet_count                float64\n",
       "hashtags                      object\n",
       "urls                          object\n",
       "user_mentions                 object\n",
       "poll_choices                  object\n",
       "includes_trump_or_clinton       bool\n",
       "dtype: object"
      ]
     },
     "execution_count": 9,
     "metadata": {},
     "output_type": "execute_result"
    }
   ],
   "source": [
    "tweets_subset.dtypes"
   ]
  },
  {
   "cell_type": "code",
   "execution_count": 10,
   "metadata": {},
   "outputs": [
    {
     "name": "stderr",
     "output_type": "stream",
     "text": [
      "/var/folders/lw/9fwsvtm56_d6lkb4v5m8nyvm0000gn/T/ipykernel_46181/2943695251.py:1: SettingWithCopyWarning: \n",
      "A value is trying to be set on a copy of a slice from a DataFrame.\n",
      "Try using .loc[row_indexer,col_indexer] = value instead\n",
      "\n",
      "See the caveats in the documentation: https://pandas.pydata.org/pandas-docs/stable/user_guide/indexing.html#returning-a-view-versus-a-copy\n",
      "  tweets_subset['tweet_time'] = tweets_subset['tweet_time'].astype('datetime64[ns]')\n"
     ]
    }
   ],
   "source": [
    "tweets_subset['tweet_time'] = tweets_subset['tweet_time'].astype('datetime64[ns]')"
   ]
  },
  {
   "cell_type": "code",
   "execution_count": 11,
   "metadata": {},
   "outputs": [
    {
     "data": {
      "text/plain": [
       "tweetid                               int64\n",
       "userid                               object\n",
       "user_display_name                    object\n",
       "user_screen_name                     object\n",
       "user_reported_location               object\n",
       "user_profile_description             object\n",
       "user_profile_url                     object\n",
       "follower_count                        int64\n",
       "following_count                       int64\n",
       "account_creation_date                object\n",
       "account_language                     object\n",
       "tweet_language                       object\n",
       "tweet_text                           object\n",
       "tweet_time                   datetime64[ns]\n",
       "tweet_client_name                    object\n",
       "in_reply_to_tweetid                 float64\n",
       "in_reply_to_userid                   object\n",
       "quoted_tweet_tweetid                float64\n",
       "is_retweet                             bool\n",
       "retweet_userid                       object\n",
       "retweet_tweetid                     float64\n",
       "latitude                            float64\n",
       "longitude                           float64\n",
       "quote_count                         float64\n",
       "reply_count                         float64\n",
       "like_count                          float64\n",
       "retweet_count                       float64\n",
       "hashtags                             object\n",
       "urls                                 object\n",
       "user_mentions                        object\n",
       "poll_choices                         object\n",
       "includes_trump_or_clinton              bool\n",
       "dtype: object"
      ]
     },
     "execution_count": 11,
     "metadata": {},
     "output_type": "execute_result"
    }
   ],
   "source": [
    "tweets_subset.dtypes"
   ]
  },
  {
   "cell_type": "code",
   "execution_count": 12,
   "metadata": {},
   "outputs": [
    {
     "data": {
      "text/html": [
       "<div>\n",
       "<style scoped>\n",
       "    .dataframe tbody tr th:only-of-type {\n",
       "        vertical-align: middle;\n",
       "    }\n",
       "\n",
       "    .dataframe tbody tr th {\n",
       "        vertical-align: top;\n",
       "    }\n",
       "\n",
       "    .dataframe thead th {\n",
       "        text-align: right;\n",
       "    }\n",
       "</style>\n",
       "<table border=\"1\" class=\"dataframe\">\n",
       "  <thead>\n",
       "    <tr style=\"text-align: right;\">\n",
       "      <th></th>\n",
       "      <th>tweetid</th>\n",
       "      <th>userid</th>\n",
       "      <th>user_display_name</th>\n",
       "      <th>user_screen_name</th>\n",
       "      <th>user_reported_location</th>\n",
       "      <th>user_profile_description</th>\n",
       "      <th>user_profile_url</th>\n",
       "      <th>follower_count</th>\n",
       "      <th>following_count</th>\n",
       "      <th>account_creation_date</th>\n",
       "      <th>...</th>\n",
       "      <th>longitude</th>\n",
       "      <th>quote_count</th>\n",
       "      <th>reply_count</th>\n",
       "      <th>like_count</th>\n",
       "      <th>retweet_count</th>\n",
       "      <th>hashtags</th>\n",
       "      <th>urls</th>\n",
       "      <th>user_mentions</th>\n",
       "      <th>poll_choices</th>\n",
       "      <th>includes_trump_or_clinton</th>\n",
       "    </tr>\n",
       "    <tr>\n",
       "      <th>tweet_time</th>\n",
       "      <th></th>\n",
       "      <th></th>\n",
       "      <th></th>\n",
       "      <th></th>\n",
       "      <th></th>\n",
       "      <th></th>\n",
       "      <th></th>\n",
       "      <th></th>\n",
       "      <th></th>\n",
       "      <th></th>\n",
       "      <th></th>\n",
       "      <th></th>\n",
       "      <th></th>\n",
       "      <th></th>\n",
       "      <th></th>\n",
       "      <th></th>\n",
       "      <th></th>\n",
       "      <th></th>\n",
       "      <th></th>\n",
       "      <th></th>\n",
       "      <th></th>\n",
       "    </tr>\n",
       "  </thead>\n",
       "  <tbody>\n",
       "    <tr>\n",
       "      <th>2018-02-16 16:55:00</th>\n",
       "      <td>964543820389109760</td>\n",
       "      <td>1394743334</td>\n",
       "      <td>RealProgressiveFront</td>\n",
       "      <td>RPFront</td>\n",
       "      <td>United States</td>\n",
       "      <td>“RPFront” is an NGO aims to support people’s m...</td>\n",
       "      <td>https://t.co/f3Ui2iVGkz</td>\n",
       "      <td>7099</td>\n",
       "      <td>921</td>\n",
       "      <td>2013-05-01</td>\n",
       "      <td>...</td>\n",
       "      <td>NaN</td>\n",
       "      <td>0.0</td>\n",
       "      <td>0.0</td>\n",
       "      <td>7.0</td>\n",
       "      <td>9.0</td>\n",
       "      <td>[notmypresident, fucktrump]</td>\n",
       "      <td>[http://ift.tt/2CoNelW]</td>\n",
       "      <td>NaN</td>\n",
       "      <td>NaN</td>\n",
       "      <td>True</td>\n",
       "    </tr>\n",
       "    <tr>\n",
       "      <th>2017-03-18 06:21:00</th>\n",
       "      <td>842984240140763140</td>\n",
       "      <td>e13ac4c5a61faca60ae766c342791c3f6ed8a72d7ad7e5...</td>\n",
       "      <td>e13ac4c5a61faca60ae766c342791c3f6ed8a72d7ad7e5...</td>\n",
       "      <td>e13ac4c5a61faca60ae766c342791c3f6ed8a72d7ad7e5...</td>\n",
       "      <td>Dallas, TX</td>\n",
       "      <td>Resist and Pray</td>\n",
       "      <td>NaN</td>\n",
       "      <td>2343</td>\n",
       "      <td>2088</td>\n",
       "      <td>2017-03-08</td>\n",
       "      <td>...</td>\n",
       "      <td>NaN</td>\n",
       "      <td>0.0</td>\n",
       "      <td>0.0</td>\n",
       "      <td>0.0</td>\n",
       "      <td>0.0</td>\n",
       "      <td>[Trump, Merkel, Outrageous, ObamaGate, WaterGate]</td>\n",
       "      <td>[]</td>\n",
       "      <td>[2311561]</td>\n",
       "      <td>NaN</td>\n",
       "      <td>True</td>\n",
       "    </tr>\n",
       "    <tr>\n",
       "      <th>2018-01-11 10:27:00</th>\n",
       "      <td>951400129356951552</td>\n",
       "      <td>f2a00a04e99197ee4e5fdfac4597bcc048695f6e588ae4...</td>\n",
       "      <td>f2a00a04e99197ee4e5fdfac4597bcc048695f6e588ae4...</td>\n",
       "      <td>f2a00a04e99197ee4e5fdfac4597bcc048695f6e588ae4...</td>\n",
       "      <td>California,Los Angeles</td>\n",
       "      <td>Journalist</td>\n",
       "      <td>https://t.co/LaseVK51H0</td>\n",
       "      <td>241</td>\n",
       "      <td>316</td>\n",
       "      <td>2018-01-10</td>\n",
       "      <td>...</td>\n",
       "      <td>NaN</td>\n",
       "      <td>0.0</td>\n",
       "      <td>0.0</td>\n",
       "      <td>0.0</td>\n",
       "      <td>0.0</td>\n",
       "      <td>[Trump, Jerusalem, USembassy, Trump, Wednesday...</td>\n",
       "      <td>[]</td>\n",
       "      <td>[853233898398121984]</td>\n",
       "      <td>NaN</td>\n",
       "      <td>True</td>\n",
       "    </tr>\n",
       "    <tr>\n",
       "      <th>2017-12-27 20:09:00</th>\n",
       "      <td>946110924645109760</td>\n",
       "      <td>3683769196</td>\n",
       "      <td>Alwaght en Español</td>\n",
       "      <td>AlwaghtEs</td>\n",
       "      <td>NaN</td>\n",
       "      <td>NaN</td>\n",
       "      <td>http://t.co/tBLghK2kws</td>\n",
       "      <td>6817</td>\n",
       "      <td>4374</td>\n",
       "      <td>2015-09-17</td>\n",
       "      <td>...</td>\n",
       "      <td>NaN</td>\n",
       "      <td>0.0</td>\n",
       "      <td>0.0</td>\n",
       "      <td>0.0</td>\n",
       "      <td>0.0</td>\n",
       "      <td>[Hezbolá, HAMAS, Trump, Quds]</td>\n",
       "      <td>[http://alwaght.com/es/news/120438]</td>\n",
       "      <td>[3683769196]</td>\n",
       "      <td>NaN</td>\n",
       "      <td>True</td>\n",
       "    </tr>\n",
       "    <tr>\n",
       "      <th>2018-01-20 07:30:00</th>\n",
       "      <td>954617032972087296</td>\n",
       "      <td>853233898398121984</td>\n",
       "      <td>RiseAgainstTheRight</td>\n",
       "      <td>riseagainstr</td>\n",
       "      <td>California, USA</td>\n",
       "      <td>RiseAgainstTheRight.</td>\n",
       "      <td>NaN</td>\n",
       "      <td>5839</td>\n",
       "      <td>5675</td>\n",
       "      <td>2017-04-15</td>\n",
       "      <td>...</td>\n",
       "      <td>NaN</td>\n",
       "      <td>0.0</td>\n",
       "      <td>0.0</td>\n",
       "      <td>6.0</td>\n",
       "      <td>3.0</td>\n",
       "      <td>[TrumpShutdown, WSUlive, FridayFeeling, USWNT,...</td>\n",
       "      <td>[http://www.libertyfrontpress.com/fire-and-fur...</td>\n",
       "      <td>NaN</td>\n",
       "      <td>NaN</td>\n",
       "      <td>True</td>\n",
       "    </tr>\n",
       "  </tbody>\n",
       "</table>\n",
       "<p>5 rows × 31 columns</p>\n",
       "</div>"
      ],
      "text/plain": [
       "                                tweetid  \\\n",
       "tweet_time                                \n",
       "2018-02-16 16:55:00  964543820389109760   \n",
       "2017-03-18 06:21:00  842984240140763140   \n",
       "2018-01-11 10:27:00  951400129356951552   \n",
       "2017-12-27 20:09:00  946110924645109760   \n",
       "2018-01-20 07:30:00  954617032972087296   \n",
       "\n",
       "                                                                userid  \\\n",
       "tweet_time                                                               \n",
       "2018-02-16 16:55:00                                         1394743334   \n",
       "2017-03-18 06:21:00  e13ac4c5a61faca60ae766c342791c3f6ed8a72d7ad7e5...   \n",
       "2018-01-11 10:27:00  f2a00a04e99197ee4e5fdfac4597bcc048695f6e588ae4...   \n",
       "2017-12-27 20:09:00                                         3683769196   \n",
       "2018-01-20 07:30:00                                 853233898398121984   \n",
       "\n",
       "                                                     user_display_name  \\\n",
       "tweet_time                                                               \n",
       "2018-02-16 16:55:00                               RealProgressiveFront   \n",
       "2017-03-18 06:21:00  e13ac4c5a61faca60ae766c342791c3f6ed8a72d7ad7e5...   \n",
       "2018-01-11 10:27:00  f2a00a04e99197ee4e5fdfac4597bcc048695f6e588ae4...   \n",
       "2017-12-27 20:09:00                                 Alwaght en Español   \n",
       "2018-01-20 07:30:00                                RiseAgainstTheRight   \n",
       "\n",
       "                                                      user_screen_name  \\\n",
       "tweet_time                                                               \n",
       "2018-02-16 16:55:00                                            RPFront   \n",
       "2017-03-18 06:21:00  e13ac4c5a61faca60ae766c342791c3f6ed8a72d7ad7e5...   \n",
       "2018-01-11 10:27:00  f2a00a04e99197ee4e5fdfac4597bcc048695f6e588ae4...   \n",
       "2017-12-27 20:09:00                                          AlwaghtEs   \n",
       "2018-01-20 07:30:00                                       riseagainstr   \n",
       "\n",
       "                     user_reported_location  \\\n",
       "tweet_time                                    \n",
       "2018-02-16 16:55:00           United States   \n",
       "2017-03-18 06:21:00              Dallas, TX   \n",
       "2018-01-11 10:27:00  California,Los Angeles   \n",
       "2017-12-27 20:09:00                     NaN   \n",
       "2018-01-20 07:30:00         California, USA   \n",
       "\n",
       "                                              user_profile_description  \\\n",
       "tweet_time                                                               \n",
       "2018-02-16 16:55:00  “RPFront” is an NGO aims to support people’s m...   \n",
       "2017-03-18 06:21:00                                    Resist and Pray   \n",
       "2018-01-11 10:27:00                                         Journalist   \n",
       "2017-12-27 20:09:00                                                NaN   \n",
       "2018-01-20 07:30:00                               RiseAgainstTheRight.   \n",
       "\n",
       "                            user_profile_url  follower_count  following_count  \\\n",
       "tweet_time                                                                      \n",
       "2018-02-16 16:55:00  https://t.co/f3Ui2iVGkz            7099              921   \n",
       "2017-03-18 06:21:00                      NaN            2343             2088   \n",
       "2018-01-11 10:27:00  https://t.co/LaseVK51H0             241              316   \n",
       "2017-12-27 20:09:00   http://t.co/tBLghK2kws            6817             4374   \n",
       "2018-01-20 07:30:00                      NaN            5839             5675   \n",
       "\n",
       "                    account_creation_date  ... longitude quote_count  \\\n",
       "tweet_time                                 ...                         \n",
       "2018-02-16 16:55:00            2013-05-01  ...       NaN         0.0   \n",
       "2017-03-18 06:21:00            2017-03-08  ...       NaN         0.0   \n",
       "2018-01-11 10:27:00            2018-01-10  ...       NaN         0.0   \n",
       "2017-12-27 20:09:00            2015-09-17  ...       NaN         0.0   \n",
       "2018-01-20 07:30:00            2017-04-15  ...       NaN         0.0   \n",
       "\n",
       "                    reply_count like_count  retweet_count  \\\n",
       "tweet_time                                                  \n",
       "2018-02-16 16:55:00         0.0        7.0            9.0   \n",
       "2017-03-18 06:21:00         0.0        0.0            0.0   \n",
       "2018-01-11 10:27:00         0.0        0.0            0.0   \n",
       "2017-12-27 20:09:00         0.0        0.0            0.0   \n",
       "2018-01-20 07:30:00         0.0        6.0            3.0   \n",
       "\n",
       "                                                              hashtags  \\\n",
       "tweet_time                                                               \n",
       "2018-02-16 16:55:00                        [notmypresident, fucktrump]   \n",
       "2017-03-18 06:21:00  [Trump, Merkel, Outrageous, ObamaGate, WaterGate]   \n",
       "2018-01-11 10:27:00  [Trump, Jerusalem, USembassy, Trump, Wednesday...   \n",
       "2017-12-27 20:09:00                      [Hezbolá, HAMAS, Trump, Quds]   \n",
       "2018-01-20 07:30:00  [TrumpShutdown, WSUlive, FridayFeeling, USWNT,...   \n",
       "\n",
       "                                                                  urls  \\\n",
       "tweet_time                                                               \n",
       "2018-02-16 16:55:00                            [http://ift.tt/2CoNelW]   \n",
       "2017-03-18 06:21:00                                                 []   \n",
       "2018-01-11 10:27:00                                                 []   \n",
       "2017-12-27 20:09:00                [http://alwaght.com/es/news/120438]   \n",
       "2018-01-20 07:30:00  [http://www.libertyfrontpress.com/fire-and-fur...   \n",
       "\n",
       "                            user_mentions poll_choices  \\\n",
       "tweet_time                                               \n",
       "2018-02-16 16:55:00                   NaN          NaN   \n",
       "2017-03-18 06:21:00             [2311561]          NaN   \n",
       "2018-01-11 10:27:00  [853233898398121984]          NaN   \n",
       "2017-12-27 20:09:00          [3683769196]          NaN   \n",
       "2018-01-20 07:30:00                   NaN          NaN   \n",
       "\n",
       "                     includes_trump_or_clinton  \n",
       "tweet_time                                      \n",
       "2018-02-16 16:55:00                       True  \n",
       "2017-03-18 06:21:00                       True  \n",
       "2018-01-11 10:27:00                       True  \n",
       "2017-12-27 20:09:00                       True  \n",
       "2018-01-20 07:30:00                       True  \n",
       "\n",
       "[5 rows x 31 columns]"
      ]
     },
     "execution_count": 12,
     "metadata": {},
     "output_type": "execute_result"
    }
   ],
   "source": [
    "tweets_over_time = tweets_subset.set_index('tweet_time')\n",
    "tweets_over_time.head()"
   ]
  },
  {
   "cell_type": "code",
   "execution_count": 13,
   "metadata": {},
   "outputs": [
    {
     "data": {
      "text/html": [
       "<div>\n",
       "<style scoped>\n",
       "    .dataframe tbody tr th:only-of-type {\n",
       "        vertical-align: middle;\n",
       "    }\n",
       "\n",
       "    .dataframe tbody tr th {\n",
       "        vertical-align: top;\n",
       "    }\n",
       "\n",
       "    .dataframe thead th {\n",
       "        text-align: right;\n",
       "    }\n",
       "</style>\n",
       "<table border=\"1\" class=\"dataframe\">\n",
       "  <thead>\n",
       "    <tr style=\"text-align: right;\">\n",
       "      <th></th>\n",
       "      <th>tweetid</th>\n",
       "      <th>userid</th>\n",
       "      <th>user_display_name</th>\n",
       "      <th>user_screen_name</th>\n",
       "      <th>user_reported_location</th>\n",
       "      <th>user_profile_description</th>\n",
       "      <th>user_profile_url</th>\n",
       "      <th>follower_count</th>\n",
       "      <th>following_count</th>\n",
       "      <th>account_creation_date</th>\n",
       "      <th>...</th>\n",
       "      <th>longitude</th>\n",
       "      <th>quote_count</th>\n",
       "      <th>reply_count</th>\n",
       "      <th>like_count</th>\n",
       "      <th>retweet_count</th>\n",
       "      <th>hashtags</th>\n",
       "      <th>urls</th>\n",
       "      <th>user_mentions</th>\n",
       "      <th>poll_choices</th>\n",
       "      <th>includes_trump_or_clinton</th>\n",
       "    </tr>\n",
       "    <tr>\n",
       "      <th>tweet_time</th>\n",
       "      <th></th>\n",
       "      <th></th>\n",
       "      <th></th>\n",
       "      <th></th>\n",
       "      <th></th>\n",
       "      <th></th>\n",
       "      <th></th>\n",
       "      <th></th>\n",
       "      <th></th>\n",
       "      <th></th>\n",
       "      <th></th>\n",
       "      <th></th>\n",
       "      <th></th>\n",
       "      <th></th>\n",
       "      <th></th>\n",
       "      <th></th>\n",
       "      <th></th>\n",
       "      <th></th>\n",
       "      <th></th>\n",
       "      <th></th>\n",
       "      <th></th>\n",
       "    </tr>\n",
       "  </thead>\n",
       "  <tbody>\n",
       "    <tr>\n",
       "      <th>2013-08-31</th>\n",
       "      <td>1</td>\n",
       "      <td>1</td>\n",
       "      <td>1</td>\n",
       "      <td>1</td>\n",
       "      <td>1</td>\n",
       "      <td>1</td>\n",
       "      <td>1</td>\n",
       "      <td>1</td>\n",
       "      <td>1</td>\n",
       "      <td>1</td>\n",
       "      <td>...</td>\n",
       "      <td>0</td>\n",
       "      <td>1</td>\n",
       "      <td>1</td>\n",
       "      <td>1</td>\n",
       "      <td>1</td>\n",
       "      <td>1</td>\n",
       "      <td>1</td>\n",
       "      <td>0</td>\n",
       "      <td>0</td>\n",
       "      <td>1</td>\n",
       "    </tr>\n",
       "    <tr>\n",
       "      <th>2013-09-30</th>\n",
       "      <td>0</td>\n",
       "      <td>0</td>\n",
       "      <td>0</td>\n",
       "      <td>0</td>\n",
       "      <td>0</td>\n",
       "      <td>0</td>\n",
       "      <td>0</td>\n",
       "      <td>0</td>\n",
       "      <td>0</td>\n",
       "      <td>0</td>\n",
       "      <td>...</td>\n",
       "      <td>0</td>\n",
       "      <td>0</td>\n",
       "      <td>0</td>\n",
       "      <td>0</td>\n",
       "      <td>0</td>\n",
       "      <td>0</td>\n",
       "      <td>0</td>\n",
       "      <td>0</td>\n",
       "      <td>0</td>\n",
       "      <td>0</td>\n",
       "    </tr>\n",
       "    <tr>\n",
       "      <th>2013-10-31</th>\n",
       "      <td>0</td>\n",
       "      <td>0</td>\n",
       "      <td>0</td>\n",
       "      <td>0</td>\n",
       "      <td>0</td>\n",
       "      <td>0</td>\n",
       "      <td>0</td>\n",
       "      <td>0</td>\n",
       "      <td>0</td>\n",
       "      <td>0</td>\n",
       "      <td>...</td>\n",
       "      <td>0</td>\n",
       "      <td>0</td>\n",
       "      <td>0</td>\n",
       "      <td>0</td>\n",
       "      <td>0</td>\n",
       "      <td>0</td>\n",
       "      <td>0</td>\n",
       "      <td>0</td>\n",
       "      <td>0</td>\n",
       "      <td>0</td>\n",
       "    </tr>\n",
       "    <tr>\n",
       "      <th>2013-11-30</th>\n",
       "      <td>2</td>\n",
       "      <td>2</td>\n",
       "      <td>2</td>\n",
       "      <td>2</td>\n",
       "      <td>2</td>\n",
       "      <td>2</td>\n",
       "      <td>2</td>\n",
       "      <td>2</td>\n",
       "      <td>2</td>\n",
       "      <td>2</td>\n",
       "      <td>...</td>\n",
       "      <td>0</td>\n",
       "      <td>2</td>\n",
       "      <td>2</td>\n",
       "      <td>2</td>\n",
       "      <td>2</td>\n",
       "      <td>2</td>\n",
       "      <td>2</td>\n",
       "      <td>0</td>\n",
       "      <td>0</td>\n",
       "      <td>2</td>\n",
       "    </tr>\n",
       "    <tr>\n",
       "      <th>2013-12-31</th>\n",
       "      <td>0</td>\n",
       "      <td>0</td>\n",
       "      <td>0</td>\n",
       "      <td>0</td>\n",
       "      <td>0</td>\n",
       "      <td>0</td>\n",
       "      <td>0</td>\n",
       "      <td>0</td>\n",
       "      <td>0</td>\n",
       "      <td>0</td>\n",
       "      <td>...</td>\n",
       "      <td>0</td>\n",
       "      <td>0</td>\n",
       "      <td>0</td>\n",
       "      <td>0</td>\n",
       "      <td>0</td>\n",
       "      <td>0</td>\n",
       "      <td>0</td>\n",
       "      <td>0</td>\n",
       "      <td>0</td>\n",
       "      <td>0</td>\n",
       "    </tr>\n",
       "  </tbody>\n",
       "</table>\n",
       "<p>5 rows × 31 columns</p>\n",
       "</div>"
      ],
      "text/plain": [
       "            tweetid  userid  user_display_name  user_screen_name  \\\n",
       "tweet_time                                                         \n",
       "2013-08-31        1       1                  1                 1   \n",
       "2013-09-30        0       0                  0                 0   \n",
       "2013-10-31        0       0                  0                 0   \n",
       "2013-11-30        2       2                  2                 2   \n",
       "2013-12-31        0       0                  0                 0   \n",
       "\n",
       "            user_reported_location  user_profile_description  \\\n",
       "tweet_time                                                     \n",
       "2013-08-31                       1                         1   \n",
       "2013-09-30                       0                         0   \n",
       "2013-10-31                       0                         0   \n",
       "2013-11-30                       2                         2   \n",
       "2013-12-31                       0                         0   \n",
       "\n",
       "            user_profile_url  follower_count  following_count  \\\n",
       "tweet_time                                                      \n",
       "2013-08-31                 1               1                1   \n",
       "2013-09-30                 0               0                0   \n",
       "2013-10-31                 0               0                0   \n",
       "2013-11-30                 2               2                2   \n",
       "2013-12-31                 0               0                0   \n",
       "\n",
       "            account_creation_date  ...  longitude  quote_count  reply_count  \\\n",
       "tweet_time                         ...                                        \n",
       "2013-08-31                      1  ...          0            1            1   \n",
       "2013-09-30                      0  ...          0            0            0   \n",
       "2013-10-31                      0  ...          0            0            0   \n",
       "2013-11-30                      2  ...          0            2            2   \n",
       "2013-12-31                      0  ...          0            0            0   \n",
       "\n",
       "            like_count  retweet_count  hashtags  urls  user_mentions  \\\n",
       "tweet_time                                                             \n",
       "2013-08-31           1              1         1     1              0   \n",
       "2013-09-30           0              0         0     0              0   \n",
       "2013-10-31           0              0         0     0              0   \n",
       "2013-11-30           2              2         2     2              0   \n",
       "2013-12-31           0              0         0     0              0   \n",
       "\n",
       "            poll_choices  includes_trump_or_clinton  \n",
       "tweet_time                                           \n",
       "2013-08-31             0                          1  \n",
       "2013-09-30             0                          0  \n",
       "2013-10-31             0                          0  \n",
       "2013-11-30             0                          2  \n",
       "2013-12-31             0                          0  \n",
       "\n",
       "[5 rows x 31 columns]"
      ]
     },
     "execution_count": 13,
     "metadata": {},
     "output_type": "execute_result"
    }
   ],
   "source": [
    "tweet_tally = tweets_over_time.resample('M').count()\n",
    "tweet_tally.head()"
   ]
  },
  {
   "cell_type": "code",
   "execution_count": 14,
   "metadata": {},
   "outputs": [
    {
     "data": {
      "text/plain": [
       "tweet_time\n",
       "2013-08-31    1\n",
       "2013-09-30    0\n",
       "2013-10-31    0\n",
       "2013-11-30    2\n",
       "2013-12-31    0\n",
       "Freq: M, Name: tweetid, dtype: int64"
      ]
     },
     "execution_count": 14,
     "metadata": {},
     "output_type": "execute_result"
    }
   ],
   "source": [
    "monthly_tweet_count = tweet_tally['tweetid']\n",
    "monthly_tweet_count.head()"
   ]
  },
  {
   "cell_type": "markdown",
   "metadata": {},
   "source": [
    "### Plot your data \n",
    "\n",
    "Now it's time to plot your data to better understand trends over time!"
   ]
  },
  {
   "cell_type": "code",
   "execution_count": 15,
   "metadata": {},
   "outputs": [
    {
     "data": {
      "text/plain": [
       "[<matplotlib.lines.Line2D at 0x13ad38c40>]"
      ]
     },
     "execution_count": 15,
     "metadata": {},
     "output_type": "execute_result"
    },
    {
     "data": {
      "image/png": "[encoded data removed]",
      "text/plain": [
       "<Figure size 432x288 with 1 Axes>"
      ]
     },
     "metadata": {
      "needs_background": "light"
     },
     "output_type": "display_data"
    }
   ],
   "source": [
    "plt.plot(monthly_tweet_count)"
   ]
  },
  {
   "cell_type": "code",
   "execution_count": 16,
   "metadata": {},
   "outputs": [
    {
     "data": {
      "text/plain": [
       "1122936"
      ]
     },
     "execution_count": 16,
     "metadata": {},
     "output_type": "execute_result"
    }
   ],
   "source": [
    "len(tweets['tweetid'])"
   ]
  },
  {
   "cell_type": "code",
   "execution_count": 17,
   "metadata": {},
   "outputs": [
    {
     "data": {
      "text/plain": [
       "1122936"
      ]
     },
     "execution_count": 17,
     "metadata": {},
     "output_type": "execute_result"
    }
   ],
   "source": [
    "len(tweets)"
   ]
  },
  {
   "cell_type": "markdown",
   "metadata": {},
   "source": [
    "### Modifying your chart\n",
    "\n",
    "First, there are so many ways to do the same thing:"
   ]
  },
  {
   "cell_type": "code",
   "execution_count": 18,
   "metadata": {},
   "outputs": [
    {
     "data": {
      "text/plain": [
       "[<matplotlib.lines.Line2D at 0x13ae3bca0>]"
      ]
     },
     "execution_count": 18,
     "metadata": {},
     "output_type": "execute_result"
    },
    {
     "data": {
      "image/png": "[encoded data removed]",
      "text/plain": [
       "<Figure size 432x288 with 1 Axes>"
      ]
     },
     "metadata": {
      "needs_background": "light"
     },
     "output_type": "display_data"
    }
   ],
   "source": [
    "plt.plot(monthly_tweet_count)"
   ]
  },
  {
   "cell_type": "code",
   "execution_count": 19,
   "metadata": {},
   "outputs": [
    {
     "data": {
      "text/plain": [
       "[<matplotlib.lines.Line2D at 0x13aea1d00>]"
      ]
     },
     "execution_count": 19,
     "metadata": {},
     "output_type": "execute_result"
    },
    {
     "data": {
      "image/png": "[encoded data removed]",
      "text/plain": [
       "<Figure size 432x288 with 1 Axes>"
      ]
     },
     "metadata": {
      "needs_background": "light"
     },
     "output_type": "display_data"
    }
   ],
   "source": [
    "fig, ax = plt.subplots()  # Create a figure containing a single axes (using a different function)\n",
    "ax.plot(monthly_tweet_count)"
   ]
  },
  {
   "cell_type": "code",
   "execution_count": 20,
   "metadata": {},
   "outputs": [
    {
     "data": {
      "text/plain": [
       "<AxesSubplot:xlabel='tweet_time'>"
      ]
     },
     "execution_count": 20,
     "metadata": {},
     "output_type": "execute_result"
    },
    {
     "data": {
      "image/png": "[encoded data removed]",
      "text/plain": [
       "<Figure size 432x288 with 1 Axes>"
      ]
     },
     "metadata": {
      "needs_background": "light"
     },
     "output_type": "display_data"
    }
   ],
   "source": [
    "monthly_tweet_count.plot()"
   ]
  },
  {
   "cell_type": "markdown",
   "metadata": {},
   "source": [
    "#### Labeling your charts"
   ]
  },
  {
   "cell_type": "code",
   "execution_count": 21,
   "metadata": {},
   "outputs": [
    {
     "data": {
      "text/plain": [
       "Text(0.5, 1.0, 'Tweets about Clinton or Trump from Iranian bots')"
      ]
     },
     "execution_count": 21,
     "metadata": {},
     "output_type": "execute_result"
    },
    {
     "data": {
      "image/png": "[encoded data removed]",
      "text/plain": [
       "<Figure size 432x288 with 1 Axes>"
      ]
     },
     "metadata": {
      "needs_background": "light"
     },
     "output_type": "display_data"
    }
   ],
   "source": [
    "fig, ax = plt.subplots()\n",
    "ax.plot(monthly_tweet_count)\n",
    "ax.set_xlabel('year', fontsize=14)\n",
    "ax.set_ylabel('num_tweets', fontsize=14)\n",
    "ax.set_title('Tweets about Clinton or Trump from Iranian bots', fontsize=14)\n"
   ]
  },
  {
   "cell_type": "markdown",
   "metadata": {},
   "source": [
    "#### Changing the size of your chart"
   ]
  },
  {
   "cell_type": "code",
   "execution_count": 22,
   "metadata": {},
   "outputs": [
    {
     "data": {
      "text/plain": [
       "[<matplotlib.lines.Line2D at 0x13b03ff70>]"
      ]
     },
     "execution_count": 22,
     "metadata": {},
     "output_type": "execute_result"
    },
    {
     "data": {
      "image/png": "[encoded data removed]",
      "text/plain": [
       "<Figure size 648x432 with 1 Axes>"
      ]
     },
     "metadata": {
      "needs_background": "light"
     },
     "output_type": "display_data"
    }
   ],
   "source": [
    "fig, ax = plt.subplots()\n",
    "fig.set_size_inches(9,6)\n",
    "ax.plot(monthly_tweet_count)\n"
   ]
  },
  {
   "cell_type": "markdown",
   "metadata": {},
   "source": [
    "#### Other chart types"
   ]
  },
  {
   "cell_type": "markdown",
   "metadata": {},
   "source": [
    "##### Bar Charts"
   ]
  },
  {
   "cell_type": "code",
   "execution_count": 23,
   "metadata": {},
   "outputs": [
    {
     "name": "stdout",
     "output_type": "stream",
     "text": [
      "9\n"
     ]
    },
    {
     "data": {
      "text/html": [
       "<div>\n",
       "<style scoped>\n",
       "    .dataframe tbody tr th:only-of-type {\n",
       "        vertical-align: middle;\n",
       "    }\n",
       "\n",
       "    .dataframe tbody tr th {\n",
       "        vertical-align: top;\n",
       "    }\n",
       "\n",
       "    .dataframe thead th {\n",
       "        text-align: right;\n",
       "    }\n",
       "</style>\n",
       "<table border=\"1\" class=\"dataframe\">\n",
       "  <thead>\n",
       "    <tr style=\"text-align: right;\">\n",
       "      <th></th>\n",
       "      <th>index</th>\n",
       "      <th>user_screen_name</th>\n",
       "    </tr>\n",
       "  </thead>\n",
       "  <tbody>\n",
       "    <tr>\n",
       "      <th>0</th>\n",
       "      <td>marialuis91</td>\n",
       "      <td>265448</td>\n",
       "    </tr>\n",
       "    <tr>\n",
       "      <th>1</th>\n",
       "      <td>a51115862ba4725c846e77683e9c71d1b1eb246100ca39...</td>\n",
       "      <td>101956</td>\n",
       "    </tr>\n",
       "    <tr>\n",
       "      <th>2</th>\n",
       "      <td>yedisabah</td>\n",
       "      <td>68808</td>\n",
       "    </tr>\n",
       "    <tr>\n",
       "      <th>3</th>\n",
       "      <td>74e1fd475aa82e2aad49acb0c5cf01984f8ecb755509d8...</td>\n",
       "      <td>34010</td>\n",
       "    </tr>\n",
       "    <tr>\n",
       "      <th>4</th>\n",
       "      <td>cfb431d28838bc87b3473081cc5899cfede8252c201564...</td>\n",
       "      <td>28320</td>\n",
       "    </tr>\n",
       "  </tbody>\n",
       "</table>\n",
       "</div>"
      ],
      "text/plain": [
       "                                               index  user_screen_name\n",
       "0                                        marialuis91            265448\n",
       "1  a51115862ba4725c846e77683e9c71d1b1eb246100ca39...            101956\n",
       "2                                          yedisabah             68808\n",
       "3  74e1fd475aa82e2aad49acb0c5cf01984f8ecb755509d8...             34010\n",
       "4  cfb431d28838bc87b3473081cc5899cfede8252c201564...             28320"
      ]
     },
     "execution_count": 23,
     "metadata": {},
     "output_type": "execute_result"
    }
   ],
   "source": [
    "ranked_names = tweets[\"user_screen_name\"].value_counts()\n",
    "ranked_names_top10 = ranked_names[0:9].reset_index()\n",
    "print(len(ranked_names_top10))\n",
    "ranked_names_top10.head()"
   ]
  },
  {
   "cell_type": "code",
   "execution_count": 24,
   "metadata": {},
   "outputs": [
    {
     "data": {
      "text/plain": [
       "<AxesSubplot:ylabel='index'>"
      ]
     },
     "execution_count": 24,
     "metadata": {},
     "output_type": "execute_result"
    },
    {
     "data": {
      "image/png": "[encoded data removed]",
      "text/plain": [
       "<Figure size 432x288 with 1 Axes>"
      ]
     },
     "metadata": {
      "needs_background": "light"
     },
     "output_type": "display_data"
    }
   ],
   "source": [
    "ranked_names_top10.plot(x=\"index\", y=\"user_screen_name\", kind=\"barh\")\n"
   ]
  },
  {
   "cell_type": "markdown",
   "metadata": {},
   "source": [
    "##### pie charts"
   ]
  },
  {
   "cell_type": "code",
   "execution_count": 25,
   "metadata": {},
   "outputs": [
    {
     "data": {
      "text/plain": [
       "([<matplotlib.patches.Wedge at 0x13b18c760>,\n",
       "  <matplotlib.patches.Wedge at 0x13b18cd00>,\n",
       "  <matplotlib.patches.Wedge at 0x13b19b220>,\n",
       "  <matplotlib.patches.Wedge at 0x13b19b700>,\n",
       "  <matplotlib.patches.Wedge at 0x13b19bbe0>,\n",
       "  <matplotlib.patches.Wedge at 0x13b1a5100>,\n",
       "  <matplotlib.patches.Wedge at 0x13b1a55e0>,\n",
       "  <matplotlib.patches.Wedge at 0x13b1a5ac0>,\n",
       "  <matplotlib.patches.Wedge at 0x13b1a5fa0>],\n",
       " [Text(0.12919814779878006, 1.0923863046584594, 'marialuis91'),\n",
       "  Text(-1.0432343083031852, -0.3488010578813876, 'a51115862ba4725c846e77683e9c71d1b1eb246100ca394f1b915f9c7909099d'),\n",
       "  Text(-0.33908935771851856, -1.0464312722209914, 'yedisabah'),\n",
       "  Text(0.2715716981775616, -1.0659497233683002, '74e1fd475aa82e2aad49acb0c5cf01984f8ecb755509d8174c9e31cc772bd46c'),\n",
       "  Text(0.6125996644761111, -0.9136310256792708, 'cfb431d28838bc87b3473081cc5899cfede8252c2015644ffeccd7b27b1149fb'),\n",
       "  Text(0.8556396183939009, -0.6912892617672719, '1f33d9e4bebd609cdefbf41afeba18c67fece728403a21ae9ff26430748359bd'),\n",
       "  Text(0.9966086209196889, -0.4655870022976973, 'real_iran'),\n",
       "  Text(1.0658440916090082, -0.27198597828227916, '6f2245bc7dd9aa440e83508525b3a79188b4218b2cb662a711701eeadc7c3056'),\n",
       "  Text(1.0964989124531508, -0.08769341474168776, 'alsaudianet')])"
      ]
     },
     "execution_count": 25,
     "metadata": {},
     "output_type": "execute_result"
    },
    {
     "data": {
      "image/png": "[encoded data removed]",
      "text/plain": [
       "<Figure size 432x288 with 1 Axes>"
      ]
     },
     "metadata": {},
     "output_type": "display_data"
    }
   ],
   "source": [
    "plt.pie(ranked_names_top10[\"user_screen_name\"], labels=ranked_names_top10[\"index\"])\n"
   ]
  },
  {
   "cell_type": "markdown",
   "metadata": {},
   "source": [
    "##### Multiple charts"
   ]
  },
  {
   "cell_type": "code",
   "execution_count": 26,
   "metadata": {},
   "outputs": [
    {
     "data": {
      "text/plain": [
       "[<matplotlib.lines.Line2D at 0x13b2003d0>]"
      ]
     },
     "execution_count": 26,
     "metadata": {},
     "output_type": "execute_result"
    },
    {
     "data": {
      "image/png": "[encoded data removed]",
      "text/plain": [
       "<Figure size 432x288 with 2 Axes>"
      ]
     },
     "metadata": {
      "needs_background": "light"
     },
     "output_type": "display_data"
    }
   ],
   "source": [
    "fig,ax =  plt.subplots(1,2)\n",
    "ax[0].barh( ranked_names_top10[\"index\"], ranked_names_top10[\"user_screen_name\"], color = '#b84ab4')\n",
    "ax[1].plot(monthly_tweet_count, color='lightblue')\n"
   ]
  },
  {
   "cell_type": "markdown",
   "metadata": {},
   "source": [
    "#### Saving your charts"
   ]
  },
  {
   "cell_type": "code",
   "execution_count": 27,
   "metadata": {},
   "outputs": [
    {
     "data": {
      "image/png": "[encoded data removed]",
      "text/plain": [
       "<Figure size 432x288 with 1 Axes>"
      ]
     },
     "metadata": {
      "needs_background": "light"
     },
     "output_type": "display_data"
    }
   ],
   "source": [
    "plt.plot(monthly_tweet_count)\n",
    "plt.savefig('../output/chart.svg')\n",
    "plt.savefig('../output/chart.png')"
   ]
  },
  {
   "cell_type": "code",
   "execution_count": null,
   "metadata": {},
   "outputs": [],
   "source": []
  }
 ],
 "metadata": {
  "kernelspec": {
   "display_name": "Python 3 (ipykernel)",
   "language": "python",
   "name": "python3"
  },
  "language_info": {
   "codemirror_mode": {
    "name": "ipython",
    "version": 3
   },
   "file_extension": ".py",
   "mimetype": "text/x-python",
   "name": "python",
   "nbconvert_exporter": "python",
   "pygments_lexer": "ipython3",
   "version": "3.9.7"
  }
 },
 "nbformat": 4,
 "nbformat_minor": 2
}
