{
 "cells": [
  {
   "cell_type": "markdown",
   "id": "34b1d3fd-9e29-40bf-8648-198b634f5dd8",
   "metadata": {},
   "source": [
    "### Homework: review of matplotlib"
   ]
  },
  {
   "cell_type": "code",
   "execution_count": null,
   "id": "21ed6171-9264-47d7-98ee-1cac06909f61",
   "metadata": {},
   "outputs": [],
   "source": [
    "import pandas as pd\n",
    "import matplotlib.pyplot as plt"
   ]
  },
  {
   "cell_type": "code",
   "execution_count": null,
   "id": "fe2b96fd-db5e-4ae8-b6ce-d8969f25be12",
   "metadata": {},
   "outputs": [],
   "source": [
    "data = {\n",
    "    \"x\": [5,7,8,7,2,17,2,9,4,11,12,9,6],\n",
    "    \"y\": [99,86,87,88,111,86,103,87,94,78,77,85,86]\n",
    "}\n",
    "\n",
    "df = pd.DataFrame(data)\n",
    "df.head()"
   ]
  },
  {
   "cell_type": "code",
   "execution_count": null,
   "id": "6da6ac88-6d87-4ff6-bd2c-0b03ddc10d69",
   "metadata": {},
   "outputs": [],
   "source": [
    "# find a way to turn the dataframe into a scatter plot. This one is tricky! Make sure you Google how to do that.\n",
    "# Hint: the matplot function requires two arguments!"
   ]
  },
  {
   "cell_type": "code",
   "execution_count": null,
   "id": "3f74925e-2695-4170-b6a7-416128ff610e",
   "metadata": {},
   "outputs": [],
   "source": []
  }
 ],
 "metadata": {
  "kernelspec": {
   "display_name": "Python 3 (ipykernel)",
   "language": "python",
   "name": "python3"
  },
  "language_info": {
   "codemirror_mode": {
    "name": "ipython",
    "version": 3
   },
   "file_extension": ".py",
   "mimetype": "text/x-python",
   "name": "python",
   "nbconvert_exporter": "python",
   "pygments_lexer": "ipython3",
   "version": "3.8.18"
  }
 },
 "nbformat": 4,
 "nbformat_minor": 5
}
