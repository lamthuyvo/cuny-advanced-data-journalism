{
 "cells": [
  {
   "cell_type": "markdown",
   "id": "5090f767",
   "metadata": {},
   "source": [
    "### Data aggregation analysis of campaign finance data in NYC\n",
    "\n",
    "In this notebook, we will analyze and aggregate raw campaign finance data using the [`.groupby()` function](https://pandas.pydata.org/docs/reference/api/pandas.DataFrame.groupby.html) in pandas. \n",
    "\n",
    "We will:\n",
    "- import dependencies\n",
    "- open and explore the data\n",
    "- aggregate the data in different ways"
   ]
  },
  {
   "cell_type": "code",
   "execution_count": null,
   "id": "fd06788c",
   "metadata": {},
   "outputs": [],
   "source": []
  },
  {
   "cell_type": "code",
   "execution_count": null,
   "id": "43219d2f",
   "metadata": {},
   "outputs": [],
   "source": []
  },
  {
   "cell_type": "code",
   "execution_count": null,
   "id": "c321a8e4",
   "metadata": {},
   "outputs": [],
   "source": []
  },
  {
   "cell_type": "code",
   "execution_count": null,
   "id": "ed2ffbf9",
   "metadata": {},
   "outputs": [],
   "source": []
  },
  {
   "cell_type": "markdown",
   "id": "455d85b3",
   "metadata": {},
   "source": [
    "### Aggregate data in different ways \n",
    "\n",
    "- recipient name with the most number of donations\n",
    "- recipient name with the most number of donations and the highest total amounts of donations\n",
    "- occupation that occur the most in the data by city"
   ]
  },
  {
   "cell_type": "code",
   "execution_count": null,
   "id": "8240d5f2",
   "metadata": {},
   "outputs": [],
   "source": []
  },
  {
   "cell_type": "code",
   "execution_count": null,
   "id": "e8e2398b",
   "metadata": {},
   "outputs": [],
   "source": []
  },
  {
   "cell_type": "code",
   "execution_count": null,
   "id": "efc73879",
   "metadata": {},
   "outputs": [],
   "source": [
    "#  recipient name with the most number of donations\n"
   ]
  },
  {
   "cell_type": "code",
   "execution_count": null,
   "id": "c2e7ceb7",
   "metadata": {},
   "outputs": [],
   "source": [
    "# recipient name with the most number of donations and the highest total amounts of donations\n"
   ]
  },
  {
   "cell_type": "code",
   "execution_count": null,
   "id": "90ac5b24",
   "metadata": {},
   "outputs": [],
   "source": [
    "# occupation that occur the most in the data by city\n"
   ]
  },
  {
   "cell_type": "code",
   "execution_count": null,
   "id": "544e643b",
   "metadata": {},
   "outputs": [],
   "source": []
  }
 ],
 "metadata": {
  "kernelspec": {
   "display_name": "Python 3 (ipykernel)",
   "language": "python",
   "name": "python3"
  },
  "language_info": {
   "codemirror_mode": {
    "name": "ipython",
    "version": 3
   },
   "file_extension": ".py",
   "mimetype": "text/x-python",
   "name": "python",
   "nbconvert_exporter": "python",
   "pygments_lexer": "ipython3",
   "version": "3.9.7"
  }
 },
 "nbformat": 4,
 "nbformat_minor": 5
}
