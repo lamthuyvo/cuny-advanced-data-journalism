{
 "cells": [
  {
   "cell_type": "code",
   "execution_count": null,
   "id": "ced40d95-a0fd-45bc-8e3d-018afc307fe6",
   "metadata": {
    "editable": true,
    "slideshow": {
     "slide_type": ""
    },
    "tags": []
   },
   "outputs": [],
   "source": []
  },
  {
   "cell_type": "markdown",
   "id": "ccfbdecb-b221-4888-b06a-0ae2b2f9f4ed",
   "metadata": {},
   "source": [
    "## Loading your text and making it a corpus\n",
    "\n",
    "#### First we need to load the text"
   ]
  },
  {
   "cell_type": "code",
   "execution_count": null,
   "id": "2b9bbc4d-422e-41ce-b170-1581aecd2273",
   "metadata": {},
   "outputs": [],
   "source": []
  },
  {
   "cell_type": "code",
   "execution_count": null,
   "id": "a8065628-6859-48ac-97c7-857d9840b038",
   "metadata": {},
   "outputs": [],
   "source": []
  },
  {
   "cell_type": "code",
   "execution_count": null,
   "id": "6e829d05-4fe3-4504-82b0-fb5c4eefc9c9",
   "metadata": {
    "scrolled": true
   },
   "outputs": [],
   "source": []
  },
  {
   "cell_type": "markdown",
   "id": "47309a2e-25da-4775-8139-1ef3b214fe5a",
   "metadata": {},
   "source": [
    "#### Then we can load spaCy's English language trained pipeline\n",
    "\n",
    "`A training pipeline typically reads training data from a feature store, performs model-dependent transformations, trains the model, and evaluates the model before the model is saved to a model registry.`"
   ]
  },
  {
   "cell_type": "code",
   "execution_count": null,
   "id": "09006585-4b45-45c9-9578-02a9abe0d124",
   "metadata": {},
   "outputs": [],
   "source": []
  },
  {
   "cell_type": "markdown",
   "id": "18926fb2-aa30-4e55-8dcc-0e41fbed4a71",
   "metadata": {},
   "source": [
    "#### Stop words\n",
    "\n",
    "A lot of languages also contain 'stop words', words that are used very frequently and may not be useful when we're evaluating how often certain words may be used. spaCy has niftyfunctions that allow us to designate stop words for our analysis. \n",
    "\n",
    "For this purpose, we got stopwords [here](https://github.com/stopwords-iso/stopwords-es)."
   ]
  },
  {
   "cell_type": "code",
   "execution_count": null,
   "id": "e2e9e53a-24fa-418f-b368-d494b6aa7e62",
   "metadata": {},
   "outputs": [],
   "source": []
  },
  {
   "cell_type": "code",
   "execution_count": null,
   "id": "4113aa82-5a8a-40cc-9b80-a90236dc48d8",
   "metadata": {},
   "outputs": [],
   "source": []
  },
  {
   "cell_type": "code",
   "execution_count": null,
   "id": "fca05ef9-3f32-42f7-991e-cf362b3a210f",
   "metadata": {},
   "outputs": [],
   "source": []
  },
  {
   "cell_type": "code",
   "execution_count": null,
   "id": "34b0d3b6-cebb-4c38-85f6-685db54eca66",
   "metadata": {},
   "outputs": [],
   "source": []
  },
  {
   "cell_type": "markdown",
   "id": "d16ede22-827e-485f-86ae-9dfe805d8351",
   "metadata": {},
   "source": [
    "## Computational Linguistics\n",
    "\n",
    "#### POS-Tagging — (Part Of Speech)\n",
    "spaCy has a a nifty way to look into how each word is used in a sentence, often also referred to as Part Of Speech (POS). There are eight main parts of speech — nouns, pronouns, adjectives, verbs, adverbs, prepositions, conjunctions, and interjections. "
   ]
  },
  {
   "cell_type": "code",
   "execution_count": null,
   "id": "9d730166-04c3-41ca-b14d-28f2151bd37e",
   "metadata": {},
   "outputs": [],
   "source": []
  },
  {
   "cell_type": "markdown",
   "id": "918f4244-3e7f-421a-bcd9-1b6cb96cad2c",
   "metadata": {},
   "source": [
    "#### NER-Tagging — (Named Entity Recognition)\n",
    "Named-entity recognition (NER) is a subtask of information extraction that seeks to locate and classify named entities mentioned in unstructured text into pre-defined categories such as person names, organizations, locations, medical codes, time expressions, quantities, monetary values, percentages, etc.\n",
    "\n"
   ]
  },
  {
   "cell_type": "code",
   "execution_count": null,
   "id": "ec16ce0b-8362-4aed-a1d5-737898f38c2f",
   "metadata": {},
   "outputs": [],
   "source": []
  },
  {
   "cell_type": "markdown",
   "id": "db7de4f5-727d-4313-9745-49ed04cbadc1",
   "metadata": {},
   "source": [
    "Let's run a slightly different version of this code to see what role these things play:"
   ]
  },
  {
   "cell_type": "code",
   "execution_count": null,
   "id": "23721041-a1b2-4c3f-b0e8-98b7d32a3cda",
   "metadata": {},
   "outputs": [],
   "source": []
  },
  {
   "cell_type": "markdown",
   "id": "6e1ebccf-1168-4c74-9f42-aef062dbfa86",
   "metadata": {},
   "source": [
    "You can render these roles visually, too:"
   ]
  },
  {
   "cell_type": "code",
   "execution_count": null,
   "id": "2ff04120-57a7-4902-b43c-3d1db84ed3bd",
   "metadata": {},
   "outputs": [],
   "source": []
  },
  {
   "cell_type": "markdown",
   "id": "e191a3d2-0453-47ca-b942-7e824cbb54ed",
   "metadata": {},
   "source": [
    "#### Dependency Parsing\n",
    "The term Dependency Parsing (DP) refers to the process of examining the dependencies between the phrases of a sentence in order to determine its grammatical structure."
   ]
  },
  {
   "cell_type": "code",
   "execution_count": null,
   "id": "a7d1cc22-c1d9-4c5e-9c87-6d02d41975f4",
   "metadata": {},
   "outputs": [],
   "source": []
  },
  {
   "cell_type": "code",
   "execution_count": null,
   "id": "27075901-13d9-4c04-83eb-437aa2e03a9c",
   "metadata": {},
   "outputs": [],
   "source": []
  },
  {
   "cell_type": "code",
   "execution_count": null,
   "id": "f6d15417-a8d6-4ac6-bcfe-44cd5205edd7",
   "metadata": {},
   "outputs": [],
   "source": []
  },
  {
   "cell_type": "markdown",
   "id": "0ff990b1-1877-49ca-b463-7d63aa5c8f2c",
   "metadata": {},
   "source": [
    "## Data cleaning\n",
    "The next few lines get rid of stopwords and punctuation markers, and add lemmatized words."
   ]
  },
  {
   "cell_type": "code",
   "execution_count": null,
   "id": "dbcefef3-b7a5-4ee3-ab29-79b6cb3dcd07",
   "metadata": {
    "scrolled": true
   },
   "outputs": [],
   "source": []
  },
  {
   "cell_type": "code",
   "execution_count": null,
   "id": "95fbb2dd-5088-4da9-8cdf-5ebaa3c1a100",
   "metadata": {
    "scrolled": true
   },
   "outputs": [],
   "source": []
  },
  {
   "cell_type": "code",
   "execution_count": null,
   "id": "2aeffef5-79c4-4499-840e-347c46c66ee8",
   "metadata": {
    "scrolled": true
   },
   "outputs": [],
   "source": []
  },
  {
   "cell_type": "markdown",
   "id": "30fdb513-26df-4c14-ac8e-5f29af635f5a",
   "metadata": {},
   "source": [
    "Sometimes Topic Modeling makes more sense when New and York are treated as New York - we can do this by creating a bigram model and modifying our corpus accordingly."
   ]
  },
  {
   "cell_type": "code",
   "execution_count": null,
   "id": "7c2c1f8e-e1de-41c0-a74c-0af32a86df5c",
   "metadata": {},
   "outputs": [],
   "source": []
  },
  {
   "cell_type": "code",
   "execution_count": null,
   "id": "95488054-fdf7-47b7-921b-a627786ee3bb",
   "metadata": {},
   "outputs": [],
   "source": []
  },
  {
   "cell_type": "markdown",
   "id": "3ce230e8-c30b-43d8-93ef-8f68e9cda7ab",
   "metadata": {},
   "source": [
    "## Different Kinds of Topic Modeling \n",
    "Topic Modeling refers to the probabilistic modeling of text documents as topics. Gensim remains the most popular library to perform such modeling, and we will be using it to perform our Topic Modeling.\n",
    "\n",
    "#### LSI — Latent Semantic Indexing\n",
    "LSI stands for Latent Semantic Indexing — It is a popular information retrieval (IR) method that works by decomposing the original matrix of words to maintain key topics."
   ]
  },
  {
   "cell_type": "code",
   "execution_count": null,
   "id": "6cbbb000-7349-4ed7-8403-3e35ac591b61",
   "metadata": {},
   "outputs": [],
   "source": []
  },
  {
   "cell_type": "markdown",
   "id": "231fe9a6-42b5-45cb-91c9-14f699317b78",
   "metadata": {},
   "source": [
    "#### HDP — Hierarchical Dirichlet Process\n",
    "HDP, the Hierarchical Dirichlet Process is an unsupervised Topic Model which figures out the number of topics on its own."
   ]
  },
  {
   "cell_type": "code",
   "execution_count": null,
   "id": "aea15908-f386-4187-a846-182ab2ec4e18",
   "metadata": {},
   "outputs": [],
   "source": [
    "hdp_model = HdpModel(corpus=corpus, id2word=dictionary)\n",
    "hdp_model.show_topics()[:5]"
   ]
  },
  {
   "cell_type": "markdown",
   "id": "b4eff84d-1d3c-4a10-85a5-7b792116f635",
   "metadata": {},
   "source": [
    "#### LDA — Latent Dirichlet Allocation\n",
    "LDA or Latent Dirichlet Allocation is arguably the most famous Topic Modeling algorithm out there. Out here we create a simple Topic Model with 10 topics."
   ]
  },
  {
   "cell_type": "code",
   "execution_count": null,
   "id": "24830a4c-8ed6-498d-affc-81be19401d41",
   "metadata": {
    "scrolled": true
   },
   "outputs": [],
   "source": []
  },
  {
   "cell_type": "markdown",
   "id": "a93f3d12-9624-4700-8662-a43d0305dfca",
   "metadata": {},
   "source": [
    "## Visualizing Topics with pyLDAvis\n",
    "pyLDAvis is designed to help users interpret the topics in a topic model that has been fit to a corpus of text data. The package extracts information from a fitted LDA topic model to inform an interactive web-based visualization.\n",
    "\n",
    "The visualization is intended to be used within an IPython notebook but can also be saved to a stand-alone HTML file for easy sharing."
   ]
  },
  {
   "cell_type": "code",
   "execution_count": null,
   "id": "6359801b-6e47-4fa3-9026-a1a82b590233",
   "metadata": {},
   "outputs": [],
   "source": []
  },
  {
   "cell_type": "code",
   "execution_count": null,
   "id": "5dfc7dba-559b-4ced-9889-204b5df135da",
   "metadata": {},
   "outputs": [],
   "source": []
  },
  {
   "cell_type": "code",
   "execution_count": null,
   "id": "a9e9a870-2e09-45cb-8af5-cd4029c36d46",
   "metadata": {},
   "outputs": [],
   "source": []
  },
  {
   "cell_type": "code",
   "execution_count": null,
   "id": "697e38eb-c485-4434-83e3-1102152c24b7",
   "metadata": {},
   "outputs": [],
   "source": []
  },
  {
   "cell_type": "markdown",
   "id": "e6e5fc1b-6e06-4ffc-b832-e1f045aedc18",
   "metadata": {},
   "source": [
    "## Word count"
   ]
  },
  {
   "cell_type": "code",
   "execution_count": null,
   "id": "da9a2a3b-742c-40af-85ff-fe4f0133a336",
   "metadata": {},
   "outputs": [],
   "source": []
  },
  {
   "cell_type": "code",
   "execution_count": null,
   "id": "19873bb5-106f-4347-9f3b-8e79c4fde9b3",
   "metadata": {},
   "outputs": [],
   "source": []
  },
  {
   "cell_type": "code",
   "execution_count": null,
   "id": "b27d82c3-8481-4e42-a0c6-4d1ac113d09d",
   "metadata": {},
   "outputs": [],
   "source": []
  },
  {
   "cell_type": "code",
   "execution_count": null,
   "id": "fe2f02bd-e91c-4ac8-ac0f-b2be718adca2",
   "metadata": {},
   "outputs": [],
   "source": []
  },
  {
   "cell_type": "code",
   "execution_count": null,
   "id": "7f088c00-fbde-45b5-a621-4a331db314a8",
   "metadata": {},
   "outputs": [],
   "source": []
  }
 ],
 "metadata": {
  "kernelspec": {
   "display_name": "Python 3 (ipykernel)",
   "language": "python",
   "name": "python3"
  },
  "language_info": {
   "codemirror_mode": {
    "name": "ipython",
    "version": 3
   },
   "file_extension": ".py",
   "mimetype": "text/x-python",
   "name": "python",
   "nbconvert_exporter": "python",
   "pygments_lexer": "ipython3",
   "version": "3.8.18"
  }
 },
 "nbformat": 4,
 "nbformat_minor": 5
}
