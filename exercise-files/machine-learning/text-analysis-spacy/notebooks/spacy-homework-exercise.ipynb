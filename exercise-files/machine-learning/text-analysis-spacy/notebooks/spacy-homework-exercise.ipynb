{
 "cells": [
  {
   "cell_type": "code",
   "execution_count": null,
   "id": "b742959f-c487-4c3a-bd9a-539f23005ad2",
   "metadata": {},
   "outputs": [],
   "source": [
    "import spacy"
   ]
  },
  {
   "cell_type": "code",
   "execution_count": null,
   "id": "e1092127-0154-449e-a806-442d2cbfcf15",
   "metadata": {},
   "outputs": [],
   "source": [
    "nlp = spacy.load(\"en_core_web_sm\")\n",
    "text= \"The raccoon gets its name from the Algonquin word 'aroughcoune', meaning 'he scratches with his hands'. \""
   ]
  },
  {
   "cell_type": "markdown",
   "id": "c264d449-e371-44ec-9135-dde592adb050",
   "metadata": {},
   "source": [
    "For this homework, turn the text above into a list of words\n"
   ]
  },
  {
   "cell_type": "code",
   "execution_count": null,
   "id": "c56c65bc-8783-4142-ab58-25d4d6e1c6c7",
   "metadata": {},
   "outputs": [],
   "source": []
  },
  {
   "cell_type": "code",
   "execution_count": null,
   "id": "cc9c2ead-e580-47dd-ab24-405d0fc54483",
   "metadata": {},
   "outputs": [],
   "source": []
  },
  {
   "cell_type": "code",
   "execution_count": null,
   "id": "454100ea-d283-4c1e-9299-6d459d56fe05",
   "metadata": {},
   "outputs": [],
   "source": []
  }
 ],
 "metadata": {
  "kernelspec": {
   "display_name": "Python 3 (ipykernel)",
   "language": "python",
   "name": "python3"
  },
  "language_info": {
   "codemirror_mode": {
    "name": "ipython",
    "version": 3
   },
   "file_extension": ".py",
   "mimetype": "text/x-python",
   "name": "python",
   "nbconvert_exporter": "python",
   "pygments_lexer": "ipython3",
   "version": "3.8.18"
  }
 },
 "nbformat": 4,
 "nbformat_minor": 5
}
