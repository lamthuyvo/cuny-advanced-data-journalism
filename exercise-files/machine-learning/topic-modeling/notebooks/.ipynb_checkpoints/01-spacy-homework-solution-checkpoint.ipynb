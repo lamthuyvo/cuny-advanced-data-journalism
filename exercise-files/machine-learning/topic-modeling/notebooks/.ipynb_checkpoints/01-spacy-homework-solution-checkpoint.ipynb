{
 "cells": [
  {
   "cell_type": "code",
   "execution_count": 1,
   "id": "530622b5-0046-4514-af1c-9bf458513ae2",
   "metadata": {},
   "outputs": [],
   "source": [
    "# for comprehension of language\n",
    "import spacy "
   ]
  },
  {
   "cell_type": "code",
   "execution_count": 2,
   "id": "c3598831-cb2e-4034-bd15-f5a3fe9f3ada",
   "metadata": {},
   "outputs": [],
   "source": [
    "nlp = spacy.load('en_core_web_sm')"
   ]
  },
  {
   "cell_type": "code",
   "execution_count": 3,
   "id": "be2ba983-cc17-48ce-bec3-aea80c25cd77",
   "metadata": {},
   "outputs": [],
   "source": [
    "sent = nlp(\"The Mets will break your heart but it's the best team in New York.\")\n"
   ]
  },
  {
   "cell_type": "markdown",
   "id": "61792df9-930b-47d2-888d-41dc6e39ab12",
   "metadata": {},
   "source": [
    "In the next lines, write:\n",
    "- make a variable that turns the sentence stored in the `sent` variable into named entities (reminder: named entities, in natural language processing, are specific words or phrases in text that refer to particular things in the real world). You can access that through the property `.ents`\n",
    "- then write a loop that cycles through the entities and prints out their text and label"
   ]
  },
  {
   "cell_type": "code",
   "execution_count": 10,
   "id": "e6cac2d2-60f3-40a7-9072-27e1d03cf970",
   "metadata": {},
   "outputs": [
    {
     "data": {
      "text/plain": [
       "(Mets, New York)"
      ]
     },
     "execution_count": 10,
     "metadata": {},
     "output_type": "execute_result"
    }
   ],
   "source": [
    "all_named_entities  = sent.ents\n",
    "all_named_entities"
   ]
  },
  {
   "cell_type": "code",
   "execution_count": 8,
   "id": "0158a050-57ef-4dd5-9a01-4e9cf5787566",
   "metadata": {},
   "outputs": [
    {
     "name": "stdout",
     "output_type": "stream",
     "text": [
      "Mets ORG\n",
      "New York GPE\n"
     ]
    }
   ],
   "source": [
    "\n",
    "for ent in all_named_entities:\n",
    "    print(ent.text, ent.label_)"
   ]
  },
  {
   "cell_type": "code",
   "execution_count": null,
   "id": "b32e81dc-2483-42d1-887e-15caaa13d9f9",
   "metadata": {},
   "outputs": [],
   "source": []
  }
 ],
 "metadata": {
  "kernelspec": {
   "display_name": "Python 3 (ipykernel)",
   "language": "python",
   "name": "python3"
  },
  "language_info": {
   "codemirror_mode": {
    "name": "ipython",
    "version": 3
   },
   "file_extension": ".py",
   "mimetype": "text/x-python",
   "name": "python",
   "nbconvert_exporter": "python",
   "pygments_lexer": "ipython3",
   "version": "3.8.18"
  }
 },
 "nbformat": 4,
 "nbformat_minor": 5
}
