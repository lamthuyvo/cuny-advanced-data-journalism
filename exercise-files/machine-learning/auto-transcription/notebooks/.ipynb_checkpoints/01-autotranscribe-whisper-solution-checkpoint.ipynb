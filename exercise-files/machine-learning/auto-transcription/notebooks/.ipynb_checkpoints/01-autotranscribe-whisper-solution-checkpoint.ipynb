{
 "cells": [
  {
   "cell_type": "markdown",
   "id": "92eb472d-9fc3-42dc-b111-cc7bd41f985e",
   "metadata": {},
   "source": [
    "### Transcription using whisper\n",
    "\n",
    "This script uses OpenAI's whisper to auto translate videos. \n",
    "\n",
    "For this script we need these libraries:\n",
    "- json: a library that knows how to read json data formats since whisper transcribes audio into the json format\n",
    "- glob: a library that allows you to read file directories on your computer\n",
    "- pandas: our trusted data analysis library\n",
    "- whisper: OpenAI's open sourced [`whisper`](https://github.com/openai/whisper) library"
   ]
  },
  {
   "cell_type": "code",
   "execution_count": 1,
   "id": "e40ef2cf-af91-4458-8f6d-9280ff36041c",
   "metadata": {},
   "outputs": [],
   "source": [
    "import json \n",
    "import glob\n",
    "\n",
    "import pandas as pd\n",
    "import whisper"
   ]
  },
  {
   "cell_type": "markdown",
   "id": "16f81933-9d8b-4a58-9ef0-fe7c4e4c2041",
   "metadata": {},
   "source": [
    "Using glob we find every video in the data directory:"
   ]
  },
  {
   "cell_type": "code",
   "execution_count": 2,
   "id": "bb922660-2496-4a88-8216-84ac2e190f78",
   "metadata": {},
   "outputs": [
    {
     "data": {
      "text/plain": [
       "7"
      ]
     },
     "execution_count": 2,
     "metadata": {},
     "output_type": "execute_result"
    }
   ],
   "source": [
    "base = \"../data/\"\n",
    "paths  = glob.glob(base+\"*.mp4\")\n",
    "len(paths)"
   ]
  },
  {
   "cell_type": "markdown",
   "id": "9621069a-75eb-4161-8c1f-47b8ab64193b",
   "metadata": {},
   "source": [
    "Load OpenAI's model:"
   ]
  },
  {
   "cell_type": "code",
   "execution_count": 3,
   "id": "bed6d5d9-ece4-4ed9-91bb-a075ab27e319",
   "metadata": {},
   "outputs": [],
   "source": [
    "# load model\n",
    "model = whisper.load_model(\"base\")\n"
   ]
  },
  {
   "cell_type": "markdown",
   "id": "3c80196d-7d5c-42dd-92c4-8cf3f65edca8",
   "metadata": {},
   "source": [
    "In the next cells we first write a few lines to transcribe each video. In a later version of the code we add these transcripts into an array:"
   ]
  },
  {
   "cell_type": "code",
   "execution_count": null,
   "id": "b5479b01-bfea-466e-9cc3-fcba4a1665e5",
   "metadata": {},
   "outputs": [
    {
     "name": "stderr",
     "output_type": "stream",
     "text": [
      "/Users/lamthuyvo/Library/jupyterlab-desktop/jlab_server/lib/python3.8/site-packages/whisper/transcribe.py:126: UserWarning: FP16 is not supported on CPU; using FP32 instead\n",
      "  warnings.warn(\"FP16 is not supported on CPU; using FP32 instead\")\n"
     ]
    }
   ],
   "source": [
    "for path in paths: \n",
    "    result = model.transcribe(path,  language=\"en\")\n",
    "    print(result[\"text\"])"
   ]
  },
  {
   "cell_type": "code",
   "execution_count": null,
   "id": "38e8eecf-9a9a-4560-8f73-61dbc84a6b12",
   "metadata": {},
   "outputs": [],
   "source": [
    "rows = []\n",
    "for path in paths: \n",
    "    result = model.transcribe(path,  language=\"en\")\n",
    "    row = {\n",
    "            \"file_name\":path,\n",
    "            \"transcript\": result[\"text\"]\n",
    "          }\n",
    "    rows.append(row)"
   ]
  },
  {
   "cell_type": "markdown",
   "id": "15dc2de3-bdd3-4a9f-bd92-36b5035165a4",
   "metadata": {},
   "source": [
    "Now that we have the transcript"
   ]
  },
  {
   "cell_type": "code",
   "execution_count": 6,
   "id": "04985c43-7b81-491d-9817-e7adbe343a32",
   "metadata": {},
   "outputs": [],
   "source": [
    "transcripts = pd.DataFrame(rows)\n",
    "\n"
   ]
  },
  {
   "cell_type": "code",
   "execution_count": 7,
   "id": "bee7089b-8f15-4025-8f44-f6ca50fbc996",
   "metadata": {},
   "outputs": [
    {
     "data": {
      "text/html": [
       "<div>\n",
       "<style scoped>\n",
       "    .dataframe tbody tr th:only-of-type {\n",
       "        vertical-align: middle;\n",
       "    }\n",
       "\n",
       "    .dataframe tbody tr th {\n",
       "        vertical-align: top;\n",
       "    }\n",
       "\n",
       "    .dataframe thead th {\n",
       "        text-align: right;\n",
       "    }\n",
       "</style>\n",
       "<table border=\"1\" class=\"dataframe\">\n",
       "  <thead>\n",
       "    <tr style=\"text-align: right;\">\n",
       "      <th></th>\n",
       "      <th>file_name</th>\n",
       "      <th>transcript</th>\n",
       "    </tr>\n",
       "  </thead>\n",
       "  <tbody>\n",
       "    <tr>\n",
       "      <th>0</th>\n",
       "      <td>../data/@joolieannie_7404929915893681451.mp4</td>\n",
       "      <td>Ladies, let's be mindful when we use our phon...</td>\n",
       "    </tr>\n",
       "    <tr>\n",
       "      <th>1</th>\n",
       "      <td>../data/@joolieannie_1724362477829.mp4</td>\n",
       "      <td>give me one that's like the size of like a fi...</td>\n",
       "    </tr>\n",
       "    <tr>\n",
       "      <th>2</th>\n",
       "      <td>../data/@joolieannie_1723610748575.mp4</td>\n",
       "      <td>You see how I do my makeup for work? Very dem...</td>\n",
       "    </tr>\n",
       "    <tr>\n",
       "      <th>3</th>\n",
       "      <td>../data/@joolieannie_1724324953244.mp4</td>\n",
       "      <td>Divas I'm in Los Angeles and Zillow needs my ...</td>\n",
       "    </tr>\n",
       "    <tr>\n",
       "      <th>4</th>\n",
       "      <td>../data/@joolieannie_1724362572281.mp4</td>\n",
       "      <td>Hi, Tvaz. Okay, so I've been going to the sam...</td>\n",
       "    </tr>\n",
       "  </tbody>\n",
       "</table>\n",
       "</div>"
      ],
      "text/plain": [
       "                                      file_name  \\\n",
       "0  ../data/@joolieannie_7404929915893681451.mp4   \n",
       "1        ../data/@joolieannie_1724362477829.mp4   \n",
       "2        ../data/@joolieannie_1723610748575.mp4   \n",
       "3        ../data/@joolieannie_1724324953244.mp4   \n",
       "4        ../data/@joolieannie_1724362572281.mp4   \n",
       "\n",
       "                                          transcript  \n",
       "0   Ladies, let's be mindful when we use our phon...  \n",
       "1   give me one that's like the size of like a fi...  \n",
       "2   You see how I do my makeup for work? Very dem...  \n",
       "3   Divas I'm in Los Angeles and Zillow needs my ...  \n",
       "4   Hi, Tvaz. Okay, so I've been going to the sam...  "
      ]
     },
     "execution_count": 7,
     "metadata": {},
     "output_type": "execute_result"
    }
   ],
   "source": [
    "transcripts.head()"
   ]
  },
  {
   "cell_type": "code",
   "execution_count": 8,
   "id": "63171918-0d61-4049-b538-c2836f2dc9d8",
   "metadata": {},
   "outputs": [
    {
     "data": {
      "text/plain": [
       "7"
      ]
     },
     "execution_count": 8,
     "metadata": {},
     "output_type": "execute_result"
    }
   ],
   "source": [
    "len(transcripts)\n"
   ]
  },
  {
   "cell_type": "code",
   "execution_count": 9,
   "id": "794df141-faad-4be5-ab75-d8f9874151e0",
   "metadata": {},
   "outputs": [],
   "source": [
    "transcripts.to_csv(\"../output/transcripts.csv\", index=False)"
   ]
  },
  {
   "cell_type": "code",
   "execution_count": null,
   "id": "9be9cde8-0b60-471e-aae1-b62a25edc88f",
   "metadata": {},
   "outputs": [],
   "source": []
  }
 ],
 "metadata": {
  "kernelspec": {
   "display_name": "Python 3 (ipykernel)",
   "language": "python",
   "name": "python3"
  },
  "language_info": {
   "codemirror_mode": {
    "name": "ipython",
    "version": 3
   },
   "file_extension": ".py",
   "mimetype": "text/x-python",
   "name": "python",
   "nbconvert_exporter": "python",
   "pygments_lexer": "ipython3",
   "version": "3.8.18"
  }
 },
 "nbformat": 4,
 "nbformat_minor": 5
}
