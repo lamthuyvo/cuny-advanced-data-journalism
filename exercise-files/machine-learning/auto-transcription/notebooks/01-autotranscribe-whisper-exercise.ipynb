{
 "cells": [
  {
   "cell_type": "markdown",
   "id": "92eb472d-9fc3-42dc-b111-cc7bd41f985e",
   "metadata": {},
   "source": [
    "### Transcription using whisper\n",
    "\n",
    "This script uses OpenAI's whisper to auto translate videos. \n",
    "\n",
    "For this script we need these libraries:\n",
    "- json: a library that knows how to read json data formats since whisper transcribes audio into the json format\n",
    "- glob: a library that allows you to read file directories on your computer\n",
    "- pandas: our trusted data analysis library\n",
    "- whisper: OpenAI's open sourced [`whisper`](https://github.com/openai/whisper) library"
   ]
  },
  {
   "cell_type": "code",
   "execution_count": null,
   "id": "e40ef2cf-af91-4458-8f6d-9280ff36041c",
   "metadata": {},
   "outputs": [],
   "source": []
  },
  {
   "cell_type": "markdown",
   "id": "16f81933-9d8b-4a58-9ef0-fe7c4e4c2041",
   "metadata": {},
   "source": [
    "Using glob we find every video in the data directory:"
   ]
  },
  {
   "cell_type": "code",
   "execution_count": null,
   "id": "bb922660-2496-4a88-8216-84ac2e190f78",
   "metadata": {},
   "outputs": [],
   "source": []
  },
  {
   "cell_type": "markdown",
   "id": "9621069a-75eb-4161-8c1f-47b8ab64193b",
   "metadata": {},
   "source": [
    "Load OpenAI's model:"
   ]
  },
  {
   "cell_type": "code",
   "execution_count": null,
   "id": "bed6d5d9-ece4-4ed9-91bb-a075ab27e319",
   "metadata": {},
   "outputs": [],
   "source": []
  },
  {
   "cell_type": "markdown",
   "id": "3c80196d-7d5c-42dd-92c4-8cf3f65edca8",
   "metadata": {},
   "source": [
    "In the next cells we first write a few lines to transcribe each video. In a later version of the code we add these transcripts into an array:"
   ]
  },
  {
   "cell_type": "code",
   "execution_count": null,
   "id": "b5479b01-bfea-466e-9cc3-fcba4a1665e5",
   "metadata": {},
   "outputs": [],
   "source": []
  },
  {
   "cell_type": "code",
   "execution_count": null,
   "id": "38e8eecf-9a9a-4560-8f73-61dbc84a6b12",
   "metadata": {},
   "outputs": [],
   "source": []
  },
  {
   "cell_type": "markdown",
   "id": "15dc2de3-bdd3-4a9f-bd92-36b5035165a4",
   "metadata": {},
   "source": [
    "Now that we have the transcript"
   ]
  },
  {
   "cell_type": "code",
   "execution_count": null,
   "id": "04985c43-7b81-491d-9817-e7adbe343a32",
   "metadata": {},
   "outputs": [],
   "source": []
  },
  {
   "cell_type": "code",
   "execution_count": null,
   "id": "bee7089b-8f15-4025-8f44-f6ca50fbc996",
   "metadata": {},
   "outputs": [],
   "source": []
  },
  {
   "cell_type": "code",
   "execution_count": null,
   "id": "63171918-0d61-4049-b538-c2836f2dc9d8",
   "metadata": {},
   "outputs": [],
   "source": []
  },
  {
   "cell_type": "code",
   "execution_count": null,
   "id": "794df141-faad-4be5-ab75-d8f9874151e0",
   "metadata": {},
   "outputs": [],
   "source": []
  },
  {
   "cell_type": "code",
   "execution_count": null,
   "id": "9be9cde8-0b60-471e-aae1-b62a25edc88f",
   "metadata": {},
   "outputs": [],
   "source": []
  }
 ],
 "metadata": {
  "kernelspec": {
   "display_name": "Python 3 (ipykernel)",
   "language": "python",
   "name": "python3"
  },
  "language_info": {
   "codemirror_mode": {
    "name": "ipython",
    "version": 3
   },
   "file_extension": ".py",
   "mimetype": "text/x-python",
   "name": "python",
   "nbconvert_exporter": "python",
   "pygments_lexer": "ipython3",
   "version": "3.9.6"
  }
 },
 "nbformat": 4,
 "nbformat_minor": 5
}
