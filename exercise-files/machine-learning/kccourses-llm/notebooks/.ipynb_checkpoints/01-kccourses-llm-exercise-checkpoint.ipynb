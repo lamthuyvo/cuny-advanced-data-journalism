{
 "cells": [
  {
   "cell_type": "markdown",
   "id": "70c90b18-757b-4a44-8e8d-3e0882bd5474",
   "metadata": {},
   "source": [
    "## Running your own LLM\n",
    "\n",
    "This notebook was adapted from Sil Hamilton's class [Generative AI for journalists](https://www.kccourses.org/enrol/index.php?id=116). "
   ]
  },
  {
   "cell_type": "markdown",
   "id": "31770a4b-1626-4cdc-9a2f-5b249540fd46",
   "metadata": {},
   "source": [
    "We first download the required software: LangChain and its dependency `pypdf`"
   ]
  },
  {
   "cell_type": "code",
   "execution_count": 1,
   "id": "d09f5e02-9571-47c2-b607-831fde5093b5",
   "metadata": {
    "scrolled": true
   },
   "outputs": [],
   "source": [
    "#!pip install --upgrade pip \n",
    "#!pip install --upgrade langchain pypdf\n",
    "#!pip install -U langchain-community\n",
    "# !pip install -U langchain-huggingface"
   ]
  },
  {
   "cell_type": "markdown",
   "id": "b0323110-6e61-40cb-a8b0-ea48fbf31065",
   "metadata": {},
   "source": [
    "We then load LangChain's `pypdf` loader."
   ]
  },
  {
   "cell_type": "code",
   "execution_count": 2,
   "id": "62c41117-03a0-47a1-8ceb-2be15e7adf92",
   "metadata": {},
   "outputs": [],
   "source": []
  },
  {
   "cell_type": "markdown",
   "id": "ad550f88-1588-4aac-b051-12ded711781a",
   "metadata": {},
   "source": [
    "Now let's load PDFs"
   ]
  },
  {
   "cell_type": "code",
   "execution_count": 5,
   "id": "c316779d-acf0-4e29-806b-f1d02b64fbae",
   "metadata": {},
   "outputs": [],
   "source": [
    "loader = PyPDFDirectoryLoader(\"../data/Supreme Court opinions 2014/\")"
   ]
  },
  {
   "cell_type": "code",
   "execution_count": 6,
   "id": "042e0450-b922-483f-a02a-03700732780b",
   "metadata": {},
   "outputs": [],
   "source": [
    "many_pdfs = loader.load_and_split()"
   ]
  },
  {
   "cell_type": "markdown",
   "id": "1c25ac49-bac4-4f32-8cf8-0f25af553ec9",
   "metadata": {},
   "source": [
    "Having loaded our data, we'll now download and load the embedding model."
   ]
  },
  {
   "cell_type": "code",
   "execution_count": 7,
   "id": "a1d9169c-968a-4eca-bff3-8329137eb506",
   "metadata": {},
   "outputs": [],
   "source": [
    "#!pip install sentence_transformers > /dev/null"
   ]
  },
  {
   "cell_type": "code",
   "execution_count": 8,
   "id": "1cd23039-6d3a-4628-bff9-044925dbed4a",
   "metadata": {},
   "outputs": [],
   "source": [
    "from langchain.embeddings import SentenceTransformerEmbeddings\n",
    "from langchain_huggingface import HuggingFaceEmbeddings"
   ]
  },
  {
   "cell_type": "code",
   "execution_count": 9,
   "id": "83c921dd-c52a-4e37-8782-f80d572555f4",
   "metadata": {},
   "outputs": [
    {
     "name": "stderr",
     "output_type": "stream",
     "text": [
      "/Users/lamthuyvo/Library/jupyterlab-desktop/jlab_server/lib/python3.8/site-packages/sentence_transformers/cross_encoder/CrossEncoder.py:13: TqdmExperimentalWarning: Using `tqdm.autonotebook.tqdm` in notebook mode. Use `tqdm.tqdm` instead to force console mode (e.g. in jupyter console)\n",
      "  from tqdm.autonotebook import tqdm, trange\n"
     ]
    },
    {
     "data": {
      "application/vnd.jupyter.widget-view+json": {
       "model_id": "04182521f1e7426db26f8c1375c0dc77",
       "version_major": 2,
       "version_minor": 0
      },
      "text/plain": [
       "modules.json:   0%|          | 0.00/349 [00:00<?, ?B/s]"
      ]
     },
     "metadata": {},
     "output_type": "display_data"
    },
    {
     "data": {
      "application/vnd.jupyter.widget-view+json": {
       "model_id": "b1b3f9aa477243f9ab16f6d8c9a1849d",
       "version_major": 2,
       "version_minor": 0
      },
      "text/plain": [
       "config_sentence_transformers.json:   0%|          | 0.00/116 [00:00<?, ?B/s]"
      ]
     },
     "metadata": {},
     "output_type": "display_data"
    },
    {
     "data": {
      "application/vnd.jupyter.widget-view+json": {
       "model_id": "426c45ae37f6430b89949de1d5572019",
       "version_major": 2,
       "version_minor": 0
      },
      "text/plain": [
       "README.md:   0%|          | 0.00/10.7k [00:00<?, ?B/s]"
      ]
     },
     "metadata": {},
     "output_type": "display_data"
    },
    {
     "data": {
      "application/vnd.jupyter.widget-view+json": {
       "model_id": "c1de0c0aa751408ca27f4f5126488543",
       "version_major": 2,
       "version_minor": 0
      },
      "text/plain": [
       "sentence_bert_config.json:   0%|          | 0.00/53.0 [00:00<?, ?B/s]"
      ]
     },
     "metadata": {},
     "output_type": "display_data"
    },
    {
     "data": {
      "application/vnd.jupyter.widget-view+json": {
       "model_id": "5a4447ae83f54a71b385cc3e123cefbf",
       "version_major": 2,
       "version_minor": 0
      },
      "text/plain": [
       "config.json:   0%|          | 0.00/612 [00:00<?, ?B/s]"
      ]
     },
     "metadata": {},
     "output_type": "display_data"
    },
    {
     "data": {
      "application/vnd.jupyter.widget-view+json": {
       "model_id": "9febdc28d47b453e88705e62d2f3ba34",
       "version_major": 2,
       "version_minor": 0
      },
      "text/plain": [
       "model.safetensors:   0%|          | 0.00/90.9M [00:00<?, ?B/s]"
      ]
     },
     "metadata": {},
     "output_type": "display_data"
    },
    {
     "data": {
      "application/vnd.jupyter.widget-view+json": {
       "model_id": "3c8d14ce1d4745ffb16a92a1cdc2e945",
       "version_major": 2,
       "version_minor": 0
      },
      "text/plain": [
       "tokenizer_config.json:   0%|          | 0.00/350 [00:00<?, ?B/s]"
      ]
     },
     "metadata": {},
     "output_type": "display_data"
    },
    {
     "data": {
      "application/vnd.jupyter.widget-view+json": {
       "model_id": "dd8c8520d1a54b7fb2dcb643dd806879",
       "version_major": 2,
       "version_minor": 0
      },
      "text/plain": [
       "vocab.txt:   0%|          | 0.00/232k [00:00<?, ?B/s]"
      ]
     },
     "metadata": {},
     "output_type": "display_data"
    },
    {
     "data": {
      "application/vnd.jupyter.widget-view+json": {
       "model_id": "fd5305fc45bd4cdf9621b76a20e0385c",
       "version_major": 2,
       "version_minor": 0
      },
      "text/plain": [
       "tokenizer.json:   0%|          | 0.00/466k [00:00<?, ?B/s]"
      ]
     },
     "metadata": {},
     "output_type": "display_data"
    },
    {
     "data": {
      "application/vnd.jupyter.widget-view+json": {
       "model_id": "48a194a71ac44dbf990c79b73c03002f",
       "version_major": 2,
       "version_minor": 0
      },
      "text/plain": [
       "special_tokens_map.json:   0%|          | 0.00/112 [00:00<?, ?B/s]"
      ]
     },
     "metadata": {},
     "output_type": "display_data"
    },
    {
     "data": {
      "application/vnd.jupyter.widget-view+json": {
       "model_id": "e68ef989dd22475ca4ccae689514c8ab",
       "version_major": 2,
       "version_minor": 0
      },
      "text/plain": [
       "1_Pooling/config.json:   0%|          | 0.00/190 [00:00<?, ?B/s]"
      ]
     },
     "metadata": {},
     "output_type": "display_data"
    }
   ],
   "source": [
    "embeddings = HuggingFaceEmbeddings(model_name=\"all-MiniLM-L6-v2\")"
   ]
  },
  {
   "cell_type": "markdown",
   "id": "50aff0a2-dcb2-4592-baf5-147393fb2a9a",
   "metadata": {},
   "source": [
    "Let's try embedding some text. Observe the output. Once you've tried it, scroll down to continue."
   ]
  },
  {
   "cell_type": "code",
   "execution_count": 10,
   "id": "05996763-7f6b-4dff-83c9-793fad185b4a",
   "metadata": {},
   "outputs": [],
   "source": [
    "text = \"This is a test document.\""
   ]
  },
  {
   "cell_type": "code",
   "execution_count": 11,
   "id": "f493f3d6-6ffb-4ec6-8cb9-22a632bcacbd",
   "metadata": {
    "scrolled": true
   },
   "outputs": [
    {
     "data": {
      "text/plain": [
       "[-0.0383385568857193,\n",
       " 0.12346471101045609,\n",
       " -0.028642993420362473,\n",
       " 0.053652726113796234,\n",
       " 0.008845396339893341,\n",
       " -0.039839357137680054,\n",
       " -0.07300589233636856,\n",
       " 0.04777125269174576,\n",
       " -0.03046250343322754,\n",
       " 0.054979756474494934,\n",
       " 0.08505292236804962,\n",
       " 0.0366566926240921,\n",
       " -0.005320002790540457,\n",
       " -0.0022331965155899525,\n",
       " -0.06071098893880844,\n",
       " -0.027237897738814354,\n",
       " -0.011351661756634712,\n",
       " -0.04243772476911545,\n",
       " 0.009129962883889675,\n",
       " 0.1008155420422554,\n",
       " 0.07578727602958679,\n",
       " 0.0691172331571579,\n",
       " 0.0098574822768569,\n",
       " -0.0018377574160695076,\n",
       " 0.026249036192893982,\n",
       " 0.03290237858891487,\n",
       " -0.07177439332008362,\n",
       " 0.028384266421198845,\n",
       " 0.06170950084924698,\n",
       " -0.05252956226468086,\n",
       " 0.03366170451045036,\n",
       " 0.07446813583374023,\n",
       " 0.07536029815673828,\n",
       " 0.03538401052355766,\n",
       " 0.06713409721851349,\n",
       " 0.010798059403896332,\n",
       " 0.08167024701833725,\n",
       " 0.01656287908554077,\n",
       " 0.032830629497766495,\n",
       " 0.03632567077875137,\n",
       " 0.0021728689316660166,\n",
       " -0.09895738214254379,\n",
       " 0.005046762991696596,\n",
       " 0.05089649185538292,\n",
       " 0.009287575259804726,\n",
       " 0.024507714435458183,\n",
       " -0.0644078329205513,\n",
       " 0.0019363261526450515,\n",
       " -0.0791035145521164,\n",
       " 0.020850373432040215,\n",
       " -0.01922825537621975,\n",
       " -0.02805464155972004,\n",
       " -0.07059800624847412,\n",
       " -0.007083641365170479,\n",
       " 0.01040570717304945,\n",
       " 0.03883415088057518,\n",
       " 0.01765601709485054,\n",
       " -0.019606078043580055,\n",
       " -0.02005840465426445,\n",
       " 0.018083831295371056,\n",
       " -0.00017211913655046374,\n",
       " 0.01304332073777914,\n",
       " -0.09337247908115387,\n",
       " 0.08453579992055893,\n",
       " 0.11705499142408371,\n",
       " 0.057413410395383835,\n",
       " -0.022439058870077133,\n",
       " -0.03677627444267273,\n",
       " -0.034346193075180054,\n",
       " -0.06383828818798065,\n",
       " -0.06846101582050323,\n",
       " -0.005553072784096003,\n",
       " 0.04437841475009918,\n",
       " 0.016669241711497307,\n",
       " 0.030911726877093315,\n",
       " -0.01975969970226288,\n",
       " -0.024855120107531548,\n",
       " -0.05904393270611763,\n",
       " 0.0945875346660614,\n",
       " -0.0653051808476448,\n",
       " -0.055972568690776825,\n",
       " -0.03284723311662674,\n",
       " 0.008115198463201523,\n",
       " -0.0022346884943544865,\n",
       " 0.0020232838578522205,\n",
       " 0.07942129671573639,\n",
       " 0.08518774062395096,\n",
       " 0.00781526044011116,\n",
       " -0.013745575211942196,\n",
       " 0.03110421635210514,\n",
       " 0.010080949403345585,\n",
       " -0.032755594700574875,\n",
       " 0.0077148121781647205,\n",
       " -0.00619187718257308,\n",
       " -0.05613413080573082,\n",
       " 0.0043648467399179935,\n",
       " -0.014037566259503365,\n",
       " -0.039304737001657486,\n",
       " 0.07822343707084656,\n",
       " 0.07393716275691986,\n",
       " 0.05619140341877937,\n",
       " 0.0033013636711984873,\n",
       " 0.041558049619197845,\n",
       " -0.010387511923909187,\n",
       " -0.13272693753242493,\n",
       " -0.10473109781742096,\n",
       " 0.018451835960149765,\n",
       " -0.07520625740289688,\n",
       " 0.049540843814611435,\n",
       " -0.028530830517411232,\n",
       " -0.013584094122052193,\n",
       " -0.037112656980752945,\n",
       " -0.06756578385829926,\n",
       " -0.019552532583475113,\n",
       " -0.010211850516498089,\n",
       " -0.05193484202027321,\n",
       " -0.05941231921315193,\n",
       " 0.01675405725836754,\n",
       " 0.04098019003868103,\n",
       " 0.0015223771333694458,\n",
       " 0.08095280826091766,\n",
       " 0.00265109003521502,\n",
       " -0.0387071818113327,\n",
       " -0.04703032970428467,\n",
       " -0.05854426324367523,\n",
       " -0.02947847731411457,\n",
       " 0.03882649540901184,\n",
       " -8.102624520184456e-33,\n",
       " -0.012914237566292286,\n",
       " -0.014458495192229748,\n",
       " -0.022368771955370903,\n",
       " 0.10564505308866501,\n",
       " 0.0037275084760040045,\n",
       " 0.005939558148384094,\n",
       " -0.023657266050577164,\n",
       " 0.041163936257362366,\n",
       " -0.07411696761846542,\n",
       " 0.007076901849359274,\n",
       " 0.0018349583260715008,\n",
       " -0.03314222767949104,\n",
       " 0.006818834692239761,\n",
       " 0.04693514108657837,\n",
       " -0.03836120292544365,\n",
       " 0.05861292779445648,\n",
       " -0.08403787016868591,\n",
       " 0.11954142153263092,\n",
       " -0.025204112753272057,\n",
       " 0.027611656114459038,\n",
       " 0.024475740268826485,\n",
       " 0.014137394726276398,\n",
       " 0.012866541743278503,\n",
       " -0.05779573321342468,\n",
       " -0.03169174864888191,\n",
       " -0.002900676801800728,\n",
       " -0.02725416049361229,\n",
       " -0.02745118923485279,\n",
       " -0.034042440354824066,\n",
       " 0.020136838778853416,\n",
       " 0.02265448123216629,\n",
       " 0.030933396890759468,\n",
       " -0.045505885034799576,\n",
       " -0.0025163523387163877,\n",
       " 0.01510235108435154,\n",
       " 0.09668108820915222,\n",
       " 0.0018093915423378348,\n",
       " -0.054038699716329575,\n",
       " 0.0025403595063835382,\n",
       " 0.006051002070307732,\n",
       " -0.0563022643327713,\n",
       " -0.028254276141524315,\n",
       " 0.06966640800237656,\n",
       " 0.044107940047979355,\n",
       " 0.03983226791024208,\n",
       " -0.0419430136680603,\n",
       " -0.0038098949007689953,\n",
       " -0.04156694561243057,\n",
       " 0.09482311457395554,\n",
       " 0.019028950482606888,\n",
       " -0.04011699557304382,\n",
       " 0.032422278076410294,\n",
       " 0.01256580837070942,\n",
       " -0.05632590502500534,\n",
       " 0.044611915946006775,\n",
       " 0.049289170652627945,\n",
       " 0.01744265854358673,\n",
       " 0.05323149263858795,\n",
       " -0.020876454189419746,\n",
       " 0.06146255508065224,\n",
       " -0.014837309718132019,\n",
       " 0.07423628121614456,\n",
       " -0.057694438844919205,\n",
       " 0.04985214024782181,\n",
       " -0.05890404433012009,\n",
       " -0.000653974711894989,\n",
       " -0.10970550030469894,\n",
       " -0.06829894334077835,\n",
       " 0.13056597113609314,\n",
       " -0.011906624771654606,\n",
       " -0.015998475253582,\n",
       " -0.02110411785542965,\n",
       " -0.007144165225327015,\n",
       " -0.016443856060504913,\n",
       " -0.016906218603253365,\n",
       " -0.048137109726667404,\n",
       " 0.0157316941767931,\n",
       " 0.030654845759272575,\n",
       " -0.004599842242896557,\n",
       " -0.03823970630764961,\n",
       " -0.04718678072094917,\n",
       " -0.08068915456533432,\n",
       " -0.011494789272546768,\n",
       " -0.0519077368080616,\n",
       " -0.043323781341314316,\n",
       " -0.019109949469566345,\n",
       " 0.036341868340969086,\n",
       " -0.06575313955545425,\n",
       " -0.014969349838793278,\n",
       " -0.0911364033818245,\n",
       " 0.0351279191672802,\n",
       " 0.01990419067442417,\n",
       " -0.055992890149354935,\n",
       " -0.04273851588368416,\n",
       " 0.1166701689362526,\n",
       " 4.753722664612347e-33,\n",
       " -0.042776912450790405,\n",
       " 0.010693228803575039,\n",
       " -0.08699917048215866,\n",
       " 0.11428378522396088,\n",
       " 0.026194192469120026,\n",
       " 0.008768032304942608,\n",
       " 0.08940349519252777,\n",
       " -0.0019060018239542842,\n",
       " -0.045507267117500305,\n",
       " 0.08432017266750336,\n",
       " 0.011060516349971294,\n",
       " 0.0002602959284558892,\n",
       " -0.00023177759430836886,\n",
       " -0.0015942816389724612,\n",
       " 0.001558138756081462,\n",
       " -0.02532416209578514,\n",
       " -0.03786809369921684,\n",
       " -0.054631322622299194,\n",
       " 0.004270818550139666,\n",
       " 0.016222011297941208,\n",
       " -0.047631148248910904,\n",
       " 0.11077605187892914,\n",
       " 0.04578298330307007,\n",
       " 0.07989457994699478,\n",
       " -0.006792592816054821,\n",
       " -0.010313660837709904,\n",
       " 0.006975409109145403,\n",
       " -0.09530740976333618,\n",
       " -0.014356918632984161,\n",
       " -0.01347916480153799,\n",
       " -0.009381151758134365,\n",
       " -0.0026153181679546833,\n",
       " -0.12162388861179352,\n",
       " 0.07765249162912369,\n",
       " 0.009094363078474998,\n",
       " -0.10183478146791458,\n",
       " 0.13146235048770905,\n",
       " -0.04587068036198616,\n",
       " -0.009604983031749725,\n",
       " 0.02430272102355957,\n",
       " 0.04592133313417435,\n",
       " 0.08771278709173203,\n",
       " 0.05515909194946289,\n",
       " 0.04711673781275749,\n",
       " -0.022800587117671967,\n",
       " 0.055404242128133774,\n",
       " 0.039423976093530655,\n",
       " -0.06854794174432755,\n",
       " 0.07696894556283951,\n",
       " 0.02648075856268406,\n",
       " 0.013421726413071156,\n",
       " -0.0315902903676033,\n",
       " 0.021223237738013268,\n",
       " -0.024583760648965836,\n",
       " -0.09490033984184265,\n",
       " 0.05001790449023247,\n",
       " -0.07885673642158508,\n",
       " -0.04692608490586281,\n",
       " -0.009405335411429405,\n",
       " 0.06844945251941681,\n",
       " -0.019532743841409683,\n",
       " 0.08325396478176117,\n",
       " -0.0020212933886796236,\n",
       " 0.07861410081386566,\n",
       " 0.009707007557153702,\n",
       " -0.08329327404499054,\n",
       " -0.08883728832006454,\n",
       " 0.026159722357988358,\n",
       " -0.003612145083025098,\n",
       " 0.0021212364081293344,\n",
       " 0.06756486743688583,\n",
       " -0.04351912811398506,\n",
       " -0.031103378161787987,\n",
       " -0.10554482042789459,\n",
       " 0.08162890374660492,\n",
       " -0.1169375628232956,\n",
       " 0.001215458381921053,\n",
       " -0.04222626984119415,\n",
       " -0.025040678679943085,\n",
       " -0.053820762783288956,\n",
       " 0.04668888449668884,\n",
       " -0.004659538622945547,\n",
       " -0.04914427548646927,\n",
       " 0.05339544638991356,\n",
       " -0.0168246291577816,\n",
       " -0.018911028280854225,\n",
       " 0.002152646891772747,\n",
       " 0.010545716620981693,\n",
       " -0.028433585539460182,\n",
       " 0.06319323927164078,\n",
       " -0.04176086559891701,\n",
       " 0.0364876464009285,\n",
       " -0.02861364744603634,\n",
       " 0.012441832572221756,\n",
       " -0.030993372201919556,\n",
       " -1.8279420643807498e-08,\n",
       " -0.03364746645092964,\n",
       " -0.010457249358296394,\n",
       " 0.006326170638203621,\n",
       " -0.033945295959711075,\n",
       " -0.03437081724405289,\n",
       " 0.043725356459617615,\n",
       " 0.07607872784137726,\n",
       " -0.05076979845762253,\n",
       " -0.06551554054021835,\n",
       " -0.023710859939455986,\n",
       " 0.052172888070344925,\n",
       " 0.008229409344494343,\n",
       " -0.05053585767745972,\n",
       " -0.004634414333850145,\n",
       " 0.04596328362822533,\n",
       " -0.048263661563396454,\n",
       " -0.007646499201655388,\n",
       " -0.0246701892465353,\n",
       " -0.058992475271224976,\n",
       " 0.021795792505145073,\n",
       " -0.033197566866874695,\n",
       " 0.026267101988196373,\n",
       " 0.019565246999263763,\n",
       " 0.022036472335457802,\n",
       " -0.027078943327069283,\n",
       " 0.0781538113951683,\n",
       " 0.03259185329079628,\n",
       " 0.10126295685768127,\n",
       " 0.007166706956923008,\n",
       " -0.03102833963930607,\n",
       " 0.04080113396048546,\n",
       " 0.10805943608283997,\n",
       " -0.009413816966116428,\n",
       " -0.010281164199113846,\n",
       " 0.03727973997592926,\n",
       " 0.11904411762952805,\n",
       " 0.0498206801712513,\n",
       " 0.05209505558013916,\n",
       " 0.020246149972081184,\n",
       " 0.055519070476293564,\n",
       " -0.10270128399133682,\n",
       " -0.00993333663791418,\n",
       " -0.022510267794132233,\n",
       " 0.03311154246330261,\n",
       " 0.052272096276283264,\n",
       " -0.029383262619376183,\n",
       " -0.1383359581232071,\n",
       " -0.014143858104944229,\n",
       " -0.03765946254134178,\n",
       " -0.08339186012744904,\n",
       " -0.0034869592636823654,\n",
       " -0.04154287278652191,\n",
       " 0.04902829974889755,\n",
       " 0.021551137790083885,\n",
       " -0.040210600942373276,\n",
       " 0.008557669818401337,\n",
       " 0.0466168075799942,\n",
       " -0.00411414448171854,\n",
       " -0.03815953806042671,\n",
       " -0.01522362232208252,\n",
       " 0.12486451119184494,\n",
       " 0.08800432831048965,\n",
       " 0.08585747331380844,\n",
       " -0.015338937751948833]"
      ]
     },
     "execution_count": 11,
     "metadata": {},
     "output_type": "execute_result"
    }
   ],
   "source": [
    "embeddings.embed_query(text)"
   ]
  },
  {
   "cell_type": "markdown",
   "id": "9443cb7f-eb4e-4a3d-b0fd-cfe7a16b0770",
   "metadata": {},
   "source": [
    "We now have a working embedding function. Let's install Chroma."
   ]
  },
  {
   "cell_type": "code",
   "execution_count": 12,
   "id": "8868b528-ad09-4e1d-85cf-46cfa534153c",
   "metadata": {},
   "outputs": [],
   "source": [
    "#!pip install -U chromadb"
   ]
  },
  {
   "cell_type": "code",
   "execution_count": 13,
   "id": "2df201d3-b2fe-48ce-b302-32c92f800a43",
   "metadata": {},
   "outputs": [],
   "source": [
    "from langchain.vectorstores import Chroma"
   ]
  },
  {
   "cell_type": "markdown",
   "id": "2b3cf19f-09f6-41bb-8d3f-b92c97b15d9a",
   "metadata": {},
   "source": [
    "Let's make a vector store for our loaded documents!"
   ]
  },
  {
   "cell_type": "code",
   "execution_count": 14,
   "id": "2c796972-537c-482a-ba3f-ca2d4401d270",
   "metadata": {
    "scrolled": true
   },
   "outputs": [
    {
     "name": "stdout",
     "output_type": "stream",
     "text": [
      "CPU times: user 1.74 s, sys: 233 ms, total: 1.97 s\n",
      "Wall time: 3.02 s\n"
     ]
    }
   ],
   "source": [
    "%%time\n",
    "db = Chroma.from_documents(many_pdfs, embeddings)"
   ]
  },
  {
   "cell_type": "markdown",
   "id": "cb091cd4-5029-4e2b-91e9-894380770efc",
   "metadata": {},
   "source": [
    "Let's try retrieving a relevant document."
   ]
  },
  {
   "cell_type": "code",
   "execution_count": 15,
   "id": "8a17ba64-335d-4b45-bf13-dc8f6bc66b61",
   "metadata": {},
   "outputs": [
    {
     "data": {
      "text/plain": [
       "[Document(metadata={'page': 11, 'source': '../data/Supreme Court opinions 2014/13-433_5h26.pdf'}, page_content='_________________ \\n \\n_________________ \\n \\n \\n \\n \\n \\n \\n  \\n \\n  \\n  \\n \\n \\n \\n \\n \\n \\n \\n1 Cite as: 574 U. S. ____ (2014) \\nSOTOMAYOR, J., concurring \\nSUPREME COURT OF THE UNITED STATES \\nNo. 13–433 \\nINTEGRITY STAFFING SOLUTIONS, INC., \\nPETITIONER v. JESSE BUSK ET AL. \\nON WRIT OF CERTIORARI TO THE UNITED STATES COURT OF \\nAPPEALS FOR THE NINTH CIRCUIT\\n \\n[December 9, 2014]\\n JUSTICE SOTOMAYOR, with whom J USTICE KAGAN joins,\\nconcurring. \\nI concur in the Court’s opinion, and write separately\\nonly to explain my understanding of the standards the\\nCourt applies. \\nThe Court reaches two critical conclusions.  First, the \\nCourt confirms that compensable “ ‘principal’” activities \\n“‘includ[e] . . . those closely related activities which are \\nindispensable to [a principal activity’s] performance,’ ” \\nante, at 6 (quoting 29 CFR §790.8(c)(2013)), and holds that \\nthe required security screenin gs here were not “integral \\nand indispensable” to another principal activity the em-\\nployees were employed to perform, ante, at 7. I agree. As \\nboth Department of Labor regulations and our precedent \\nmake clear, an activity is “indispensable” to another, \\nprincipal activity only when an employee could not dis-\\npense with it without impairing his ability to perform the\\nprincipal activity safely and effectively.  Thus, although a \\nbattery plant worker might, for example, perform his\\nprincipal activities without donning proper protective\\ngear, he could not do so safely, see Steiner v. Mitchell, 350 \\nU. S. 247, 250–253 (1956); likewise, a butcher might be \\nable to cut meat without having sharpened his knives, but \\nhe could not do so effectively, see Mitchell v. King Packing \\nCo., 350 U. S. 260, 262–263 (1956); accord, 29 CFR'),\n",
       " Document(metadata={'page': 13, 'source': '../data/Supreme Court opinions 2014/13-433_5h26.pdf'}, page_content='3 Cite as: 574 U. S. ____ (2014) \\nSOTOMAYOR, J., concurring \\nthe Court observes, the Department of Labor reached the\\nvery same conclusion regarding similar security screen-\\nings shortly after the Portal-to-Portal Act was adopted, see \\nante, at 7–8, and we owe deference to that determination, \\nsee Christensen v. Harris County , 529 U. S. 576, 587 \\n(2000).\\nBecause I understand the Court’s opinion to be con-\\nsistent with the foregoing, I join it.'),\n",
       " Document(metadata={'page': 21, 'source': '../data/Supreme Court opinions 2014/13-502_9olb.pdf'}, page_content='_________________ \\n \\n_________________ \\n  \\n \\n \\n \\n \\n \\n \\n \\n \\n \\n  \\n \\n \\n \\n \\n1 Cite as: 576 U. S. ____ (2015) \\nALITO, J., concurring \\nSUPREME COURT OF THE UNITED STATES \\nNo. 13–502 \\nCLYDE REED, ET AL., PETITIONERS v. TOWN OF\\n \\nGILBERT, ARIZONA, ET AL. \\nON WRIT OF CERTIORARI TO THE UNITED STATES COURT OF \\nAPPEALS FOR THE NINTH CIRCUIT\\n \\n[June 18, 2015] \\nJUSTICE ALITO, with whom J USTICE KENNEDY and \\nJUSTICE SOTOMAYOR join, concurring. \\nI join the opinion of the Court but add a few words of \\nfurther explanation. \\nAs the Court holds, what we have termed “content-\\nbased” laws must satisfy strict scrutiny.  Content-based \\nlaws merit this protection because they present, albeit\\nsometimes in a subtler form, the same dangers as laws\\nthat regulate speech based on viewpoint.  Limiting speech\\nbased on its “topic” or “subject” favors those who do not\\nwant to disturb the status quo.  Such regulations may \\ninterfere with democratic self-government and the search \\nfor truth. See Consolidated Edison Co. of N. Y. v. Public \\nServ. Comm’n of N. Y., 447 U. S. 530, 537 (1980).\\nAs the Court shows, the regulations at issue in this case\\nare replete with content-based distinctions, and as a result \\nthey must satisfy strict scrutiny.  This does not mean, \\nhowever, that municipalities are powerless to enact and\\nenforce reasonable sign regulations.  I will not attempt to \\nprovide anything like a comprehensive list, but here are\\nsome rules that would not be content based: \\nRules regulating the size of signs.  These rules may \\ndistinguish among signs based on any content-neutral \\ncriteria, including any relevant criteria listed below. \\nRules regulating the locations in which signs may be'),\n",
       " Document(metadata={'page': 12, 'source': '../data/Supreme Court opinions 2014/13-433_5h26.pdf'}, page_content='2 INTEGRITY STAFFING SOLUTIONS, INC. v. BUSK \\nSOTOMAYOR, J., concurring \\n§790.8(c). Here, by contrast, the security screenings were\\nnot “integral and indispensable” to the employees’ other \\nprincipal activities in this sense.  The screenings may, as\\nthe Ninth Circuit observed below, have been in some way \\nrelated to the work that the employees performed in the \\nwarehouse, see 713 F. 3d 525, 531 (2013), but the employ-\\nees could skip the screenings altogether without the safety\\nor effectiveness of their princi pal activities being substan-\\ntially impaired, see ante, at 7. \\nSecond, the Court holds also that the screenings were \\nnot themselves “ ‘principal . . . activities’ ” the employees \\nwere “ ‘employed to perform.’ ”  Ibid. (quoting 29 U. S. C. \\n§254(a)(1)). On this point, I understand the Court’s anal-\\nysis to turn on its conclusion that undergoing security\\nscreenings was not itself work of consequence that the\\nemployees performed for their employer.  See ante, at 7. \\nAgain, I agree. As the statute’s use of the words “prelimi-\\nnary” and “postliminary” suggests, §254(a)(2), and as our \\nprecedents make clear, the Portal-to-Portal Act of 1947 is\\nprimarily concerned with defining the beginning and end \\nof the workday. See IBP, Inc.  v. Alvarez, 546 U. S. 21, \\n34–37 (2005). It distinguishes between activities that are \\nessentially part of the ingress and egress process, on the \\none hand, and activities that constitute the actual “work of \\nconsequence performed for an employer,” on the other \\nhand. 29 CFR §790.8(a); see also ibid. (clarifying that a \\nprincipal activity need not pr edominate over other activi-\\nties, and that an employee could be employed to perform \\nmultiple principal activities). The security screenings at\\nissue here fall on the “preliminary . . . or postliminary” \\nside of this line. 29 U. S. C. §254(a)(2).  The searches were \\npart of the process by which the employees egressed their\\nplace of work, akin to checking in and out and waiting in\\nline to do so—activities that Congress clearly deemed to be \\npreliminary or postlimininary.  See S. Rep. No. 48, 80th\\nCong., 1st Sess., 47 (1947); 29 CFR §790.7(g).  Indeed, as')]"
      ]
     },
     "execution_count": 15,
     "metadata": {},
     "output_type": "execute_result"
    }
   ],
   "source": [
    "query = \"What documents include Sotomayor?\"\n",
    "db.similarity_search(query)"
   ]
  },
  {
   "cell_type": "code",
   "execution_count": null,
   "id": "94e9bc18-4993-4aa1-b41e-ba50a610a1c2",
   "metadata": {},
   "outputs": [],
   "source": []
  },
  {
   "cell_type": "code",
   "execution_count": null,
   "id": "81bc5c99-2742-44e9-848a-554cc377443e",
   "metadata": {},
   "outputs": [],
   "source": []
  }
 ],
 "metadata": {
  "kernelspec": {
   "display_name": "Python 3 (ipykernel)",
   "language": "python",
   "name": "python3"
  },
  "language_info": {
   "codemirror_mode": {
    "name": "ipython",
    "version": 3
   },
   "file_extension": ".py",
   "mimetype": "text/x-python",
   "name": "python",
   "nbconvert_exporter": "python",
   "pygments_lexer": "ipython3",
   "version": "3.8.18"
  }
 },
 "nbformat": 4,
 "nbformat_minor": 5
}
