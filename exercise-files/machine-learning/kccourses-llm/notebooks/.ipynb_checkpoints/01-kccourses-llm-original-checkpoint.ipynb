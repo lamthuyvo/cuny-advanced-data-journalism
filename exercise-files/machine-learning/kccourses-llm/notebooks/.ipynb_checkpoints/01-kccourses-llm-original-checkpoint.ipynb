{
 "cells": [
  {
   "cell_type": "markdown",
   "id": "70c90b18-757b-4a44-8e8d-3e0882bd5474",
   "metadata": {},
   "source": [
    "## Week 2"
   ]
  },
  {
   "cell_type": "markdown",
   "id": "31770a4b-1626-4cdc-9a2f-5b249540fd46",
   "metadata": {},
   "source": [
    "*Welcome back! Scroll down to week 3.*\n",
    "\n",
    "We first download the required software: LangChain and its dependency `pypdf`"
   ]
  },
  {
   "cell_type": "code",
   "execution_count": null,
   "id": "d09f5e02-9571-47c2-b607-831fde5093b5",
   "metadata": {
    "scrolled": true
   },
   "outputs": [],
   "source": [
    "!pip install --upgrade pip \n",
    "!pip install --upgrade langchain pypdf"
   ]
  },
  {
   "cell_type": "markdown",
   "id": "b0323110-6e61-40cb-a8b0-ea48fbf31065",
   "metadata": {},
   "source": [
    "We then load LangChain's `pypdf` loader."
   ]
  },
  {
   "cell_type": "code",
   "execution_count": null,
   "id": "62c41117-03a0-47a1-8ceb-2be15e7adf92",
   "metadata": {},
   "outputs": [],
   "source": [
    "from langchain.document_loaders import PyPDFLoader, PyPDFDirectoryLoader"
   ]
  },
  {
   "cell_type": "markdown",
   "id": "ad550f88-1588-4aac-b051-12ded711781a",
   "metadata": {},
   "source": [
    "Let's first load our PDF... "
   ]
  },
  {
   "cell_type": "code",
   "execution_count": null,
   "id": "4d044718-e7d2-4fc6-9044-073329c52bfc",
   "metadata": {},
   "outputs": [],
   "source": [
    "loader = PyPDFLoader(\"Data/2021-census-population-occupied-private-dwellings-community-2001-2021.pdf\")"
   ]
  },
  {
   "cell_type": "code",
   "execution_count": null,
   "id": "ae45dec0-794d-4816-914b-f9f590c4e75c",
   "metadata": {},
   "outputs": [],
   "source": [
    "single_pdf = loader.load_and_split()"
   ]
  },
  {
   "cell_type": "code",
   "execution_count": null,
   "id": "c316779d-acf0-4e29-806b-f1d02b64fbae",
   "metadata": {},
   "outputs": [],
   "source": [
    "loader = PyPDFDirectoryLoader(\"Data/Supreme Court opinions 2014/\")"
   ]
  },
  {
   "cell_type": "code",
   "execution_count": null,
   "id": "042e0450-b922-483f-a02a-03700732780b",
   "metadata": {},
   "outputs": [],
   "source": [
    "many_pdfs = loader.load_and_split()"
   ]
  },
  {
   "cell_type": "markdown",
   "id": "20efbfc9-f265-4409-b6cd-e136859c7ab4",
   "metadata": {},
   "source": [
    "Having loaded both the single PDF and a directory of PDFs, let's now load the CSV. "
   ]
  },
  {
   "cell_type": "code",
   "execution_count": null,
   "id": "d99fd1e7-73ce-4311-adf0-b945605891df",
   "metadata": {},
   "outputs": [],
   "source": [
    "from langchain.document_loaders.csv_loader import CSVLoader"
   ]
  },
  {
   "cell_type": "code",
   "execution_count": null,
   "id": "531ca2c7-4467-4415-93af-8aa2a2313b70",
   "metadata": {},
   "outputs": [],
   "source": [
    "loader = CSVLoader(\"Data/Urban_Design_and_Architecture_Awards_Recipients.csv\")"
   ]
  },
  {
   "cell_type": "code",
   "execution_count": null,
   "id": "2dfd82d1-8fd2-4c8f-94d2-7a7e00e9d718",
   "metadata": {},
   "outputs": [],
   "source": [
    "csv = loader.load()"
   ]
  },
  {
   "cell_type": "markdown",
   "id": "1c25ac49-bac4-4f32-8cf8-0f25af553ec9",
   "metadata": {},
   "source": [
    "Having loaded our data, we'll now download and load the embedding model."
   ]
  },
  {
   "cell_type": "code",
   "execution_count": null,
   "id": "a1d9169c-968a-4eca-bff3-8329137eb506",
   "metadata": {},
   "outputs": [],
   "source": [
    "!pip install sentence_transformers > /dev/null"
   ]
  },
  {
   "cell_type": "code",
   "execution_count": null,
   "id": "1cd23039-6d3a-4628-bff9-044925dbed4a",
   "metadata": {},
   "outputs": [],
   "source": [
    "from langchain.embeddings import HuggingFaceEmbeddings, SentenceTransformerEmbeddings"
   ]
  },
  {
   "cell_type": "code",
   "execution_count": null,
   "id": "83c921dd-c52a-4e37-8782-f80d572555f4",
   "metadata": {},
   "outputs": [],
   "source": [
    "embeddings = HuggingFaceEmbeddings(model_name=\"all-MiniLM-L6-v2\")"
   ]
  },
  {
   "cell_type": "markdown",
   "id": "50aff0a2-dcb2-4592-baf5-147393fb2a9a",
   "metadata": {},
   "source": [
    "Let's try embedding some text. Observe the output. Once you've tried it, scroll down to continue."
   ]
  },
  {
   "cell_type": "code",
   "execution_count": null,
   "id": "05996763-7f6b-4dff-83c9-793fad185b4a",
   "metadata": {},
   "outputs": [],
   "source": [
    "text = \"This is a test document.\""
   ]
  },
  {
   "cell_type": "code",
   "execution_count": null,
   "id": "f493f3d6-6ffb-4ec6-8cb9-22a632bcacbd",
   "metadata": {},
   "outputs": [],
   "source": [
    "embeddings.embed_query(text)"
   ]
  },
  {
   "cell_type": "markdown",
   "id": "9443cb7f-eb4e-4a3d-b0fd-cfe7a16b0770",
   "metadata": {},
   "source": [
    "We now have a working embedding function. Let's install Chroma."
   ]
  },
  {
   "cell_type": "code",
   "execution_count": null,
   "id": "8868b528-ad09-4e1d-85cf-46cfa534153c",
   "metadata": {},
   "outputs": [],
   "source": [
    "!pip install -U chromadb"
   ]
  },
  {
   "cell_type": "code",
   "execution_count": null,
   "id": "2df201d3-b2fe-48ce-b302-32c92f800a43",
   "metadata": {},
   "outputs": [],
   "source": [
    "from langchain.vectorstores import Chroma"
   ]
  },
  {
   "cell_type": "markdown",
   "id": "2b3cf19f-09f6-41bb-8d3f-b92c97b15d9a",
   "metadata": {},
   "source": [
    "Let's make a vector store for our loaded documents!"
   ]
  },
  {
   "cell_type": "code",
   "execution_count": null,
   "id": "141f2642-6076-4f97-bd78-9e744e327764",
   "metadata": {},
   "outputs": [],
   "source": [
    "db = Chroma.from_documents(single_pdf, embeddings)"
   ]
  },
  {
   "cell_type": "code",
   "execution_count": null,
   "id": "150e3aee-0239-49b7-81c2-968eefb3eb14",
   "metadata": {},
   "outputs": [],
   "source": [
    "db.add_documents(csv)"
   ]
  },
  {
   "cell_type": "code",
   "execution_count": null,
   "id": "2c796972-537c-482a-ba3f-ca2d4401d270",
   "metadata": {
    "scrolled": true
   },
   "outputs": [],
   "source": [
    "db.add_documents(many_pdfs)"
   ]
  },
  {
   "cell_type": "markdown",
   "id": "cb091cd4-5029-4e2b-91e9-894380770efc",
   "metadata": {},
   "source": [
    "Let's try retrieving a relevant document."
   ]
  },
  {
   "cell_type": "code",
   "execution_count": null,
   "id": "5d7036fb-71f5-4b11-92c0-2212fe6521aa",
   "metadata": {},
   "outputs": [],
   "source": [
    "query = \"An award concerning art.\"\n",
    "db.similarity_search(query)"
   ]
  },
  {
   "cell_type": "code",
   "execution_count": null,
   "id": "f94444ca-da71-4d17-8a0f-d648b9e42467",
   "metadata": {
    "scrolled": true
   },
   "outputs": [],
   "source": [
    "query = \"What exceptions does Rule 606(b)(1) contain?\"\n",
    "db.similarity_search(query)"
   ]
  },
  {
   "cell_type": "markdown",
   "id": "11865b5e-95c0-4fdb-919b-22ebd0e34fba",
   "metadata": {},
   "source": [
    "# Week 3"
   ]
  },
  {
   "cell_type": "markdown",
   "id": "764e2aa4-af11-4475-8c70-8c05a311bbf8",
   "metadata": {},
   "source": [
    "We'll now try making an agent. We'll start by downloading a library to let us run a local language model."
   ]
  },
  {
   "cell_type": "markdown",
   "id": "1fc2fa0f-d264-4977-9963-678ac64b045d",
   "metadata": {},
   "source": [
    "If you're on Windows, a non-Apple Silicon Mac, or Linux, use this command:"
   ]
  },
  {
   "cell_type": "code",
   "execution_count": null,
   "id": "0378664a-99dd-47ee-ba03-2aecd0b5e49e",
   "metadata": {},
   "outputs": [],
   "source": [
    "!pip install llama-cpp-python --upgrade --force-reinstall --no-cache-dir"
   ]
  },
  {
   "cell_type": "markdown",
   "id": "bcda9480-fddb-4738-89ee-5c176fb4fcc5",
   "metadata": {},
   "source": [
    "If you're on Apple Silicon use this command:"
   ]
  },
  {
   "cell_type": "code",
   "execution_count": null,
   "id": "3b7cc9d5-00eb-4a59-a26f-55da28df21e5",
   "metadata": {
    "scrolled": true
   },
   "outputs": [],
   "source": [
    "!CMAKE_ARGS=\"-DLLAMA_METAL=on\" pip install llama-cpp-python  --upgrade --force-reinstall --no-cache-dir"
   ]
  },
  {
   "cell_type": "markdown",
   "id": "120332ae-5e95-4611-93af-825d50933582",
   "metadata": {},
   "source": [
    "Let's load the software."
   ]
  },
  {
   "cell_type": "code",
   "execution_count": null,
   "id": "4feebc01-c39a-4c20-9888-e8bbaae0b76b",
   "metadata": {},
   "outputs": [],
   "source": [
    "from langchain.llms import LlamaCpp\n",
    "from langchain.callbacks.manager import CallbackManager\n",
    "from langchain.callbacks.streaming_stdout import StreamingStdOutCallbackHandler\n",
    "\n",
    "callback_manager = CallbackManager([StreamingStdOutCallbackHandler()])"
   ]
  },
  {
   "cell_type": "markdown",
   "id": "99a1dc55-530b-4367-9a90-6695613be9bc",
   "metadata": {},
   "source": [
    "With that loaded, let's download a language model."
   ]
  },
  {
   "cell_type": "code",
   "execution_count": null,
   "id": "e43df9cc-7a32-4587-8ad7-947e27a94297",
   "metadata": {},
   "outputs": [],
   "source": [
    "!wget https://huggingface.co/TheBloke/Mistral-7B-Instruct-v0.1-GGUF/resolve/main/mistral-7b-instruct-v0.1.Q4_0.gguf"
   ]
  },
  {
   "cell_type": "markdown",
   "id": "370476a0-9145-4df4-99c0-563a26dd9a1d",
   "metadata": {},
   "source": [
    "Okay! Let's try loading it."
   ]
  },
  {
   "cell_type": "code",
   "execution_count": null,
   "id": "b0b864e1-0cea-4bdc-bcee-9b061ec3b994",
   "metadata": {
    "scrolled": true
   },
   "outputs": [],
   "source": [
    "llm = LlamaCpp(\n",
    "    model_path=\"mistral-7b-instruct-v0.1.Q4_0.gguf\",\n",
    "    temperature=0.1,\n",
    "    max_tokens=200,\n",
    "    n_ctx=4096,\n",
    "    top_p=1,\n",
    "    n_gpu_layers=-1,\n",
    "    f16_kv=True,\n",
    "    verbose=True,\n",
    "    callback_manager=callback_manager\n",
    ")"
   ]
  },
  {
   "cell_type": "markdown",
   "id": "27c7a7b2-e47d-402f-a06d-c1f6e3f38260",
   "metadata": {
    "jupyter": {
     "source_hidden": true
    }
   },
   "source": [
    "Let's try it out!"
   ]
  },
  {
   "cell_type": "code",
   "execution_count": null,
   "id": "a71a2481-65e8-494e-bc87-fb1379327513",
   "metadata": {},
   "outputs": [],
   "source": [
    "llm(\"Where is Tokyo?\")"
   ]
  },
  {
   "cell_type": "markdown",
   "id": "6d2f78db-2494-4a28-af39-163b9c9e57d5",
   "metadata": {},
   "source": [
    "Having verified the language model works, let's try making a tool for it to access our vector store."
   ]
  },
  {
   "cell_type": "code",
   "execution_count": null,
   "id": "5e507cd4-adc1-4908-a970-fd984877d687",
   "metadata": {},
   "outputs": [],
   "source": [
    "from langchain.chains import RetrievalQA"
   ]
  },
  {
   "cell_type": "markdown",
   "id": "16b8976b-53be-4a08-a272-72cadda58d24",
   "metadata": {},
   "source": [
    "Let's define our agent."
   ]
  },
  {
   "cell_type": "code",
   "execution_count": null,
   "id": "ebb2eb59-28d1-4730-970d-36acc51ef79f",
   "metadata": {},
   "outputs": [],
   "source": [
    "from langchain.agents import initialize_agent, Tool\n",
    "from langchain.agents import AgentType\n",
    "from langchain.tools import BaseTool\n",
    "from langchain.chains import LLMMathChain\n",
    "from langchain.utilities import SerpAPIWrapper\n",
    "from langchain.agents.agent_toolkits import create_retriever_tool"
   ]
  },
  {
   "cell_type": "code",
   "execution_count": null,
   "id": "1f3f16be-37da-4bf4-b2f4-bc3c799bbc38",
   "metadata": {},
   "outputs": [],
   "source": [
    "retriever = db.as_retriever()"
   ]
  },
  {
   "cell_type": "code",
   "execution_count": null,
   "id": "0ebc18c7-3dbe-486f-8074-abd11fb93961",
   "metadata": {},
   "outputs": [],
   "source": [
    "tools = [\n",
    "    create_retriever_tool(\n",
    "        retriever,\n",
    "        name=\"Search knowledge\",\n",
    "        description=\"Useful for when you need to answer a question. If the user asks a question concerning the Supreme Court or Hamilton, Ontario, find the answer to their question with this tool. Only use this tool once.\",\n",
    "    ),\n",
    "]"
   ]
  },
  {
   "cell_type": "markdown",
   "id": "de75c683-63c7-4dd1-a2e8-75414f538bf2",
   "metadata": {},
   "source": [
    "And finally, let's define our toolkit."
   ]
  },
  {
   "cell_type": "code",
   "execution_count": null,
   "id": "e78b186b-530d-469b-b011-0c7175476b96",
   "metadata": {},
   "outputs": [],
   "source": [
    "agent = initialize_agent(\n",
    "    tools, llm, agent=AgentType.ZERO_SHOT_REACT_DESCRIPTION, verbose=False\n",
    ")"
   ]
  },
  {
   "cell_type": "markdown",
   "id": "5d901bc6-16ce-461a-8a61-861f2dacf8b9",
   "metadata": {},
   "source": [
    "And let's try it out."
   ]
  },
  {
   "cell_type": "code",
   "execution_count": null,
   "id": "3fde6c9f-aa73-474d-8a49-d3bac47c63a0",
   "metadata": {},
   "outputs": [],
   "source": [
    "agent.run(\"Have any businesses in Hamilton recently won a grant for art? If so, what are they?\")"
   ]
  }
 ],
 "metadata": {
  "kernelspec": {
   "display_name": "Python 3 (ipykernel)",
   "language": "python",
   "name": "python3"
  },
  "language_info": {
   "codemirror_mode": {
    "name": "ipython",
    "version": 3
   },
   "file_extension": ".py",
   "mimetype": "text/x-python",
   "name": "python",
   "nbconvert_exporter": "python",
   "pygments_lexer": "ipython3",
   "version": "3.8.18"
  }
 },
 "nbformat": 4,
 "nbformat_minor": 5
}
