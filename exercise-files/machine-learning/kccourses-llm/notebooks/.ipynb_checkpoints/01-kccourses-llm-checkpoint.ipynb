{
 "cells": [
  {
   "cell_type": "markdown",
   "id": "70c90b18-757b-4a44-8e8d-3e0882bd5474",
   "metadata": {},
   "source": [
    "## Running your own LLM"
   ]
  },
  {
   "cell_type": "markdown",
   "id": "31770a4b-1626-4cdc-9a2f-5b249540fd46",
   "metadata": {},
   "source": [
    "We first download the required software: LangChain and its dependency `pypdf`"
   ]
  },
  {
   "cell_type": "code",
   "execution_count": 1,
   "id": "d09f5e02-9571-47c2-b607-831fde5093b5",
   "metadata": {
    "scrolled": true
   },
   "outputs": [],
   "source": [
    "#!pip install --upgrade pip \n",
    "#!pip install --upgrade langchain pypdf\n",
    "#!pip install -U langchain-community"
   ]
  },
  {
   "cell_type": "markdown",
   "id": "b0323110-6e61-40cb-a8b0-ea48fbf31065",
   "metadata": {},
   "source": [
    "We then load LangChain's `pypdf` loader."
   ]
  },
  {
   "cell_type": "code",
   "execution_count": 16,
   "id": "62c41117-03a0-47a1-8ceb-2be15e7adf92",
   "metadata": {},
   "outputs": [],
   "source": [
    "from langchain.document_loaders import PyPDFLoader, PyPDFDirectoryLoader"
   ]
  },
  {
   "cell_type": "markdown",
   "id": "ad550f88-1588-4aac-b051-12ded711781a",
   "metadata": {},
   "source": [
    "Let's first load our PDF... "
   ]
  },
  {
   "cell_type": "code",
   "execution_count": 17,
   "id": "4d044718-e7d2-4fc6-9044-073329c52bfc",
   "metadata": {},
   "outputs": [],
   "source": [
    "loader = PyPDFLoader(\"../data/2021-census-population-occupied-private-dwellings-community-2001-2021.pdf\")"
   ]
  },
  {
   "cell_type": "code",
   "execution_count": 18,
   "id": "ae45dec0-794d-4816-914b-f9f590c4e75c",
   "metadata": {},
   "outputs": [],
   "source": [
    "single_pdf = loader.load_and_split()"
   ]
  },
  {
   "cell_type": "code",
   "execution_count": 19,
   "id": "c316779d-acf0-4e29-806b-f1d02b64fbae",
   "metadata": {},
   "outputs": [],
   "source": [
    "loader = PyPDFDirectoryLoader(\"../data/Supreme Court opinions 2014/\")"
   ]
  },
  {
   "cell_type": "code",
   "execution_count": 20,
   "id": "042e0450-b922-483f-a02a-03700732780b",
   "metadata": {},
   "outputs": [],
   "source": [
    "many_pdfs = loader.load_and_split()"
   ]
  },
  {
   "cell_type": "markdown",
   "id": "20efbfc9-f265-4409-b6cd-e136859c7ab4",
   "metadata": {},
   "source": [
    "Having loaded both the single PDF and a directory of PDFs, let's now load the CSV. "
   ]
  },
  {
   "cell_type": "code",
   "execution_count": 7,
   "id": "d99fd1e7-73ce-4311-adf0-b945605891df",
   "metadata": {},
   "outputs": [],
   "source": [
    "#from langchain.document_loaders.csv_loader import CSVLoader"
   ]
  },
  {
   "cell_type": "code",
   "execution_count": 10,
   "id": "531ca2c7-4467-4415-93af-8aa2a2313b70",
   "metadata": {},
   "outputs": [],
   "source": [
    "#loader = CSVLoader(\"../data/Urban_Design_and_Architecture_Awards_Recipients.csv\")"
   ]
  },
  {
   "cell_type": "code",
   "execution_count": 11,
   "id": "2dfd82d1-8fd2-4c8f-94d2-7a7e00e9d718",
   "metadata": {},
   "outputs": [],
   "source": [
    "#csv = loader.load()"
   ]
  },
  {
   "cell_type": "markdown",
   "id": "1c25ac49-bac4-4f32-8cf8-0f25af553ec9",
   "metadata": {},
   "source": [
    "Having loaded our data, we'll now download and load the embedding model."
   ]
  },
  {
   "cell_type": "code",
   "execution_count": 5,
   "id": "a1d9169c-968a-4eca-bff3-8329137eb506",
   "metadata": {},
   "outputs": [],
   "source": [
    "!pip install sentence_transformers > /dev/null"
   ]
  },
  {
   "cell_type": "code",
   "execution_count": 21,
   "id": "1cd23039-6d3a-4628-bff9-044925dbed4a",
   "metadata": {},
   "outputs": [],
   "source": [
    "from langchain.embeddings import HuggingFaceEmbeddings, SentenceTransformerEmbeddings"
   ]
  },
  {
   "cell_type": "code",
   "execution_count": 22,
   "id": "83c921dd-c52a-4e37-8782-f80d572555f4",
   "metadata": {},
   "outputs": [],
   "source": [
    "embeddings = HuggingFaceEmbeddings(model_name=\"all-MiniLM-L6-v2\")"
   ]
  },
  {
   "cell_type": "markdown",
   "id": "50aff0a2-dcb2-4592-baf5-147393fb2a9a",
   "metadata": {},
   "source": [
    "Let's try embedding some text. Observe the output. Once you've tried it, scroll down to continue."
   ]
  },
  {
   "cell_type": "code",
   "execution_count": 23,
   "id": "05996763-7f6b-4dff-83c9-793fad185b4a",
   "metadata": {},
   "outputs": [],
   "source": [
    "text = \"This is a test document.\""
   ]
  },
  {
   "cell_type": "code",
   "execution_count": 24,
   "id": "f493f3d6-6ffb-4ec6-8cb9-22a632bcacbd",
   "metadata": {
    "scrolled": true
   },
   "outputs": [
    {
     "data": {
      "text/plain": [
       "[-0.03833850845694542,\n",
       " 0.1234646588563919,\n",
       " -0.02864295430481434,\n",
       " 0.05365273728966713,\n",
       " 0.008845346979796886,\n",
       " -0.03983934596180916,\n",
       " -0.07300586998462677,\n",
       " 0.04777126759290695,\n",
       " -0.03046250157058239,\n",
       " 0.05497973784804344,\n",
       " 0.08505290001630783,\n",
       " 0.03665672987699509,\n",
       " -0.005319980438798666,\n",
       " -0.0022331627551466227,\n",
       " -0.06071098521351814,\n",
       " -0.027237940579652786,\n",
       " -0.011351647786796093,\n",
       " -0.04243769869208336,\n",
       " 0.009129912592470646,\n",
       " 0.10081558674573898,\n",
       " 0.07578732818365097,\n",
       " 0.06911719590425491,\n",
       " 0.009857515804469585,\n",
       " -0.0018377389060333371,\n",
       " 0.026249056681990623,\n",
       " 0.03290240094065666,\n",
       " -0.07177440077066422,\n",
       " 0.02838428132236004,\n",
       " 0.061709512025117874,\n",
       " -0.052529554814100266,\n",
       " 0.03366169333457947,\n",
       " 0.07446811348199844,\n",
       " 0.07536035776138306,\n",
       " 0.03538399934768677,\n",
       " 0.06713403761386871,\n",
       " 0.010798030532896519,\n",
       " 0.08167024701833725,\n",
       " 0.01656290702521801,\n",
       " 0.032830629497766495,\n",
       " 0.03632565960288048,\n",
       " 0.002172861248254776,\n",
       " -0.09895740449428558,\n",
       " 0.005046738777309656,\n",
       " 0.05089650675654411,\n",
       " 0.009287567809224129,\n",
       " 0.024507703259587288,\n",
       " -0.06440779566764832,\n",
       " 0.0019363445462659001,\n",
       " -0.07910352945327759,\n",
       " 0.020850367844104767,\n",
       " -0.019228260964155197,\n",
       " -0.028054701164364815,\n",
       " -0.07059799134731293,\n",
       " -0.007083625067025423,\n",
       " 0.010405676439404488,\n",
       " 0.038834098726511,\n",
       " 0.017656072974205017,\n",
       " -0.019606098532676697,\n",
       " -0.0200584065169096,\n",
       " 0.0180838480591774,\n",
       " -0.00017215017578564584,\n",
       " 0.013043329119682312,\n",
       " -0.09337244182825089,\n",
       " 0.08453577011823654,\n",
       " 0.11705496907234192,\n",
       " 0.057413436472415924,\n",
       " -0.022439081221818924,\n",
       " -0.03677628934383392,\n",
       " -0.034346289932727814,\n",
       " -0.06383827328681946,\n",
       " -0.06846100836992264,\n",
       " -0.005553087685257196,\n",
       " 0.044378429651260376,\n",
       " 0.016669297590851784,\n",
       " 0.030911771580576897,\n",
       " -0.01975969411432743,\n",
       " -0.02485513873398304,\n",
       " -0.05904394015669823,\n",
       " 0.09458758682012558,\n",
       " -0.06530508399009705,\n",
       " -0.05597259849309921,\n",
       " -0.03284722939133644,\n",
       " 0.008115168660879135,\n",
       " -0.0022346845362335443,\n",
       " 0.002023303648456931,\n",
       " 0.0794212743639946,\n",
       " 0.08518772572278976,\n",
       " 0.007815277203917503,\n",
       " -0.013745613396167755,\n",
       " 0.031104188412427902,\n",
       " 0.010080904699862003,\n",
       " -0.03275555744767189,\n",
       " 0.007714823819696903,\n",
       " -0.006191901862621307,\n",
       " -0.05613410472869873,\n",
       " 0.004364850465208292,\n",
       " -0.01403757743537426,\n",
       " -0.039304692298173904,\n",
       " 0.07822340726852417,\n",
       " 0.07393714040517807,\n",
       " 0.056191373616456985,\n",
       " 0.0033013555221259594,\n",
       " 0.041558001190423965,\n",
       " -0.010387555696070194,\n",
       " -0.13272695243358612,\n",
       " -0.10473109781742096,\n",
       " 0.01845182664692402,\n",
       " -0.07520629465579987,\n",
       " 0.04954086244106293,\n",
       " -0.028530815616250038,\n",
       " -0.013584120199084282,\n",
       " -0.03711266815662384,\n",
       " -0.06756575405597687,\n",
       " -0.019552454352378845,\n",
       " -0.010211856104433537,\n",
       " -0.0519348569214344,\n",
       " -0.059412360191345215,\n",
       " 0.0167540255934,\n",
       " 0.04098021984100342,\n",
       " 0.0015223786467686296,\n",
       " 0.08095283806324005,\n",
       " 0.002651104936376214,\n",
       " -0.03870721533894539,\n",
       " -0.04703032970428467,\n",
       " -0.05854422599077225,\n",
       " -0.029478494077920914,\n",
       " 0.03882652521133423,\n",
       " -8.102625989552394e-33,\n",
       " -0.012914272025227547,\n",
       " -0.014458528719842434,\n",
       " -0.022368719801306725,\n",
       " 0.10564505308866501,\n",
       " 0.0037274472415447235,\n",
       " 0.005939546972513199,\n",
       " -0.023657334968447685,\n",
       " 0.04116390645503998,\n",
       " -0.07411694526672363,\n",
       " 0.007076910696923733,\n",
       " 0.0018349519232288003,\n",
       " -0.033142250031232834,\n",
       " 0.006818846333771944,\n",
       " 0.04693517088890076,\n",
       " -0.038361188024282455,\n",
       " 0.058612946420907974,\n",
       " -0.0840378999710083,\n",
       " 0.11954142898321152,\n",
       " -0.025204114615917206,\n",
       " 0.027611708268523216,\n",
       " 0.02447567507624626,\n",
       " 0.014137424528598785,\n",
       " 0.01286656316369772,\n",
       " -0.05779572203755379,\n",
       " -0.031691774725914,\n",
       " -0.0029006991535425186,\n",
       " -0.027254177257418633,\n",
       " -0.027451233938336372,\n",
       " -0.03404246270656586,\n",
       " 0.020136825740337372,\n",
       " 0.022654496133327484,\n",
       " 0.030933387577533722,\n",
       " -0.04550589621067047,\n",
       " -0.0025163160171359777,\n",
       " 0.01510231476277113,\n",
       " 0.09668107330799103,\n",
       " 0.0018094511469826102,\n",
       " -0.054038722068071365,\n",
       " 0.002540336921811104,\n",
       " 0.006050989963114262,\n",
       " -0.05630222335457802,\n",
       " -0.02825423702597618,\n",
       " 0.06966647505760193,\n",
       " 0.04410797730088234,\n",
       " 0.039832353591918945,\n",
       " -0.041943006217479706,\n",
       " -0.0038099060766398907,\n",
       " -0.04156696796417236,\n",
       " 0.09482309967279434,\n",
       " 0.01902894675731659,\n",
       " -0.040117047727108,\n",
       " 0.03242229297757149,\n",
       " 0.012565829791128635,\n",
       " -0.05632592365145683,\n",
       " 0.0446118488907814,\n",
       " 0.049289196729660034,\n",
       " 0.017442647367715836,\n",
       " 0.05323150008916855,\n",
       " -0.020876502618193626,\n",
       " 0.06146256998181343,\n",
       " -0.014837320894002914,\n",
       " 0.07423634082078934,\n",
       " -0.05769442394375801,\n",
       " 0.049852173775434494,\n",
       " -0.05890402942895889,\n",
       " -0.0006539576570503414,\n",
       " -0.10970553010702133,\n",
       " -0.06829895079135895,\n",
       " 0.13056597113609314,\n",
       " -0.011906667612493038,\n",
       " -0.01599845103919506,\n",
       " -0.021104156970977783,\n",
       " -0.007144181057810783,\n",
       " -0.016443870961666107,\n",
       " -0.016906289383769035,\n",
       " -0.0481371209025383,\n",
       " 0.015731699764728546,\n",
       " 0.03065486066043377,\n",
       " -0.004599842708557844,\n",
       " -0.038239702582359314,\n",
       " -0.047186803072690964,\n",
       " -0.08068915456533432,\n",
       " -0.011494772508740425,\n",
       " -0.05190780758857727,\n",
       " -0.04332372173666954,\n",
       " -0.019109977409243584,\n",
       " 0.036341868340969086,\n",
       " -0.06575321406126022,\n",
       " -0.01496932189911604,\n",
       " -0.09113642573356628,\n",
       " 0.035127922892570496,\n",
       " 0.019904164597392082,\n",
       " -0.055992819368839264,\n",
       " -0.04273848608136177,\n",
       " 0.11667021363973618,\n",
       " 4.753723031954332e-33,\n",
       " -0.042776916176080704,\n",
       " 0.010693277232348919,\n",
       " -0.08699916303157806,\n",
       " 0.11428385227918625,\n",
       " 0.026194259524345398,\n",
       " 0.00876801460981369,\n",
       " 0.08940353989601135,\n",
       " -0.001906067132949829,\n",
       " -0.0455072857439518,\n",
       " 0.08432014286518097,\n",
       " 0.011060461401939392,\n",
       " 0.00026028574211522937,\n",
       " -0.00023179878189694136,\n",
       " -0.0015942318132147193,\n",
       " 0.0015581067418679595,\n",
       " -0.025324122980237007,\n",
       " -0.037868041545152664,\n",
       " -0.0546313114464283,\n",
       " 0.004270825069397688,\n",
       " 0.016222000122070312,\n",
       " -0.0476311556994915,\n",
       " 0.11077602207660675,\n",
       " 0.045782994478940964,\n",
       " 0.07989461719989777,\n",
       " -0.0067926496267318726,\n",
       " -0.010313661769032478,\n",
       " 0.006975420285016298,\n",
       " -0.09530744701623917,\n",
       " -0.01435689814388752,\n",
       " -0.013479167595505714,\n",
       " -0.00938120111823082,\n",
       " -0.0026152594946324825,\n",
       " -0.12162390351295471,\n",
       " 0.07765249162912369,\n",
       " 0.009094364009797573,\n",
       " -0.1018347293138504,\n",
       " 0.13146232068538666,\n",
       " -0.04587072134017944,\n",
       " -0.009605026803910732,\n",
       " 0.024302734062075615,\n",
       " 0.04592133313417435,\n",
       " 0.08771277964115143,\n",
       " 0.05515916272997856,\n",
       " 0.047116752713918686,\n",
       " -0.02280057966709137,\n",
       " 0.05540426820516586,\n",
       " 0.03942393884062767,\n",
       " -0.06854800134897232,\n",
       " 0.07696889340877533,\n",
       " 0.026480769738554955,\n",
       " 0.013421696610748768,\n",
       " -0.0315902903676033,\n",
       " 0.021223213523626328,\n",
       " -0.024583781138062477,\n",
       " -0.09490036219358444,\n",
       " 0.050017859786748886,\n",
       " -0.07885675132274628,\n",
       " -0.046926099807024,\n",
       " -0.009405309334397316,\n",
       " 0.06844944506883621,\n",
       " -0.01953280344605446,\n",
       " 0.08325402438640594,\n",
       " -0.002021264052018523,\n",
       " 0.07861407101154327,\n",
       " 0.00970702525228262,\n",
       " -0.08329326659440994,\n",
       " -0.08883731067180634,\n",
       " 0.026159750297665596,\n",
       " -0.0036121176090091467,\n",
       " 0.0021212329156696796,\n",
       " 0.06756491214036942,\n",
       " -0.04351912811398506,\n",
       " -0.031103413552045822,\n",
       " -0.1055448055267334,\n",
       " 0.08162885159254074,\n",
       " -0.11693757772445679,\n",
       " 0.0012153986608609557,\n",
       " -0.042226240038871765,\n",
       " -0.02504066377878189,\n",
       " -0.053820788860321045,\n",
       " 0.04668887332081795,\n",
       " -0.004659533035010099,\n",
       " -0.04914426431059837,\n",
       " 0.053395453840494156,\n",
       " -0.016824690625071526,\n",
       " -0.0189109705388546,\n",
       " 0.0021526480559259653,\n",
       " 0.010545722208917141,\n",
       " -0.028433628380298615,\n",
       " 0.06319321691989899,\n",
       " -0.041760899126529694,\n",
       " 0.036487579345703125,\n",
       " -0.028613651171326637,\n",
       " 0.012441827915608883,\n",
       " -0.03099338710308075,\n",
       " -1.8279422420164337e-08,\n",
       " -0.03364746645092964,\n",
       " -0.010457242839038372,\n",
       " 0.0063261836767196655,\n",
       " -0.03394525870680809,\n",
       " -0.03437081351876259,\n",
       " 0.04372537508606911,\n",
       " 0.07607872039079666,\n",
       " -0.05076980963349342,\n",
       " -0.06551555544137955,\n",
       " -0.023710818961262703,\n",
       " 0.052172910422086716,\n",
       " 0.00822942890226841,\n",
       " -0.05053585767745972,\n",
       " -0.004634421318769455,\n",
       " 0.0459633395075798,\n",
       " -0.04826361685991287,\n",
       " -0.0076465425081551075,\n",
       " -0.02467016503214836,\n",
       " -0.05899246409535408,\n",
       " 0.02179577574133873,\n",
       " -0.03319757804274559,\n",
       " 0.026267120614647865,\n",
       " 0.019565224647521973,\n",
       " 0.022036494687199593,\n",
       " -0.027078917250037193,\n",
       " 0.0781538113951683,\n",
       " 0.032591816037893295,\n",
       " 0.10126296430826187,\n",
       " 0.007166736759245396,\n",
       " -0.031028293073177338,\n",
       " 0.04080120474100113,\n",
       " 0.10805940628051758,\n",
       " -0.009413868188858032,\n",
       " -0.010281182825565338,\n",
       " 0.03727973997592926,\n",
       " 0.11904407292604446,\n",
       " 0.04982065036892891,\n",
       " 0.05209505185484886,\n",
       " 0.020246166735887527,\n",
       " 0.055519089102745056,\n",
       " -0.10270128399133682,\n",
       " -0.009933301247656345,\n",
       " -0.02251027710735798,\n",
       " 0.03311147913336754,\n",
       " 0.05227212980389595,\n",
       " -0.029383277520537376,\n",
       " -0.1383359581232071,\n",
       " -0.014143845997750759,\n",
       " -0.037659481167793274,\n",
       " -0.08339186757802963,\n",
       " -0.003486958099529147,\n",
       " -0.041542865335941315,\n",
       " 0.04902831092476845,\n",
       " 0.021551111713051796,\n",
       " -0.0402105376124382,\n",
       " 0.008557641878724098,\n",
       " 0.04661679267883301,\n",
       " -0.00411414448171854,\n",
       " -0.03815954923629761,\n",
       " -0.015223565511405468,\n",
       " 0.12486451119184494,\n",
       " 0.08800435066223145,\n",
       " 0.08585752546787262,\n",
       " -0.015338935889303684]"
      ]
     },
     "execution_count": 24,
     "metadata": {},
     "output_type": "execute_result"
    }
   ],
   "source": [
    "embeddings.embed_query(text)"
   ]
  },
  {
   "cell_type": "markdown",
   "id": "9443cb7f-eb4e-4a3d-b0fd-cfe7a16b0770",
   "metadata": {},
   "source": [
    "We now have a working embedding function. Let's install Chroma."
   ]
  },
  {
   "cell_type": "code",
   "execution_count": 25,
   "id": "8868b528-ad09-4e1d-85cf-46cfa534153c",
   "metadata": {},
   "outputs": [],
   "source": [
    "#!pip install -U chromadb"
   ]
  },
  {
   "cell_type": "code",
   "execution_count": 26,
   "id": "2df201d3-b2fe-48ce-b302-32c92f800a43",
   "metadata": {},
   "outputs": [],
   "source": [
    "from langchain.vectorstores import Chroma"
   ]
  },
  {
   "cell_type": "markdown",
   "id": "2b3cf19f-09f6-41bb-8d3f-b92c97b15d9a",
   "metadata": {},
   "source": [
    "Let's make a vector store for our loaded documents!"
   ]
  },
  {
   "cell_type": "code",
   "execution_count": 27,
   "id": "141f2642-6076-4f97-bd78-9e744e327764",
   "metadata": {},
   "outputs": [],
   "source": [
    "db = Chroma.from_documents(single_pdf, embeddings)"
   ]
  },
  {
   "cell_type": "code",
   "execution_count": 33,
   "id": "2c796972-537c-482a-ba3f-ca2d4401d270",
   "metadata": {
    "scrolled": true
   },
   "outputs": [
    {
     "name": "stdout",
     "output_type": "stream",
     "text": [
      "CPU times: user 2 µs, sys: 2 µs, total: 4 µs\n",
      "Wall time: 14.1 µs\n"
     ]
    }
   ],
   "source": [
    "%%time\n",
    "#db.add_documents(many_pdfs)"
   ]
  },
  {
   "cell_type": "markdown",
   "id": "cb091cd4-5029-4e2b-91e9-894380770efc",
   "metadata": {},
   "source": [
    "Let's try retrieving a relevant document."
   ]
  },
  {
   "cell_type": "code",
   "execution_count": 34,
   "id": "f94444ca-da71-4d17-8a0f-d648b9e42467",
   "metadata": {
    "scrolled": true
   },
   "outputs": [
    {
     "name": "stderr",
     "output_type": "stream",
     "text": [
      "Number of requested results 4 is greater than number of elements in index 3, updating n_results = 3\n"
     ]
    },
    {
     "data": {
      "text/plain": [
       "[Document(metadata={'page': 0, 'source': '../data/2021-census-population-occupied-private-dwellings-community-2001-2021.pdf'}, page_content='2001 2006 2011 2016 2021\\nCommunity Population Occupied Population Occupied Population Occupied Population Occupied Population Occupied\\nPrivate Private Private Private Private\\nDwellings Dwellings Dwellings Dwellings Dwellings\\nAncaster 27,490 9,075 33,230 10,780 36,910 12,235 40,560 13,610 43,510 14,805\\nDundas 24,385 9,080 24,700 9,365 24,910 9,910 24,285 9,920 24,150 9,990\\nFlamborough 37,795 12,645 39,220 13,070 40,090 13,925 42,655 14,995 46,860 16,405\\nGlanbrook 12,145 4,360 15,290 5,680 22,440 8,215 29,860 10,560 35,075 11,865\\nHamilton 331,120 133,350 329,820 133,780 330,480 136,150 330,090 137,490 343,280 142,175\\n Lower Hamilton 187,730 81,340 182,365 79,935 180,245 80,460 176,815 80,325 185,744 83,743\\n Upper Hamilton 143,390 52,010 147,455 53,845 150,235 55,690 153,275 57,165 157,536 58,432\\nStoney Creek 57,330 19,710 62,290 21,780 65,120 23,370 69,470 25,030 76,480 27,560\\nTotal 490,265 188,165 504,550 194,455 519,950 203,805 536,920 211,605 569,355 222,800\\nCommunity Population Occupied Population Occupied Population Occupied Population Occupied Population Occupied\\nPrivate Private Private Private Private\\nDwellings Dwellings Dwellings Dwellings Dwellings\\nAncaster 5,740 1,705 3,680 1,455 3,650 1,375 7,330 2,830 2,950 1,195\\nDundas 315 285 210 545 -625 10 -415 555 -135 70\\nFlamborough 1,425 425 870 855 2,565 1,070 3,435 1,925 4,205 1,410\\nGlanbrook 3,145 1,320 7,150 2,535 7,420 2,345 14,570 4,880 5,215 1,305\\nHamilton -1,300 430 660 2,370 -390 1,340 270 3,710 13,190 4,685\\n Lower Hamilton -5,365 -1,405 -2,120 525 -3,430 -135 -5,550 390 5,499 3,283\\n Upper Hamilton 4,065 1,835 2,780 1,845 3,040 1,475 5,820 3,320 7,301 2,742\\nStoney Creek 4,960 2,070 2,830 1,590 4,350 1,660 7,180 3,250 7,010 2,530\\nTotal 14,285 6,235 15,400 9,350 16,970 7,800 32,370 17,150 32,435 11,195\\nCommunity Population Occupied Population Occupied Population Occupied Population Occupied Population Occupied\\nPrivate Private Private Private Private\\nDwellings Dwellings Dwellings Dwellings Dwellings\\nAncaster 20.9% 18.8% 11.1% 13.5% 9.9% 11.2% 22.1% 26.3% 7.3% 8.8%\\nDundas 1.3% 3.1% 0.9% 5.8% -2.5% 0.1% -1.7% 5.9% -0.6% 0.7%\\nFlamborough 3.8% 3.4% 2.2% 6.5% 6.4% 7.7% 8.8% 14.7% 9.9% 9.4%\\nGlanbrook 25.9% 30.3% 46.8% 44.6% 33.1% 28.5% 95.3% 85.9% 17.5% 12.4%\\nHamilton -0.4% 0.3% 0.2% 1.8% -0.1% 1.0% 0.1% 2.8% 4.0% 3.4%\\n Lower Hamilton -2.9% -1.7% -1.2% 0.7% -1.9% -0.2% -3.0% 0.5% 5.0% 4.3%\\n Upper Hamilton 2.8% 3.5% 1.9% 3.4% 2.0% 2.6% 3.9% 6.2% 2.8% 2.2%\\nStoney Creek 8.7% 10.5% 4.5% 7.3% 6.7% 7.1% 11.5% 14.9% 10.1% 10.1%\\nTotal 2.9% 3.3% 3.1% 4.8% 3.3% 3.8% 6.4% 8.8% 6.0% 5.3%\\nCommunity Population Persons/ Population Persons/ Population Persons/ Population Persons/ Population Persons/ Area\\nDensity/ Occupied Density/ Occupied Density/ Occupied Density/ Occupied Density/ Occupied (SqKm)\\nSqKm Dwelling SqKm Dwelling SqKm Dwelling SqKm Dwelling SqKm Dwelling\\nAncaster 155 3.03 188 3.08 209 3.02 229 2.98 246 2.94 177\\nDundas 1,060 2.69 1,074 2.64 1,083 2.51 1,056 2.45 1,050 2.42 23\\nFlamborough 77 2.99 80 3.00 82 2.88 87 2.84 95 2.86 491\\nGlanbrook 60 2.79 75 2.69 111 2.73 147 2.83 173 2.96 203\\nHamilton 2,692 2.48 2,681 2.47 2,687 2.43 2,684 2.40 2,791 2.41 123\\n Lower Hamilton 2,613 2.31 2,538 2.28 2,509 2.24 2,461 2.20 2,585 2.22 72\\n Upper Hamilton 2,830 2.76 2,911 2.74 2,966 2.70 3,026 2.68 3,110 2.70 51\\nStoney Creek 573 2.91 623 2.86 651 2.79 695 2.78 765 2.78 100\\nTotal 439 2.61 452 2.59 465 2.55 481 2.54 510 2.56 1,117\\nSource: 2001 - 2021 Statistics Canada Census (excludes +/- net coverage). Values may differ due to rounding of aggregated geographies. 2001 - 2021 \\nvalues produced by Custom Geography deliveries from Statistics Canada. City of Hamilton, Planning and Economic Development Department, Produced \\nby PED GIS, Summer 2022 \\n2006 - 2011 Change\\n2001 - 2006 Change\\nPersons Density and Persons per Occupied Private Dwelling for the City of Hamilton by Community, 2001-2016\\n2016\\n2001 - 2006 Change\\nPopulation and Occupied Private Dwellings, City of Hamilton by Community, 2001-2021'),\n",
       " Document(metadata={'page': 1, 'source': '../data/2021-census-population-occupied-private-dwellings-community-2001-2021.pdf'}, page_content='Source: 2001 - 2021 Statistics Canada Census (excludes +/- net coverage). Values may differ due to rounding of aggregated geographies. 2001 - 2021 values produced by \\nCustom Geography deliveries from Statistics Canada. City of Hamilton, Planning and Economic Development Department, Produced by PED GIS, Summer 2022'),\n",
       " Document(metadata={'page': 0, 'source': '../data/2021-census-population-occupied-private-dwellings-community-2001-2021.pdf'}, page_content='2016\\n2001 - 2006 Change\\nPopulation and Occupied Private Dwellings, City of Hamilton by Community, 2001-2021\\nPopulation and Occupied Private Dwellings Change, City of Hamilton by Community, 2001-2021\\nSource: 2001 - 2021 Statistics Canada Census (excludes +/- net coverage). Values may differ due to rounding of aggregated geographies. 2001 - 2021 \\nvalues produced by Custom Geography deliveries from Statistics Canada. City of Hamilton, Planning and Economic Development Department, Produced \\nby PED GIS, Summer 2022 \\nSource: 2001 - 2021 Statistics Canada Census (excludes +/- net coverage). Values may differ due to rounding of aggregated geographies. 2001 - 2021 \\nvalues produced by Custom Geography deliveries from Statistics Canada. City of Hamilton, Planning and Economic Development Department, Produced \\nby PED GIS, Summer 2022 \\n2001 2006\\n2006 - 2016 Change2006 - 2011 Change 2011 - 2016 Change\\n2021\\n2016 - 2021 Change2006 - 2016 Change\\nPopulation and Occupied Private Dwellings Percentage Change, City of Hamilton by Community, 2001-2021\\n2011 - 2016 Change\\n2016 - 2021 Change\\n2011')]"
      ]
     },
     "execution_count": 34,
     "metadata": {},
     "output_type": "execute_result"
    }
   ],
   "source": [
    "query = \"What exceptions does Rule 606(b)(1) contain?\"\n",
    "db.similarity_search(query)"
   ]
  },
  {
   "cell_type": "code",
   "execution_count": 32,
   "id": "8a17ba64-335d-4b45-bf13-dc8f6bc66b61",
   "metadata": {},
   "outputs": [
    {
     "name": "stderr",
     "output_type": "stream",
     "text": [
      "Number of requested results 4 is greater than number of elements in index 3, updating n_results = 3\n"
     ]
    },
    {
     "data": {
      "text/plain": [
       "[Document(metadata={'page': 0, 'source': '../data/2021-census-population-occupied-private-dwellings-community-2001-2021.pdf'}, page_content='2001 2006 2011 2016 2021\\nCommunity Population Occupied Population Occupied Population Occupied Population Occupied Population Occupied\\nPrivate Private Private Private Private\\nDwellings Dwellings Dwellings Dwellings Dwellings\\nAncaster 27,490 9,075 33,230 10,780 36,910 12,235 40,560 13,610 43,510 14,805\\nDundas 24,385 9,080 24,700 9,365 24,910 9,910 24,285 9,920 24,150 9,990\\nFlamborough 37,795 12,645 39,220 13,070 40,090 13,925 42,655 14,995 46,860 16,405\\nGlanbrook 12,145 4,360 15,290 5,680 22,440 8,215 29,860 10,560 35,075 11,865\\nHamilton 331,120 133,350 329,820 133,780 330,480 136,150 330,090 137,490 343,280 142,175\\n Lower Hamilton 187,730 81,340 182,365 79,935 180,245 80,460 176,815 80,325 185,744 83,743\\n Upper Hamilton 143,390 52,010 147,455 53,845 150,235 55,690 153,275 57,165 157,536 58,432\\nStoney Creek 57,330 19,710 62,290 21,780 65,120 23,370 69,470 25,030 76,480 27,560\\nTotal 490,265 188,165 504,550 194,455 519,950 203,805 536,920 211,605 569,355 222,800\\nCommunity Population Occupied Population Occupied Population Occupied Population Occupied Population Occupied\\nPrivate Private Private Private Private\\nDwellings Dwellings Dwellings Dwellings Dwellings\\nAncaster 5,740 1,705 3,680 1,455 3,650 1,375 7,330 2,830 2,950 1,195\\nDundas 315 285 210 545 -625 10 -415 555 -135 70\\nFlamborough 1,425 425 870 855 2,565 1,070 3,435 1,925 4,205 1,410\\nGlanbrook 3,145 1,320 7,150 2,535 7,420 2,345 14,570 4,880 5,215 1,305\\nHamilton -1,300 430 660 2,370 -390 1,340 270 3,710 13,190 4,685\\n Lower Hamilton -5,365 -1,405 -2,120 525 -3,430 -135 -5,550 390 5,499 3,283\\n Upper Hamilton 4,065 1,835 2,780 1,845 3,040 1,475 5,820 3,320 7,301 2,742\\nStoney Creek 4,960 2,070 2,830 1,590 4,350 1,660 7,180 3,250 7,010 2,530\\nTotal 14,285 6,235 15,400 9,350 16,970 7,800 32,370 17,150 32,435 11,195\\nCommunity Population Occupied Population Occupied Population Occupied Population Occupied Population Occupied\\nPrivate Private Private Private Private\\nDwellings Dwellings Dwellings Dwellings Dwellings\\nAncaster 20.9% 18.8% 11.1% 13.5% 9.9% 11.2% 22.1% 26.3% 7.3% 8.8%\\nDundas 1.3% 3.1% 0.9% 5.8% -2.5% 0.1% -1.7% 5.9% -0.6% 0.7%\\nFlamborough 3.8% 3.4% 2.2% 6.5% 6.4% 7.7% 8.8% 14.7% 9.9% 9.4%\\nGlanbrook 25.9% 30.3% 46.8% 44.6% 33.1% 28.5% 95.3% 85.9% 17.5% 12.4%\\nHamilton -0.4% 0.3% 0.2% 1.8% -0.1% 1.0% 0.1% 2.8% 4.0% 3.4%\\n Lower Hamilton -2.9% -1.7% -1.2% 0.7% -1.9% -0.2% -3.0% 0.5% 5.0% 4.3%\\n Upper Hamilton 2.8% 3.5% 1.9% 3.4% 2.0% 2.6% 3.9% 6.2% 2.8% 2.2%\\nStoney Creek 8.7% 10.5% 4.5% 7.3% 6.7% 7.1% 11.5% 14.9% 10.1% 10.1%\\nTotal 2.9% 3.3% 3.1% 4.8% 3.3% 3.8% 6.4% 8.8% 6.0% 5.3%\\nCommunity Population Persons/ Population Persons/ Population Persons/ Population Persons/ Population Persons/ Area\\nDensity/ Occupied Density/ Occupied Density/ Occupied Density/ Occupied Density/ Occupied (SqKm)\\nSqKm Dwelling SqKm Dwelling SqKm Dwelling SqKm Dwelling SqKm Dwelling\\nAncaster 155 3.03 188 3.08 209 3.02 229 2.98 246 2.94 177\\nDundas 1,060 2.69 1,074 2.64 1,083 2.51 1,056 2.45 1,050 2.42 23\\nFlamborough 77 2.99 80 3.00 82 2.88 87 2.84 95 2.86 491\\nGlanbrook 60 2.79 75 2.69 111 2.73 147 2.83 173 2.96 203\\nHamilton 2,692 2.48 2,681 2.47 2,687 2.43 2,684 2.40 2,791 2.41 123\\n Lower Hamilton 2,613 2.31 2,538 2.28 2,509 2.24 2,461 2.20 2,585 2.22 72\\n Upper Hamilton 2,830 2.76 2,911 2.74 2,966 2.70 3,026 2.68 3,110 2.70 51\\nStoney Creek 573 2.91 623 2.86 651 2.79 695 2.78 765 2.78 100\\nTotal 439 2.61 452 2.59 465 2.55 481 2.54 510 2.56 1,117\\nSource: 2001 - 2021 Statistics Canada Census (excludes +/- net coverage). Values may differ due to rounding of aggregated geographies. 2001 - 2021 \\nvalues produced by Custom Geography deliveries from Statistics Canada. City of Hamilton, Planning and Economic Development Department, Produced \\nby PED GIS, Summer 2022 \\n2006 - 2011 Change\\n2001 - 2006 Change\\nPersons Density and Persons per Occupied Private Dwelling for the City of Hamilton by Community, 2001-2016\\n2016\\n2001 - 2006 Change\\nPopulation and Occupied Private Dwellings, City of Hamilton by Community, 2001-2021'),\n",
       " Document(metadata={'page': 0, 'source': '../data/2021-census-population-occupied-private-dwellings-community-2001-2021.pdf'}, page_content='2016\\n2001 - 2006 Change\\nPopulation and Occupied Private Dwellings, City of Hamilton by Community, 2001-2021\\nPopulation and Occupied Private Dwellings Change, City of Hamilton by Community, 2001-2021\\nSource: 2001 - 2021 Statistics Canada Census (excludes +/- net coverage). Values may differ due to rounding of aggregated geographies. 2001 - 2021 \\nvalues produced by Custom Geography deliveries from Statistics Canada. City of Hamilton, Planning and Economic Development Department, Produced \\nby PED GIS, Summer 2022 \\nSource: 2001 - 2021 Statistics Canada Census (excludes +/- net coverage). Values may differ due to rounding of aggregated geographies. 2001 - 2021 \\nvalues produced by Custom Geography deliveries from Statistics Canada. City of Hamilton, Planning and Economic Development Department, Produced \\nby PED GIS, Summer 2022 \\n2001 2006\\n2006 - 2016 Change2006 - 2011 Change 2011 - 2016 Change\\n2021\\n2016 - 2021 Change2006 - 2016 Change\\nPopulation and Occupied Private Dwellings Percentage Change, City of Hamilton by Community, 2001-2021\\n2011 - 2016 Change\\n2016 - 2021 Change\\n2011'),\n",
       " Document(metadata={'page': 1, 'source': '../data/2021-census-population-occupied-private-dwellings-community-2001-2021.pdf'}, page_content='Source: 2001 - 2021 Statistics Canada Census (excludes +/- net coverage). Values may differ due to rounding of aggregated geographies. 2001 - 2021 values produced by \\nCustom Geography deliveries from Statistics Canada. City of Hamilton, Planning and Economic Development Department, Produced by PED GIS, Summer 2022')]"
      ]
     },
     "execution_count": 32,
     "metadata": {},
     "output_type": "execute_result"
    }
   ],
   "source": [
    "query = \"What documents include Sotomayor?\"\n",
    "db.similarity_search(query)"
   ]
  },
  {
   "cell_type": "code",
   "execution_count": null,
   "id": "94e9bc18-4993-4aa1-b41e-ba50a610a1c2",
   "metadata": {},
   "outputs": [],
   "source": []
  },
  {
   "cell_type": "code",
   "execution_count": null,
   "id": "81bc5c99-2742-44e9-848a-554cc377443e",
   "metadata": {},
   "outputs": [],
   "source": []
  }
 ],
 "metadata": {
  "kernelspec": {
   "display_name": "Python 3 (ipykernel)",
   "language": "python",
   "name": "python3"
  },
  "language_info": {
   "codemirror_mode": {
    "name": "ipython",
    "version": 3
   },
   "file_extension": ".py",
   "mimetype": "text/x-python",
   "name": "python",
   "nbconvert_exporter": "python",
   "pygments_lexer": "ipython3",
   "version": "3.8.18"
  }
 },
 "nbformat": 4,
 "nbformat_minor": 5
}
