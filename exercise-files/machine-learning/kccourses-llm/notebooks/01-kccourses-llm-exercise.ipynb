{
 "cells": [
  {
   "cell_type": "markdown",
   "id": "70c90b18-757b-4a44-8e8d-3e0882bd5474",
   "metadata": {},
   "source": [
    "## Running your own LLM\n",
    "\n",
    "This notebook was adapted from Sil Hamilton's class [Generative AI for journalists](https://www.kccourses.org/enrol/index.php?id=116). "
   ]
  },
  {
   "cell_type": "markdown",
   "id": "31770a4b-1626-4cdc-9a2f-5b249540fd46",
   "metadata": {},
   "source": [
    "We first download the required software: LangChain and its dependency `pypdf`"
   ]
  },
  {
   "cell_type": "code",
   "execution_count": null,
   "id": "d09f5e02-9571-47c2-b607-831fde5093b5",
   "metadata": {
    "scrolled": true
   },
   "outputs": [],
   "source": [
    "#!pip install --upgrade pip \n",
    "#!pip install --upgrade langchain pypdf\n",
    "#!pip install -U langchain-community\n",
    "# !pip install -U langchain-huggingface"
   ]
  },
  {
   "cell_type": "markdown",
   "id": "b0323110-6e61-40cb-a8b0-ea48fbf31065",
   "metadata": {},
   "source": [
    "We then load LangChain's `pypdf` loader."
   ]
  },
  {
   "cell_type": "code",
   "execution_count": null,
   "id": "62c41117-03a0-47a1-8ceb-2be15e7adf92",
   "metadata": {},
   "outputs": [],
   "source": []
  },
  {
   "cell_type": "markdown",
   "id": "ad550f88-1588-4aac-b051-12ded711781a",
   "metadata": {},
   "source": [
    "Now let's load PDFs"
   ]
  },
  {
   "cell_type": "code",
   "execution_count": null,
   "id": "c316779d-acf0-4e29-806b-f1d02b64fbae",
   "metadata": {},
   "outputs": [],
   "source": []
  },
  {
   "cell_type": "code",
   "execution_count": null,
   "id": "042e0450-b922-483f-a02a-03700732780b",
   "metadata": {},
   "outputs": [],
   "source": []
  },
  {
   "cell_type": "markdown",
   "id": "1c25ac49-bac4-4f32-8cf8-0f25af553ec9",
   "metadata": {},
   "source": [
    "Having loaded our data, we'll now download and load the embedding model."
   ]
  },
  {
   "cell_type": "code",
   "execution_count": null,
   "id": "a1d9169c-968a-4eca-bff3-8329137eb506",
   "metadata": {},
   "outputs": [],
   "source": [
    "#!pip install sentence_transformers > /dev/null"
   ]
  },
  {
   "cell_type": "code",
   "execution_count": null,
   "id": "1cd23039-6d3a-4628-bff9-044925dbed4a",
   "metadata": {},
   "outputs": [],
   "source": []
  },
  {
   "cell_type": "code",
   "execution_count": null,
   "id": "83c921dd-c52a-4e37-8782-f80d572555f4",
   "metadata": {},
   "outputs": [],
   "source": []
  },
  {
   "cell_type": "markdown",
   "id": "50aff0a2-dcb2-4592-baf5-147393fb2a9a",
   "metadata": {},
   "source": [
    "Let's try embedding some text. Observe the output. Once you've tried it, scroll down to continue."
   ]
  },
  {
   "cell_type": "code",
   "execution_count": null,
   "id": "05996763-7f6b-4dff-83c9-793fad185b4a",
   "metadata": {},
   "outputs": [],
   "source": []
  },
  {
   "cell_type": "code",
   "execution_count": null,
   "id": "f493f3d6-6ffb-4ec6-8cb9-22a632bcacbd",
   "metadata": {
    "scrolled": true
   },
   "outputs": [],
   "source": []
  },
  {
   "cell_type": "markdown",
   "id": "9443cb7f-eb4e-4a3d-b0fd-cfe7a16b0770",
   "metadata": {},
   "source": [
    "We now have a working embedding function. Let's install Chroma."
   ]
  },
  {
   "cell_type": "code",
   "execution_count": null,
   "id": "8868b528-ad09-4e1d-85cf-46cfa534153c",
   "metadata": {},
   "outputs": [],
   "source": [
    "#!pip install -U chromadb"
   ]
  },
  {
   "cell_type": "code",
   "execution_count": null,
   "id": "2df201d3-b2fe-48ce-b302-32c92f800a43",
   "metadata": {},
   "outputs": [],
   "source": []
  },
  {
   "cell_type": "markdown",
   "id": "2b3cf19f-09f6-41bb-8d3f-b92c97b15d9a",
   "metadata": {},
   "source": [
    "Let's make a vector store for our loaded documents!"
   ]
  },
  {
   "cell_type": "code",
   "execution_count": null,
   "id": "2c796972-537c-482a-ba3f-ca2d4401d270",
   "metadata": {
    "scrolled": true
   },
   "outputs": [],
   "source": []
  },
  {
   "cell_type": "markdown",
   "id": "cb091cd4-5029-4e2b-91e9-894380770efc",
   "metadata": {},
   "source": [
    "Let's try retrieving a relevant document."
   ]
  },
  {
   "cell_type": "code",
   "execution_count": null,
   "id": "8a17ba64-335d-4b45-bf13-dc8f6bc66b61",
   "metadata": {},
   "outputs": [],
   "source": []
  },
  {
   "cell_type": "code",
   "execution_count": null,
   "id": "94e9bc18-4993-4aa1-b41e-ba50a610a1c2",
   "metadata": {},
   "outputs": [],
   "source": []
  },
  {
   "cell_type": "code",
   "execution_count": null,
   "id": "81bc5c99-2742-44e9-848a-554cc377443e",
   "metadata": {},
   "outputs": [],
   "source": []
  }
 ],
 "metadata": {
  "kernelspec": {
   "display_name": "Python 3 (ipykernel)",
   "language": "python",
   "name": "python3"
  },
  "language_info": {
   "codemirror_mode": {
    "name": "ipython",
    "version": 3
   },
   "file_extension": ".py",
   "mimetype": "text/x-python",
   "name": "python",
   "nbconvert_exporter": "python",
   "pygments_lexer": "ipython3",
   "version": "3.8.18"
  }
 },
 "nbformat": 4,
 "nbformat_minor": 5
}
