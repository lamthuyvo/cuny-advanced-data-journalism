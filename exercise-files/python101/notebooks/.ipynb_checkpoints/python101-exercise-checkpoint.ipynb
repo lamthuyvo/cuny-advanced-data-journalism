{
 "cells": [
  {
   "cell_type": "markdown",
   "id": "309f0d52",
   "metadata": {},
   "source": [
    "## This notebook runs through a few simple python things\n",
    "\n",
    "- Working with Numbers\n",
    "- Working with Strings\n",
    "- Storing Values in Variables\n",
    "- Storing Multiple Values in Lists\n",
    "- Functions\n",
    "- Creating Your Own Functions\n",
    "- Loops\n",
    "- Conditionals\n"
   ]
  },
  {
   "cell_type": "markdown",
   "id": "aea387fb",
   "metadata": {},
   "source": [
    "#### Working with Numbers\n"
   ]
  },
  {
   "cell_type": "code",
   "execution_count": null,
   "id": "6d29901a",
   "metadata": {},
   "outputs": [],
   "source": []
  },
  {
   "cell_type": "code",
   "execution_count": null,
   "id": "bc5212d6",
   "metadata": {},
   "outputs": [],
   "source": []
  },
  {
   "cell_type": "markdown",
   "id": "b01d09e7",
   "metadata": {},
   "source": [
    "#### Working with Strings\n"
   ]
  },
  {
   "cell_type": "code",
   "execution_count": null,
   "id": "2ded9e59",
   "metadata": {},
   "outputs": [],
   "source": []
  },
  {
   "cell_type": "code",
   "execution_count": null,
   "id": "21bf466b",
   "metadata": {},
   "outputs": [],
   "source": []
  },
  {
   "cell_type": "code",
   "execution_count": null,
   "id": "55d6e47f",
   "metadata": {},
   "outputs": [],
   "source": []
  },
  {
   "cell_type": "markdown",
   "id": "2c70f851",
   "metadata": {},
   "source": [
    "#### Storing Values in Variables\n"
   ]
  },
  {
   "cell_type": "code",
   "execution_count": null,
   "id": "2ce1381e",
   "metadata": {},
   "outputs": [],
   "source": []
  },
  {
   "cell_type": "code",
   "execution_count": null,
   "id": "efe7bd83",
   "metadata": {},
   "outputs": [],
   "source": []
  },
  {
   "cell_type": "code",
   "execution_count": null,
   "id": "cbd4b410",
   "metadata": {},
   "outputs": [],
   "source": []
  },
  {
   "cell_type": "code",
   "execution_count": null,
   "id": "6a64245e",
   "metadata": {},
   "outputs": [],
   "source": []
  },
  {
   "cell_type": "markdown",
   "id": "cc4f474a",
   "metadata": {},
   "source": [
    "#### Storing Multiple Values in Lists\n"
   ]
  },
  {
   "cell_type": "code",
   "execution_count": null,
   "id": "abd75128",
   "metadata": {},
   "outputs": [],
   "source": []
  },
  {
   "cell_type": "code",
   "execution_count": null,
   "id": "2ff251dd",
   "metadata": {},
   "outputs": [],
   "source": []
  },
  {
   "cell_type": "code",
   "execution_count": null,
   "id": "fa9f4607",
   "metadata": {},
   "outputs": [],
   "source": []
  },
  {
   "cell_type": "code",
   "execution_count": null,
   "id": "015ed7b8",
   "metadata": {},
   "outputs": [],
   "source": []
  },
  {
   "cell_type": "markdown",
   "id": "f52c4c32",
   "metadata": {},
   "source": [
    "What happens if you do `print(names[3])`"
   ]
  },
  {
   "cell_type": "code",
   "execution_count": null,
   "id": "1f8c0841",
   "metadata": {},
   "outputs": [],
   "source": []
  },
  {
   "cell_type": "markdown",
   "id": "5a2a95c8",
   "metadata": {},
   "source": [
    "#### Functions"
   ]
  },
  {
   "cell_type": "code",
   "execution_count": null,
   "id": "6f7af697",
   "metadata": {},
   "outputs": [],
   "source": []
  },
  {
   "cell_type": "code",
   "execution_count": null,
   "id": "d66af675",
   "metadata": {},
   "outputs": [],
   "source": []
  },
  {
   "cell_type": "markdown",
   "id": "4597e254",
   "metadata": {},
   "source": [
    "#### Creating Your Own Functions\n"
   ]
  },
  {
   "cell_type": "code",
   "execution_count": null,
   "id": "1f558ca9",
   "metadata": {},
   "outputs": [],
   "source": []
  },
  {
   "cell_type": "code",
   "execution_count": null,
   "id": "fb7c00d0",
   "metadata": {},
   "outputs": [],
   "source": []
  },
  {
   "cell_type": "markdown",
   "id": "3574c8d0",
   "metadata": {},
   "source": [
    "#### Loops\n"
   ]
  },
  {
   "cell_type": "code",
   "execution_count": null,
   "id": "b55a1895",
   "metadata": {},
   "outputs": [],
   "source": []
  },
  {
   "cell_type": "code",
   "execution_count": null,
   "id": "67552e6f",
   "metadata": {},
   "outputs": [],
   "source": []
  },
  {
   "cell_type": "markdown",
   "id": "523759de",
   "metadata": {},
   "source": [
    "#### Conditionals"
   ]
  },
  {
   "cell_type": "code",
   "execution_count": null,
   "id": "95b50313",
   "metadata": {},
   "outputs": [],
   "source": []
  },
  {
   "cell_type": "code",
   "execution_count": null,
   "id": "feb51eb2",
   "metadata": {},
   "outputs": [],
   "source": [
    "\n"
   ]
  },
  {
   "cell_type": "markdown",
   "id": "5b71a8ba",
   "metadata": {},
   "source": [
    "#### There are a number of operators you can use with conditionals\n",
    "\n",
    "| Operators | What It Does                                                                                                          | Example                        |\n",
    "|-----------|-----------------------------------------------------------------------------------------------------------------------|--------------------------------|\n",
    "| ==        | If the values to the left and right of the operator are equal, then the condition is true.                            | (\"pie\" == \"cake\") is not true. |\n",
    "| !=        | If the values to the left and right of the operator are not equal, then condition is true.                            | (\"pie\" != \"cake\") is true.     |\n",
    "| >         | If the value of left operator is bigger than the value to the right, then condition is true.                          | (4 > 10) is not true.          |\n",
    "| <         | If the value of left operator is smaller than the value to the right, then condition is true.                         | (4 < 10) is true.              |\n",
    "| >=        | If the values to the left of the operator is greater than or equal to the value to the right, then condition is true. | (4 >= 10) is not true.         |\n",
    "| <=        | If the values to the left of the operator is less than or equal to the value to the right, then condition is true.    | (4 <= 10) is true.             |"
   ]
  }
 ],
 "metadata": {
  "kernelspec": {
   "display_name": "Python 3 (ipykernel)",
   "language": "python",
   "name": "python3"
  },
  "language_info": {
   "codemirror_mode": {
    "name": "ipython",
    "version": 3
   },
   "file_extension": ".py",
   "mimetype": "text/x-python",
   "name": "python",
   "nbconvert_exporter": "python",
   "pygments_lexer": "ipython3",
   "version": "3.9.7"
  }
 },
 "nbformat": 4,
 "nbformat_minor": 5
}
