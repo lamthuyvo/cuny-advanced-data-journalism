{
 "cells": [
  {
   "cell_type": "markdown",
   "id": "f5c589b4-e9fd-4a00-8526-5df9ffcebeff",
   "metadata": {},
   "source": [
    "### Opening and writing files with Python\n",
    "\n",
    "In this notebook, we will learn how to:\n",
    "- open different files in Python\n",
    "- read the file\n",
    "- create and open a csv file"
   ]
  },
  {
   "cell_type": "markdown",
   "id": "2ed2c19d-884e-4772-8536-4955a8f70ba2",
   "metadata": {},
   "source": [
    "##### Opening a simple text file\n",
    "\n",
    "In this example, we use `open()` and `with` to open a file and print it’s content."
   ]
  },
  {
   "cell_type": "code",
   "execution_count": null,
   "id": "46e016a3-8104-429b-b631-76492838e354",
   "metadata": {},
   "outputs": [],
   "source": []
  },
  {
   "cell_type": "markdown",
   "id": "8fe46dc1-d9c4-486c-b865-4e2081319d1c",
   "metadata": {},
   "source": [
    "##### Opening an html file\n",
    "\n",
    "We cam uise the same method to open a local html file. "
   ]
  },
  {
   "cell_type": "code",
   "execution_count": null,
   "id": "7fbcdc47-f2ed-4f7a-9c9f-46bb3fa20dfe",
   "metadata": {},
   "outputs": [],
   "source": []
  },
  {
   "cell_type": "code",
   "execution_count": null,
   "id": "9056653e-7a72-4d6d-a393-2ae6356ee33a",
   "metadata": {},
   "outputs": [],
   "source": []
  },
  {
   "cell_type": "code",
   "execution_count": null,
   "id": "288cd45b-2c1c-4ae9-ba92-fb723b70fbff",
   "metadata": {},
   "outputs": [],
   "source": []
  },
  {
   "cell_type": "markdown",
   "id": "392dee4e-3a1b-4be8-bdb0-27b7e0ee495c",
   "metadata": {},
   "source": [
    "## Writing csv-files\n",
    "\n",
    "You can also use the same method to write create a csv file and combine it with the python built-in library `csv` to write rows into the newly created spreadsheet "
   ]
  },
  {
   "cell_type": "code",
   "execution_count": null,
   "id": "5358c7ad-9137-4d2e-b735-0ad7c38020b5",
   "metadata": {},
   "outputs": [],
   "source": [
    "# make a new text file\n"
   ]
  },
  {
   "cell_type": "code",
   "execution_count": null,
   "id": "57416a27-bc15-40e9-854b-ee7d7007f4ac",
   "metadata": {},
   "outputs": [],
   "source": []
  },
  {
   "cell_type": "code",
   "execution_count": null,
   "id": "1d93d4d6-f535-4792-aafc-a84d5011ca89",
   "metadata": {},
   "outputs": [],
   "source": [
    "# make a new csv into which we will write all the rows\n",
    "\n",
    "   "
   ]
  },
  {
   "cell_type": "markdown",
   "id": "48fe6959-7f1e-4216-a1cc-642cccfd980e",
   "metadata": {},
   "source": [
    "Now you can combine that with data and a loop!"
   ]
  },
  {
   "cell_type": "code",
   "execution_count": null,
   "id": "4fcd1955-7a42-480a-8173-59d0050f453e",
   "metadata": {},
   "outputs": [],
   "source": []
  },
  {
   "cell_type": "markdown",
   "id": "0c62b730-94ed-4e27-af20-a9529aefb025",
   "metadata": {},
   "source": [
    "Exercise for you! \n",
    "\n",
    "- create and csv a text file\n",
    "- cycle through through this data:\n",
    "```\n",
    "data_set = [\n",
    "        {\"pet\":\"cat\", \"name\":\"shiki\", \"age\":5},\n",
    "        {\"pet\":\"dog\", \"name\":\"winston\", \"age\":7},\n",
    "        {\"pet\":\"dog\", \"name\":\"watson\", \"age\":3},\n",
    "        {\"pet\":\"dog\", \"name\":\"jiffpon\", \"age\":14},\n",
    "    ]\n",
    "```\n",
    "- using a `for loop` and an `if` clause (conditional) write new rows into the spreadsheet but ONLY for dogs"
   ]
  },
  {
   "cell_type": "code",
   "execution_count": null,
   "id": "1de50ea3-9da5-4f50-bfd6-a577049731b6",
   "metadata": {},
   "outputs": [],
   "source": []
  },
  {
   "cell_type": "code",
   "execution_count": null,
   "id": "134ed3a6-2c42-431d-8e42-f44805aa8169",
   "metadata": {},
   "outputs": [],
   "source": []
  },
  {
   "cell_type": "code",
   "execution_count": null,
   "id": "abba1e4e-0a68-47b1-96a5-29ff8190b4dc",
   "metadata": {},
   "outputs": [],
   "source": []
  }
 ],
 "metadata": {
  "kernelspec": {
   "display_name": "Python 3 (ipykernel)",
   "language": "python",
   "name": "python3"
  },
  "language_info": {
   "codemirror_mode": {
    "name": "ipython",
    "version": 3
   },
   "file_extension": ".py",
   "mimetype": "text/x-python",
   "name": "python",
   "nbconvert_exporter": "python",
   "pygments_lexer": "ipython3",
   "version": "3.8.18"
  }
 },
 "nbformat": 4,
 "nbformat_minor": 5
}
