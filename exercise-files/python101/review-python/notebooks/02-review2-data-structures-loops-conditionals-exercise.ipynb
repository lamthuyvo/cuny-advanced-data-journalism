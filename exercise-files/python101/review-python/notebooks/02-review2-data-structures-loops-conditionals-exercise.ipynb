{
 "cells": [
  {
   "cell_type": "markdown",
   "id": "309f0d52",
   "metadata": {},
   "source": [
    "## This notebook runs through a few simple python things\n",
    "- Data structures (in-depth)\n",
    "    -  lists\n",
    "    -  dictionaries\n",
    "    -  lists of dictionaries\n",
    "- Loops\n",
    "- Conditionals\n"
   ]
  },
  {
   "cell_type": "markdown",
   "id": "b710d744-1fc2-49d1-8b2f-d104084f7391",
   "metadata": {},
   "source": [
    "# Data structures in more depth\n",
    "\n",
    "You may encounter data in various formats in your research or create data in various formats."
   ]
  },
  {
   "cell_type": "markdown",
   "id": "a8bd33e1-fb19-4ed7-83b7-029fd8aad3d6",
   "metadata": {},
   "source": [
    "#### Lists\n",
    "Lists are denoted by an opening and closing bracket and can contain multiple values, for example `[\"R2D2\", \"Yoda\", \"Han Solo\"]`"
   ]
  },
  {
   "cell_type": "code",
   "execution_count": null,
   "id": "34bb8dd5-17b8-4351-b4b1-186702511283",
   "metadata": {},
   "outputs": [],
   "source": []
  },
  {
   "cell_type": "markdown",
   "id": "1a7dca5f-3fdd-4496-84c7-91114ee63fc8",
   "metadata": {},
   "source": [
    "#### Dictionary\n",
    "\n",
    "A Python Dictionary is another common and powerful datatype.\n",
    "\n",
    "Think of it as a collection of data points about a single element.\n",
    "\n",
    "For example, a car model:\n",
    "- Brand: Honda\n",
    "- Type: SUV\n",
    "- Model: CRV\n",
    "- Trim: Leather\n",
    "- cost: 40000\n",
    "- on_sale: True\n",
    "- VIN: 2973\n",
    "\n",
    "A dictionary would hold this data as **key: value** pairs and is usually wrapped in ```{}```.\n",
    "\n",
    "Each key: value pair is separated by a comma.\n",
    "The format is \n",
    "```\n",
    "{\n",
    "\"key1_string\": \"string_value\",\n",
    "\"key2_number\": 12,\n",
    "\"key3_bolean\": True\n",
    "}\n",
    "```"
   ]
  },
  {
   "cell_type": "code",
   "execution_count": null,
   "id": "926f59c9-6502-4d9c-93b5-e360e0b9337a",
   "metadata": {},
   "outputs": [],
   "source": []
  },
  {
   "cell_type": "code",
   "execution_count": null,
   "id": "e39e6f8a-464c-469f-a370-7ccd15e22a8c",
   "metadata": {},
   "outputs": [],
   "source": [
    "## call car_1\n"
   ]
  },
  {
   "cell_type": "code",
   "execution_count": null,
   "id": "8c67f2b4-79ad-4184-8762-51cec87453bb",
   "metadata": {},
   "outputs": [],
   "source": [
    "## what car_1's datatype\n",
    "\n"
   ]
  },
  {
   "cell_type": "markdown",
   "id": "8f775234-09f1-4827-9de8-a7720435b5a5",
   "metadata": {},
   "source": [
    "Let's build a dictionary called car_2 with the following data points.\n",
    "\n",
    "Note: In this case the vin is first. The order in a dictionary doesn't matter.\n",
    "\n",
    "- vin: 8303\n",
    "- Brand: Honda\n",
    "- Type: Sedan\n",
    "- Model: CRV\n",
    "- Trim: Cloth\n",
    "- cost: 35_000\n",
    "- on sale: no\n"
   ]
  },
  {
   "cell_type": "code",
   "execution_count": null,
   "id": "f65881e4-6bc3-4f71-be94-05bb4ee7777c",
   "metadata": {},
   "outputs": [],
   "source": [
    "## build car_2\n"
   ]
  },
  {
   "cell_type": "markdown",
   "id": "1f2995bf-75c7-4e36-843c-9cea5154e1c5",
   "metadata": {},
   "source": [
    "#### List of dictionaries \n",
    "\n",
    "We can now create a list with these two dictionaries"
   ]
  },
  {
   "cell_type": "code",
   "execution_count": null,
   "id": "209198f6-267f-471a-b0e8-f35dad3716f5",
   "metadata": {},
   "outputs": [],
   "source": []
  },
  {
   "cell_type": "code",
   "execution_count": null,
   "id": "2d85fce3-a737-40cc-9d75-46c3a59e22a3",
   "metadata": {},
   "outputs": [],
   "source": []
  },
  {
   "cell_type": "code",
   "execution_count": null,
   "id": "6d29901a",
   "metadata": {},
   "outputs": [],
   "source": []
  },
  {
   "cell_type": "code",
   "execution_count": null,
   "id": "bc5212d6",
   "metadata": {},
   "outputs": [],
   "source": []
  },
  {
   "cell_type": "markdown",
   "id": "b01d09e7",
   "metadata": {},
   "source": [
    "#### Working with Strings\n",
    "Strings are characters (everything from letters, numbers, characters and spaces) between inverted commas or quotation marks"
   ]
  },
  {
   "cell_type": "code",
   "execution_count": null,
   "id": "2ded9e59",
   "metadata": {},
   "outputs": [],
   "source": []
  },
  {
   "cell_type": "markdown",
   "id": "5bf99627-ea31-4b77-92d0-00be0bcf0f99",
   "metadata": {},
   "source": [
    "You can concatenate strings by using the plus sign!"
   ]
  },
  {
   "cell_type": "code",
   "execution_count": null,
   "id": "21bf466b",
   "metadata": {},
   "outputs": [],
   "source": []
  },
  {
   "cell_type": "markdown",
   "id": "76b251bf-335a-407a-ba25-a973d36db400",
   "metadata": {},
   "source": [
    "Someone tell me what happens when you do this:"
   ]
  },
  {
   "cell_type": "code",
   "execution_count": null,
   "id": "55d6e47f",
   "metadata": {},
   "outputs": [],
   "source": []
  },
  {
   "cell_type": "code",
   "execution_count": null,
   "id": "2ce1381e",
   "metadata": {},
   "outputs": [],
   "source": []
  },
  {
   "cell_type": "code",
   "execution_count": null,
   "id": "efe7bd83",
   "metadata": {},
   "outputs": [],
   "source": []
  },
  {
   "cell_type": "markdown",
   "id": "5168f0c6-77b3-4cc3-9342-7d9f484ba898",
   "metadata": {},
   "source": [
    "And what’s great is that we can change what we store in it. Try this and let me know what happens: "
   ]
  },
  {
   "cell_type": "code",
   "execution_count": null,
   "id": "cbd4b410",
   "metadata": {},
   "outputs": [],
   "source": []
  },
  {
   "cell_type": "code",
   "execution_count": null,
   "id": "6a64245e",
   "metadata": {},
   "outputs": [],
   "source": []
  },
  {
   "cell_type": "markdown",
   "id": "cc4f474a",
   "metadata": {},
   "source": [
    "#### Storing Multiple Values in Lists\n",
    "Alright, now you know how to store one data point in a variable, but who just wants one data point?! This is where lists can come in handy! A list is denoted through brackets and can contain various kinds of data points: "
   ]
  },
  {
   "cell_type": "code",
   "execution_count": null,
   "id": "abd75128",
   "metadata": {},
   "outputs": [],
   "source": []
  },
  {
   "cell_type": "code",
   "execution_count": null,
   "id": "2ff251dd",
   "metadata": {},
   "outputs": [],
   "source": []
  },
  {
   "cell_type": "code",
   "execution_count": null,
   "id": "fa9f4607",
   "metadata": {},
   "outputs": [],
   "source": []
  },
  {
   "cell_type": "markdown",
   "id": "bd503392-db09-45ff-aee2-01b392f67413",
   "metadata": {},
   "source": [
    "When you have a list, each item has a position which you can access through what is called its index:"
   ]
  },
  {
   "cell_type": "code",
   "execution_count": null,
   "id": "015ed7b8",
   "metadata": {},
   "outputs": [],
   "source": []
  },
  {
   "cell_type": "markdown",
   "id": "f52c4c32",
   "metadata": {},
   "source": [
    "What happens if you do `print(names[3])`?"
   ]
  },
  {
   "cell_type": "code",
   "execution_count": null,
   "id": "1f8c0841",
   "metadata": {},
   "outputs": [],
   "source": []
  },
  {
   "cell_type": "markdown",
   "id": "3574c8d0",
   "metadata": {},
   "source": [
    "## Loops\n",
    "`For loops` are a way for programmers to iterate through a list of items and apply the same process to each item:"
   ]
  },
  {
   "cell_type": "code",
   "execution_count": null,
   "id": "b55a1895",
   "metadata": {},
   "outputs": [],
   "source": []
  },
  {
   "cell_type": "code",
   "execution_count": null,
   "id": "67552e6f",
   "metadata": {},
   "outputs": [],
   "source": []
  },
  {
   "cell_type": "markdown",
   "id": "b3804169-6f35-46e8-8bab-15dfa356d5b1",
   "metadata": {},
   "source": [
    "Looping through a list of dictionaries:"
   ]
  },
  {
   "cell_type": "code",
   "execution_count": null,
   "id": "8684602b-d58c-4cff-9b45-859d2145dff5",
   "metadata": {},
   "outputs": [],
   "source": []
  },
  {
   "cell_type": "code",
   "execution_count": null,
   "id": "5fb2cecc-853e-47c5-8b44-54fa53570c5d",
   "metadata": {},
   "outputs": [],
   "source": []
  },
  {
   "cell_type": "markdown",
   "id": "2863d754-1abd-4cff-90b4-312c47051307",
   "metadata": {},
   "source": [
    "Fun fact! `Lists` and `dictionaries` work well with pandas!"
   ]
  },
  {
   "cell_type": "code",
   "execution_count": null,
   "id": "b077d313-7e94-4352-8778-d44b091abea8",
   "metadata": {},
   "outputs": [],
   "source": []
  },
  {
   "cell_type": "code",
   "execution_count": null,
   "id": "5ff79a91-e5a5-4cb5-8d76-09f8ec88fef0",
   "metadata": {},
   "outputs": [],
   "source": []
  },
  {
   "cell_type": "code",
   "execution_count": null,
   "id": "a213b97e-5dfb-4cfa-9905-dd92852e1c8f",
   "metadata": {},
   "outputs": [],
   "source": []
  },
  {
   "cell_type": "markdown",
   "id": "523759de",
   "metadata": {},
   "source": [
    "## Conditionals\n",
    "\n",
    "Sometimes you will encounter tricky situations in your data gathering and analysis endeavors and it helps to know that you can instruct your python script to take different paths depending on what condition may be met. Meet the `if` clause: \n"
   ]
  },
  {
   "cell_type": "code",
   "execution_count": null,
   "id": "95b50313",
   "metadata": {},
   "outputs": [],
   "source": []
  },
  {
   "cell_type": "code",
   "execution_count": null,
   "id": "feb51eb2",
   "metadata": {},
   "outputs": [],
   "source": []
  },
  {
   "cell_type": "markdown",
   "id": "bb025821-cc6e-4fbc-9bbb-9c3e57e1e794",
   "metadata": {},
   "source": [
    "#### Tenary Expression\n",
    "```variable = value1 if some_condition else value2```"
   ]
  },
  {
   "cell_type": "code",
   "execution_count": null,
   "id": "8fc5e7f9-0c2f-4cf1-961b-2e7c31fca6f4",
   "metadata": {},
   "outputs": [],
   "source": []
  },
  {
   "cell_type": "code",
   "execution_count": null,
   "id": "a8aa23e8-1a04-49c4-9f45-621a9cf9ad3d",
   "metadata": {},
   "outputs": [],
   "source": []
  },
  {
   "cell_type": "markdown",
   "id": "5b71a8ba",
   "metadata": {},
   "source": [
    "There are a number of operators you can use with conditionals\n",
    "\n",
    "| Operators | What It Does                                                                                                          | Example                        |\n",
    "|-----------|-----------------------------------------------------------------------------------------------------------------------|--------------------------------|\n",
    "| ==        | If the values to the left and right of the operator are equal, then the condition is true.                            | (\"pie\" == \"cake\") is not true. |\n",
    "| !=        | If the values to the left and right of the operator are not equal, then condition is true.                            | (\"pie\" != \"cake\") is true.     |\n",
    "| >         | If the value of left operator is bigger than the value to the right, then condition is true.                          | (4 > 10) is not true.          |\n",
    "| <         | If the value of left operator is smaller than the value to the right, then condition is true.                         | (4 < 10) is true.              |\n",
    "| >=        | If the values to the left of the operator is greater than or equal to the value to the right, then condition is true. | (4 >= 10) is not true.         |\n",
    "| <=        | If the values to the left of the operator is less than or equal to the value to the right, then condition is true.    | (4 <= 10) is true.             |"
   ]
  },
  {
   "cell_type": "markdown",
   "id": "77a7c424-f9b3-4f15-bb05-517cbd6fae0f",
   "metadata": {},
   "source": [
    "## Combining loops and if clauses\n",
    "You can loop through lists and use if/else "
   ]
  },
  {
   "cell_type": "code",
   "execution_count": null,
   "id": "5e4639e6-27e8-4ec7-b64f-462683a6a1ae",
   "metadata": {},
   "outputs": [],
   "source": []
  },
  {
   "cell_type": "code",
   "execution_count": null,
   "id": "13b23c96-13d3-40a7-af4b-6bec5224d66e",
   "metadata": {},
   "outputs": [],
   "source": []
  },
  {
   "cell_type": "code",
   "execution_count": null,
   "id": "28bb89de-f921-41ce-9af7-3059af8f3fa9",
   "metadata": {},
   "outputs": [],
   "source": []
  }
 ],
 "metadata": {
  "kernelspec": {
   "display_name": "Python 3 (ipykernel)",
   "language": "python",
   "name": "python3"
  },
  "language_info": {
   "codemirror_mode": {
    "name": "ipython",
    "version": 3
   },
   "file_extension": ".py",
   "mimetype": "text/x-python",
   "name": "python",
   "nbconvert_exporter": "python",
   "pygments_lexer": "ipython3",
   "version": "3.8.18"
  }
 },
 "nbformat": 4,
 "nbformat_minor": 5
}
