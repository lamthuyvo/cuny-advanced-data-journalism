{
 "cells": [
  {
   "cell_type": "markdown",
   "id": "f5c589b4-e9fd-4a00-8526-5df9ffcebeff",
   "metadata": {},
   "source": [
    "### Opening and writing files with Python\n",
    "\n",
    "In this notebook, we will learn how to:\n",
    "- open different files in Python\n",
    "- read the file\n",
    "- create and open a csv file"
   ]
  },
  {
   "cell_type": "markdown",
   "id": "2ed2c19d-884e-4772-8536-4955a8f70ba2",
   "metadata": {},
   "source": [
    "##### Opening a simple text file\n",
    "\n",
    "In this example, we use `open()` and `with` to open a file and print it’s content."
   ]
  },
  {
   "cell_type": "code",
   "execution_count": 3,
   "id": "46e016a3-8104-429b-b631-76492838e354",
   "metadata": {},
   "outputs": [
    {
     "name": "stdout",
     "output_type": "stream",
     "text": [
      "Lost Donkey Seen Living With Elk Herd 5 Years Later: 'Living His Best Life'\n",
      "\n",
      "Diesel the donkey, who disappeared in 2019, appears to be thriving with some new companions in the California wild.\n",
      "\n",
      "By \n",
      "Hilary Hanson\n",
      "Jun 15, 2024, 01:23 PM EDT\n",
      "\n",
      "\n",
      "A donkey who went missing five years ago in California has been caught on camera roaming with a herd of wild elk.\n",
      "\n",
      "“I bumped into a herd of elk that have adopted a donkey,” triathlete and hunter Max Fennell wrote on Instagram alongside a video of the blended herd. “I can’t get over seeing it and I’m amazed that the donkey looks happy and healthy!”\n",
      "\n",
      "The footage, recorded on a hunting trip and posted in March, shows a donkey standing among about a dozen elk. Members of the herd look at the camera simultaneously before trotting away.\n",
      "\n",
      "The storybook scene took place a few miles from the spot in Northern California’s Cache Creek Wilderness where a male donkey named Diesel disappeared in 2019, CBS Sacramento reported.\n",
      "\n",
      "One of Diesel’s owners, Terrie Drewry, told the news outlet in an interview published Thursday that the donkey in the video is definitely him.\n",
      "\n",
      "Diesel had been hiking with Terrie Drewry’s husband, Dave Drewry, when something spooked him and he got away. For weeks, the couple searched on foot and even with drone assistance to find the donkey, but were never able to locate him.\n",
      "\n",
      "It was “amazing” to see Diesel apparently thriving in the recent video, Terrie Drewry told CBS Sacramento.\n",
      "\n",
      "“He’s living his best life,” she said. “He’s happy. He’s healthy, and it was just a relief.”\n",
      "\n",
      "An earlier video, shared on Instagram by user Mikki Rhodes, also appeared to show Diesel wandering with elk. Rhodes said in a caption that his owners were “very happy” to see the donkey doing well.\n",
      "\n",
      "Diesel knows how to live without the aid of humans. He was originally a wild donkey, adopted through a Bureau of Land Management program. The program allows members of the public to adopt animals captured in the federal agency’s controversial roundups of wild horses and donkeys, aimed at reducing the free-roaming population of the animals on public lands.\n",
      "\n",
      "\n"
     ]
    }
   ],
   "source": [
    "with open(\"../data/article.txt\", \"r\") as file:\n",
    "    data = file.read()\n",
    "    print(data)"
   ]
  },
  {
   "cell_type": "markdown",
   "id": "8fe46dc1-d9c4-486c-b865-4e2081319d1c",
   "metadata": {},
   "source": [
    "##### Opening an html file\n",
    "\n",
    "We cam uise the same method to open a local html file. "
   ]
  },
  {
   "cell_type": "code",
   "execution_count": 5,
   "id": "7fbcdc47-f2ed-4f7a-9c9f-46bb3fa20dfe",
   "metadata": {},
   "outputs": [
    {
     "name": "stdout",
     "output_type": "stream",
     "text": [
      "<!DOCTYPE html>\n",
      "<html>\n",
      "<body>\n",
      "\n",
      "<h2>Unordered HTML List</h2>\n",
      "<ul>\n",
      "  <li>Coffee</li>\n",
      "  <li>Tea</li>\n",
      "  <li>Milk</li>\n",
      "</ul>\n",
      "  \n",
      "</body>\n",
      "</html>\n",
      "\n"
     ]
    }
   ],
   "source": [
    "with open(\"../data/page.html\", \"r\") as file:\n",
    "    data = file.read()\n",
    "    print(data)"
   ]
  },
  {
   "cell_type": "code",
   "execution_count": null,
   "id": "9056653e-7a72-4d6d-a393-2ae6356ee33a",
   "metadata": {},
   "outputs": [],
   "source": [
    "with open(\"../data/page.html\", \"r\") as file:\n",
    "    data = file.read()\n",
    "    print(data)"
   ]
  },
  {
   "cell_type": "code",
   "execution_count": 7,
   "id": "288cd45b-2c1c-4ae9-ba92-fb723b70fbff",
   "metadata": {},
   "outputs": [
    {
     "name": "stdout",
     "output_type": "stream",
     "text": [
      "pet, name, age\n",
      "cat, shiki, 4\n",
      "dog, winston, 7\n",
      "dog, watson, 3\n"
     ]
    }
   ],
   "source": [
    "with open(\"../data/pet_list.csv\", \"r\") as file:\n",
    "    data = file.read()\n",
    "    print(data)"
   ]
  },
  {
   "cell_type": "markdown",
   "id": "392dee4e-3a1b-4be8-bdb0-27b7e0ee495c",
   "metadata": {},
   "source": [
    "## Writing csv-files\n",
    "\n",
    "You can also use the same method to write create a csv file and combine it with the python built-in library `csv` to write rows into the newly created spreadsheet "
   ]
  },
  {
   "cell_type": "code",
   "execution_count": 25,
   "id": "5358c7ad-9137-4d2e-b735-0ad7c38020b5",
   "metadata": {},
   "outputs": [],
   "source": [
    "# make a new text file\n",
    "with open(\"../output/test.txt\", \"w+\") as file:\n",
    "    file.write(\"Hello? Is it me you're looking for?\")"
   ]
  },
  {
   "cell_type": "code",
   "execution_count": 12,
   "id": "57416a27-bc15-40e9-854b-ee7d7007f4ac",
   "metadata": {},
   "outputs": [],
   "source": [
    "import csv"
   ]
  },
  {
   "cell_type": "code",
   "execution_count": 19,
   "id": "1d93d4d6-f535-4792-aafc-a84d5011ca89",
   "metadata": {},
   "outputs": [],
   "source": [
    "# make a new csv into which we will write all the rows\n",
    "with open(\"../output/csv_name.csv\", \"w+\") as file:\n",
    "    writer = csv.writer(file)\n",
    "    # this writes in the first row, which are the headers\n",
    "    writer.writerow([\"pet\", \"name\", \"age\"])\n",
    "    \n",
    "   "
   ]
  },
  {
   "cell_type": "markdown",
   "id": "48fe6959-7f1e-4216-a1cc-642cccfd980e",
   "metadata": {},
   "source": [
    "Now you can combine that with data and a loop!"
   ]
  },
  {
   "cell_type": "code",
   "execution_count": 20,
   "id": "4fcd1955-7a42-480a-8173-59d0050f453e",
   "metadata": {},
   "outputs": [],
   "source": [
    "# make a new csv into which we will write all the rows\n",
    "with open(\"../output/csv_name.csv\", \"w+\") as file:\n",
    "    writer = csv.writer(file)\n",
    "    # this writes in the first row, which are the headers\n",
    "    writer.writerow([\"pet\", \"name\", \"age\"])\n",
    "    \n",
    "    data = [\n",
    "        {\"pet\":\"cat\", \"name\":\"shiki\", \"age\":5},\n",
    "        {\"pet\":\"dog\", \"name\":\"winston\", \"age\":7},\n",
    "        {\"pet\":\"dog\", \"name\":\"watson\", \"age\":3},\n",
    "        {\"pet\":\"dog\", \"name\":\"jiffpon\", \"age\":14},\n",
    "    ]\n",
    "    \n",
    "    # this loops through your rows (the array you set at the beginning and have updated throughtout)\n",
    "    for row in data:\n",
    "        # this takes each row and writes it into your csv\n",
    "        writer.writerow([row[\"pet\"], row[\"name\"], row[\"age\"]])"
   ]
  },
  {
   "cell_type": "markdown",
   "id": "0c62b730-94ed-4e27-af20-a9529aefb025",
   "metadata": {},
   "source": [
    "Exercise for you! \n",
    "\n",
    "- create and csv a text file\n",
    "- cycle through through this data:\n",
    "```\n",
    "data_set = [\n",
    "        {\"pet\":\"cat\", \"name\":\"shiki\", \"age\":5},\n",
    "        {\"pet\":\"dog\", \"name\":\"winston\", \"age\":7},\n",
    "        {\"pet\":\"dog\", \"name\":\"watson\", \"age\":3},\n",
    "        {\"pet\":\"dog\", \"name\":\"jiffpon\", \"age\":14},\n",
    "    ]\n",
    "```\n",
    "- using a `for loop` and an `if` clause (conditional) write new rows into the spreadsheet but ONLY for dogs"
   ]
  },
  {
   "cell_type": "code",
   "execution_count": null,
   "id": "1de50ea3-9da5-4f50-bfd6-a577049731b6",
   "metadata": {},
   "outputs": [],
   "source": []
  },
  {
   "cell_type": "code",
   "execution_count": null,
   "id": "134ed3a6-2c42-431d-8e42-f44805aa8169",
   "metadata": {},
   "outputs": [],
   "source": []
  },
  {
   "cell_type": "code",
   "execution_count": null,
   "id": "abba1e4e-0a68-47b1-96a5-29ff8190b4dc",
   "metadata": {},
   "outputs": [],
   "source": []
  }
 ],
 "metadata": {
  "kernelspec": {
   "display_name": "Python 3 (ipykernel)",
   "language": "python",
   "name": "python3"
  },
  "language_info": {
   "codemirror_mode": {
    "name": "ipython",
    "version": 3
   },
   "file_extension": ".py",
   "mimetype": "text/x-python",
   "name": "python",
   "nbconvert_exporter": "python",
   "pygments_lexer": "ipython3",
   "version": "3.8.18"
  }
 },
 "nbformat": 4,
 "nbformat_minor": 5
}
