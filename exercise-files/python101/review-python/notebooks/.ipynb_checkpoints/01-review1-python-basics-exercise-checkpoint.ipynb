{
 "cells": [
  {
   "cell_type": "markdown",
   "id": "309f0d52",
   "metadata": {},
   "source": [
    "## This notebook runs through a few simple python things\n",
    "\n",
    "- Different kinds of data types\n",
    "    - Working with Numbers\n",
    "    - Working with Strings\n",
    "- Storing Values in Variables\n",
    "- Storing Multiple Values in Lists\n",
    "- Functions\n",
    "- Creating Your Own Functions\n"
   ]
  },
  {
   "cell_type": "markdown",
   "id": "aea387fb",
   "metadata": {},
   "source": [
    "## Different kinds of data types\n",
    "\n",
    "#### Working with Numbers\n",
    "Python can handle three types of information/data: floats (numbers with decimals, e.g. 3.14), integers (1,2,3,4,etc.) and strings. \n",
    "\n",
    "Let’s first talk about how Python can read numbers!"
   ]
  },
  {
   "cell_type": "code",
   "execution_count": 1,
   "id": "6d29901a",
   "metadata": {},
   "outputs": [
    {
     "data": {
      "text/plain": [
       "8"
      ]
     },
     "execution_count": 1,
     "metadata": {},
     "output_type": "execute_result"
    }
   ],
   "source": [
    "4 + 4"
   ]
  },
  {
   "cell_type": "code",
   "execution_count": 2,
   "id": "bc5212d6",
   "metadata": {},
   "outputs": [
    {
     "data": {
      "text/plain": [
       "385803"
      ]
     },
     "execution_count": 2,
     "metadata": {},
     "output_type": "execute_result"
    }
   ],
   "source": [
    "433 * 891"
   ]
  },
  {
   "cell_type": "markdown",
   "id": "b01d09e7",
   "metadata": {},
   "source": [
    "#### Working with Strings\n",
    "Strings are characters (everything from letters, numbers, characters and spaces) between inverted commas or quotation marks"
   ]
  },
  {
   "cell_type": "code",
   "execution_count": 3,
   "id": "2ded9e59",
   "metadata": {},
   "outputs": [
    {
     "data": {
      "text/plain": [
       "\"I'm a string\""
      ]
     },
     "execution_count": 3,
     "metadata": {},
     "output_type": "execute_result"
    }
   ],
   "source": [
    "\"I'm a string\""
   ]
  },
  {
   "cell_type": "markdown",
   "id": "5bf99627-ea31-4b77-92d0-00be0bcf0f99",
   "metadata": {},
   "source": [
    "You can concatenate strings by using the plus sign!"
   ]
  },
  {
   "cell_type": "code",
   "execution_count": 4,
   "id": "21bf466b",
   "metadata": {},
   "outputs": [
    {
     "data": {
      "text/plain": [
       "\"I'm a string\""
      ]
     },
     "execution_count": 4,
     "metadata": {},
     "output_type": "execute_result"
    }
   ],
   "source": [
    "\"I'm\" + \" a string\""
   ]
  },
  {
   "cell_type": "markdown",
   "id": "76b251bf-335a-407a-ba25-a973d36db400",
   "metadata": {},
   "source": [
    "Someone tell me what happens when you do this:"
   ]
  },
  {
   "cell_type": "code",
   "execution_count": 5,
   "id": "55d6e47f",
   "metadata": {},
   "outputs": [
    {
     "data": {
      "text/plain": [
       "'44'"
      ]
     },
     "execution_count": 5,
     "metadata": {},
     "output_type": "execute_result"
    }
   ],
   "source": [
    "\"4\" + \"4\""
   ]
  },
  {
   "cell_type": "markdown",
   "id": "2c70f851",
   "metadata": {},
   "source": [
    "## Variables\n",
    "\n",
    "Variables are really important in programming. They function kind of like boxes for your data: you can store a piece of data or many data points in a variable. \n",
    " They can be any of the following:\n",
    "\n",
    "-   **Numbers**\n",
    "-   **Strings**, that are made up of letter, words, sentences, etc.\n",
    "-   **Placeholders**, that receive their value from inputs, computations or concatenation of other variables.\n",
    "-   **Lists**, that holds a multiple values in one variable.\n",
    "-   **Dictionaries**, variables that hold interrelated data or info as key-value pairs)\n",
    "-   **Functions**, bits of code that you can reuse...(more on this at some point this semester!).\n",
    "\n",
    "...and many many other types of data.\n",
    "\n",
    "\n",
    "#### Storing Values in Variables\n",
    "Here’s how you create or declare a variable and store data (in this case a string) in it:"
   ]
  },
  {
   "cell_type": "code",
   "execution_count": 6,
   "id": "2ce1381e",
   "metadata": {},
   "outputs": [],
   "source": [
    "name = \"Lam\""
   ]
  },
  {
   "cell_type": "code",
   "execution_count": 7,
   "id": "efe7bd83",
   "metadata": {},
   "outputs": [
    {
     "name": "stdout",
     "output_type": "stream",
     "text": [
      "Lam\n"
     ]
    }
   ],
   "source": [
    "print(name)"
   ]
  },
  {
   "cell_type": "markdown",
   "id": "5168f0c6-77b3-4cc3-9342-7d9f484ba898",
   "metadata": {},
   "source": [
    "And what’s great is that we can change what we store in it. Try this and let me know what happens: "
   ]
  },
  {
   "cell_type": "code",
   "execution_count": 8,
   "id": "cbd4b410",
   "metadata": {},
   "outputs": [],
   "source": [
    "name = \"Miguel\""
   ]
  },
  {
   "cell_type": "code",
   "execution_count": 9,
   "id": "6a64245e",
   "metadata": {},
   "outputs": [
    {
     "name": "stdout",
     "output_type": "stream",
     "text": [
      "Miguel\n"
     ]
    }
   ],
   "source": [
    "print(name)"
   ]
  },
  {
   "cell_type": "markdown",
   "id": "6841b3f9-4726-4878-bb2d-3036c4f44ac9",
   "metadata": {},
   "source": [
    "#### Using f-string literals\n",
    "```print(f\"Some identifier words: {actual_variable}\")```\n"
   ]
  },
  {
   "cell_type": "code",
   "execution_count": 10,
   "id": "d5d8f6e9-55eb-4880-9132-77b760bf8647",
   "metadata": {},
   "outputs": [
    {
     "name": "stdout",
     "output_type": "stream",
     "text": [
      "The current name is Miguel\n"
     ]
    }
   ],
   "source": [
    "print(f\"The current name is {name}\")"
   ]
  },
  {
   "cell_type": "markdown",
   "id": "cc4f474a",
   "metadata": {},
   "source": [
    "#### Storing Multiple Values in Lists\n",
    "Alright, now you know how to store one data point in a variable, but who just wants one data point?! This is where lists can come in handy! A list is denoted through brackets and can contain various kinds of data points: "
   ]
  },
  {
   "cell_type": "code",
   "execution_count": 11,
   "id": "abd75128",
   "metadata": {},
   "outputs": [],
   "source": [
    "names  = [\"Lam\", \"Miguel\"]"
   ]
  },
  {
   "cell_type": "code",
   "execution_count": 12,
   "id": "2ff251dd",
   "metadata": {},
   "outputs": [],
   "source": [
    "names.append(\"R2D2\")"
   ]
  },
  {
   "cell_type": "code",
   "execution_count": 13,
   "id": "fa9f4607",
   "metadata": {},
   "outputs": [
    {
     "name": "stdout",
     "output_type": "stream",
     "text": [
      "['Lam', 'Miguel', 'R2D2']\n"
     ]
    }
   ],
   "source": [
    "print(names)\n"
   ]
  },
  {
   "cell_type": "markdown",
   "id": "bd503392-db09-45ff-aee2-01b392f67413",
   "metadata": {},
   "source": [
    "When you have a list, each item has a position which you can access through what is called its index:"
   ]
  },
  {
   "cell_type": "code",
   "execution_count": 14,
   "id": "015ed7b8",
   "metadata": {},
   "outputs": [
    {
     "name": "stdout",
     "output_type": "stream",
     "text": [
      "Lam\n"
     ]
    }
   ],
   "source": [
    "print(names[0])"
   ]
  },
  {
   "cell_type": "markdown",
   "id": "f52c4c32",
   "metadata": {},
   "source": [
    "What happens if you do `print(names[3])`?"
   ]
  },
  {
   "cell_type": "code",
   "execution_count": null,
   "id": "1f8c0841",
   "metadata": {},
   "outputs": [],
   "source": []
  },
  {
   "cell_type": "markdown",
   "id": "5a2a95c8",
   "metadata": {},
   "source": [
    "# Functions\n",
    "\n",
    "Functions are like a set of instructions that can be executed over and over again, like a recipe. The things you put inside the parentheses are called arguments  and are things that the function uses and modifies. \n",
    "\n",
    "In simplest terms (good for now), a ```built-in function``` comes as standard part of Python and carries out one or more steps on something we aim it at. What we target for the function goes inside the parenthesis:\n",
    "\n",
    "We use ```print(animals)``` to print the `animals` list or ```type(mixed_list)``` to see what datatype a variable contains. \n",
    "\n",
    "I will introduce others through the course as need. There are <a href=\"https://docs.python.org/3/library/functions.html\">dozens of built-in functions</a>, but I will be introducing the most useful ones little by little.\n"
   ]
  },
  {
   "cell_type": "code",
   "execution_count": 15,
   "id": "6f7af697",
   "metadata": {},
   "outputs": [
    {
     "name": "stdout",
     "output_type": "stream",
     "text": [
      "May the force be with you\n"
     ]
    }
   ],
   "source": [
    "print('May the force be with you')"
   ]
  },
  {
   "cell_type": "markdown",
   "id": "213e5675-ef44-44eb-ac7b-4dc9c9142b87",
   "metadata": {},
   "source": [
    "Another one is len(). What do you think it does? Try it out:"
   ]
  },
  {
   "cell_type": "code",
   "execution_count": 16,
   "id": "d66af675",
   "metadata": {},
   "outputs": [
    {
     "data": {
      "text/plain": [
       "26"
      ]
     },
     "execution_count": 16,
     "metadata": {},
     "output_type": "execute_result"
    }
   ],
   "source": [
    "len('May the force be with you.')"
   ]
  },
  {
   "cell_type": "markdown",
   "id": "4597e254",
   "metadata": {},
   "source": [
    "#### Creating Your Own Functions\n",
    "Then you can also make functions!\n",
    "\n",
    "You declare a function by using the word `def`, by writing up a name for your function `writesentence()` and by parsing `word`: "
   ]
  },
  {
   "cell_type": "code",
   "execution_count": 17,
   "id": "1f558ca9",
   "metadata": {},
   "outputs": [],
   "source": [
    "def writesentence(word):\n",
    "    new_sentence = word + \" is my favorite kind of alien\"\n",
    "    print(new_sentence)\n"
   ]
  },
  {
   "cell_type": "markdown",
   "id": "b88fe7f8-31fc-4e6c-bc5a-5e597bd75bf0",
   "metadata": {},
   "source": [
    "This is how you’d run this function:"
   ]
  },
  {
   "cell_type": "code",
   "execution_count": 18,
   "id": "fb7c00d0",
   "metadata": {},
   "outputs": [
    {
     "name": "stdout",
     "output_type": "stream",
     "text": [
      "Yoda is my favorite kind of alien\n"
     ]
    }
   ],
   "source": [
    "writesentence(\"Yoda\")\n"
   ]
  },
  {
   "cell_type": "code",
   "execution_count": 19,
   "id": "b55a1895",
   "metadata": {},
   "outputs": [
    {
     "name": "stdout",
     "output_type": "stream",
     "text": [
      "Instructions go here!\n",
      "Instructions go here!\n",
      "Instructions go here!\n"
     ]
    }
   ],
   "source": [
    "for name in names:\n",
    "    # Instructions go here\n",
    "    print(\"Instructions go here!\")\n"
   ]
  },
  {
   "cell_type": "code",
   "execution_count": 20,
   "id": "67552e6f",
   "metadata": {},
   "outputs": [
    {
     "name": "stdout",
     "output_type": "stream",
     "text": [
      "Lam\n",
      "Miguel\n"
     ]
    }
   ],
   "source": [
    "names  = [\"Lam\", \"Miguel\"]\n",
    "for name in names:\n",
    "    print(name)\n"
   ]
  },
  {
   "cell_type": "code",
   "execution_count": 21,
   "id": "95b50313",
   "metadata": {},
   "outputs": [],
   "source": [
    "alien = \"jabba the hutt\"\n"
   ]
  },
  {
   "cell_type": "code",
   "execution_count": 22,
   "id": "feb51eb2",
   "metadata": {},
   "outputs": [
    {
     "name": "stdout",
     "output_type": "stream",
     "text": [
      "It's a trap\n"
     ]
    }
   ],
   "source": [
    "if alien == \"yoda\" :\n",
    "    print(\"May the force be with you!\")\n",
    "else:\n",
    "    print(\"It's a trap\")\n"
   ]
  }
 ],
 "metadata": {
  "kernelspec": {
   "display_name": "Python 3 (ipykernel)",
   "language": "python",
   "name": "python3"
  },
  "language_info": {
   "codemirror_mode": {
    "name": "ipython",
    "version": 3
   },
   "file_extension": ".py",
   "mimetype": "text/x-python",
   "name": "python",
   "nbconvert_exporter": "python",
   "pygments_lexer": "ipython3",
   "version": "3.8.18"
  }
 },
 "nbformat": 4,
 "nbformat_minor": 5
}
