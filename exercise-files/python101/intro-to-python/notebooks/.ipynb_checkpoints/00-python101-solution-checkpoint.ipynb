{
 "cells": [
  {
   "cell_type": "markdown",
   "id": "309f0d52",
   "metadata": {},
   "source": [
    "## This notebook runs through a few simple python things\n",
    "\n",
    "- Different kinds of data types\n",
    "    - Working with Numbers\n",
    "    - Working with Strings\n",
    "- Storing Values in Variables\n",
    "- Storing Multiple Values in Lists\n",
    "- Functions\n",
    "- Creating Your Own Functions\n",
    "- Loops\n",
    "- Conditionals\n"
   ]
  },
  {
   "cell_type": "markdown",
   "id": "aea387fb",
   "metadata": {},
   "source": [
    "## Different kinds of data types\n",
    "#### Working with Numbers\n"
   ]
  },
  {
   "cell_type": "code",
   "execution_count": 1,
   "id": "6d29901a",
   "metadata": {},
   "outputs": [
    {
     "data": {
      "text/plain": [
       "8"
      ]
     },
     "execution_count": 1,
     "metadata": {},
     "output_type": "execute_result"
    }
   ],
   "source": [
    "4 + 4"
   ]
  },
  {
   "cell_type": "code",
   "execution_count": 2,
   "id": "bc5212d6",
   "metadata": {},
   "outputs": [
    {
     "data": {
      "text/plain": [
       "385803"
      ]
     },
     "execution_count": 2,
     "metadata": {},
     "output_type": "execute_result"
    }
   ],
   "source": [
    "433 * 891"
   ]
  },
  {
   "cell_type": "markdown",
   "id": "b01d09e7",
   "metadata": {},
   "source": [
    "#### Working with Strings\n"
   ]
  },
  {
   "cell_type": "code",
   "execution_count": 3,
   "id": "2ded9e59",
   "metadata": {},
   "outputs": [
    {
     "data": {
      "text/plain": [
       "\"I'm a string\""
      ]
     },
     "execution_count": 3,
     "metadata": {},
     "output_type": "execute_result"
    }
   ],
   "source": [
    "\"I'm a string\""
   ]
  },
  {
   "cell_type": "code",
   "execution_count": 4,
   "id": "21bf466b",
   "metadata": {},
   "outputs": [
    {
     "data": {
      "text/plain": [
       "\"I'm a string\""
      ]
     },
     "execution_count": 4,
     "metadata": {},
     "output_type": "execute_result"
    }
   ],
   "source": [
    "\"I'm\" + \" a string\""
   ]
  },
  {
   "cell_type": "code",
   "execution_count": 5,
   "id": "55d6e47f",
   "metadata": {},
   "outputs": [
    {
     "data": {
      "text/plain": [
       "'44'"
      ]
     },
     "execution_count": 5,
     "metadata": {},
     "output_type": "execute_result"
    }
   ],
   "source": [
    "\"4\" + \"4\""
   ]
  },
  {
   "cell_type": "markdown",
   "id": "2c70f851",
   "metadata": {},
   "source": [
    "## Variables\n",
    "\n",
    "Variables are placeholders for values. They can be any of the following:\n",
    "\n",
    "-   **Numbers**\n",
    "-   **Strings**, that are made up of letter, words, sentences, etc.\n",
    "-   **Placeholders**, that receive their value from inputs, computations or concatenation of other variables.\n",
    "-   **Lists**, that holds a multiple values in one variable.\n",
    "-   **Dictionaries**, variables that hold interrelated data or info as key-value pairs)\n",
    "-   **Functions**, bits of code that you can reuse...(more on this at some point this semester!).\n",
    "\n",
    "...and many many other types of data.\n",
    "\n",
    "\n",
    "#### Storing Values in Variables\n"
   ]
  },
  {
   "cell_type": "code",
   "execution_count": 6,
   "id": "2ce1381e",
   "metadata": {},
   "outputs": [],
   "source": [
    "name = \"Lam\""
   ]
  },
  {
   "cell_type": "code",
   "execution_count": 7,
   "id": "efe7bd83",
   "metadata": {},
   "outputs": [
    {
     "name": "stdout",
     "output_type": "stream",
     "text": [
      "Lam\n"
     ]
    }
   ],
   "source": [
    "print(name)"
   ]
  },
  {
   "cell_type": "code",
   "execution_count": 8,
   "id": "cbd4b410",
   "metadata": {},
   "outputs": [],
   "source": [
    "name = \"Miguel\""
   ]
  },
  {
   "cell_type": "code",
   "execution_count": 9,
   "id": "6a64245e",
   "metadata": {},
   "outputs": [
    {
     "name": "stdout",
     "output_type": "stream",
     "text": [
      "Miguel\n"
     ]
    }
   ],
   "source": [
    "print(name)"
   ]
  },
  {
   "cell_type": "markdown",
   "id": "cc4f474a",
   "metadata": {},
   "source": [
    "#### Storing Multiple Values in Lists\n"
   ]
  },
  {
   "cell_type": "code",
   "execution_count": 10,
   "id": "abd75128",
   "metadata": {},
   "outputs": [],
   "source": [
    "names  = [\"Lam\", \"Miguel\"]"
   ]
  },
  {
   "cell_type": "code",
   "execution_count": 11,
   "id": "2ff251dd",
   "metadata": {},
   "outputs": [],
   "source": [
    "names.append(\"R2D2\")"
   ]
  },
  {
   "cell_type": "code",
   "execution_count": 12,
   "id": "fa9f4607",
   "metadata": {},
   "outputs": [
    {
     "name": "stdout",
     "output_type": "stream",
     "text": [
      "['Lam', 'Miguel', 'R2D2']\n"
     ]
    }
   ],
   "source": [
    "print(names)\n"
   ]
  },
  {
   "cell_type": "code",
   "execution_count": 13,
   "id": "015ed7b8",
   "metadata": {},
   "outputs": [
    {
     "name": "stdout",
     "output_type": "stream",
     "text": [
      "Lam\n"
     ]
    }
   ],
   "source": [
    "print(names[0])"
   ]
  },
  {
   "cell_type": "markdown",
   "id": "f52c4c32",
   "metadata": {},
   "source": [
    "What happens if you do `print(names[3])`"
   ]
  },
  {
   "cell_type": "code",
   "execution_count": null,
   "id": "1f8c0841",
   "metadata": {},
   "outputs": [],
   "source": []
  },
  {
   "cell_type": "markdown",
   "id": "5a2a95c8",
   "metadata": {},
   "source": [
    "# Functions\n",
    "\n",
    "In simplest terms (good for now), a ```built-in function``` comes as standard part of Python and carries out one or more steps on something we aim it at. What we target for the function goes inside the parenthesis:\n",
    "\n",
    "In the cases above, we asked to ```print(animals)``` or ```type(mixed_list)```. \n",
    "\n",
    "I will introduce others through the course as need. There are <a href=\"https://docs.python.org/3/library/functions.html\">dozens of built-in functions</a>, but I will be introducing the most useful ones little by little.\n"
   ]
  },
  {
   "cell_type": "code",
   "execution_count": 14,
   "id": "6f7af697",
   "metadata": {},
   "outputs": [
    {
     "name": "stdout",
     "output_type": "stream",
     "text": [
      "May the force be with you\n"
     ]
    }
   ],
   "source": [
    "print('May the force be with you')"
   ]
  },
  {
   "cell_type": "code",
   "execution_count": 15,
   "id": "d66af675",
   "metadata": {},
   "outputs": [
    {
     "data": {
      "text/plain": [
       "26"
      ]
     },
     "execution_count": 15,
     "metadata": {},
     "output_type": "execute_result"
    }
   ],
   "source": [
    "len('May the force be with you.')"
   ]
  },
  {
   "cell_type": "markdown",
   "id": "4597e254",
   "metadata": {},
   "source": [
    "#### Creating Your Own Functions\n"
   ]
  },
  {
   "cell_type": "code",
   "execution_count": 16,
   "id": "1f558ca9",
   "metadata": {},
   "outputs": [],
   "source": [
    "def writesentence(word):\n",
    "    new_sentence = word + \" is my favorite kind of alien\"\n",
    "    print(new_sentence)\n"
   ]
  },
  {
   "cell_type": "code",
   "execution_count": 17,
   "id": "fb7c00d0",
   "metadata": {},
   "outputs": [
    {
     "name": "stdout",
     "output_type": "stream",
     "text": [
      "Yoda is my favorite kind of alien\n"
     ]
    }
   ],
   "source": [
    "writesentence(\"Yoda\")\n"
   ]
  },
  {
   "cell_type": "markdown",
   "id": "3574c8d0",
   "metadata": {},
   "source": [
    "#### Loops\n"
   ]
  },
  {
   "cell_type": "code",
   "execution_count": 18,
   "id": "b55a1895",
   "metadata": {},
   "outputs": [
    {
     "name": "stdout",
     "output_type": "stream",
     "text": [
      "Instructions go here!\n",
      "Instructions go here!\n",
      "Instructions go here!\n"
     ]
    }
   ],
   "source": [
    "for name in names:\n",
    "    # Instructions go here\n",
    "    print(\"Instructions go here!\")\n"
   ]
  },
  {
   "cell_type": "code",
   "execution_count": 19,
   "id": "67552e6f",
   "metadata": {},
   "outputs": [
    {
     "name": "stdout",
     "output_type": "stream",
     "text": [
      "Lam\n",
      "Miguel\n"
     ]
    }
   ],
   "source": [
    "names  = [\"Lam\", \"Miguel\"]\n",
    "for name in names:\n",
    "    print(name)\n"
   ]
  },
  {
   "cell_type": "markdown",
   "id": "523759de",
   "metadata": {},
   "source": [
    "#### Conditionals"
   ]
  },
  {
   "cell_type": "code",
   "execution_count": 20,
   "id": "95b50313",
   "metadata": {},
   "outputs": [],
   "source": [
    "alien = \"jabba the hutt\"\n"
   ]
  },
  {
   "cell_type": "code",
   "execution_count": 21,
   "id": "feb51eb2",
   "metadata": {},
   "outputs": [
    {
     "name": "stdout",
     "output_type": "stream",
     "text": [
      "It's a trap\n"
     ]
    }
   ],
   "source": [
    "if alien == \"yoda\" :\n",
    "    print(\"May the force be with you!\")\n",
    "else:\n",
    "    print(\"It's a trap\")\n"
   ]
  },
  {
   "cell_type": "markdown",
   "id": "5b71a8ba",
   "metadata": {},
   "source": [
    "#### There are a number of operators you can use with conditionals\n",
    "\n",
    "| Operators | What It Does                                                                                                          | Example                        |\n",
    "|-----------|-----------------------------------------------------------------------------------------------------------------------|--------------------------------|\n",
    "| ==        | If the values to the left and right of the operator are equal, then the condition is true.                            | (\"pie\" == \"cake\") is not true. |\n",
    "| !=        | If the values to the left and right of the operator are not equal, then condition is true.                            | (\"pie\" != \"cake\") is true.     |\n",
    "| >         | If the value of left operator is bigger than the value to the right, then condition is true.                          | (4 > 10) is not true.          |\n",
    "| <         | If the value of left operator is smaller than the value to the right, then condition is true.                         | (4 < 10) is true.              |\n",
    "| >=        | If the values to the left of the operator is greater than or equal to the value to the right, then condition is true. | (4 >= 10) is not true.         |\n",
    "| <=        | If the values to the left of the operator is less than or equal to the value to the right, then condition is true.    | (4 <= 10) is true.             |"
   ]
  }
 ],
 "metadata": {
  "kernelspec": {
   "display_name": "Python 3 (ipykernel)",
   "language": "python",
   "name": "python3"
  },
  "language_info": {
   "codemirror_mode": {
    "name": "ipython",
    "version": 3
   },
   "file_extension": ".py",
   "mimetype": "text/x-python",
   "name": "python",
   "nbconvert_exporter": "python",
   "pygments_lexer": "ipython3",
   "version": "3.8.18"
  }
 },
 "nbformat": 4,
 "nbformat_minor": 5
}
