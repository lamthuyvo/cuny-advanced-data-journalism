{
 "cells": [
  {
   "cell_type": "markdown",
   "id": "309f0d52",
   "metadata": {},
   "source": [
    "## This notebook runs through a few simple python things\n",
    "- Data structures (in-depth)\n",
    "    -  lists\n",
    "    -  dictionaries\n",
    "    -  lists of dictionaries\n",
    "- Loops\n",
    "- Conditionals\n"
   ]
  },
  {
   "cell_type": "markdown",
   "id": "b710d744-1fc2-49d1-8b2f-d104084f7391",
   "metadata": {},
   "source": [
    "# Data structures in more depth\n",
    "\n",
    "You may encounter data in various formats in your research or create data in various formats."
   ]
  },
  {
   "cell_type": "markdown",
   "id": "a8bd33e1-fb19-4ed7-83b7-029fd8aad3d6",
   "metadata": {},
   "source": [
    "#### Lists\n",
    "Lists are denoted by an opening and closing bracket and can contain multiple values, for example `[\"R2D2\", \"Yoda\", \"Han Solo\"]`"
   ]
  },
  {
   "cell_type": "code",
   "execution_count": 1,
   "id": "34bb8dd5-17b8-4351-b4b1-186702511283",
   "metadata": {},
   "outputs": [],
   "source": [
    "names = [\"R2D2\", \"Yoda\", \"Han Solo\"]"
   ]
  },
  {
   "cell_type": "markdown",
   "id": "1a7dca5f-3fdd-4496-84c7-91114ee63fc8",
   "metadata": {},
   "source": [
    "#### Dictionary\n",
    "\n",
    "A Python Dictionary is another common and powerful datatype.\n",
    "\n",
    "Think of it as a collection of data points about a single element.\n",
    "\n",
    "For example, a spaceship model:\n",
    "- show: Futurama\n",
    "- type: spaceship\n",
    "- name: Planet Express Ship\n",
    "- cost: 40000\n",
    "- on_sale: True\n",
    "\n",
    "A dictionary would hold this data as **key: value** pairs and is usually wrapped in ```{}```.\n",
    "\n",
    "Each key: value pair is separated by a comma.\n",
    "The format is \n",
    "```\n",
    "{\n",
    "\"key1_string\": \"string_value\",\n",
    "\"key2_number\": 12,\n",
    "\"key3_bolean\": True\n",
    "}\n",
    "```"
   ]
  },
  {
   "cell_type": "code",
   "execution_count": 2,
   "id": "926f59c9-6502-4d9c-93b5-e360e0b9337a",
   "metadata": {},
   "outputs": [],
   "source": [
    "ufo1 = {\n",
    "    \"show\": \"Futurama\",\n",
    "    \"type\": \"spaceship\",\n",
    "    \"name\": \"Planet Express Ship\",\n",
    "    \"cost\": 40000,\n",
    "    \"on_sale\": True\n",
    "}\n"
   ]
  },
  {
   "cell_type": "code",
   "execution_count": 3,
   "id": "e39e6f8a-464c-469f-a370-7ccd15e22a8c",
   "metadata": {},
   "outputs": [
    {
     "data": {
      "text/plain": [
       "{'show': 'Futurama',\n",
       " 'type': 'spaceship',\n",
       " 'name': 'Planet Express Ship',\n",
       " 'cost': 40000,\n",
       " 'on_sale': True}"
      ]
     },
     "execution_count": 3,
     "metadata": {},
     "output_type": "execute_result"
    }
   ],
   "source": [
    "## call car_1\n",
    "ufo1"
   ]
  },
  {
   "cell_type": "code",
   "execution_count": 4,
   "id": "8c67f2b4-79ad-4184-8762-51cec87453bb",
   "metadata": {},
   "outputs": [
    {
     "data": {
      "text/plain": [
       "dict"
      ]
     },
     "execution_count": 4,
     "metadata": {},
     "output_type": "execute_result"
    }
   ],
   "source": [
    "## what car_1's datatype\n",
    "type(ufo1)\n"
   ]
  },
  {
   "cell_type": "markdown",
   "id": "8f775234-09f1-4827-9de8-a7720435b5a5",
   "metadata": {},
   "source": [
    "Let's build a dictionary called car_2 with the following data points.\n",
    "\n",
    "Note: In this case the type is first. The order in a dictionary doesn't matter.\n",
    "\n",
    "- type: spaceship\n",
    "- show: Star Trek\n",
    "- name: USS Enterprise\n",
    "- cost: 35_000\n",
    "- on sale: no\n"
   ]
  },
  {
   "cell_type": "code",
   "execution_count": 5,
   "id": "f65881e4-6bc3-4f71-be94-05bb4ee7777c",
   "metadata": {},
   "outputs": [],
   "source": [
    "## build car_2\n",
    "ufo2= {\n",
    "    \"type\": \"spaceship\",\n",
    "    \"show\": \"Star Trek\",\n",
    "    \"name\": \"USS Enterprise\",\n",
    "    \"trim\": \"Cloth\",\n",
    "    \"cost\": 35_000,\n",
    "    \"on_sale\": False\n",
    "}"
   ]
  },
  {
   "cell_type": "code",
   "execution_count": 6,
   "id": "546f8b9a-a6a6-4d88-966d-d10158fec590",
   "metadata": {},
   "outputs": [
    {
     "data": {
      "text/plain": [
       "{'type': 'spaceship',\n",
       " 'show': 'Star Trek',\n",
       " 'name': 'USS Enterprise',\n",
       " 'trim': 'Cloth',\n",
       " 'cost': 35000,\n",
       " 'on_sale': False}"
      ]
     },
     "execution_count": 6,
     "metadata": {},
     "output_type": "execute_result"
    }
   ],
   "source": [
    "ufo2"
   ]
  },
  {
   "cell_type": "markdown",
   "id": "1f2995bf-75c7-4e36-843c-9cea5154e1c5",
   "metadata": {},
   "source": [
    "#### List of dictionaries \n",
    "\n",
    "We can now create a list with these two dictionaries"
   ]
  },
  {
   "cell_type": "code",
   "execution_count": 7,
   "id": "209198f6-267f-471a-b0e8-f35dad3716f5",
   "metadata": {},
   "outputs": [],
   "source": [
    "spaceships = [ufo1, ufo2]"
   ]
  },
  {
   "cell_type": "code",
   "execution_count": 8,
   "id": "2d85fce3-a737-40cc-9d75-46c3a59e22a3",
   "metadata": {},
   "outputs": [
    {
     "data": {
      "text/plain": [
       "[{'show': 'Futurama',\n",
       "  'type': 'spaceship',\n",
       "  'name': 'Planet Express Ship',\n",
       "  'cost': 40000,\n",
       "  'on_sale': True},\n",
       " {'type': 'spaceship',\n",
       "  'show': 'Star Trek',\n",
       "  'name': 'USS Enterprise',\n",
       "  'trim': 'Cloth',\n",
       "  'cost': 35000,\n",
       "  'on_sale': False}]"
      ]
     },
     "execution_count": 8,
     "metadata": {},
     "output_type": "execute_result"
    }
   ],
   "source": [
    "spaceships"
   ]
  },
  {
   "cell_type": "markdown",
   "id": "ad2942df-af28-442f-962c-b9b8dedd36f8",
   "metadata": {},
   "source": [
    "#### Working with data structures loops"
   ]
  },
  {
   "cell_type": "code",
   "execution_count": 9,
   "id": "67552e6f",
   "metadata": {},
   "outputs": [
    {
     "name": "stdout",
     "output_type": "stream",
     "text": [
      "Lam\n",
      "Miguel\n"
     ]
    }
   ],
   "source": [
    "names  = [\"Lam\", \"Miguel\"]\n",
    "for name in names:\n",
    "    print(name)\n"
   ]
  },
  {
   "cell_type": "markdown",
   "id": "b3804169-6f35-46e8-8bab-15dfa356d5b1",
   "metadata": {},
   "source": [
    "Looping through a list of dictionaries:"
   ]
  },
  {
   "cell_type": "code",
   "execution_count": 10,
   "id": "8684602b-d58c-4cff-9b45-859d2145dff5",
   "metadata": {
    "scrolled": true
   },
   "outputs": [
    {
     "name": "stdout",
     "output_type": "stream",
     "text": [
      "{'show': 'Futurama', 'type': 'spaceship', 'name': 'Planet Express Ship', 'cost': 40000, 'on_sale': True}\n",
      "{'type': 'spaceship', 'show': 'Star Trek', 'name': 'USS Enterprise', 'trim': 'Cloth', 'cost': 35000, 'on_sale': False}\n"
     ]
    }
   ],
   "source": [
    "for ufo in spaceships:\n",
    "    print( ufo)"
   ]
  },
  {
   "cell_type": "code",
   "execution_count": 11,
   "id": "5fb2cecc-853e-47c5-8b44-54fa53570c5d",
   "metadata": {},
   "outputs": [
    {
     "name": "stdout",
     "output_type": "stream",
     "text": [
      "Planet Express Ship\n",
      "USS Enterprise\n"
     ]
    }
   ],
   "source": [
    "for ufo in spaceships:\n",
    "    print(ufo[\"name\"])"
   ]
  },
  {
   "cell_type": "markdown",
   "id": "0ddc61ff-2038-49c4-87c6-f5d1589bcccc",
   "metadata": {},
   "source": [
    "## Conditionals and data structures\n",
    "\n",
    "First a quick refresher on conditionals:"
   ]
  },
  {
   "cell_type": "code",
   "execution_count": 12,
   "id": "e72a997f-50a3-4633-b5cd-f60799597ba1",
   "metadata": {},
   "outputs": [],
   "source": [
    "alien = \"jabba the hutt\""
   ]
  },
  {
   "cell_type": "code",
   "execution_count": 13,
   "id": "28871b5c-8ae7-4bad-97c7-04fb49f64d6c",
   "metadata": {},
   "outputs": [
    {
     "name": "stdout",
     "output_type": "stream",
     "text": [
      "It's a trap\n"
     ]
    }
   ],
   "source": [
    "if alien == \"yoda\" :\n",
    "    print(\"May the force be with you!\")\n",
    "else:\n",
    "    print(\"It's a trap\")"
   ]
  },
  {
   "cell_type": "markdown",
   "id": "bb025821-cc6e-4fbc-9bbb-9c3e57e1e794",
   "metadata": {},
   "source": [
    "#### Tenary Expression\n",
    "```variable = value1 if some_condition else value2```"
   ]
  },
  {
   "cell_type": "markdown",
   "id": "5b71a8ba",
   "metadata": {},
   "source": [
    "There are a number of operators you can use with conditionals\n",
    "\n",
    "| Operators | What It Does                                                                                                          | Example                        |\n",
    "|-----------|-----------------------------------------------------------------------------------------------------------------------|--------------------------------|\n",
    "| ==        | If the values to the left and right of the operator are equal, then the condition is true.                            | (\"pie\" == \"cake\") is not true. |\n",
    "| !=        | If the values to the left and right of the operator are not equal, then condition is true.                            | (\"pie\" != \"cake\") is true.     |\n",
    "| >         | If the value of left operator is bigger than the value to the right, then condition is true.                          | (4 > 10) is not true.          |\n",
    "| <         | If the value of left operator is smaller than the value to the right, then condition is true.                         | (4 < 10) is true.              |\n",
    "| >=        | If the values to the left of the operator is greater than or equal to the value to the right, then condition is true. | (4 >= 10) is not true.         |\n",
    "| <=        | If the values to the left of the operator is less than or equal to the value to the right, then condition is true.    | (4 <= 10) is true.             |"
   ]
  },
  {
   "cell_type": "code",
   "execution_count": 14,
   "id": "8fc5e7f9-0c2f-4cf1-961b-2e7c31fca6f4",
   "metadata": {},
   "outputs": [
    {
     "name": "stdout",
     "output_type": "stream",
     "text": [
      "The spaceship is too expensive.\n"
     ]
    }
   ],
   "source": [
    "## Use the same data in the previous conditional and print out the same results using a tenary expression.ake = \"positive\" if numbers[-2] > 0 else \"negative\"\n",
    "spaceship_status = \"too expensive\" if ufo1[\"cost\"] > 36000 else \"within my budget\"\n",
    "\n",
    "print(f\"The {ufo1['type']} is {spaceship_status}.\")"
   ]
  },
  {
   "cell_type": "code",
   "execution_count": null,
   "id": "a8aa23e8-1a04-49c4-9f45-621a9cf9ad3d",
   "metadata": {},
   "outputs": [],
   "source": []
  },
  {
   "cell_type": "markdown",
   "id": "77a7c424-f9b3-4f15-bb05-517cbd6fae0f",
   "metadata": {},
   "source": [
    "## Combining loops and if clauses\n",
    "You can loop through lists and use if/else "
   ]
  },
  {
   "cell_type": "code",
   "execution_count": 15,
   "id": "5e4639e6-27e8-4ec7-b64f-462683a6a1ae",
   "metadata": {},
   "outputs": [
    {
     "name": "stdout",
     "output_type": "stream",
     "text": [
      "The spaceship is within my budget.\n",
      "The spaceship is too expensive.\n"
     ]
    }
   ],
   "source": [
    "for ufo in spaceships:\n",
    "    spaceship_status = \"too expensive\" if ufo[\"cost\"] <= 36000 else \"within my budget\"\n",
    "    print(f\"The {ufo1['type']} is {spaceship_status}.\")"
   ]
  },
  {
   "cell_type": "markdown",
   "id": "9ea85147-90ed-44cf-8d36-bbc918e72672",
   "metadata": {},
   "source": [
    "\n"
   ]
  },
  {
   "cell_type": "code",
   "execution_count": null,
   "id": "28bb89de-f921-41ce-9af7-3059af8f3fa9",
   "metadata": {},
   "outputs": [],
   "source": []
  }
 ],
 "metadata": {
  "kernelspec": {
   "display_name": "Python 3 (ipykernel)",
   "language": "python",
   "name": "python3"
  },
  "language_info": {
   "codemirror_mode": {
    "name": "ipython",
    "version": 3
   },
   "file_extension": ".py",
   "mimetype": "text/x-python",
   "name": "python",
   "nbconvert_exporter": "python",
   "pygments_lexer": "ipython3",
   "version": "3.8.18"
  }
 },
 "nbformat": 4,
 "nbformat_minor": 5
}
