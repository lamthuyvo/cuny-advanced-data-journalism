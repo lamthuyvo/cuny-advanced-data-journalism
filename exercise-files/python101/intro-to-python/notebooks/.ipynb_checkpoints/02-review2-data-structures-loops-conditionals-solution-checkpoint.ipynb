{
 "cells": [
  {
   "cell_type": "markdown",
   "id": "309f0d52",
   "metadata": {},
   "source": [
    "## This notebook runs through a few simple python things\n",
    "- Data structures (in-depth)\n",
    "    -  lists\n",
    "    -  dictionaries\n",
    "    -  lists of dictionaries\n",
    "- Loops\n",
    "- Conditionals\n"
   ]
  },
  {
   "cell_type": "markdown",
   "id": "b710d744-1fc2-49d1-8b2f-d104084f7391",
   "metadata": {},
   "source": [
    "# Data structures in more depth\n",
    "\n",
    "You may encounter data in various formats in your research or create data in various formats."
   ]
  },
  {
   "cell_type": "markdown",
   "id": "a8bd33e1-fb19-4ed7-83b7-029fd8aad3d6",
   "metadata": {},
   "source": [
    "#### Lists\n",
    "Lists are denoted by an opening and closing bracket and can contain multiple values, for example `[\"R2D2\", \"Yoda\", \"Han Solo\"]`"
   ]
  },
  {
   "cell_type": "code",
   "execution_count": 2,
   "id": "34bb8dd5-17b8-4351-b4b1-186702511283",
   "metadata": {},
   "outputs": [],
   "source": [
    "names = [\"R2D2\", \"Yoda\", \"Han Solo\"]"
   ]
  },
  {
   "cell_type": "markdown",
   "id": "1a7dca5f-3fdd-4496-84c7-91114ee63fc8",
   "metadata": {},
   "source": [
    "#### Dictionary\n",
    "\n",
    "A Python Dictionary is another common and powerful datatype.\n",
    "\n",
    "Think of it as a collection of data points about a single element.\n",
    "\n",
    "For example, a car model:\n",
    "- Brand: Honda\n",
    "- Type: SUV\n",
    "- Model: CRV\n",
    "- Trim: Leather\n",
    "- cost: 40000\n",
    "- on_sale: True\n",
    "- VIN: 2973\n",
    "\n",
    "A dictionary would hold this data as **key: value** pairs and is usually wrapped in ```{}```.\n",
    "\n",
    "Each key: value pair is separated by a comma.\n",
    "The format is \n",
    "```\n",
    "{\n",
    "\"key1_string\": \"string_value\",\n",
    "\"key2_number\": 12,\n",
    "\"key3_bolean\": True\n",
    "}\n",
    "```"
   ]
  },
  {
   "cell_type": "code",
   "execution_count": 3,
   "id": "926f59c9-6502-4d9c-93b5-e360e0b9337a",
   "metadata": {},
   "outputs": [],
   "source": [
    "car1 = {\n",
    "    \"brand\": \"Honda\",\n",
    "    \"type\": \"SUV\",\n",
    "    \"trim\": \"Leather\",\n",
    "    \"cost\": 40000,\n",
    "    \"on_sale\": True,\n",
    "    \"VIN\": 2973\n",
    "}\n"
   ]
  },
  {
   "cell_type": "code",
   "execution_count": 4,
   "id": "e39e6f8a-464c-469f-a370-7ccd15e22a8c",
   "metadata": {},
   "outputs": [
    {
     "data": {
      "text/plain": [
       "{'brand': 'Honda',\n",
       " 'type': 'SUV',\n",
       " 'trim': 'Leather',\n",
       " 'cost': 40000,\n",
       " 'on_sale': True,\n",
       " 'VIN': 2973}"
      ]
     },
     "execution_count": 4,
     "metadata": {},
     "output_type": "execute_result"
    }
   ],
   "source": [
    "## call car_1\n",
    "car1"
   ]
  },
  {
   "cell_type": "code",
   "execution_count": 5,
   "id": "8c67f2b4-79ad-4184-8762-51cec87453bb",
   "metadata": {},
   "outputs": [
    {
     "data": {
      "text/plain": [
       "dict"
      ]
     },
     "execution_count": 5,
     "metadata": {},
     "output_type": "execute_result"
    }
   ],
   "source": [
    "## what car_1's datatype\n",
    "type(car1)\n"
   ]
  },
  {
   "cell_type": "markdown",
   "id": "8f775234-09f1-4827-9de8-a7720435b5a5",
   "metadata": {},
   "source": [
    "Let's build a dictionary called car_2 with the following data points.\n",
    "\n",
    "Note: In this case the vin is first. The order in a dictionary doesn't matter.\n",
    "\n",
    "- vin: 8303\n",
    "- Brand: Honda\n",
    "- Type: Sedan\n",
    "- Model: CRV\n",
    "- Trim: Cloth\n",
    "- cost: 35_000\n",
    "- on sale: no\n"
   ]
  },
  {
   "cell_type": "code",
   "execution_count": 6,
   "id": "f65881e4-6bc3-4f71-be94-05bb4ee7777c",
   "metadata": {},
   "outputs": [],
   "source": [
    "## build car_2\n",
    "car2= {\n",
    "    \"VIN\": 8303,\n",
    "    \"brand\": \"Honda\",\n",
    "    \"type\": \"Sedan\",\n",
    "    \"model\": \"CRV\",\n",
    "    \"trim\": \"Cloth\",\n",
    "    \"cost\": 35_000,\n",
    "    \"on_sale\": False\n",
    "}"
   ]
  },
  {
   "cell_type": "markdown",
   "id": "1f2995bf-75c7-4e36-843c-9cea5154e1c5",
   "metadata": {},
   "source": [
    "#### List of dictionaries \n",
    "\n",
    "We can now create a list with these two dictionaries"
   ]
  },
  {
   "cell_type": "code",
   "execution_count": 7,
   "id": "209198f6-267f-471a-b0e8-f35dad3716f5",
   "metadata": {},
   "outputs": [],
   "source": [
    "cars = [car1, car2]"
   ]
  },
  {
   "cell_type": "code",
   "execution_count": 8,
   "id": "2d85fce3-a737-40cc-9d75-46c3a59e22a3",
   "metadata": {},
   "outputs": [
    {
     "data": {
      "text/plain": [
       "[{'brand': 'Honda',\n",
       "  'type': 'SUV',\n",
       "  'trim': 'Leather',\n",
       "  'cost': 40000,\n",
       "  'on_sale': True,\n",
       "  'VIN': 2973},\n",
       " {'VIN': 8303,\n",
       "  'brand': 'Honda',\n",
       "  'type': 'Sedan',\n",
       "  'model': 'CRV',\n",
       "  'trim': 'Cloth',\n",
       "  'cost': 35000,\n",
       "  'on_sale': False}]"
      ]
     },
     "execution_count": 8,
     "metadata": {},
     "output_type": "execute_result"
    }
   ],
   "source": [
    "cars"
   ]
  },
  {
   "cell_type": "code",
   "execution_count": 1,
   "id": "6d29901a",
   "metadata": {},
   "outputs": [
    {
     "data": {
      "text/plain": [
       "8"
      ]
     },
     "execution_count": 1,
     "metadata": {},
     "output_type": "execute_result"
    }
   ],
   "source": [
    "4 + 4"
   ]
  },
  {
   "cell_type": "code",
   "execution_count": 2,
   "id": "bc5212d6",
   "metadata": {},
   "outputs": [
    {
     "data": {
      "text/plain": [
       "385803"
      ]
     },
     "execution_count": 2,
     "metadata": {},
     "output_type": "execute_result"
    }
   ],
   "source": [
    "433 * 891"
   ]
  },
  {
   "cell_type": "markdown",
   "id": "b01d09e7",
   "metadata": {},
   "source": [
    "#### Working with Strings\n",
    "Strings are characters (everything from letters, numbers, characters and spaces) between inverted commas or quotation marks"
   ]
  },
  {
   "cell_type": "code",
   "execution_count": 3,
   "id": "2ded9e59",
   "metadata": {},
   "outputs": [
    {
     "data": {
      "text/plain": [
       "\"I'm a string\""
      ]
     },
     "execution_count": 3,
     "metadata": {},
     "output_type": "execute_result"
    }
   ],
   "source": [
    "\"I'm a string\""
   ]
  },
  {
   "cell_type": "markdown",
   "id": "5bf99627-ea31-4b77-92d0-00be0bcf0f99",
   "metadata": {},
   "source": [
    "You can concatenate strings by using the plus sign!"
   ]
  },
  {
   "cell_type": "code",
   "execution_count": 4,
   "id": "21bf466b",
   "metadata": {},
   "outputs": [
    {
     "data": {
      "text/plain": [
       "\"I'm a string\""
      ]
     },
     "execution_count": 4,
     "metadata": {},
     "output_type": "execute_result"
    }
   ],
   "source": [
    "\"I'm\" + \" a string\""
   ]
  },
  {
   "cell_type": "markdown",
   "id": "76b251bf-335a-407a-ba25-a973d36db400",
   "metadata": {},
   "source": [
    "Someone tell me what happens when you do this:"
   ]
  },
  {
   "cell_type": "code",
   "execution_count": 5,
   "id": "55d6e47f",
   "metadata": {},
   "outputs": [
    {
     "data": {
      "text/plain": [
       "'44'"
      ]
     },
     "execution_count": 5,
     "metadata": {},
     "output_type": "execute_result"
    }
   ],
   "source": [
    "\"4\" + \"4\""
   ]
  },
  {
   "cell_type": "code",
   "execution_count": 6,
   "id": "2ce1381e",
   "metadata": {},
   "outputs": [],
   "source": [
    "name = \"Lam\""
   ]
  },
  {
   "cell_type": "code",
   "execution_count": 7,
   "id": "efe7bd83",
   "metadata": {},
   "outputs": [
    {
     "name": "stdout",
     "output_type": "stream",
     "text": [
      "Lam\n"
     ]
    }
   ],
   "source": [
    "print(name)"
   ]
  },
  {
   "cell_type": "markdown",
   "id": "5168f0c6-77b3-4cc3-9342-7d9f484ba898",
   "metadata": {},
   "source": [
    "And what’s great is that we can change what we store in it. Try this and let me know what happens: "
   ]
  },
  {
   "cell_type": "code",
   "execution_count": 8,
   "id": "cbd4b410",
   "metadata": {},
   "outputs": [],
   "source": [
    "name = \"Miguel\""
   ]
  },
  {
   "cell_type": "code",
   "execution_count": 9,
   "id": "6a64245e",
   "metadata": {},
   "outputs": [
    {
     "name": "stdout",
     "output_type": "stream",
     "text": [
      "Miguel\n"
     ]
    }
   ],
   "source": [
    "print(name)"
   ]
  },
  {
   "cell_type": "markdown",
   "id": "cc4f474a",
   "metadata": {},
   "source": [
    "#### Storing Multiple Values in Lists\n",
    "Alright, now you know how to store one data point in a variable, but who just wants one data point?! This is where lists can come in handy! A list is denoted through brackets and can contain various kinds of data points: "
   ]
  },
  {
   "cell_type": "code",
   "execution_count": 10,
   "id": "abd75128",
   "metadata": {},
   "outputs": [],
   "source": [
    "names  = [\"Lam\", \"Miguel\"]"
   ]
  },
  {
   "cell_type": "code",
   "execution_count": 11,
   "id": "2ff251dd",
   "metadata": {},
   "outputs": [],
   "source": [
    "names.append(\"R2D2\")"
   ]
  },
  {
   "cell_type": "code",
   "execution_count": 12,
   "id": "fa9f4607",
   "metadata": {},
   "outputs": [
    {
     "name": "stdout",
     "output_type": "stream",
     "text": [
      "['Lam', 'Miguel', 'R2D2']\n"
     ]
    }
   ],
   "source": [
    "print(names)\n"
   ]
  },
  {
   "cell_type": "markdown",
   "id": "bd503392-db09-45ff-aee2-01b392f67413",
   "metadata": {},
   "source": [
    "When you have a list, each item has a position which you can access through what is called its index:"
   ]
  },
  {
   "cell_type": "code",
   "execution_count": 13,
   "id": "015ed7b8",
   "metadata": {},
   "outputs": [
    {
     "name": "stdout",
     "output_type": "stream",
     "text": [
      "Lam\n"
     ]
    }
   ],
   "source": [
    "print(names[0])"
   ]
  },
  {
   "cell_type": "markdown",
   "id": "f52c4c32",
   "metadata": {},
   "source": [
    "What happens if you do `print(names[3])`?"
   ]
  },
  {
   "cell_type": "code",
   "execution_count": null,
   "id": "1f8c0841",
   "metadata": {},
   "outputs": [],
   "source": []
  },
  {
   "cell_type": "markdown",
   "id": "3574c8d0",
   "metadata": {},
   "source": [
    "## Loops\n",
    "`For loops` are a way for programmers to iterate through a list of items and apply the same process to each item:"
   ]
  },
  {
   "cell_type": "code",
   "execution_count": 18,
   "id": "b55a1895",
   "metadata": {},
   "outputs": [
    {
     "name": "stdout",
     "output_type": "stream",
     "text": [
      "Instructions go here!\n",
      "Instructions go here!\n",
      "Instructions go here!\n"
     ]
    }
   ],
   "source": [
    "for name in names:\n",
    "    # Instructions go here\n",
    "    print(\"Instructions go here!\")\n"
   ]
  },
  {
   "cell_type": "code",
   "execution_count": 19,
   "id": "67552e6f",
   "metadata": {},
   "outputs": [
    {
     "name": "stdout",
     "output_type": "stream",
     "text": [
      "Lam\n",
      "Miguel\n"
     ]
    }
   ],
   "source": [
    "names  = [\"Lam\", \"Miguel\"]\n",
    "for name in names:\n",
    "    print(name)\n"
   ]
  },
  {
   "cell_type": "markdown",
   "id": "b3804169-6f35-46e8-8bab-15dfa356d5b1",
   "metadata": {},
   "source": [
    "Looping through a list of dictionaries:"
   ]
  },
  {
   "cell_type": "code",
   "execution_count": 12,
   "id": "8684602b-d58c-4cff-9b45-859d2145dff5",
   "metadata": {},
   "outputs": [
    {
     "name": "stdout",
     "output_type": "stream",
     "text": [
      "Honda {'brand': 'Honda', 'type': 'SUV', 'trim': 'Leather', 'cost': 40000, 'on_sale': True, 'VIN': 2973}\n",
      "Honda {'VIN': 8303, 'brand': 'Honda', 'type': 'Sedan', 'model': 'CRV', 'trim': 'Cloth', 'cost': 35000, 'on_sale': False}\n"
     ]
    }
   ],
   "source": [
    "for car in cars:\n",
    "    print(car[\"brand\"], car)"
   ]
  },
  {
   "cell_type": "code",
   "execution_count": 13,
   "id": "5fb2cecc-853e-47c5-8b44-54fa53570c5d",
   "metadata": {},
   "outputs": [
    {
     "name": "stdout",
     "output_type": "stream",
     "text": [
      "SUV\n",
      "Sedan\n"
     ]
    }
   ],
   "source": [
    "for car in cars:\n",
    "    print(car[\"type\"])"
   ]
  },
  {
   "cell_type": "markdown",
   "id": "2863d754-1abd-4cff-90b4-312c47051307",
   "metadata": {},
   "source": [
    "Fun fact! `Lists` and `dictionaries` work well with pandas!"
   ]
  },
  {
   "cell_type": "code",
   "execution_count": 14,
   "id": "b077d313-7e94-4352-8778-d44b091abea8",
   "metadata": {},
   "outputs": [],
   "source": [
    "import pandas as pd"
   ]
  },
  {
   "cell_type": "code",
   "execution_count": 15,
   "id": "5ff79a91-e5a5-4cb5-8d76-09f8ec88fef0",
   "metadata": {},
   "outputs": [
    {
     "data": {
      "text/html": [
       "<div>\n",
       "<style scoped>\n",
       "    .dataframe tbody tr th:only-of-type {\n",
       "        vertical-align: middle;\n",
       "    }\n",
       "\n",
       "    .dataframe tbody tr th {\n",
       "        vertical-align: top;\n",
       "    }\n",
       "\n",
       "    .dataframe thead th {\n",
       "        text-align: right;\n",
       "    }\n",
       "</style>\n",
       "<table border=\"1\" class=\"dataframe\">\n",
       "  <thead>\n",
       "    <tr style=\"text-align: right;\">\n",
       "      <th></th>\n",
       "      <th>brand</th>\n",
       "      <th>type</th>\n",
       "      <th>trim</th>\n",
       "      <th>cost</th>\n",
       "      <th>on_sale</th>\n",
       "      <th>VIN</th>\n",
       "      <th>model</th>\n",
       "    </tr>\n",
       "  </thead>\n",
       "  <tbody>\n",
       "    <tr>\n",
       "      <th>0</th>\n",
       "      <td>Honda</td>\n",
       "      <td>SUV</td>\n",
       "      <td>Leather</td>\n",
       "      <td>40000</td>\n",
       "      <td>True</td>\n",
       "      <td>2973</td>\n",
       "      <td>NaN</td>\n",
       "    </tr>\n",
       "    <tr>\n",
       "      <th>1</th>\n",
       "      <td>Honda</td>\n",
       "      <td>Sedan</td>\n",
       "      <td>Cloth</td>\n",
       "      <td>35000</td>\n",
       "      <td>False</td>\n",
       "      <td>8303</td>\n",
       "      <td>CRV</td>\n",
       "    </tr>\n",
       "  </tbody>\n",
       "</table>\n",
       "</div>"
      ],
      "text/plain": [
       "   brand   type     trim   cost  on_sale   VIN model\n",
       "0  Honda    SUV  Leather  40000     True  2973   NaN\n",
       "1  Honda  Sedan    Cloth  35000    False  8303   CRV"
      ]
     },
     "execution_count": 15,
     "metadata": {},
     "output_type": "execute_result"
    }
   ],
   "source": [
    "df = pd.DataFrame(cars)\n",
    "df.head()"
   ]
  },
  {
   "cell_type": "code",
   "execution_count": 16,
   "id": "a213b97e-5dfb-4cfa-9905-dd92852e1c8f",
   "metadata": {},
   "outputs": [
    {
     "data": {
      "text/html": [
       "<div>\n",
       "<style scoped>\n",
       "    .dataframe tbody tr th:only-of-type {\n",
       "        vertical-align: middle;\n",
       "    }\n",
       "\n",
       "    .dataframe tbody tr th {\n",
       "        vertical-align: top;\n",
       "    }\n",
       "\n",
       "    .dataframe thead th {\n",
       "        text-align: right;\n",
       "    }\n",
       "</style>\n",
       "<table border=\"1\" class=\"dataframe\">\n",
       "  <thead>\n",
       "    <tr style=\"text-align: right;\">\n",
       "      <th></th>\n",
       "      <th>0</th>\n",
       "    </tr>\n",
       "  </thead>\n",
       "  <tbody>\n",
       "    <tr>\n",
       "      <th>0</th>\n",
       "      <td>R2D2</td>\n",
       "    </tr>\n",
       "    <tr>\n",
       "      <th>1</th>\n",
       "      <td>Yoda</td>\n",
       "    </tr>\n",
       "    <tr>\n",
       "      <th>2</th>\n",
       "      <td>Han Solo</td>\n",
       "    </tr>\n",
       "  </tbody>\n",
       "</table>\n",
       "</div>"
      ],
      "text/plain": [
       "          0\n",
       "0      R2D2\n",
       "1      Yoda\n",
       "2  Han Solo"
      ]
     },
     "execution_count": 16,
     "metadata": {},
     "output_type": "execute_result"
    }
   ],
   "source": [
    "df2 = pd.DataFrame(names)\n",
    "df2.head()"
   ]
  },
  {
   "cell_type": "markdown",
   "id": "523759de",
   "metadata": {},
   "source": [
    "## Conditionals\n",
    "\n",
    "Sometimes you will encounter tricky situations in your data gathering and analysis endeavors and it helps to know that you can instruct your python script to take different paths depending on what condition may be met. Meet the `if` clause: \n"
   ]
  },
  {
   "cell_type": "code",
   "execution_count": 20,
   "id": "95b50313",
   "metadata": {},
   "outputs": [],
   "source": [
    "alien = \"jabba the hutt\"\n"
   ]
  },
  {
   "cell_type": "code",
   "execution_count": 21,
   "id": "feb51eb2",
   "metadata": {},
   "outputs": [
    {
     "name": "stdout",
     "output_type": "stream",
     "text": [
      "It's a trap\n"
     ]
    }
   ],
   "source": [
    "if alien == \"yoda\" :\n",
    "    print(\"May the force be with you!\")\n",
    "else:\n",
    "    print(\"It's a trap\")\n"
   ]
  },
  {
   "cell_type": "markdown",
   "id": "bb025821-cc6e-4fbc-9bbb-9c3e57e1e794",
   "metadata": {},
   "source": [
    "#### Tenary Expression\n",
    "```variable = value1 if some_condition else value2```"
   ]
  },
  {
   "cell_type": "code",
   "execution_count": null,
   "id": "8fc5e7f9-0c2f-4cf1-961b-2e7c31fca6f4",
   "metadata": {},
   "outputs": [],
   "source": []
  },
  {
   "cell_type": "code",
   "execution_count": null,
   "id": "a8aa23e8-1a04-49c4-9f45-621a9cf9ad3d",
   "metadata": {},
   "outputs": [],
   "source": []
  },
  {
   "cell_type": "markdown",
   "id": "5b71a8ba",
   "metadata": {},
   "source": [
    "There are a number of operators you can use with conditionals\n",
    "\n",
    "| Operators | What It Does                                                                                                          | Example                        |\n",
    "|-----------|-----------------------------------------------------------------------------------------------------------------------|--------------------------------|\n",
    "| ==        | If the values to the left and right of the operator are equal, then the condition is true.                            | (\"pie\" == \"cake\") is not true. |\n",
    "| !=        | If the values to the left and right of the operator are not equal, then condition is true.                            | (\"pie\" != \"cake\") is true.     |\n",
    "| >         | If the value of left operator is bigger than the value to the right, then condition is true.                          | (4 > 10) is not true.          |\n",
    "| <         | If the value of left operator is smaller than the value to the right, then condition is true.                         | (4 < 10) is true.              |\n",
    "| >=        | If the values to the left of the operator is greater than or equal to the value to the right, then condition is true. | (4 >= 10) is not true.         |\n",
    "| <=        | If the values to the left of the operator is less than or equal to the value to the right, then condition is true.    | (4 <= 10) is true.             |"
   ]
  },
  {
   "cell_type": "markdown",
   "id": "77a7c424-f9b3-4f15-bb05-517cbd6fae0f",
   "metadata": {},
   "source": [
    "## Combining loops and if clauses\n",
    "You can loop through lists and use if/else "
   ]
  },
  {
   "cell_type": "code",
   "execution_count": null,
   "id": "5e4639e6-27e8-4ec7-b64f-462683a6a1ae",
   "metadata": {},
   "outputs": [],
   "source": []
  },
  {
   "cell_type": "code",
   "execution_count": null,
   "id": "13b23c96-13d3-40a7-af4b-6bec5224d66e",
   "metadata": {},
   "outputs": [],
   "source": []
  },
  {
   "cell_type": "code",
   "execution_count": null,
   "id": "28bb89de-f921-41ce-9af7-3059af8f3fa9",
   "metadata": {},
   "outputs": [],
   "source": []
  }
 ],
 "metadata": {
  "kernelspec": {
   "display_name": "Python 3 (ipykernel)",
   "language": "python",
   "name": "python3"
  },
  "language_info": {
   "codemirror_mode": {
    "name": "ipython",
    "version": 3
   },
   "file_extension": ".py",
   "mimetype": "text/x-python",
   "name": "python",
   "nbconvert_exporter": "python",
   "pygments_lexer": "ipython3",
   "version": "3.8.18"
  }
 },
 "nbformat": 4,
 "nbformat_minor": 5
}
